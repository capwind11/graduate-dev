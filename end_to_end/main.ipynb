{
 "cells": [
  {
   "cell_type": "code",
   "execution_count": 1,
   "metadata": {},
   "outputs": [],
   "source": [
    "from drain.model import Drain,Node,LogCluster\n",
    "from drain.optimizer import Optimizer\n",
    "from drain.plotter import createPlot\n",
    "from drain.partition import Partition\n",
    "from utils.generate_data import *\n",
    "from lstm.trainer import Model,train\n",
    "from lstm.predictor import fast_predict\n",
    "from torch import nn,optim\n",
    "from torch.utils.data import  DataLoader\n",
    "\n",
    "import pandas as pd\n",
    "import os"
   ]
  },
  {
   "cell_type": "code",
   "execution_count": 2,
   "metadata": {},
   "outputs": [],
   "source": [
    "device = torch.device(\"cuda\" if torch.cuda.is_available() else \"cpu\")\n",
    "num_classes = 32\n",
    "batch_size = 2048\n",
    "input_size = 1\n",
    "window_size = 10\n",
    "num_layers = 2\n",
    "hidden_size = 64"
   ]
  },
  {
   "cell_type": "code",
   "execution_count": 3,
   "metadata": {},
   "outputs": [],
   "source": [
    "logPath = 'D:\\\\毕业设计\\\\loghub\\\\HDFS_1\\\\HDFS.log'\n",
    "parsed_result = '.\\\\data\\\\parser\\\\log_item_to_label.csv'\n",
    "cluster_result = '.\\\\data\\\\parser\\\\'\n",
    "# partition\n",
    "partition_output = '.\\\\data\\\\lstm\\\\dataset\\\\'\n",
    "instance_file = 'instance.csv'\n",
    "label_file = '.\\\\data\\\\partition\\\\anormaly_label.csv'\n",
    "normal_output = 'normal.csv'\n",
    "abnormal_output = 'abnormal.csv'\n",
    "lstm_dataset = '.\\\\data\\\\lstm\\\\dataset\\\\'"
   ]
  },
  {
   "cell_type": "code",
   "execution_count": 4,
   "metadata": {},
   "outputs": [],
   "source": [
    "def parse_log():\n",
    "\n",
    "    rex = ['blk_(|-)[0-9]+', '(/|)([0-9]+\\.){3}[0-9]+(:[0-9]+|)(:|)']\n",
    "    removeCol = [0,1,2]\n",
    "    myParser = Drain(rex=rex,removeCol=removeCol,st=0.4)\n",
    "    myParser.fit(isReconstruct=True,inputFile=logPath,outputFile=parsed_result)\n",
    "\n",
    "    myParser.save(savePath=cluster_result)\n",
    "\n",
    "'''\n",
    "partition phase\n",
    "'''\n",
    "def partition():\n",
    "\n",
    "    partition = Partition(outputFileDir=partition_output,log_item_to_event_id_file=parsed_result,instances_file_path=instance_file,label_file_path=label_file,normal_output=normal_output,abnormal_output=abnormal_output)\n",
    "    partition.partition_by_file()\n",
    "    partition.map_log_seq_to_label()\n",
    "\n",
    "    split_data(input_dir=partition_output,output_dir=lstm_dataset)"
   ]
  },
  {
   "cell_type": "code",
   "execution_count": 5,
   "metadata": {},
   "outputs": [],
   "source": [
    "model_dir = 'model'\n",
    "version = 'v0.3'\n",
    "model_name = 'total_version={}'.format(version)\n",
    "\n",
    "model = Model(input_size, hidden_size, num_layers, num_classes).to(device)\n",
    "\n",
    "if os.path.exists(model_dir + '/' + model_name + '.pt'):\n",
    "    model.load_state_dict(torch.load(model_dir + '/' + model_name + '.pt'))"
   ]
  },
  {
   "cell_type": "code",
   "execution_count": 6,
   "metadata": {},
   "outputs": [
    {
     "name": "stderr",
     "output_type": "stream",
     "text": [
      "loading data: 100%|█████████████████████████████████████████████████████████████| 5582/5582 [00:00<00:00, 22173.86it/s]\n"
     ]
    },
    {
     "name": "stdout",
     "output_type": "stream",
     "text": [
      "Number of sessions(.\\data\\lstm\\dataset\\train.csv): 5582\n",
      "Number of seqs(.\\data\\lstm\\dataset\\train.csv): 114329\n",
      "Epoch [101/300], train_loss: 0.4778\n",
      "Epoch [102/300], train_loss: 0.4735\n",
      "Epoch [103/300], train_loss: 0.4723\n",
      "Epoch [104/300], train_loss: 0.4708\n",
      "Epoch [105/300], train_loss: 0.4697\n",
      "Epoch [106/300], train_loss: 0.4683\n",
      "Epoch [107/300], train_loss: 0.4672\n",
      "Epoch [108/300], train_loss: 0.4657\n",
      "Epoch [109/300], train_loss: 0.4645\n",
      "Epoch [110/300], train_loss: 0.4635\n",
      "Epoch [111/300], train_loss: 0.4628\n",
      "Epoch [112/300], train_loss: 0.4615\n",
      "Epoch [113/300], train_loss: 0.4609\n",
      "Epoch [114/300], train_loss: 0.4599\n",
      "Epoch [115/300], train_loss: 0.4594\n",
      "Epoch [116/300], train_loss: 0.4586\n",
      "Epoch [117/300], train_loss: 0.4577\n",
      "Epoch [118/300], train_loss: 0.4570\n",
      "Epoch [119/300], train_loss: 0.4562\n",
      "Epoch [120/300], train_loss: 0.4557\n",
      "Epoch [121/300], train_loss: 0.4555\n",
      "Epoch [122/300], train_loss: 0.4547\n",
      "Epoch [123/300], train_loss: 0.4539\n",
      "Epoch [124/300], train_loss: 0.4536\n",
      "Epoch [125/300], train_loss: 0.4533\n",
      "Epoch [126/300], train_loss: 0.4526\n",
      "Epoch [127/300], train_loss: 0.4521\n",
      "Epoch [128/300], train_loss: 0.4518\n",
      "Epoch [129/300], train_loss: 0.4513\n",
      "Epoch [130/300], train_loss: 0.4510\n",
      "Epoch [131/300], train_loss: 0.4504\n",
      "Epoch [132/300], train_loss: 0.4501\n",
      "Epoch [133/300], train_loss: 0.4496\n",
      "Epoch [134/300], train_loss: 0.4497\n",
      "Epoch [135/300], train_loss: 0.4491\n",
      "Epoch [136/300], train_loss: 0.4486\n",
      "Epoch [137/300], train_loss: 0.4484\n",
      "Epoch [138/300], train_loss: 0.4479\n",
      "Epoch [139/300], train_loss: 0.4477\n",
      "Epoch [140/300], train_loss: 0.4473\n",
      "Epoch [141/300], train_loss: 0.4468\n",
      "Epoch [142/300], train_loss: 0.4465\n",
      "Epoch [143/300], train_loss: 0.4463\n",
      "Epoch [144/300], train_loss: 0.4463\n",
      "Epoch [145/300], train_loss: 0.4459\n",
      "Epoch [146/300], train_loss: 0.4455\n",
      "Epoch [147/300], train_loss: 0.4451\n",
      "Epoch [148/300], train_loss: 0.4452\n",
      "Epoch [149/300], train_loss: 0.4449\n",
      "Epoch [150/300], train_loss: 0.4446\n",
      "Epoch [151/300], train_loss: 0.4441\n",
      "Epoch [152/300], train_loss: 0.4442\n",
      "Epoch [153/300], train_loss: 0.4442\n",
      "Epoch [154/300], train_loss: 0.4433\n",
      "Epoch [155/300], train_loss: 0.4434\n",
      "Epoch [156/300], train_loss: 0.4431\n",
      "Epoch [157/300], train_loss: 0.4433\n",
      "Epoch [158/300], train_loss: 0.4426\n",
      "Epoch [159/300], train_loss: 0.4425\n",
      "Epoch [160/300], train_loss: 0.4422\n",
      "Epoch [161/300], train_loss: 0.4420\n",
      "Epoch [162/300], train_loss: 0.4419\n",
      "Epoch [163/300], train_loss: 0.4418\n",
      "Epoch [164/300], train_loss: 0.4416\n",
      "Epoch [165/300], train_loss: 0.4416\n",
      "Epoch [166/300], train_loss: 0.4413\n",
      "Epoch [167/300], train_loss: 0.4413\n",
      "Epoch [168/300], train_loss: 0.4410\n",
      "Epoch [169/300], train_loss: 0.4407\n",
      "Epoch [170/300], train_loss: 0.4405\n",
      "Epoch [171/300], train_loss: 0.4404\n",
      "Epoch [172/300], train_loss: 0.4402\n",
      "Epoch [173/300], train_loss: 0.4402\n",
      "Epoch [174/300], train_loss: 0.4402\n",
      "Epoch [175/300], train_loss: 0.4399\n",
      "Epoch [176/300], train_loss: 0.4398\n",
      "Epoch [177/300], train_loss: 0.4396\n",
      "Epoch [178/300], train_loss: 0.4394\n",
      "Epoch [179/300], train_loss: 0.4394\n",
      "Epoch [180/300], train_loss: 0.4392\n",
      "Epoch [181/300], train_loss: 0.4389\n",
      "Epoch [182/300], train_loss: 0.4390\n",
      "Epoch [183/300], train_loss: 0.4389\n",
      "Epoch [184/300], train_loss: 0.4387\n",
      "Epoch [185/300], train_loss: 0.4386\n",
      "Epoch [186/300], train_loss: 0.4385\n",
      "Epoch [187/300], train_loss: 0.4384\n",
      "Epoch [188/300], train_loss: 0.4386\n",
      "Epoch [189/300], train_loss: 0.4383\n",
      "Epoch [190/300], train_loss: 0.4384\n"
     ]
    },
    {
     "ename": "KeyboardInterrupt",
     "evalue": "",
     "output_type": "error",
     "traceback": [
      "\u001b[1;31m---------------------------------------------------------------------------\u001b[0m",
      "\u001b[1;31mKeyboardInterrupt\u001b[0m                         Traceback (most recent call last)",
      "\u001b[1;32m<ipython-input-6-5c20b871f897>\u001b[0m in \u001b[0;36m<module>\u001b[1;34m\u001b[0m\n\u001b[0;32m      5\u001b[0m \u001b[0mdataloader\u001b[0m \u001b[1;33m=\u001b[0m \u001b[0mDataLoader\u001b[0m\u001b[1;33m(\u001b[0m\u001b[0mtrain_dataset\u001b[0m\u001b[1;33m,\u001b[0m \u001b[0mbatch_size\u001b[0m\u001b[1;33m=\u001b[0m\u001b[0mbatch_size\u001b[0m\u001b[1;33m,\u001b[0m \u001b[0mshuffle\u001b[0m\u001b[1;33m=\u001b[0m\u001b[1;32mTrue\u001b[0m\u001b[1;33m,\u001b[0m \u001b[0mpin_memory\u001b[0m\u001b[1;33m=\u001b[0m\u001b[1;32mTrue\u001b[0m\u001b[1;33m)\u001b[0m\u001b[1;33m\u001b[0m\u001b[1;33m\u001b[0m\u001b[0m\n\u001b[0;32m      6\u001b[0m \u001b[1;33m\u001b[0m\u001b[0m\n\u001b[1;32m----> 7\u001b[1;33m \u001b[0mtrain\u001b[0m\u001b[1;33m(\u001b[0m\u001b[0mmodel\u001b[0m\u001b[1;33m,\u001b[0m \u001b[0mdataloader\u001b[0m\u001b[1;33m,\u001b[0m \u001b[0mcriterion\u001b[0m\u001b[1;33m,\u001b[0m \u001b[0moptimizer\u001b[0m\u001b[1;33m,\u001b[0m \u001b[0mcurrent_epoch\u001b[0m\u001b[1;33m=\u001b[0m\u001b[1;36m100\u001b[0m\u001b[1;33m,\u001b[0m \u001b[0mnum_epochs\u001b[0m\u001b[1;33m=\u001b[0m\u001b[1;36m200\u001b[0m\u001b[1;33m)\u001b[0m\u001b[1;33m\u001b[0m\u001b[1;33m\u001b[0m\u001b[0m\n\u001b[0m",
      "\u001b[1;32mE:\\python_workspace\\jupyter_notebook\\毕业设计\\dev\\end_to_end\\lstm\\trainer.py\u001b[0m in \u001b[0;36mtrain\u001b[1;34m(model, dataloader, criterion, optimizer, current_epoch, num_epochs, window_size, input_size)\u001b[0m\n\u001b[0;32m     60\u001b[0m     \u001b[1;32mfor\u001b[0m \u001b[0mepoch\u001b[0m \u001b[1;32min\u001b[0m \u001b[0mrange\u001b[0m\u001b[1;33m(\u001b[0m\u001b[0mcurrent_epoch\u001b[0m\u001b[1;33m,\u001b[0m\u001b[0mcurrent_epoch\u001b[0m\u001b[1;33m+\u001b[0m\u001b[0mnum_epochs\u001b[0m\u001b[1;33m)\u001b[0m\u001b[1;33m:\u001b[0m  \u001b[1;31m# Loop over the dataset multiple times\u001b[0m\u001b[1;33m\u001b[0m\u001b[1;33m\u001b[0m\u001b[0m\n\u001b[0;32m     61\u001b[0m         \u001b[0mtrain_loss\u001b[0m \u001b[1;33m=\u001b[0m \u001b[1;36m0\u001b[0m\u001b[1;33m\u001b[0m\u001b[1;33m\u001b[0m\u001b[0m\n\u001b[1;32m---> 62\u001b[1;33m         \u001b[1;32mfor\u001b[0m \u001b[0mstep\u001b[0m\u001b[1;33m,\u001b[0m \u001b[1;33m(\u001b[0m\u001b[0mseq\u001b[0m\u001b[1;33m,\u001b[0m \u001b[0mlabel\u001b[0m\u001b[1;33m)\u001b[0m \u001b[1;32min\u001b[0m \u001b[0menumerate\u001b[0m\u001b[1;33m(\u001b[0m\u001b[0mdataloader\u001b[0m\u001b[1;33m)\u001b[0m\u001b[1;33m:\u001b[0m\u001b[1;33m\u001b[0m\u001b[1;33m\u001b[0m\u001b[0m\n\u001b[0m\u001b[0;32m     63\u001b[0m             \u001b[1;31m# Forward pass\u001b[0m\u001b[1;33m\u001b[0m\u001b[1;33m\u001b[0m\u001b[1;33m\u001b[0m\u001b[0m\n\u001b[0;32m     64\u001b[0m             \u001b[0mseq\u001b[0m \u001b[1;33m=\u001b[0m \u001b[0mseq\u001b[0m\u001b[1;33m.\u001b[0m\u001b[0mclone\u001b[0m\u001b[1;33m(\u001b[0m\u001b[1;33m)\u001b[0m\u001b[1;33m.\u001b[0m\u001b[0mdetach\u001b[0m\u001b[1;33m(\u001b[0m\u001b[1;33m)\u001b[0m\u001b[1;33m.\u001b[0m\u001b[0mview\u001b[0m\u001b[1;33m(\u001b[0m\u001b[1;33m-\u001b[0m\u001b[1;36m1\u001b[0m\u001b[1;33m,\u001b[0m \u001b[0mwindow_size\u001b[0m\u001b[1;33m,\u001b[0m \u001b[0minput_size\u001b[0m\u001b[1;33m)\u001b[0m\u001b[1;33m.\u001b[0m\u001b[0mto\u001b[0m\u001b[1;33m(\u001b[0m\u001b[0mdevice\u001b[0m\u001b[1;33m)\u001b[0m\u001b[1;33m\u001b[0m\u001b[1;33m\u001b[0m\u001b[0m\n",
      "\u001b[1;32mE:\\Programs\\Anaconda\\envs\\cuda_pytorch\\lib\\site-packages\\torch\\utils\\data\\dataloader.py\u001b[0m in \u001b[0;36m__next__\u001b[1;34m(self)\u001b[0m\n\u001b[0;32m    343\u001b[0m \u001b[1;33m\u001b[0m\u001b[0m\n\u001b[0;32m    344\u001b[0m     \u001b[1;32mdef\u001b[0m \u001b[0m__next__\u001b[0m\u001b[1;33m(\u001b[0m\u001b[0mself\u001b[0m\u001b[1;33m)\u001b[0m\u001b[1;33m:\u001b[0m\u001b[1;33m\u001b[0m\u001b[1;33m\u001b[0m\u001b[0m\n\u001b[1;32m--> 345\u001b[1;33m         \u001b[0mdata\u001b[0m \u001b[1;33m=\u001b[0m \u001b[0mself\u001b[0m\u001b[1;33m.\u001b[0m\u001b[0m_next_data\u001b[0m\u001b[1;33m(\u001b[0m\u001b[1;33m)\u001b[0m\u001b[1;33m\u001b[0m\u001b[1;33m\u001b[0m\u001b[0m\n\u001b[0m\u001b[0;32m    346\u001b[0m         \u001b[0mself\u001b[0m\u001b[1;33m.\u001b[0m\u001b[0m_num_yielded\u001b[0m \u001b[1;33m+=\u001b[0m \u001b[1;36m1\u001b[0m\u001b[1;33m\u001b[0m\u001b[1;33m\u001b[0m\u001b[0m\n\u001b[0;32m    347\u001b[0m         \u001b[1;32mif\u001b[0m \u001b[0mself\u001b[0m\u001b[1;33m.\u001b[0m\u001b[0m_dataset_kind\u001b[0m \u001b[1;33m==\u001b[0m \u001b[0m_DatasetKind\u001b[0m\u001b[1;33m.\u001b[0m\u001b[0mIterable\u001b[0m \u001b[1;32mand\u001b[0m\u001b[0;31m \u001b[0m\u001b[0;31m\\\u001b[0m\u001b[1;33m\u001b[0m\u001b[1;33m\u001b[0m\u001b[0m\n",
      "\u001b[1;32mE:\\Programs\\Anaconda\\envs\\cuda_pytorch\\lib\\site-packages\\torch\\utils\\data\\dataloader.py\u001b[0m in \u001b[0;36m_next_data\u001b[1;34m(self)\u001b[0m\n\u001b[0;32m    383\u001b[0m     \u001b[1;32mdef\u001b[0m \u001b[0m_next_data\u001b[0m\u001b[1;33m(\u001b[0m\u001b[0mself\u001b[0m\u001b[1;33m)\u001b[0m\u001b[1;33m:\u001b[0m\u001b[1;33m\u001b[0m\u001b[1;33m\u001b[0m\u001b[0m\n\u001b[0;32m    384\u001b[0m         \u001b[0mindex\u001b[0m \u001b[1;33m=\u001b[0m \u001b[0mself\u001b[0m\u001b[1;33m.\u001b[0m\u001b[0m_next_index\u001b[0m\u001b[1;33m(\u001b[0m\u001b[1;33m)\u001b[0m  \u001b[1;31m# may raise StopIteration\u001b[0m\u001b[1;33m\u001b[0m\u001b[1;33m\u001b[0m\u001b[0m\n\u001b[1;32m--> 385\u001b[1;33m         \u001b[0mdata\u001b[0m \u001b[1;33m=\u001b[0m \u001b[0mself\u001b[0m\u001b[1;33m.\u001b[0m\u001b[0m_dataset_fetcher\u001b[0m\u001b[1;33m.\u001b[0m\u001b[0mfetch\u001b[0m\u001b[1;33m(\u001b[0m\u001b[0mindex\u001b[0m\u001b[1;33m)\u001b[0m  \u001b[1;31m# may raise StopIteration\u001b[0m\u001b[1;33m\u001b[0m\u001b[1;33m\u001b[0m\u001b[0m\n\u001b[0m\u001b[0;32m    386\u001b[0m         \u001b[1;32mif\u001b[0m \u001b[0mself\u001b[0m\u001b[1;33m.\u001b[0m\u001b[0m_pin_memory\u001b[0m\u001b[1;33m:\u001b[0m\u001b[1;33m\u001b[0m\u001b[1;33m\u001b[0m\u001b[0m\n\u001b[0;32m    387\u001b[0m             \u001b[0mdata\u001b[0m \u001b[1;33m=\u001b[0m \u001b[0m_utils\u001b[0m\u001b[1;33m.\u001b[0m\u001b[0mpin_memory\u001b[0m\u001b[1;33m.\u001b[0m\u001b[0mpin_memory\u001b[0m\u001b[1;33m(\u001b[0m\u001b[0mdata\u001b[0m\u001b[1;33m)\u001b[0m\u001b[1;33m\u001b[0m\u001b[1;33m\u001b[0m\u001b[0m\n",
      "\u001b[1;32mE:\\Programs\\Anaconda\\envs\\cuda_pytorch\\lib\\site-packages\\torch\\utils\\data\\_utils\\fetch.py\u001b[0m in \u001b[0;36mfetch\u001b[1;34m(self, possibly_batched_index)\u001b[0m\n\u001b[0;32m     42\u001b[0m     \u001b[1;32mdef\u001b[0m \u001b[0mfetch\u001b[0m\u001b[1;33m(\u001b[0m\u001b[0mself\u001b[0m\u001b[1;33m,\u001b[0m \u001b[0mpossibly_batched_index\u001b[0m\u001b[1;33m)\u001b[0m\u001b[1;33m:\u001b[0m\u001b[1;33m\u001b[0m\u001b[1;33m\u001b[0m\u001b[0m\n\u001b[0;32m     43\u001b[0m         \u001b[1;32mif\u001b[0m \u001b[0mself\u001b[0m\u001b[1;33m.\u001b[0m\u001b[0mauto_collation\u001b[0m\u001b[1;33m:\u001b[0m\u001b[1;33m\u001b[0m\u001b[1;33m\u001b[0m\u001b[0m\n\u001b[1;32m---> 44\u001b[1;33m             \u001b[0mdata\u001b[0m \u001b[1;33m=\u001b[0m \u001b[1;33m[\u001b[0m\u001b[0mself\u001b[0m\u001b[1;33m.\u001b[0m\u001b[0mdataset\u001b[0m\u001b[1;33m[\u001b[0m\u001b[0midx\u001b[0m\u001b[1;33m]\u001b[0m \u001b[1;32mfor\u001b[0m \u001b[0midx\u001b[0m \u001b[1;32min\u001b[0m \u001b[0mpossibly_batched_index\u001b[0m\u001b[1;33m]\u001b[0m\u001b[1;33m\u001b[0m\u001b[1;33m\u001b[0m\u001b[0m\n\u001b[0m\u001b[0;32m     45\u001b[0m         \u001b[1;32melse\u001b[0m\u001b[1;33m:\u001b[0m\u001b[1;33m\u001b[0m\u001b[1;33m\u001b[0m\u001b[0m\n\u001b[0;32m     46\u001b[0m             \u001b[0mdata\u001b[0m \u001b[1;33m=\u001b[0m \u001b[0mself\u001b[0m\u001b[1;33m.\u001b[0m\u001b[0mdataset\u001b[0m\u001b[1;33m[\u001b[0m\u001b[0mpossibly_batched_index\u001b[0m\u001b[1;33m]\u001b[0m\u001b[1;33m\u001b[0m\u001b[1;33m\u001b[0m\u001b[0m\n",
      "\u001b[1;32mE:\\Programs\\Anaconda\\envs\\cuda_pytorch\\lib\\site-packages\\torch\\utils\\data\\_utils\\fetch.py\u001b[0m in \u001b[0;36m<listcomp>\u001b[1;34m(.0)\u001b[0m\n\u001b[0;32m     42\u001b[0m     \u001b[1;32mdef\u001b[0m \u001b[0mfetch\u001b[0m\u001b[1;33m(\u001b[0m\u001b[0mself\u001b[0m\u001b[1;33m,\u001b[0m \u001b[0mpossibly_batched_index\u001b[0m\u001b[1;33m)\u001b[0m\u001b[1;33m:\u001b[0m\u001b[1;33m\u001b[0m\u001b[1;33m\u001b[0m\u001b[0m\n\u001b[0;32m     43\u001b[0m         \u001b[1;32mif\u001b[0m \u001b[0mself\u001b[0m\u001b[1;33m.\u001b[0m\u001b[0mauto_collation\u001b[0m\u001b[1;33m:\u001b[0m\u001b[1;33m\u001b[0m\u001b[1;33m\u001b[0m\u001b[0m\n\u001b[1;32m---> 44\u001b[1;33m             \u001b[0mdata\u001b[0m \u001b[1;33m=\u001b[0m \u001b[1;33m[\u001b[0m\u001b[0mself\u001b[0m\u001b[1;33m.\u001b[0m\u001b[0mdataset\u001b[0m\u001b[1;33m[\u001b[0m\u001b[0midx\u001b[0m\u001b[1;33m]\u001b[0m \u001b[1;32mfor\u001b[0m \u001b[0midx\u001b[0m \u001b[1;32min\u001b[0m \u001b[0mpossibly_batched_index\u001b[0m\u001b[1;33m]\u001b[0m\u001b[1;33m\u001b[0m\u001b[1;33m\u001b[0m\u001b[0m\n\u001b[0m\u001b[0;32m     45\u001b[0m         \u001b[1;32melse\u001b[0m\u001b[1;33m:\u001b[0m\u001b[1;33m\u001b[0m\u001b[1;33m\u001b[0m\u001b[0m\n\u001b[0;32m     46\u001b[0m             \u001b[0mdata\u001b[0m \u001b[1;33m=\u001b[0m \u001b[0mself\u001b[0m\u001b[1;33m.\u001b[0m\u001b[0mdataset\u001b[0m\u001b[1;33m[\u001b[0m\u001b[0mpossibly_batched_index\u001b[0m\u001b[1;33m]\u001b[0m\u001b[1;33m\u001b[0m\u001b[1;33m\u001b[0m\u001b[0m\n",
      "\u001b[1;32mE:\\Programs\\Anaconda\\envs\\cuda_pytorch\\lib\\site-packages\\torch\\utils\\data\\dataset.py\u001b[0m in \u001b[0;36m__getitem__\u001b[1;34m(self, index)\u001b[0m\n\u001b[0;32m    160\u001b[0m \u001b[1;33m\u001b[0m\u001b[0m\n\u001b[0;32m    161\u001b[0m     \u001b[1;32mdef\u001b[0m \u001b[0m__getitem__\u001b[0m\u001b[1;33m(\u001b[0m\u001b[0mself\u001b[0m\u001b[1;33m,\u001b[0m \u001b[0mindex\u001b[0m\u001b[1;33m)\u001b[0m\u001b[1;33m:\u001b[0m\u001b[1;33m\u001b[0m\u001b[1;33m\u001b[0m\u001b[0m\n\u001b[1;32m--> 162\u001b[1;33m         \u001b[1;32mreturn\u001b[0m \u001b[0mtuple\u001b[0m\u001b[1;33m(\u001b[0m\u001b[0mtensor\u001b[0m\u001b[1;33m[\u001b[0m\u001b[0mindex\u001b[0m\u001b[1;33m]\u001b[0m \u001b[1;32mfor\u001b[0m \u001b[0mtensor\u001b[0m \u001b[1;32min\u001b[0m \u001b[0mself\u001b[0m\u001b[1;33m.\u001b[0m\u001b[0mtensors\u001b[0m\u001b[1;33m)\u001b[0m\u001b[1;33m\u001b[0m\u001b[1;33m\u001b[0m\u001b[0m\n\u001b[0m\u001b[0;32m    163\u001b[0m \u001b[1;33m\u001b[0m\u001b[0m\n\u001b[0;32m    164\u001b[0m     \u001b[1;32mdef\u001b[0m \u001b[0m__len__\u001b[0m\u001b[1;33m(\u001b[0m\u001b[0mself\u001b[0m\u001b[1;33m)\u001b[0m\u001b[1;33m:\u001b[0m\u001b[1;33m\u001b[0m\u001b[1;33m\u001b[0m\u001b[0m\n",
      "\u001b[1;32mE:\\Programs\\Anaconda\\envs\\cuda_pytorch\\lib\\site-packages\\torch\\utils\\data\\dataset.py\u001b[0m in \u001b[0;36m<genexpr>\u001b[1;34m(.0)\u001b[0m\n\u001b[0;32m    160\u001b[0m \u001b[1;33m\u001b[0m\u001b[0m\n\u001b[0;32m    161\u001b[0m     \u001b[1;32mdef\u001b[0m \u001b[0m__getitem__\u001b[0m\u001b[1;33m(\u001b[0m\u001b[0mself\u001b[0m\u001b[1;33m,\u001b[0m \u001b[0mindex\u001b[0m\u001b[1;33m)\u001b[0m\u001b[1;33m:\u001b[0m\u001b[1;33m\u001b[0m\u001b[1;33m\u001b[0m\u001b[0m\n\u001b[1;32m--> 162\u001b[1;33m         \u001b[1;32mreturn\u001b[0m \u001b[0mtuple\u001b[0m\u001b[1;33m(\u001b[0m\u001b[0mtensor\u001b[0m\u001b[1;33m[\u001b[0m\u001b[0mindex\u001b[0m\u001b[1;33m]\u001b[0m \u001b[1;32mfor\u001b[0m \u001b[0mtensor\u001b[0m \u001b[1;32min\u001b[0m \u001b[0mself\u001b[0m\u001b[1;33m.\u001b[0m\u001b[0mtensors\u001b[0m\u001b[1;33m)\u001b[0m\u001b[1;33m\u001b[0m\u001b[1;33m\u001b[0m\u001b[0m\n\u001b[0m\u001b[0;32m    163\u001b[0m \u001b[1;33m\u001b[0m\u001b[0m\n\u001b[0;32m    164\u001b[0m     \u001b[1;32mdef\u001b[0m \u001b[0m__len__\u001b[0m\u001b[1;33m(\u001b[0m\u001b[0mself\u001b[0m\u001b[1;33m)\u001b[0m\u001b[1;33m:\u001b[0m\u001b[1;33m\u001b[0m\u001b[1;33m\u001b[0m\u001b[0m\n",
      "\u001b[1;31mKeyboardInterrupt\u001b[0m: "
     ]
    }
   ],
   "source": [
    "criterion = nn.CrossEntropyLoss(ignore_index=31)\n",
    "optimizer = optim.Adam(model.parameters())\n",
    "model.train()\n",
    "train_dataset = generate_train_data(lstm_dataset + 'train.csv')\n",
    "dataloader = DataLoader(train_dataset, batch_size=batch_size, shuffle=True, pin_memory=True)\n",
    "\n",
    "train(model, dataloader, criterion, optimizer, current_epoch=100, num_epochs=200)"
   ]
  },
  {
   "cell_type": "code",
   "execution_count": 8,
   "metadata": {},
   "outputs": [
    {
     "name": "stdout",
     "output_type": "stream",
     "text": [
      "Finished Training\n"
     ]
    }
   ],
   "source": [
    "if not os.path.isdir(model_dir):\n",
    "    os.makedirs(model_dir)\n",
    "torch.save(model.state_dict(), model_dir + '/' + model_name + '.pt')\n",
    "print('Finished Training')"
   ]
  },
  {
   "cell_type": "code",
   "execution_count": 6,
   "metadata": {},
   "outputs": [
    {
     "name": "stderr",
     "output_type": "stream",
     "text": [
      ".\\data\\lstm\\dataset\\/normal.csv: 100%|████████████████████████████████████████| 14190/14190 [00:00<00:00, 19216.43it/s]\n"
     ]
    },
    {
     "name": "stdout",
     "output_type": "stream",
     "text": [
      "Number of sessions(.\\data\\lstm\\dataset\\/normal.csv): 14190\n",
      "Number of seqs(.\\data\\lstm\\dataset\\/normal.csv): 269855\n"
     ]
    },
    {
     "name": "stderr",
     "output_type": "stream",
     "text": [
      ".\\data\\lstm\\dataset\\/abnormal.csv: 100%|████████████████████████████████████████| 4121/4121 [00:00<00:00, 21312.25it/s]\n",
      "normal: 0it [00:00, ?it/s]"
     ]
    },
    {
     "name": "stdout",
     "output_type": "stream",
     "text": [
      "Number of sessions(.\\data\\lstm\\dataset\\/abnormal.csv): 4121\n",
      "Number of seqs(.\\data\\lstm\\dataset\\/abnormal.csv): 88562\n"
     ]
    },
    {
     "name": "stderr",
     "output_type": "stream",
     "text": [
      "normal: 14it [01:03,  4.56s/it]\n",
      "abnormal: 5it [00:23,  4.66s/it]"
     ]
    },
    {
     "name": "stdout",
     "output_type": "stream",
     "text": [
      "elapsed_time: 87.249s\n",
      "false positive (FP): 1128, false negative (FN): 181, Precision: 77.743%, Recall: 95.608%, F1-measure: 85.755%\n",
      "Finished Predicting\n"
     ]
    },
    {
     "name": "stderr",
     "output_type": "stream",
     "text": [
      "\n"
     ]
    }
   ],
   "source": [
    "model.eval()\n",
    "batch_size = 20000\n",
    "test_normal_session, test_normal_dataset, test_normal_seq, test_normal_label = generate_test_data(\n",
    "    lstm_dataset + '/normal.csv', window_size)\n",
    "normal_dataloader = DataLoader(test_normal_dataset, batch_size=batch_size, shuffle=False, pin_memory=True)\n",
    "test_abnormal_session, test_abnormal_dataset, test_abnormal_seq, test_abnormal_label = generate_test_data(\n",
    "    lstm_dataset + '/abnormal.csv', window_size)\n",
    "abnormal_dataloader = DataLoader(test_abnormal_dataset, batch_size=batch_size, shuffle=False, pin_memory=True)\n",
    "\n",
    "test_normal_result, test_abnormal_result = fast_predict(model, normal_dataloader, abnormal_dataloader,\n",
    "                                                        test_normal_session, test_abnormal_session,\n",
    "                                                        10, window_size)"
   ]
  },
  {
   "cell_type": "code",
   "execution_count": 8,
   "metadata": {},
   "outputs": [
    {
     "name": "stderr",
     "output_type": "stream",
     "text": [
      "normal: 14it [01:00,  4.35s/it]\n",
      "abnormal: 5it [00:15,  3.03s/it]"
     ]
    },
    {
     "name": "stdout",
     "output_type": "stream",
     "text": [
      "elapsed_time: 76.180s\n",
      "false positive (FP): 786, false negative (FN): 430, Precision: 82.444%, Recall: 89.566%, F1-measure: 85.857%\n",
      "Finished Predicting\n"
     ]
    },
    {
     "name": "stderr",
     "output_type": "stream",
     "text": [
      "\n"
     ]
    }
   ],
   "source": [
    "test_normal_result, test_abnormal_result = fast_predict(model, normal_dataloader, abnormal_dataloader,\n",
    "                                                        test_normal_session, test_abnormal_session,\n",
    "                                                        10, window_size,ts=0.00005)"
   ]
  },
  {
   "cell_type": "code",
   "execution_count": 6,
   "metadata": {},
   "outputs": [],
   "source": [
    "from lstm.wf_constructor import workflow_constructor,draw_wf"
   ]
  },
  {
   "cell_type": "code",
   "execution_count": 7,
   "metadata": {},
   "outputs": [],
   "source": [
    "wf = workflow_constructor(model,input_size=1)"
   ]
  },
  {
   "cell_type": "code",
   "execution_count": 8,
   "metadata": {},
   "outputs": [
    {
     "data": {
      "text/plain": [
       "(tensor([[1., 1.]]),\n",
       " tensor([22, 20, 10,  7,  6,  4,  5,  3,  2,  1]),\n",
       " tensor([-11.1364,   6.5688,   5.8336,   5.4769,   1.3936,   4.5288,   0.2500,\n",
       "           0.1636,  -3.3475,  -3.9446,  -1.7440,  -5.8533, -10.9219,  -6.8697,\n",
       "         -10.7340, -10.9836, -11.2700, -10.9649, -10.9487, -11.4953,  -2.1475,\n",
       "         -11.2003,  -2.6860, -10.8976, -10.6818, -10.6616, -10.8612, -10.4325,\n",
       "         -10.8212, -11.2100,  -4.1044, -10.7594], grad_fn=<ViewBackward>))"
      ]
     },
     "execution_count": 8,
     "metadata": {},
     "output_type": "execute_result"
    }
   ],
   "source": [
    "wf.generate_seq([1],1,3)"
   ]
  },
  {
   "cell_type": "code",
   "execution_count": 9,
   "metadata": {},
   "outputs": [
    {
     "name": "stdout",
     "output_type": "stream",
     "text": [
      "当前序列为: [0] 下一个可能出现event为: [2, 1]\n",
      "判断分支情况 [2, 1]\n",
      "发现不同的分支 [[2, 1]]\n",
      "并发执行的分支 [2, 1]\n",
      "发现循环 [1]\n",
      "当前序列为: [2, 1] 下一个可能出现event为: [3, 4, 5]\n",
      "判断分支情况 [3, 4, 5]\n",
      "发现不同的分支 [[3, 4, 5]]\n",
      "并发执行的分支 [3, 4, 5]\n",
      "发现循环 [3]\n",
      "发现循环 [4]\n",
      "发现循环 [5]\n",
      "当前序列为: [3, 4, 5] 下一个可能出现event为: [10, 11, 20, 22, 30]\n",
      "判断分支情况 [10, 11, 20, 22, 30]\n",
      "发现不同的分支 [[10, 11, 20, 22]]\n",
      "并发执行的分支 [10, 11, 20, 22]\n",
      "发现循环 [10]\n",
      "发现循环 [11]\n",
      "发现循环 [20]\n",
      "发现循环 [22]\n",
      "当前序列为: [10, 11, 20, 22] 下一个可能出现event为: [13, 30]\n",
      "判断分支情况 [13, 30]\n",
      "发现不同的分支 [[13]]\n",
      "当前序列为: [13] 下一个可能出现event为: [30]\n",
      "到达终止位置,结束 {30}\n"
     ]
    },
    {
     "data": {
      "text/plain": [
       "[0]"
      ]
     },
     "execution_count": 9,
     "metadata": {},
     "output_type": "execute_result"
    }
   ],
   "source": [
    "wf.workflow_construction([0],{30})"
   ]
  },
  {
   "cell_type": "code",
   "execution_count": 10,
   "metadata": {},
   "outputs": [
    {
     "name": "stdout",
     "output_type": "stream",
     "text": [
      "0 1 (0, 2)\n",
      "0 2 (-0.5, 3)\n",
      "1 2 (0.5, 3)\n",
      "0 1 (0, 4)\n",
      "0 1 (0, 5)\n",
      "0 3 (-1, 6)\n",
      "1 3 (0, 6)\n",
      "2 3 (1, 6)\n",
      "0 1 (0, 7)\n",
      "0 1 (0, 8)\n",
      "0 4 (-1.5, 9)\n",
      "1 4 (-0.5, 9)\n",
      "2 4 (0.5, 9)\n",
      "3 4 (1.5, 9)\n",
      "1 1 (0, 10)\n",
      "0 1 (0, 11)\n",
      "0 1 (0, 12)\n"
     ]
    },
    {
     "data": {
      "image/png": "[encoded data removed]",
      "text/plain": [
       "<Figure size 432x288 with 1 Axes>"
      ]
     },
     "metadata": {},
     "output_type": "display_data"
    }
   ],
   "source": [
    "draw_wf(wf)"
   ]
  },
  {
   "cell_type": "code",
   "execution_count": 1,
   "metadata": {},
   "outputs": [],
   "source": [
    "def split_data(file_dir):\n",
    "    count = 0\n",
    "    with open(file_dir+'/normal','r') as f:\n",
    "        for i in f:\n",
    "            count+=1\n",
    "    print(4855/count)\n",
    "    return \n",
    "    data_set = random_split(range(count),[4855,count-4855])\n",
    "    f1 = open(file_dir+'/hdfs_test_normal','w')\n",
    "    f2 = open(file_dir+'/hdfs_train','w')\n",
    "    with open(file_dir+'/normal','r') as f:\n",
    "        lines = f.readlines()\n",
    "        for i in data_set[0]:\n",
    "            f2.write(lines[i])\n",
    "        for i in data_set[1]:\n",
    "            f1.write(lines[i])\n",
    "    f1.close()\n",
    "    f2.close()"
   ]
  },
  {
   "cell_type": "code",
   "execution_count": 13,
   "metadata": {},
   "outputs": [
    {
     "name": "stdout",
     "output_type": "stream",
     "text": [
      "0.0087850724338722\n"
     ]
    }
   ],
   "source": [
    "count = 0\n",
    "with open('./data/lstm/dataset/normal.csv','r') as f:\n",
    "    for i in f:\n",
    "        count+=1\n",
    "print(4855/count)"
   ]
  },
  {
   "cell_type": "code",
   "execution_count": 14,
   "metadata": {},
   "outputs": [
    {
     "data": {
      "text/plain": [
       "552642"
      ]
     },
     "execution_count": 14,
     "metadata": {},
     "output_type": "execute_result"
    }
   ],
   "source": [
    "count"
   ]
  },
  {
   "cell_type": "code",
   "execution_count": 12,
   "metadata": {},
   "outputs": [
    {
     "data": {
      "text/plain": [
       "552642"
      ]
     },
     "execution_count": 12,
     "metadata": {},
     "output_type": "execute_result"
    }
   ],
   "source": [
    "count"
   ]
  },
  {
   "cell_type": "code",
   "execution_count": null,
   "metadata": {},
   "outputs": [],
   "source": []
  }
 ],
 "metadata": {
  "kernelspec": {
   "display_name": "Python 3.6.7 64-bit ('cuda_pytorch': conda)",
   "language": "python",
   "name": "python36764bitcudapytorchconda3e33319a1fef4dc990a9d2f171216946"
  },
  "language_info": {
   "codemirror_mode": {
    "name": "ipython",
    "version": 3
   },
   "file_extension": ".py",
   "mimetype": "text/x-python",
   "name": "python",
   "nbconvert_exporter": "python",
   "pygments_lexer": "ipython3",
   "version": "3.6.7"
  }
 },
 "nbformat": 4,
 "nbformat_minor": 4
}
