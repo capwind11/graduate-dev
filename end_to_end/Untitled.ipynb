{
 "cells": [
  {
   "cell_type": "code",
   "execution_count": 1,
   "metadata": {},
   "outputs": [],
   "source": [
    "from utils.data_utils import *"
   ]
  },
  {
   "cell_type": "code",
   "execution_count": 7,
   "metadata": {},
   "outputs": [],
   "source": [
    "\n",
    "def remove_duplicate(input,col_remove,col_keep,output):\n",
    "    data = pd.read_csv(input, engine='c', na_filter=False, memory_map=True)\n",
    "    data = data.groupby([col_remove])[col_keep].max()\n",
    "#     data[[col_keep,col_remove]].to_csv(output,index=False)\n",
    "    return data"
   ]
  },
  {
   "cell_type": "code",
   "execution_count": null,
   "metadata": {},
   "outputs": [],
   "source": [
    "remove_duplicate('./data/lstm/dataset/normal.csv','EventSequence','BlockId','./data/lstm/dataset/no_dup_normal.csv')"
   ]
  },
  {
   "cell_type": "code",
   "execution_count": 9,
   "metadata": {},
   "outputs": [],
   "source": [
    "data = remove_duplicate('./data/lstm/dataset/abnormal.csv','EventSequence','BlockId','./data/lstm/dataset/no_dup_abnormal.csv')"
   ]
  },
  {
   "cell_type": "code",
   "execution_count": 11,
   "metadata": {},
   "outputs": [
    {
     "data": {
      "text/plain": [
       "EventSequence\n",
       "[1, 1, 1, 2, 1, 19, 16, 12, 3, 13, 16, 12, 3, 13, 16, 1, 12, 3, 3, 3, 4, 3, 4, 5, 9, 8, 1, 1, 7, 6, 6, 5, 5, 5, 21, 21, 21, 21, 14, 14, 14, 14]                               blk_7169347067596634974\n",
       "[1, 1, 1, 2, 1, 3, 13, 16, 12, 3, 3, 18, 1, 3, 4, 5, 16, 12, 3, 13, 19, 16, 12, 1, 25, 16, 12, 3, 13, 16, 12, 3, 3, 9, 8, 1, 1, 6, 7, 6, 5, 5, 21, 21, 21, 14, 14, 14, 22]    blk_8006271611835981128\n",
       "[1, 1, 1, 2, 1, 3, 4, 3, 4, 3, 4, 8, 9, 5, 5, 5, 6, 7, 5, 14, 21, 21, 21, 21, 14, 14, 22, 14]                                                                                 blk_4187081574847375925\n",
       "[1, 1, 1, 2, 12, 3, 13, 16, 12, 3, 3, 16, 12]                                                                                                                                 blk_-516029862489211143\n",
       "[1, 1, 1, 2, 15, 15, 15, 3, 4, 3, 4, 3, 4, 5, 5, 5, 10, 11, 21, 21, 21, 14, 14, 14]                                                                                            blk_315685952352619727\n",
       "Name: BlockId, dtype: object"
      ]
     },
     "execution_count": 11,
     "metadata": {},
     "output_type": "execute_result"
    }
   ],
   "source": [
    "data.head()"
   ]
  },
  {
   "cell_type": "code",
   "execution_count": 2,
   "metadata": {},
   "outputs": [],
   "source": [
    "import pandas as pd"
   ]
  },
  {
   "cell_type": "code",
   "execution_count": 3,
   "metadata": {},
   "outputs": [],
   "source": [
    "input_dir = './data/lstm/dataset/'\n",
    "predicted_input = 'unsupervised_input.csv'\n",
    "supervised_input_normal = 'supervised_input_normal.csv'\n",
    "supervised_input_abnormal = 'supervised_input_abnormal.csv'"
   ]
  },
  {
   "cell_type": "code",
   "execution_count": 19,
   "metadata": {},
   "outputs": [
    {
     "data": {
      "text/plain": [
       "22"
      ]
     },
     "execution_count": 19,
     "metadata": {},
     "output_type": "execute_result"
    }
   ],
   "source": [
    "f = open(input_dir+predicted_input,'w')\n",
    "fn = open(input_dir+supervised_input_normal,'w')\n",
    "fa = open(input_dir+supervised_input_abnormal,'w')\n",
    "f.write('EventSequence,BlockId\\n')\n",
    "fn.write('EventSequence,BlockId\\n')\n",
    "fa.write('EventSequence,BlockId\\n')"
   ]
  },
  {
   "cell_type": "code",
   "execution_count": 20,
   "metadata": {},
   "outputs": [],
   "source": [
    "f1 = open(input_dir + '/no_dup_normal.csv', 'r')\n",
    "for i,line in enumerate(f1):\n",
    "    if i==0:\n",
    "        continue\n",
    "    if i>3000 and i<8000:\n",
    "        fn.write(line)\n",
    "    elif i<=3000:\n",
    "        f.write(line)\n",
    "f1.close()\n",
    "f1 = open(input_dir + '/no_dup_abnormal.csv', 'r')\n",
    "for i,line in enumerate(f1):\n",
    "    if i==0:\n",
    "        continue\n",
    "    if i>2000:\n",
    "        fa.write(line)\n",
    "    else:\n",
    "        f.write(line)\n",
    "f1.close()"
   ]
  },
  {
   "cell_type": "code",
   "execution_count": 21,
   "metadata": {},
   "outputs": [],
   "source": [
    "f.close()\n",
    "fn.close()\n",
    "fa.close()"
   ]
  },
  {
   "cell_type": "code",
   "execution_count": null,
   "metadata": {},
   "outputs": [],
   "source": []
  }
 ],
 "metadata": {
  "kernelspec": {
   "display_name": "Python 3.6.7 64-bit ('cuda_pytorch': conda)",
   "language": "python",
   "name": "python36764bitcudapytorchconda3e33319a1fef4dc990a9d2f171216946"
  },
  "language_info": {
   "codemirror_mode": {
    "name": "ipython",
    "version": 3
   },
   "file_extension": ".py",
   "mimetype": "text/x-python",
   "name": "python",
   "nbconvert_exporter": "python",
   "pygments_lexer": "ipython3",
   "version": "3.6.7"
  }
 },
 "nbformat": 4,
 "nbformat_minor": 4
}
