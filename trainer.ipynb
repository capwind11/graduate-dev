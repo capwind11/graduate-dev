{
 "cells": [
  {
   "cell_type": "code",
   "execution_count": 1,
   "metadata": {},
   "outputs": [],
   "source": [
    "import time\n",
    "import torch\n",
    "import torch.nn as nn\n",
    "import torch.optim as optim\n",
    "from torch.utils.tensorboard import SummaryWriter\n",
    "from torch.utils.data import TensorDataset, DataLoader\n",
    "import argparse\n",
    "import os\n",
    "from tqdm import tqdm"
   ]
  },
  {
   "cell_type": "code",
   "execution_count": 2,
   "metadata": {},
   "outputs": [],
   "source": [
    "# Hyperparameters\n",
    "num_classes = 32\n",
    "num_epochs = 20\n",
    "batch_size = 2048\n",
    "input_size = 1\n",
    "model_dir = 'model'\n",
    "window_size = 10\n",
    "num_layers = 2\n",
    "hidden_size = 64\n",
    "file_dir = 'data_official'\n",
    "\n",
    "# Device configuration\n",
    "device = torch.device(\"cuda\" if torch.cuda.is_available() else \"cpu\")"
   ]
  },
  {
   "cell_type": "code",
   "execution_count": 3,
   "metadata": {},
   "outputs": [],
   "source": [
    "def generate_train_data(name):\n",
    "    num_sessions = 0\n",
    "    inputs = []\n",
    "    outputs = []\n",
    "    with open(name, 'r') as f:\n",
    "        for line in tqdm(f, \"loading data\"):\n",
    "            num_sessions += 1\n",
    "            seq = [0] + list(map(lambda n: n, map(int, line.strip().split()))) + [30] + [31] * (window_size - 1)\n",
    "            line = tuple(seq)\n",
    "\n",
    "            for i in range(len(line) - window_size):\n",
    "                inputs.append(line[i:i + window_size])\n",
    "                outputs.append(line[i + window_size])\n",
    "    print('Number of sessions({}): {}'.format(name, num_sessions))\n",
    "    print('Number of seqs({}): {}'.format(name, len(inputs)))\n",
    "    dataset = TensorDataset(torch.tensor(inputs, dtype=torch.float), torch.tensor(outputs))\n",
    "    return dataset\n",
    "\n",
    "class Model(nn.Module):\n",
    "    def __init__(self, input_size, hidden_size, num_layers, num_keys):\n",
    "        super(Model, self).__init__()\n",
    "        self.hidden_size = hidden_size\n",
    "        self.num_layers = num_layers\n",
    "        self.lstm = nn.LSTM(input_size, hidden_size, num_layers, batch_first=True)\n",
    "        self.fc = nn.Linear(hidden_size, num_keys)\n",
    "#         self.softmax = nn.Softmax(dim=2)\n",
    "\n",
    "    def forward(self, x):\n",
    "        h0 = torch.zeros(self.num_layers, x.size(0), self.hidden_size).to(device)\n",
    "        c0 = torch.zeros(self.num_layers, x.size(0), self.hidden_size).to(device)\n",
    "        out, _ = self.lstm(x, (h0, c0))\n",
    "        out = self.fc(out[:, :, :])\n",
    "#         out = self.softmax(out)\n",
    "        return out\n",
    "\n",
    "def train(model,dataloader,criterion,optimizer,current_epoch=0,num_epochs=10):\n",
    "    start_time = time.time()\n",
    "    for epoch in range(current_epoch,current_epoch+num_epochs):  # Loop over the dataset multiple times\n",
    "        train_loss = 0\n",
    "        for step, (seq, label) in enumerate(dataloader):\n",
    "            # Forward pass\n",
    "            seq = seq.clone().detach().view(-1, window_size, input_size).to(device)\n",
    "            label1= seq[:,1:,:].cpu().long()\n",
    "            label2 = label.view(-1,1,1)\n",
    "            label = torch.cat([label1,label2],1).view(-1,window_size)\n",
    "            label = label.reshape(label.size(0)*label.size(1))\n",
    "            output = model(seq)\n",
    "            output = output.reshape(output.size(0)*output.size(1),-1)\n",
    "            loss = criterion(output, label.to(device))\n",
    "\n",
    "            # Backward and optimize\n",
    "            optimizer.zero_grad()\n",
    "            loss.backward()\n",
    "            train_loss += loss.item()\n",
    "            optimizer.step()\n",
    "            # writer.add_graph(model, seq)\n",
    "        print('Epoch [{}/{}], train_loss: {:.4f}'.format(epoch + 1, current_epoch+num_epochs, train_loss / total_step))\n",
    "        # writer.add_scalar('train_loss', train_loss / total_step, epoch + 1)\n",
    "    elapsed_time = time.time() - start_time\n",
    "    print('elapsed_time: {:.3f}s'.format(elapsed_time))"
   ]
  },
  {
   "cell_type": "code",
   "execution_count": 4,
   "metadata": {},
   "outputs": [
    {
     "name": "stderr",
     "output_type": "stream",
     "text": [
      "loading data: 4855it [00:00, 15915.13it/s]\n"
     ]
    },
    {
     "name": "stdout",
     "output_type": "stream",
     "text": [
      "Number of sessions(data_official/hdfs_train): 4855\n",
      "Number of seqs(data_official/hdfs_train): 99602\n"
     ]
    }
   ],
   "source": [
    "model = Model(input_size, hidden_size, num_layers, num_classes).to(device)\n",
    "train_dataset = generate_train_data(file_dir+'/hdfs_train')\n",
    "dataloader = DataLoader(train_dataset, batch_size=batch_size, shuffle=True, pin_memory=True)\n",
    "# writer = Summary# writer(log_dir='log/' + log)\n",
    "# Loss and optimizer\n",
    "criterion = nn.CrossEntropyLoss(ignore_index=31)\n",
    "optimizer = optim.Adam(model.parameters())"
   ]
  },
  {
   "cell_type": "code",
   "execution_count": 5,
   "metadata": {},
   "outputs": [
    {
     "name": "stdout",
     "output_type": "stream",
     "text": [
      "Epoch [1/50], train_loss: 0.4359\n",
      "Epoch [2/50], train_loss: 0.4312\n",
      "Epoch [3/50], train_loss: 0.4311\n",
      "Epoch [4/50], train_loss: 0.4312\n",
      "Epoch [5/50], train_loss: 0.4309\n",
      "Epoch [6/50], train_loss: 0.4310\n",
      "Epoch [7/50], train_loss: 0.4309\n",
      "Epoch [8/50], train_loss: 0.4309\n",
      "Epoch [9/50], train_loss: 0.4307\n",
      "Epoch [10/50], train_loss: 0.4307\n",
      "Epoch [11/50], train_loss: 0.4307\n",
      "Epoch [12/50], train_loss: 0.4305\n",
      "Epoch [13/50], train_loss: 0.4304\n",
      "Epoch [14/50], train_loss: 0.4304\n",
      "Epoch [15/50], train_loss: 0.4301\n",
      "Epoch [16/50], train_loss: 0.4301\n",
      "Epoch [17/50], train_loss: 0.4300\n",
      "Epoch [18/50], train_loss: 0.4300\n",
      "Epoch [19/50], train_loss: 0.4299\n",
      "Epoch [20/50], train_loss: 0.4296\n",
      "Epoch [21/50], train_loss: 0.4294\n",
      "Epoch [22/50], train_loss: 0.4295\n",
      "Epoch [23/50], train_loss: 0.4295\n",
      "Epoch [24/50], train_loss: 0.4294\n",
      "Epoch [25/50], train_loss: 0.4293\n",
      "Epoch [26/50], train_loss: 0.4294\n",
      "Epoch [27/50], train_loss: 0.4293\n",
      "Epoch [28/50], train_loss: 0.4291\n",
      "Epoch [29/50], train_loss: 0.4290\n",
      "Epoch [30/50], train_loss: 0.4292\n",
      "Epoch [31/50], train_loss: 0.4289\n",
      "Epoch [32/50], train_loss: 0.4292\n",
      "Epoch [33/50], train_loss: 0.4291\n",
      "Epoch [34/50], train_loss: 0.4287\n",
      "Epoch [35/50], train_loss: 0.4288\n",
      "Epoch [36/50], train_loss: 0.4288\n",
      "Epoch [37/50], train_loss: 0.4286\n",
      "Epoch [38/50], train_loss: 0.4285\n",
      "Epoch [39/50], train_loss: 0.4287\n",
      "Epoch [40/50], train_loss: 0.4285\n",
      "Epoch [41/50], train_loss: 0.4285\n",
      "Epoch [42/50], train_loss: 0.4283\n",
      "Epoch [43/50], train_loss: 0.4283\n",
      "Epoch [44/50], train_loss: 0.4280\n",
      "Epoch [45/50], train_loss: 0.4280\n",
      "Epoch [46/50], train_loss: 0.4279\n",
      "Epoch [47/50], train_loss: 0.4280\n",
      "Epoch [48/50], train_loss: 0.4280\n",
      "Epoch [49/50], train_loss: 0.4279\n",
      "Epoch [50/50], train_loss: 0.4280\n",
      "elapsed_time: 313.751s\n",
      "Finished Training\n"
     ]
    }
   ],
   "source": [
    "# Train the model\n",
    "model_name = 'softmax_data_dir={}_version={}'.format(file_dir,'v0.0')\n",
    "total_step = len(dataloader)\n",
    "if os.path.exists(model_dir + '/' + model_name + '.pt'):\n",
    "    model.load_state_dict(torch.load(model_dir + '/' + model_name + '.pt'))\n",
    "model.train()\n",
    "train(model, dataloader,criterion,optimizer, current_epoch=0, num_epochs=50)\n",
    "if not os.path.isdir(model_dir):\n",
    "    os.makedirs(model_dir)\n",
    "torch.save(model.state_dict(), model_dir + '/' + model_name + '.pt')\n",
    "# writer.close()\n",
    "print('Finished Training')"
   ]
  },
  {
   "cell_type": "code",
   "execution_count": 6,
   "metadata": {},
   "outputs": [
    {
     "data": {
      "text/plain": [
       "Model(\n",
       "  (lstm): LSTM(1, 64, num_layers=2, batch_first=True)\n",
       "  (fc): Linear(in_features=64, out_features=32, bias=True)\n",
       "  (softmax): Softmax(dim=2)\n",
       ")"
      ]
     },
     "execution_count": 6,
     "metadata": {},
     "output_type": "execute_result"
    }
   ],
   "source": [
    "model"
   ]
  },
  {
   "cell_type": "code",
   "execution_count": null,
   "metadata": {},
   "outputs": [],
   "source": []
  }
 ],
 "metadata": {
  "kernelspec": {
   "display_name": "Python 3.6.7 64-bit ('cuda_pytorch': conda)",
   "language": "python",
   "name": "python36764bitcudapytorchconda3e33319a1fef4dc990a9d2f171216946"
  },
  "language_info": {
   "codemirror_mode": {
    "name": "ipython",
    "version": 3
   },
   "file_extension": ".py",
   "mimetype": "text/x-python",
   "name": "python",
   "nbconvert_exporter": "python",
   "pygments_lexer": "ipython3",
   "version": "3.6.7"
  }
 },
 "nbformat": 4,
 "nbformat_minor": 4
}
