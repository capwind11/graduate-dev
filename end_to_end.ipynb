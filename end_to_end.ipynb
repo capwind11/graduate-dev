{
 "cells": [
  {
   "cell_type": "code",
   "execution_count": null,
   "metadata": {},
   "outputs": [],
   "source": [
    "'''\n",
    "parsing\n",
    "logPath: HDFS.log\n",
    "parsed_result:logClusters;item_to_event_id.csv\n",
    "\n",
    "partition\n",
    "label_file:anoramly_label.csv\n",
    "parsed_result:item_to_event_id.csv\n",
    "instance_file: hdfs_instance\n",
    "output:normaly.csv/abnormal.csv\n",
    "\n",
    "split_data:\n",
    "normaly:train,test_normal,test_abnormal\n",
    "\n",
    "lstm:\n",
    "input:train,test_(ab)normal\n",
    "output:model\n",
    "'''"
   ]
  }
 ],
 "metadata": {
  "kernelspec": {
   "display_name": "Python 3.6.7 64-bit ('cuda_pytorch': conda)",
   "language": "python",
   "name": "python36764bitcudapytorchconda3e33319a1fef4dc990a9d2f171216946"
  },
  "language_info": {
   "codemirror_mode": {
    "name": "ipython",
    "version": 3
   },
   "file_extension": ".py",
   "mimetype": "text/x-python",
   "name": "python",
   "nbconvert_exporter": "python",
   "pygments_lexer": "ipython3",
   "version": "3.6.7"
  }
 },
 "nbformat": 4,
 "nbformat_minor": 4
}
