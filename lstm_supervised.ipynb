{
 "cells": [
  {
   "cell_type": "code",
   "execution_count": 1,
   "metadata": {},
   "outputs": [],
   "source": [
    "import time\n",
    "import torch\n",
    "import torch.nn as nn\n",
    "import torch.optim as optim\n",
    "from torch.utils.tensorboard import SummaryWriter\n",
    "from torch.utils.data import TensorDataset, DataLoader\n",
    "import os\n",
    "from tqdm import tqdm"
   ]
  },
  {
   "cell_type": "code",
   "execution_count": 3,
   "metadata": {},
   "outputs": [],
   "source": [
    "num_classes = 32\n",
    "num_epochs = 20\n",
    "batch_size = 2048\n",
    "input_size = 1\n",
    "model_dir = 'model'\n",
    "window_size = 10\n",
    "num_layers = 2\n",
    "hidden_size = 64\n",
    "file_dir = 'data_supervised'\n",
    "\n",
    "# Device configuration\n",
    "device = torch.device(\"cuda\" if torch.cuda.is_available() else \"cpu\")"
   ]
  },
  {
   "cell_type": "code",
   "execution_count": 7,
   "metadata": {},
   "outputs": [],
   "source": [
    "def generate_dataset(file_dir):\n",
    "    sessions = []\n",
    "    normal_data = set()\n",
    "    labels = []\n",
    "    max_len = 0\n",
    "    with open(file_dir+'/normal', 'r') as f:\n",
    "        for ln in f.readlines():\n",
    "            ln = [0] + list(map(lambda n: n, map(int, ln.strip().split()))) + [30]\n",
    "            max_len = max(max_len,len(ln))\n",
    "            normal_data.add(tuple(ln))\n",
    "    abnormal_data = set()\n",
    "    with open(file_dir+'/abnormal', 'r') as f:\n",
    "        for ln in f.readlines():\n",
    "            ln = [0] + list(map(lambda n: n, map(int, ln.strip().split()))) + [30]\n",
    "            max_len = max(max_len,len(ln))\n",
    "            abnormal_data.add(tuple(ln))\n",
    "    \n",
    "    for line in tqdm(normal_data, \"normal:\"):\n",
    "        sessions.append(line)\n",
    "        labels.append(0)\n",
    "    for line in tqdm(abnormal_data, \"normal:\"):\n",
    "        sessions.append(line)\n",
    "        labels.append(1)\n",
    "    print('Number of sessions({}): {}'.format(file_dir, len(sessions)))\n",
    "    print('Number of normal sessions: {}'.format(len(normal_data)))\n",
    "    print('Number of abnormal sessions: {}'.format(len(abnormal_data)))\n",
    "    sessions = TensorDataset(torch.tensor(sessions, dtype=torch.float), torch.tensor(labels))\n",
    "\n",
    "    # print('Number of sessions({}): {}'.format(name, len(hdfs)))\n",
    "    return sessions"
   ]
  },
  {
   "cell_type": "code",
   "execution_count": 8,
   "metadata": {},
   "outputs": [
    {
     "name": "stderr",
     "output_type": "stream",
     "text": [
      "normal:: 100%|███████████████████████████████████████████████████████████████████| 839/839 [00:00<00:00, 431728.75it/s]\n",
      "normal:: 100%|█████████████████████████████████████████████████████████████████| 4123/4123 [00:00<00:00, 458435.80it/s]"
     ]
    },
    {
     "name": "stdout",
     "output_type": "stream",
     "text": [
      "Number of sessions(data_supervised): 4962\n",
      "Number of normal sessions: 839\n",
      "Number of abnormal sessions: 4123\n"
     ]
    },
    {
     "name": "stderr",
     "output_type": "stream",
     "text": [
      "\n"
     ]
    },
    {
     "ename": "ValueError",
     "evalue": "expected sequence of length 22 at dim 1 (got 28)",
     "output_type": "error",
     "traceback": [
      "\u001b[1;31m---------------------------------------------------------------------------\u001b[0m",
      "\u001b[1;31mValueError\u001b[0m                                Traceback (most recent call last)",
      "\u001b[1;32m<ipython-input-8-810b278b6f3b>\u001b[0m in \u001b[0;36m<module>\u001b[1;34m\u001b[0m\n\u001b[1;32m----> 1\u001b[1;33m \u001b[0mdataset\u001b[0m \u001b[1;33m=\u001b[0m \u001b[0mgenerate_dataset\u001b[0m\u001b[1;33m(\u001b[0m\u001b[0mfile_dir\u001b[0m\u001b[1;33m)\u001b[0m\u001b[1;33m\u001b[0m\u001b[1;33m\u001b[0m\u001b[0m\n\u001b[0m",
      "\u001b[1;32m<ipython-input-7-9e22f63713bf>\u001b[0m in \u001b[0;36mgenerate_dataset\u001b[1;34m(file_dir)\u001b[0m\n\u001b[0;32m     21\u001b[0m     \u001b[0mprint\u001b[0m\u001b[1;33m(\u001b[0m\u001b[1;34m'Number of normal sessions: {}'\u001b[0m\u001b[1;33m.\u001b[0m\u001b[0mformat\u001b[0m\u001b[1;33m(\u001b[0m\u001b[0mlen\u001b[0m\u001b[1;33m(\u001b[0m\u001b[0mnormal_data\u001b[0m\u001b[1;33m)\u001b[0m\u001b[1;33m)\u001b[0m\u001b[1;33m)\u001b[0m\u001b[1;33m\u001b[0m\u001b[1;33m\u001b[0m\u001b[0m\n\u001b[0;32m     22\u001b[0m     \u001b[0mprint\u001b[0m\u001b[1;33m(\u001b[0m\u001b[1;34m'Number of abnormal sessions: {}'\u001b[0m\u001b[1;33m.\u001b[0m\u001b[0mformat\u001b[0m\u001b[1;33m(\u001b[0m\u001b[0mlen\u001b[0m\u001b[1;33m(\u001b[0m\u001b[0mabnormal_data\u001b[0m\u001b[1;33m)\u001b[0m\u001b[1;33m)\u001b[0m\u001b[1;33m)\u001b[0m\u001b[1;33m\u001b[0m\u001b[1;33m\u001b[0m\u001b[0m\n\u001b[1;32m---> 23\u001b[1;33m     \u001b[0msessions\u001b[0m \u001b[1;33m=\u001b[0m \u001b[0mTensorDataset\u001b[0m\u001b[1;33m(\u001b[0m\u001b[0mtorch\u001b[0m\u001b[1;33m.\u001b[0m\u001b[0mtensor\u001b[0m\u001b[1;33m(\u001b[0m\u001b[0msessions\u001b[0m\u001b[1;33m,\u001b[0m \u001b[0mdtype\u001b[0m\u001b[1;33m=\u001b[0m\u001b[0mtorch\u001b[0m\u001b[1;33m.\u001b[0m\u001b[0mfloat\u001b[0m\u001b[1;33m)\u001b[0m\u001b[1;33m,\u001b[0m \u001b[0mtorch\u001b[0m\u001b[1;33m.\u001b[0m\u001b[0mtensor\u001b[0m\u001b[1;33m(\u001b[0m\u001b[0mlabels\u001b[0m\u001b[1;33m)\u001b[0m\u001b[1;33m)\u001b[0m\u001b[1;33m\u001b[0m\u001b[1;33m\u001b[0m\u001b[0m\n\u001b[0m\u001b[0;32m     24\u001b[0m \u001b[1;33m\u001b[0m\u001b[0m\n\u001b[0;32m     25\u001b[0m     \u001b[1;31m# print('Number of sessions({}): {}'.format(name, len(hdfs)))\u001b[0m\u001b[1;33m\u001b[0m\u001b[1;33m\u001b[0m\u001b[1;33m\u001b[0m\u001b[0m\n",
      "\u001b[1;31mValueError\u001b[0m: expected sequence of length 22 at dim 1 (got 28)"
     ]
    }
   ],
   "source": [
    "dataset = generate_dataset(file_dir)"
   ]
  },
  {
   "cell_type": "code",
   "execution_count": null,
   "metadata": {},
   "outputs": [],
   "source": []
  }
 ],
 "metadata": {
  "kernelspec": {
   "display_name": "Python 3.6.7 64-bit ('cuda_pytorch': conda)",
   "language": "python",
   "name": "python36764bitcudapytorchconda3e33319a1fef4dc990a9d2f171216946"
  },
  "language_info": {
   "codemirror_mode": {
    "name": "ipython",
    "version": 3
   },
   "file_extension": ".py",
   "mimetype": "text/x-python",
   "name": "python",
   "nbconvert_exporter": "python",
   "pygments_lexer": "ipython3",
   "version": "3.6.7"
  }
 },
 "nbformat": 4,
 "nbformat_minor": 4
}
