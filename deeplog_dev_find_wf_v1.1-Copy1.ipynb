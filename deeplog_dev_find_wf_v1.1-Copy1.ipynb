{
 "cells": [
  {
   "cell_type": "code",
   "execution_count": 1,
   "metadata": {},
   "outputs": [],
   "source": [
    "import time\n",
    "import torch\n",
    "import torch.nn as nn\n",
    "import torch.optim as optim\n",
    "from torch.utils.tensorboard import SummaryWriter\n",
    "from torch.utils.data import TensorDataset, DataLoader\n",
    "import argparse\n",
    "import os\n",
    "from tqdm import tqdm\n",
    "\n",
    "# Device configuration\n",
    "device = torch.device(\"cuda\" if torch.cuda.is_available() else \"cpu\")"
   ]
  },
  {
   "cell_type": "code",
   "execution_count": 2,
   "metadata": {},
   "outputs": [],
   "source": [
    "def generate_train_data(name):\n",
    "    num_sessions = 0\n",
    "    inputs = []\n",
    "    outputs = []\n",
    "    with open(name, 'r') as f:\n",
    "        for line in tqdm(f,\"loading data\"):\n",
    "            num_sessions += 1\n",
    "            seq = [0]+list(map(lambda n: n, map(int, line.strip().split())))+[30]+[31]*(window_size-1)\n",
    "            line = tuple(seq)\n",
    "            \n",
    "            for i in range(len(line) - window_size):\n",
    "                inputs.append(line[i:i + window_size])\n",
    "                outputs.append(line[i + window_size])\n",
    "    print('Number of sessions({}): {}'.format(name, num_sessions))\n",
    "    print('Number of seqs({}): {}'.format(name, len(inputs)))\n",
    "    dataset = TensorDataset(torch.tensor(inputs, dtype=torch.float), torch.tensor(outputs))\n",
    "    return dataset"
   ]
  },
  {
   "cell_type": "code",
   "execution_count": 3,
   "metadata": {},
   "outputs": [],
   "source": [
    "class Model(nn.Module):\n",
    "    def __init__(self, input_size, hidden_size, num_layers, num_keys):\n",
    "        super(Model, self).__init__()\n",
    "        self.hidden_size = hidden_size\n",
    "        self.num_layers = num_layers\n",
    "        self.lstm = nn.LSTM(input_size, hidden_size, num_layers, batch_first=True)\n",
    "        self.fc = nn.Linear(hidden_size, num_keys)\n",
    "\n",
    "    def forward(self, x):\n",
    "        h0 = torch.zeros(self.num_layers, x.size(0), self.hidden_size).to(device)\n",
    "        c0 = torch.zeros(self.num_layers, x.size(0), self.hidden_size).to(device)\n",
    "        out, _ = self.lstm(x, (h0, c0))\n",
    "        out = self.fc(out[:, :, :])\n",
    "        return out"
   ]
  },
  {
   "cell_type": "code",
   "execution_count": 4,
   "metadata": {},
   "outputs": [],
   "source": [
    "def train(model,dataloader,current_epoch=0,num_epochs=10):\n",
    "    start_time = time.time()\n",
    "    for epoch in range(current_epoch,current_epoch+num_epochs):  # Loop over the dataset multiple times\n",
    "        train_loss = 0\n",
    "        for step, (seq, label) in enumerate(dataloader):\n",
    "            # Forward pass\n",
    "            seq = seq.clone().detach().view(-1, window_size, input_size).to(device)\n",
    "            label1= seq[:,1:,:].cpu().long()\n",
    "            label2 = label.view(-1,1,1)\n",
    "            label = torch.cat([label1,label2],1).view(-1,window_size)\n",
    "            label = label.reshape(label.size(0)*label.size(1))\n",
    "            output = model(seq)\n",
    "            output = output.reshape(output.size(0)*output.size(1),-1)\n",
    "            loss = criterion(output, label.to(device))\n",
    "\n",
    "            # Backward and optimize\n",
    "            optimizer.zero_grad()\n",
    "            loss.backward()\n",
    "            train_loss += loss.item()\n",
    "            optimizer.step()\n",
    "#             writer.add_graph(model, seq)\n",
    "        print('Epoch [{}/{}], train_loss: {:.4f}'.format(epoch + 1, current_epoch+num_epochs, train_loss / total_step))\n",
    "#         writer.add_scalar('train_loss', train_loss / total_step, epoch + 1)\n",
    "    elapsed_time = time.time() - start_time\n",
    "    print('elapsed_time: {:.3f}s'.format(elapsed_time))"
   ]
  },
  {
   "cell_type": "code",
   "execution_count": 5,
   "metadata": {},
   "outputs": [],
   "source": [
    "# Hyperparameters\n",
    "num_classes = 32\n",
    "num_epochs = 300\n",
    "batch_size = 2048\n",
    "input_size = 1\n",
    "model_dir = 'model'\n",
    "window_size = 10\n",
    "file_dir = 'data_official'\n",
    "log = 'file_dir={}_version={}'.format(file_dir,'old_padding')\n",
    "num_layers = 2\n",
    "hidden_size = 64\n",
    "\n",
    "model = Model(input_size, hidden_size, num_layers, num_classes).to(device)"
   ]
  },
  {
   "cell_type": "code",
   "execution_count": 7,
   "metadata": {},
   "outputs": [
    {
     "name": "stderr",
     "output_type": "stream",
     "text": [
      "loading data: 4855it [00:00, 12190.99it/s]\n"
     ]
    },
    {
     "name": "stdout",
     "output_type": "stream",
     "text": [
      "Number of sessions(data_official/hdfs_train): 4855\n",
      "Number of seqs(data_official/hdfs_train): 99602\n"
     ]
    }
   ],
   "source": [
    "train_dataset = generate_train_data(file_dir+'/hdfs_train')\n",
    "dataloader = DataLoader(train_dataset, batch_size=batch_size, shuffle=True, pin_memory=True)\n",
    "# writer = SummaryWriter(log_dir='log/' + log)\n",
    "# Loss and optimizer\n",
    "criterion = nn.CrossEntropyLoss(ignore_index=31)\n",
    "optimizer = optim.Adam(model.parameters())\n",
    "# Train the model\n",
    "total_step = len(dataloader)"
   ]
  },
  {
   "cell_type": "code",
   "execution_count": 19,
   "metadata": {},
   "outputs": [
    {
     "name": "stdout",
     "output_type": "stream",
     "text": [
      "Epoch [101/400], train_loss: 0.4311\n",
      "Epoch [102/400], train_loss: 0.4317\n",
      "Epoch [103/400], train_loss: 0.4309\n",
      "Epoch [104/400], train_loss: 0.4309\n",
      "Epoch [105/400], train_loss: 0.4309\n",
      "Epoch [106/400], train_loss: 0.4305\n",
      "Epoch [107/400], train_loss: 0.4308\n",
      "Epoch [108/400], train_loss: 0.4308\n",
      "Epoch [109/400], train_loss: 0.4302\n",
      "Epoch [110/400], train_loss: 0.4302\n",
      "Epoch [111/400], train_loss: 0.4301\n",
      "Epoch [112/400], train_loss: 0.4304\n",
      "Epoch [113/400], train_loss: 0.4300\n",
      "Epoch [114/400], train_loss: 0.4299\n",
      "Epoch [115/400], train_loss: 0.4298\n",
      "Epoch [116/400], train_loss: 0.4298\n",
      "Epoch [117/400], train_loss: 0.4515\n",
      "Epoch [118/400], train_loss: 0.5675\n",
      "Epoch [119/400], train_loss: 0.4365\n",
      "Epoch [120/400], train_loss: 0.4322\n",
      "Epoch [121/400], train_loss: 0.4314\n",
      "Epoch [122/400], train_loss: 0.4307\n",
      "Epoch [123/400], train_loss: 0.4304\n",
      "Epoch [124/400], train_loss: 0.4301\n",
      "Epoch [125/400], train_loss: 0.4299\n",
      "Epoch [126/400], train_loss: 0.4297\n",
      "Epoch [127/400], train_loss: 0.4294\n",
      "Epoch [128/400], train_loss: 0.4295\n",
      "Epoch [129/400], train_loss: 0.4294\n",
      "Epoch [130/400], train_loss: 0.4293\n",
      "Epoch [131/400], train_loss: 0.4290\n",
      "Epoch [132/400], train_loss: 0.4290\n",
      "Epoch [133/400], train_loss: 0.4288\n",
      "Epoch [134/400], train_loss: 0.4290\n",
      "Epoch [135/400], train_loss: 0.4291\n",
      "Epoch [136/400], train_loss: 0.4287\n",
      "Epoch [137/400], train_loss: 0.4286\n",
      "Epoch [138/400], train_loss: 0.4286\n",
      "Epoch [139/400], train_loss: 0.4285\n",
      "Epoch [140/400], train_loss: 0.4285\n",
      "Epoch [141/400], train_loss: 0.4285\n",
      "Epoch [142/400], train_loss: 0.4283\n",
      "Epoch [143/400], train_loss: 0.4284\n"
     ]
    },
    {
     "ename": "KeyboardInterrupt",
     "evalue": "",
     "output_type": "error",
     "traceback": [
      "\u001b[1;31m---------------------------------------------------------------------------\u001b[0m",
      "\u001b[1;31mKeyboardInterrupt\u001b[0m                         Traceback (most recent call last)",
      "\u001b[1;32m<ipython-input-19-22a7efa7e747>\u001b[0m in \u001b[0;36m<module>\u001b[1;34m\u001b[0m\n\u001b[0;32m      1\u001b[0m \u001b[0mmodel\u001b[0m\u001b[1;33m.\u001b[0m\u001b[0mtrain\u001b[0m\u001b[1;33m(\u001b[0m\u001b[1;33m)\u001b[0m\u001b[1;33m\u001b[0m\u001b[1;33m\u001b[0m\u001b[0m\n\u001b[0;32m      2\u001b[0m \u001b[1;31m# model.load_state_dict(torch.load(model_dir + '/' + log + '.pt'))\u001b[0m\u001b[1;33m\u001b[0m\u001b[1;33m\u001b[0m\u001b[1;33m\u001b[0m\u001b[0m\n\u001b[1;32m----> 3\u001b[1;33m \u001b[0mtrain\u001b[0m\u001b[1;33m(\u001b[0m\u001b[0mmodel\u001b[0m\u001b[1;33m,\u001b[0m\u001b[0mdataloader\u001b[0m\u001b[1;33m,\u001b[0m\u001b[0mcurrent_epoch\u001b[0m\u001b[1;33m=\u001b[0m\u001b[1;36m100\u001b[0m\u001b[1;33m,\u001b[0m\u001b[0mnum_epochs\u001b[0m\u001b[1;33m=\u001b[0m\u001b[1;36m300\u001b[0m\u001b[1;33m)\u001b[0m\u001b[1;33m\u001b[0m\u001b[1;33m\u001b[0m\u001b[0m\n\u001b[0m\u001b[0;32m      4\u001b[0m \u001b[1;32mif\u001b[0m \u001b[1;32mnot\u001b[0m \u001b[0mos\u001b[0m\u001b[1;33m.\u001b[0m\u001b[0mpath\u001b[0m\u001b[1;33m.\u001b[0m\u001b[0misdir\u001b[0m\u001b[1;33m(\u001b[0m\u001b[0mmodel_dir\u001b[0m\u001b[1;33m)\u001b[0m\u001b[1;33m:\u001b[0m\u001b[1;33m\u001b[0m\u001b[1;33m\u001b[0m\u001b[0m\n\u001b[0;32m      5\u001b[0m     \u001b[0mos\u001b[0m\u001b[1;33m.\u001b[0m\u001b[0mmakedirs\u001b[0m\u001b[1;33m(\u001b[0m\u001b[0mmodel_dir\u001b[0m\u001b[1;33m)\u001b[0m\u001b[1;33m\u001b[0m\u001b[1;33m\u001b[0m\u001b[0m\n",
      "\u001b[1;32m<ipython-input-6-3c81b84ca60c>\u001b[0m in \u001b[0;36mtrain\u001b[1;34m(model, dataloader, current_epoch, num_epochs)\u001b[0m\n\u001b[0;32m      3\u001b[0m     \u001b[1;32mfor\u001b[0m \u001b[0mepoch\u001b[0m \u001b[1;32min\u001b[0m \u001b[0mrange\u001b[0m\u001b[1;33m(\u001b[0m\u001b[0mcurrent_epoch\u001b[0m\u001b[1;33m,\u001b[0m\u001b[0mcurrent_epoch\u001b[0m\u001b[1;33m+\u001b[0m\u001b[0mnum_epochs\u001b[0m\u001b[1;33m)\u001b[0m\u001b[1;33m:\u001b[0m  \u001b[1;31m# Loop over the dataset multiple times\u001b[0m\u001b[1;33m\u001b[0m\u001b[1;33m\u001b[0m\u001b[0m\n\u001b[0;32m      4\u001b[0m         \u001b[0mtrain_loss\u001b[0m \u001b[1;33m=\u001b[0m \u001b[1;36m0\u001b[0m\u001b[1;33m\u001b[0m\u001b[1;33m\u001b[0m\u001b[0m\n\u001b[1;32m----> 5\u001b[1;33m         \u001b[1;32mfor\u001b[0m \u001b[0mstep\u001b[0m\u001b[1;33m,\u001b[0m \u001b[1;33m(\u001b[0m\u001b[0mseq\u001b[0m\u001b[1;33m,\u001b[0m \u001b[0mlabel\u001b[0m\u001b[1;33m)\u001b[0m \u001b[1;32min\u001b[0m \u001b[0menumerate\u001b[0m\u001b[1;33m(\u001b[0m\u001b[0mdataloader\u001b[0m\u001b[1;33m)\u001b[0m\u001b[1;33m:\u001b[0m\u001b[1;33m\u001b[0m\u001b[1;33m\u001b[0m\u001b[0m\n\u001b[0m\u001b[0;32m      6\u001b[0m             \u001b[1;31m# Forward pass\u001b[0m\u001b[1;33m\u001b[0m\u001b[1;33m\u001b[0m\u001b[1;33m\u001b[0m\u001b[0m\n\u001b[0;32m      7\u001b[0m             \u001b[0mseq\u001b[0m \u001b[1;33m=\u001b[0m \u001b[0mseq\u001b[0m\u001b[1;33m.\u001b[0m\u001b[0mclone\u001b[0m\u001b[1;33m(\u001b[0m\u001b[1;33m)\u001b[0m\u001b[1;33m.\u001b[0m\u001b[0mdetach\u001b[0m\u001b[1;33m(\u001b[0m\u001b[1;33m)\u001b[0m\u001b[1;33m.\u001b[0m\u001b[0mview\u001b[0m\u001b[1;33m(\u001b[0m\u001b[1;33m-\u001b[0m\u001b[1;36m1\u001b[0m\u001b[1;33m,\u001b[0m \u001b[0mwindow_size\u001b[0m\u001b[1;33m,\u001b[0m \u001b[0minput_size\u001b[0m\u001b[1;33m)\u001b[0m\u001b[1;33m.\u001b[0m\u001b[0mto\u001b[0m\u001b[1;33m(\u001b[0m\u001b[0mdevice\u001b[0m\u001b[1;33m)\u001b[0m\u001b[1;33m\u001b[0m\u001b[1;33m\u001b[0m\u001b[0m\n",
      "\u001b[1;32mE:\\Programs\\Anaconda\\envs\\cuda_pytorch\\lib\\site-packages\\torch\\utils\\data\\dataloader.py\u001b[0m in \u001b[0;36m__next__\u001b[1;34m(self)\u001b[0m\n\u001b[0;32m    343\u001b[0m \u001b[1;33m\u001b[0m\u001b[0m\n\u001b[0;32m    344\u001b[0m     \u001b[1;32mdef\u001b[0m \u001b[0m__next__\u001b[0m\u001b[1;33m(\u001b[0m\u001b[0mself\u001b[0m\u001b[1;33m)\u001b[0m\u001b[1;33m:\u001b[0m\u001b[1;33m\u001b[0m\u001b[1;33m\u001b[0m\u001b[0m\n\u001b[1;32m--> 345\u001b[1;33m         \u001b[0mdata\u001b[0m \u001b[1;33m=\u001b[0m \u001b[0mself\u001b[0m\u001b[1;33m.\u001b[0m\u001b[0m_next_data\u001b[0m\u001b[1;33m(\u001b[0m\u001b[1;33m)\u001b[0m\u001b[1;33m\u001b[0m\u001b[1;33m\u001b[0m\u001b[0m\n\u001b[0m\u001b[0;32m    346\u001b[0m         \u001b[0mself\u001b[0m\u001b[1;33m.\u001b[0m\u001b[0m_num_yielded\u001b[0m \u001b[1;33m+=\u001b[0m \u001b[1;36m1\u001b[0m\u001b[1;33m\u001b[0m\u001b[1;33m\u001b[0m\u001b[0m\n\u001b[0;32m    347\u001b[0m         \u001b[1;32mif\u001b[0m \u001b[0mself\u001b[0m\u001b[1;33m.\u001b[0m\u001b[0m_dataset_kind\u001b[0m \u001b[1;33m==\u001b[0m \u001b[0m_DatasetKind\u001b[0m\u001b[1;33m.\u001b[0m\u001b[0mIterable\u001b[0m \u001b[1;32mand\u001b[0m\u001b[0;31m \u001b[0m\u001b[0;31m\\\u001b[0m\u001b[1;33m\u001b[0m\u001b[1;33m\u001b[0m\u001b[0m\n",
      "\u001b[1;32mE:\\Programs\\Anaconda\\envs\\cuda_pytorch\\lib\\site-packages\\torch\\utils\\data\\dataloader.py\u001b[0m in \u001b[0;36m_next_data\u001b[1;34m(self)\u001b[0m\n\u001b[0;32m    385\u001b[0m         \u001b[0mdata\u001b[0m \u001b[1;33m=\u001b[0m \u001b[0mself\u001b[0m\u001b[1;33m.\u001b[0m\u001b[0m_dataset_fetcher\u001b[0m\u001b[1;33m.\u001b[0m\u001b[0mfetch\u001b[0m\u001b[1;33m(\u001b[0m\u001b[0mindex\u001b[0m\u001b[1;33m)\u001b[0m  \u001b[1;31m# may raise StopIteration\u001b[0m\u001b[1;33m\u001b[0m\u001b[1;33m\u001b[0m\u001b[0m\n\u001b[0;32m    386\u001b[0m         \u001b[1;32mif\u001b[0m \u001b[0mself\u001b[0m\u001b[1;33m.\u001b[0m\u001b[0m_pin_memory\u001b[0m\u001b[1;33m:\u001b[0m\u001b[1;33m\u001b[0m\u001b[1;33m\u001b[0m\u001b[0m\n\u001b[1;32m--> 387\u001b[1;33m             \u001b[0mdata\u001b[0m \u001b[1;33m=\u001b[0m \u001b[0m_utils\u001b[0m\u001b[1;33m.\u001b[0m\u001b[0mpin_memory\u001b[0m\u001b[1;33m.\u001b[0m\u001b[0mpin_memory\u001b[0m\u001b[1;33m(\u001b[0m\u001b[0mdata\u001b[0m\u001b[1;33m)\u001b[0m\u001b[1;33m\u001b[0m\u001b[1;33m\u001b[0m\u001b[0m\n\u001b[0m\u001b[0;32m    388\u001b[0m         \u001b[1;32mreturn\u001b[0m \u001b[0mdata\u001b[0m\u001b[1;33m\u001b[0m\u001b[1;33m\u001b[0m\u001b[0m\n\u001b[0;32m    389\u001b[0m \u001b[1;33m\u001b[0m\u001b[0m\n",
      "\u001b[1;32mE:\\Programs\\Anaconda\\envs\\cuda_pytorch\\lib\\site-packages\\torch\\utils\\data\\_utils\\pin_memory.py\u001b[0m in \u001b[0;36mpin_memory\u001b[1;34m(data)\u001b[0m\n\u001b[0;32m     53\u001b[0m         \u001b[1;32mreturn\u001b[0m \u001b[0mtype\u001b[0m\u001b[1;33m(\u001b[0m\u001b[0mdata\u001b[0m\u001b[1;33m)\u001b[0m\u001b[1;33m(\u001b[0m\u001b[1;33m*\u001b[0m\u001b[1;33m(\u001b[0m\u001b[0mpin_memory\u001b[0m\u001b[1;33m(\u001b[0m\u001b[0msample\u001b[0m\u001b[1;33m)\u001b[0m \u001b[1;32mfor\u001b[0m \u001b[0msample\u001b[0m \u001b[1;32min\u001b[0m \u001b[0mdata\u001b[0m\u001b[1;33m)\u001b[0m\u001b[1;33m)\u001b[0m\u001b[1;33m\u001b[0m\u001b[1;33m\u001b[0m\u001b[0m\n\u001b[0;32m     54\u001b[0m     \u001b[1;32melif\u001b[0m \u001b[0misinstance\u001b[0m\u001b[1;33m(\u001b[0m\u001b[0mdata\u001b[0m\u001b[1;33m,\u001b[0m \u001b[0mcontainer_abcs\u001b[0m\u001b[1;33m.\u001b[0m\u001b[0mSequence\u001b[0m\u001b[1;33m)\u001b[0m\u001b[1;33m:\u001b[0m\u001b[1;33m\u001b[0m\u001b[1;33m\u001b[0m\u001b[0m\n\u001b[1;32m---> 55\u001b[1;33m         \u001b[1;32mreturn\u001b[0m \u001b[1;33m[\u001b[0m\u001b[0mpin_memory\u001b[0m\u001b[1;33m(\u001b[0m\u001b[0msample\u001b[0m\u001b[1;33m)\u001b[0m \u001b[1;32mfor\u001b[0m \u001b[0msample\u001b[0m \u001b[1;32min\u001b[0m \u001b[0mdata\u001b[0m\u001b[1;33m]\u001b[0m\u001b[1;33m\u001b[0m\u001b[1;33m\u001b[0m\u001b[0m\n\u001b[0m\u001b[0;32m     56\u001b[0m     \u001b[1;32melif\u001b[0m \u001b[0mhasattr\u001b[0m\u001b[1;33m(\u001b[0m\u001b[0mdata\u001b[0m\u001b[1;33m,\u001b[0m \u001b[1;34m\"pin_memory\"\u001b[0m\u001b[1;33m)\u001b[0m\u001b[1;33m:\u001b[0m\u001b[1;33m\u001b[0m\u001b[1;33m\u001b[0m\u001b[0m\n\u001b[0;32m     57\u001b[0m         \u001b[1;32mreturn\u001b[0m \u001b[0mdata\u001b[0m\u001b[1;33m.\u001b[0m\u001b[0mpin_memory\u001b[0m\u001b[1;33m(\u001b[0m\u001b[1;33m)\u001b[0m\u001b[1;33m\u001b[0m\u001b[1;33m\u001b[0m\u001b[0m\n",
      "\u001b[1;32mE:\\Programs\\Anaconda\\envs\\cuda_pytorch\\lib\\site-packages\\torch\\utils\\data\\_utils\\pin_memory.py\u001b[0m in \u001b[0;36m<listcomp>\u001b[1;34m(.0)\u001b[0m\n\u001b[0;32m     53\u001b[0m         \u001b[1;32mreturn\u001b[0m \u001b[0mtype\u001b[0m\u001b[1;33m(\u001b[0m\u001b[0mdata\u001b[0m\u001b[1;33m)\u001b[0m\u001b[1;33m(\u001b[0m\u001b[1;33m*\u001b[0m\u001b[1;33m(\u001b[0m\u001b[0mpin_memory\u001b[0m\u001b[1;33m(\u001b[0m\u001b[0msample\u001b[0m\u001b[1;33m)\u001b[0m \u001b[1;32mfor\u001b[0m \u001b[0msample\u001b[0m \u001b[1;32min\u001b[0m \u001b[0mdata\u001b[0m\u001b[1;33m)\u001b[0m\u001b[1;33m)\u001b[0m\u001b[1;33m\u001b[0m\u001b[1;33m\u001b[0m\u001b[0m\n\u001b[0;32m     54\u001b[0m     \u001b[1;32melif\u001b[0m \u001b[0misinstance\u001b[0m\u001b[1;33m(\u001b[0m\u001b[0mdata\u001b[0m\u001b[1;33m,\u001b[0m \u001b[0mcontainer_abcs\u001b[0m\u001b[1;33m.\u001b[0m\u001b[0mSequence\u001b[0m\u001b[1;33m)\u001b[0m\u001b[1;33m:\u001b[0m\u001b[1;33m\u001b[0m\u001b[1;33m\u001b[0m\u001b[0m\n\u001b[1;32m---> 55\u001b[1;33m         \u001b[1;32mreturn\u001b[0m \u001b[1;33m[\u001b[0m\u001b[0mpin_memory\u001b[0m\u001b[1;33m(\u001b[0m\u001b[0msample\u001b[0m\u001b[1;33m)\u001b[0m \u001b[1;32mfor\u001b[0m \u001b[0msample\u001b[0m \u001b[1;32min\u001b[0m \u001b[0mdata\u001b[0m\u001b[1;33m]\u001b[0m\u001b[1;33m\u001b[0m\u001b[1;33m\u001b[0m\u001b[0m\n\u001b[0m\u001b[0;32m     56\u001b[0m     \u001b[1;32melif\u001b[0m \u001b[0mhasattr\u001b[0m\u001b[1;33m(\u001b[0m\u001b[0mdata\u001b[0m\u001b[1;33m,\u001b[0m \u001b[1;34m\"pin_memory\"\u001b[0m\u001b[1;33m)\u001b[0m\u001b[1;33m:\u001b[0m\u001b[1;33m\u001b[0m\u001b[1;33m\u001b[0m\u001b[0m\n\u001b[0;32m     57\u001b[0m         \u001b[1;32mreturn\u001b[0m \u001b[0mdata\u001b[0m\u001b[1;33m.\u001b[0m\u001b[0mpin_memory\u001b[0m\u001b[1;33m(\u001b[0m\u001b[1;33m)\u001b[0m\u001b[1;33m\u001b[0m\u001b[1;33m\u001b[0m\u001b[0m\n",
      "\u001b[1;32mE:\\Programs\\Anaconda\\envs\\cuda_pytorch\\lib\\site-packages\\torch\\utils\\data\\_utils\\pin_memory.py\u001b[0m in \u001b[0;36mpin_memory\u001b[1;34m(data)\u001b[0m\n\u001b[0;32m     45\u001b[0m \u001b[1;32mdef\u001b[0m \u001b[0mpin_memory\u001b[0m\u001b[1;33m(\u001b[0m\u001b[0mdata\u001b[0m\u001b[1;33m)\u001b[0m\u001b[1;33m:\u001b[0m\u001b[1;33m\u001b[0m\u001b[1;33m\u001b[0m\u001b[0m\n\u001b[0;32m     46\u001b[0m     \u001b[1;32mif\u001b[0m \u001b[0misinstance\u001b[0m\u001b[1;33m(\u001b[0m\u001b[0mdata\u001b[0m\u001b[1;33m,\u001b[0m \u001b[0mtorch\u001b[0m\u001b[1;33m.\u001b[0m\u001b[0mTensor\u001b[0m\u001b[1;33m)\u001b[0m\u001b[1;33m:\u001b[0m\u001b[1;33m\u001b[0m\u001b[1;33m\u001b[0m\u001b[0m\n\u001b[1;32m---> 47\u001b[1;33m         \u001b[1;32mreturn\u001b[0m \u001b[0mdata\u001b[0m\u001b[1;33m.\u001b[0m\u001b[0mpin_memory\u001b[0m\u001b[1;33m(\u001b[0m\u001b[1;33m)\u001b[0m\u001b[1;33m\u001b[0m\u001b[1;33m\u001b[0m\u001b[0m\n\u001b[0m\u001b[0;32m     48\u001b[0m     \u001b[1;32melif\u001b[0m \u001b[0misinstance\u001b[0m\u001b[1;33m(\u001b[0m\u001b[0mdata\u001b[0m\u001b[1;33m,\u001b[0m \u001b[0mstring_classes\u001b[0m\u001b[1;33m)\u001b[0m\u001b[1;33m:\u001b[0m\u001b[1;33m\u001b[0m\u001b[1;33m\u001b[0m\u001b[0m\n\u001b[0;32m     49\u001b[0m         \u001b[1;32mreturn\u001b[0m \u001b[0mdata\u001b[0m\u001b[1;33m\u001b[0m\u001b[1;33m\u001b[0m\u001b[0m\n",
      "\u001b[1;31mKeyboardInterrupt\u001b[0m: "
     ]
    }
   ],
   "source": [
    "model.train()\n",
    "# model.load_state_dict(torch.load(model_dir + '/' + log + '.pt'))\n",
    "train(model,dataloader,current_epoch=100,num_epochs=300)\n",
    "if not os.path.isdir(model_dir):\n",
    "    os.makedirs(model_dir)\n",
    "torch.save(model.state_dict(), model_dir + '/' + log + '.pt')\n",
    "writer.close()\n",
    "print('Finished Training')"
   ]
  },
  {
   "cell_type": "code",
   "execution_count": 6,
   "metadata": {},
   "outputs": [
    {
     "name": "stderr",
     "output_type": "stream",
     "text": [
      "loading data: 553365it [00:36, 15277.38it/s]\n"
     ]
    },
    {
     "name": "stdout",
     "output_type": "stream",
     "text": [
      "Number of sessions(data_official/hdfs_test_normal): 553365\n",
      "Number of seqs(data_official/hdfs_test_normal): 11345956\n"
     ]
    },
    {
     "name": "stderr",
     "output_type": "stream",
     "text": [
      "测试对下一标签预测准确率: 5it [02:08, 26.05s/it]"
     ]
    },
    {
     "ename": "KeyboardInterrupt",
     "evalue": "",
     "output_type": "error",
     "traceback": [
      "\u001b[1;31m---------------------------------------------------------------------------\u001b[0m",
      "\u001b[1;31mKeyboardInterrupt\u001b[0m                         Traceback (most recent call last)",
      "\u001b[1;32m<ipython-input-6-e72f9845d888>\u001b[0m in \u001b[0;36m<module>\u001b[1;34m\u001b[0m\n\u001b[0;32m     13\u001b[0m     \u001b[0moutput\u001b[0m \u001b[1;33m=\u001b[0m \u001b[0mmodel\u001b[0m\u001b[1;33m(\u001b[0m\u001b[0mseq\u001b[0m\u001b[1;33m)\u001b[0m\u001b[1;33m\u001b[0m\u001b[1;33m\u001b[0m\u001b[0m\n\u001b[0;32m     14\u001b[0m     \u001b[0moutput\u001b[0m \u001b[1;33m=\u001b[0m \u001b[0moutput\u001b[0m\u001b[1;33m.\u001b[0m\u001b[0mreshape\u001b[0m\u001b[1;33m(\u001b[0m\u001b[0moutput\u001b[0m\u001b[1;33m.\u001b[0m\u001b[0msize\u001b[0m\u001b[1;33m(\u001b[0m\u001b[1;36m0\u001b[0m\u001b[1;33m)\u001b[0m\u001b[1;33m*\u001b[0m\u001b[0moutput\u001b[0m\u001b[1;33m.\u001b[0m\u001b[0msize\u001b[0m\u001b[1;33m(\u001b[0m\u001b[1;36m1\u001b[0m\u001b[1;33m)\u001b[0m\u001b[1;33m,\u001b[0m\u001b[1;33m-\u001b[0m\u001b[1;36m1\u001b[0m\u001b[1;33m)\u001b[0m\u001b[1;33m\u001b[0m\u001b[1;33m\u001b[0m\u001b[0m\n\u001b[1;32m---> 15\u001b[1;33m     \u001b[0mpredicted\u001b[0m \u001b[1;33m=\u001b[0m \u001b[0mtorch\u001b[0m\u001b[1;33m.\u001b[0m\u001b[0margsort\u001b[0m\u001b[1;33m(\u001b[0m\u001b[0moutput\u001b[0m\u001b[1;33m,\u001b[0m \u001b[1;36m1\u001b[0m\u001b[1;33m)\u001b[0m\u001b[1;33m[\u001b[0m\u001b[1;33m:\u001b[0m\u001b[1;33m,\u001b[0m \u001b[1;33m-\u001b[0m\u001b[1;36m6\u001b[0m\u001b[1;33m:\u001b[0m\u001b[1;33m]\u001b[0m\u001b[1;33m.\u001b[0m\u001b[0mcpu\u001b[0m\u001b[1;33m(\u001b[0m\u001b[1;33m)\u001b[0m\u001b[1;33m\u001b[0m\u001b[1;33m\u001b[0m\u001b[0m\n\u001b[0m\u001b[0;32m     16\u001b[0m     \u001b[0mnum_of_seq\u001b[0m\u001b[1;33m+=\u001b[0m\u001b[0mlen\u001b[0m\u001b[1;33m(\u001b[0m\u001b[0mlabel\u001b[0m\u001b[1;33m)\u001b[0m\u001b[1;33m\u001b[0m\u001b[1;33m\u001b[0m\u001b[0m\n\u001b[0;32m     17\u001b[0m     \u001b[1;32mfor\u001b[0m \u001b[0mi\u001b[0m \u001b[1;32min\u001b[0m \u001b[0mrange\u001b[0m\u001b[1;33m(\u001b[0m\u001b[0mlen\u001b[0m\u001b[1;33m(\u001b[0m\u001b[0mlabel\u001b[0m\u001b[1;33m)\u001b[0m\u001b[1;33m)\u001b[0m\u001b[1;33m:\u001b[0m\u001b[1;33m\u001b[0m\u001b[1;33m\u001b[0m\u001b[0m\n",
      "\u001b[1;31mKeyboardInterrupt\u001b[0m: "
     ]
    }
   ],
   "source": [
    "model.load_state_dict(torch.load(model_dir + '/' + log + '.pt'))\n",
    "train_dataset = generate_train_data(file_dir+'/hdfs_test_normal')\n",
    "dataloader = DataLoader(train_dataset, batch_size=20000, shuffle=True, pin_memory=True)"
   ]
  },
  {
   "cell_type": "code",
   "execution_count": 7,
   "metadata": {},
   "outputs": [
    {
     "name": "stderr",
     "output_type": "stream",
     "text": [
      "\n",
      "测试对下一标签预测准确率: 0it [00:00, ?it/s]\u001b[A\n",
      "测试对下一标签预测准确率: 1it [00:25, 25.71s/it]\u001b[A\n",
      "测试对下一标签预测准确率: 2it [00:50, 25.50s/it]\u001b[A\n",
      "测试对下一标签预测准确率: 3it [01:11, 24.00s/it]\u001b[A"
     ]
    },
    {
     "ename": "KeyboardInterrupt",
     "evalue": "",
     "output_type": "error",
     "traceback": [
      "\u001b[1;31m---------------------------------------------------------------------------\u001b[0m",
      "\u001b[1;31mKeyboardInterrupt\u001b[0m                         Traceback (most recent call last)",
      "\u001b[1;32m<ipython-input-7-fdf6d51a9ed3>\u001b[0m in \u001b[0;36m<module>\u001b[1;34m\u001b[0m\n\u001b[0;32m     19\u001b[0m                 \u001b[1;32mcontinue\u001b[0m\u001b[1;33m\u001b[0m\u001b[1;33m\u001b[0m\u001b[0m\n\u001b[0;32m     20\u001b[0m         \u001b[1;31m#     print(label[i],predicted[i])\u001b[0m\u001b[1;33m\u001b[0m\u001b[1;33m\u001b[0m\u001b[1;33m\u001b[0m\u001b[0m\n\u001b[1;32m---> 21\u001b[1;33m             \u001b[1;32mif\u001b[0m \u001b[0mlabel\u001b[0m\u001b[1;33m[\u001b[0m\u001b[0mi\u001b[0m\u001b[1;33m]\u001b[0m \u001b[1;32min\u001b[0m \u001b[0mpredicted\u001b[0m\u001b[1;33m[\u001b[0m\u001b[0mi\u001b[0m\u001b[1;33m]\u001b[0m\u001b[1;33m:\u001b[0m\u001b[1;33m\u001b[0m\u001b[1;33m\u001b[0m\u001b[0m\n\u001b[0m\u001b[0;32m     22\u001b[0m         \u001b[1;31m#         print(label[i],predicted[i])\u001b[0m\u001b[1;33m\u001b[0m\u001b[1;33m\u001b[0m\u001b[1;33m\u001b[0m\u001b[0m\n\u001b[0;32m     23\u001b[0m                 \u001b[0mcorrect\u001b[0m\u001b[1;33m+=\u001b[0m\u001b[1;36m1\u001b[0m\u001b[1;33m\u001b[0m\u001b[1;33m\u001b[0m\u001b[0m\n",
      "\u001b[1;32mE:\\Programs\\Anaconda\\envs\\cuda_pytorch\\lib\\site-packages\\torch\\tensor.py\u001b[0m in \u001b[0;36m__contains__\u001b[1;34m(self, element)\u001b[0m\n\u001b[0;32m    504\u001b[0m         \"\"\"\n\u001b[0;32m    505\u001b[0m         \u001b[1;32mif\u001b[0m \u001b[0misinstance\u001b[0m\u001b[1;33m(\u001b[0m\u001b[0melement\u001b[0m\u001b[1;33m,\u001b[0m \u001b[1;33m(\u001b[0m\u001b[0mtorch\u001b[0m\u001b[1;33m.\u001b[0m\u001b[0mTensor\u001b[0m\u001b[1;33m,\u001b[0m \u001b[0mNumber\u001b[0m\u001b[1;33m)\u001b[0m\u001b[1;33m)\u001b[0m\u001b[1;33m:\u001b[0m\u001b[1;33m\u001b[0m\u001b[1;33m\u001b[0m\u001b[0m\n\u001b[1;32m--> 506\u001b[1;33m             \u001b[1;32mreturn\u001b[0m \u001b[1;33m(\u001b[0m\u001b[0melement\u001b[0m \u001b[1;33m==\u001b[0m \u001b[0mself\u001b[0m\u001b[1;33m)\u001b[0m\u001b[1;33m.\u001b[0m\u001b[0many\u001b[0m\u001b[1;33m(\u001b[0m\u001b[1;33m)\u001b[0m\u001b[1;33m.\u001b[0m\u001b[0mitem\u001b[0m\u001b[1;33m(\u001b[0m\u001b[1;33m)\u001b[0m\u001b[1;33m\u001b[0m\u001b[1;33m\u001b[0m\u001b[0m\n\u001b[0m\u001b[0;32m    507\u001b[0m \u001b[1;33m\u001b[0m\u001b[0m\n\u001b[0;32m    508\u001b[0m         raise RuntimeError(\n",
      "\u001b[1;31mKeyboardInterrupt\u001b[0m: "
     ]
    }
   ],
   "source": [
    "correct = 0\n",
    "num_of_seq = 0\n",
    "model.eval()\n",
    "with torch.no_grad():\n",
    "    for step, (seq, label) in tqdm(enumerate(dataloader),desc=\"测试对下一标签预测准确率\"):\n",
    "        # Forward pass\n",
    "        seq = seq.clone().detach().view(-1, window_size, input_size).to(device)\n",
    "        label1= seq[:,1:,:].cpu().long()\n",
    "        label2 = label.view(-1,1,1)\n",
    "        label = torch.cat([label1,label2],1).view(-1,window_size)\n",
    "        label = label.reshape(label.size(0)*label.size(1))\n",
    "        output = model(seq)\n",
    "        output = output.reshape(output.size(0)*output.size(1),-1)\n",
    "        predicted = torch.argsort(output, 1)[:, -6:].cpu()\n",
    "        num_of_seq+=len(label)\n",
    "        for i in range(len(label)):\n",
    "            if label[i]==31:\n",
    "                num_of_seq-=1\n",
    "                continue\n",
    "        #     print(label[i],predicted[i])\n",
    "            if label[i] in predicted[i]:\n",
    "        #         print(label[i],predicted[i])\n",
    "                correct+=1\n",
    "    #         else:\n",
    "    #             print(label[i-3:i],label[i],predicted[i])\n",
    "    print('对下一标签预测准确率为: '+str(correct/num_of_seq))"
   ]
  },
  {
   "cell_type": "code",
   "execution_count": 16,
   "metadata": {},
   "outputs": [
    {
     "name": "stdout",
     "output_type": "stream",
     "text": [
      "tensor([[ 9.],\n",
      "        [11.],\n",
      "        [ 9.],\n",
      "        [26.],\n",
      "        [ 2.],\n",
      "        [ 4.],\n",
      "        [ 4.],\n",
      "        [ 3.],\n",
      "        [23.],\n",
      "        [23.]], device='cuda:0')\n",
      "tensor([9, 4, 4, 4, 4])\n"
     ]
    }
   ],
   "source": [
    "print(seq[3000%2048-1])\n",
    "print(label[3000:3005])"
   ]
  },
  {
   "cell_type": "code",
   "execution_count": 23,
   "metadata": {},
   "outputs": [
    {
     "name": "stdout",
     "output_type": "stream",
     "text": [
      "Finished Training\n"
     ]
    }
   ],
   "source": [
    "if not os.path.isdir(model_dir):\n",
    "    os.makedirs(model_dir)\n",
    "torch.save(model.state_dict(), model_dir + '/' + log + '.pt')\n",
    "# writer.close()\n",
    "print('Finished Training')"
   ]
  },
  {
   "cell_type": "code",
   "execution_count": 9,
   "metadata": {},
   "outputs": [],
   "source": [
    "def generate_test_data(name,window_size=10):\n",
    "    hdfs = set()\n",
    "    # hdfs = []\n",
    "    with open('data/' + name, 'r') as f:\n",
    "        for ln in f.readlines():\n",
    "            ln = [0]+list(map(lambda n: n, map(int, ln.strip().split())))+[30]\n",
    "            ln = ln + [-1] * (window_size + 1 - len(ln))\n",
    "            hdfs.add(tuple(ln))\n",
    "            # hdfs.append(tuple(ln))\n",
    "    session_to_seq = []\n",
    "    seqs = []\n",
    "    labels = []\n",
    "    seq_count = 0\n",
    "    for line in tqdm(hdfs, \"normal:\"):\n",
    "        session = []\n",
    "        for i in range(len(line) - window_size):\n",
    "            seq = line[i:i + window_size]\n",
    "            label = line[i + window_size]\n",
    "            seqs.append(seq)\n",
    "            session.append(seq_count)\n",
    "            labels.append(label)\n",
    "            seq_count += 1\n",
    "        session_to_seq.append(session)\n",
    "    print('Number of sessions({}): {}'.format(name, len(session_to_seq)))\n",
    "    print('Number of seqs({}): {}'.format(name, len(seqs)))\n",
    "    dataset = TensorDataset(torch.tensor(seqs, dtype=torch.float), torch.tensor(labels))\n",
    "\n",
    "    # print('Number of sessions({}): {}'.format(name, len(hdfs)))\n",
    "    return session_to_seq, dataset, seqs,labels"
   ]
  },
  {
   "cell_type": "code",
   "execution_count": 10,
   "metadata": {},
   "outputs": [],
   "source": [
    "# fast predict\n",
    "def fast_predict(model,normal_dataloader,abnormal_dataloader,num_candidates=5,window_size=10):\n",
    "    TP = 0\n",
    "    FP = 0\n",
    "    # Test the model\n",
    "    start_time = time.time()\n",
    "    test_normal_result = []\n",
    "    test_abnormal_result = []\n",
    "    with torch.no_grad():\n",
    "        result = []\n",
    "        with torch.no_grad():\n",
    "            for step, (seq, labels) in tqdm(enumerate(normal_dataloader), desc='normal'):\n",
    "                seq = seq.clone().detach().view(-1, window_size, input_size).to(device)\n",
    "                output = model(seq).cpu()\n",
    "\n",
    "                predicted = torch.argsort(output[:,-1,:], 1)[:,-num_candidates:]\n",
    "                for i, label in enumerate(labels):\n",
    "                    if label not in predicted[i]:\n",
    "                        test_normal_result.append(True)\n",
    "                    else:\n",
    "                        test_normal_result.append(False)\n",
    "    for session in test_normal_session:\n",
    "        for seq_id in session:\n",
    "            if test_normal_result[seq_id] == True:\n",
    "                FP += 1\n",
    "                break\n",
    "\n",
    "    with torch.no_grad():\n",
    "        for step, (seq, labels) in tqdm(enumerate(abnormal_dataloader), desc='abnormal'):\n",
    "            seq = seq.clone().detach().view(-1, window_size, input_size).to(device)\n",
    "            output = model(seq).cpu()\n",
    "\n",
    "            predicted = torch.argsort(output[:,-1,:], 1)[:,-num_candidates:]\n",
    "            for i, label in enumerate(labels):\n",
    "                if label not in predicted[i]:\n",
    "                    test_abnormal_result.append(True)\n",
    "                else:\n",
    "                    test_abnormal_result.append(False)\n",
    "        for session in test_abnormal_session:\n",
    "            for seq_id in session:\n",
    "                if test_abnormal_result[seq_id] == True:\n",
    "                    TP += 1\n",
    "                    break\n",
    "    elapsed_time = time.time() - start_time\n",
    "    print('elapsed_time: {:.3f}s'.format(elapsed_time))\n",
    "    # Compute precision, recall and F1-measure\n",
    "    FN = len(test_abnormal_session) - TP\n",
    "    P = 100 * TP / (TP + FP)\n",
    "    R = 100 * TP / (TP + FN)\n",
    "    F1 = 2 * P * R / (P + R)\n",
    "    print('false positive (FP): {}, false negative (FN): {}, Precision: {:.3f}%, Recall: {:.3f}%, F1-measure: {:.3f}%'.format(FP, FN, P, R, F1))\n",
    "    print('Finished Predicting')\n",
    "    return test_normal_result,test_abnormal_result"
   ]
  },
  {
   "cell_type": "code",
   "execution_count": 11,
   "metadata": {},
   "outputs": [
    {
     "name": "stderr",
     "output_type": "stream",
     "text": [
      "\n",
      "\n",
      "normal::   0%|                                                                               | 0/14177 [00:00<?, ?it/s]\u001b[A\u001b[A\n",
      "\n",
      "normal::  19%|████████████                                                     | 2637/14177 [00:00<00:00, 25125.06it/s]\u001b[A\u001b[A\n",
      "\n",
      "normal::  36%|███████████████████████▍                                         | 5109/14177 [00:00<00:00, 24788.66it/s]\u001b[A\u001b[A\n",
      "\n",
      "normal::  53%|██████████████████████████████████▏                              | 7459/14177 [00:00<00:00, 23846.68it/s]\u001b[A\u001b[A\n",
      "\n",
      "normal::  68%|████████████████████████████████████████████▍                    | 9691/14177 [00:00<00:00, 23319.12it/s]\u001b[A\u001b[A\n",
      "\n",
      "normal::  86%|███████████████████████████████████████████████████████▏        | 12213/14177 [00:00<00:00, 23376.58it/s]\u001b[A\u001b[A\n",
      "\n",
      "normal:: 100%|████████████████████████████████████████████████████████████████| 14177/14177 [00:00<00:00, 22235.86it/s]\u001b[A\u001b[A\n"
     ]
    },
    {
     "name": "stdout",
     "output_type": "stream",
     "text": [
      "Number of sessions(hdfs_test_normal): 14177\n",
      "Number of seqs(hdfs_test_normal): 269570\n"
     ]
    },
    {
     "name": "stderr",
     "output_type": "stream",
     "text": [
      "\n",
      "\n",
      "normal::   0%|                                                                                | 0/4123 [00:00<?, ?it/s]\u001b[A\u001b[A\n",
      "\n",
      "normal:: 100%|██████████████████████████████████████████████████████████████████| 4123/4123 [00:00<00:00, 20584.00it/s]\u001b[A\u001b[A"
     ]
    },
    {
     "name": "stdout",
     "output_type": "stream",
     "text": [
      "Number of sessions(hdfs_test_abnormal): 4123\n",
      "Number of seqs(hdfs_test_abnormal): 88410\n"
     ]
    },
    {
     "name": "stderr",
     "output_type": "stream",
     "text": [
      "\n"
     ]
    }
   ],
   "source": [
    "# model.load_state_dict(torch.load(model_dir + '/' + log + '.pt'))\n",
    "model.eval()\n",
    "batch_size = 10000\n",
    "window_size = 10\n",
    "test_normal_session, test_normal_dataset, test_normal_seq,test_normal_label = generate_test_data('hdfs_test_normal',window_size)\n",
    "normal_dataloader = DataLoader(test_normal_dataset, batch_size=batch_size, shuffle=False, pin_memory=True)\n",
    "test_abnormal_session, test_abnormal_dataset,test_abnormal_seq,test_abnormal_label = generate_test_data('hdfs_test_abnormal',window_size)\n",
    "abnormal_dataloader = DataLoader(test_abnormal_dataset, batch_size=batch_size, shuffle=False, pin_memory=True)\n"
   ]
  },
  {
   "cell_type": "code",
   "execution_count": 12,
   "metadata": {},
   "outputs": [
    {
     "name": "stderr",
     "output_type": "stream",
     "text": [
      "\n",
      "\n",
      "normal: 0it [00:00, ?it/s]\u001b[A\u001b[A\n",
      "\n",
      "normal: 1it [00:02,  2.21s/it]\u001b[A\u001b[A\n",
      "\n",
      "normal: 2it [00:03,  1.94s/it]\u001b[A\u001b[A\n",
      "\n",
      "normal: 3it [00:04,  1.75s/it]\u001b[A\u001b[A\n",
      "\n",
      "normal: 4it [00:06,  1.87s/it]\u001b[A\u001b[A\n",
      "\n",
      "normal: 5it [00:08,  1.72s/it]\u001b[A\u001b[A\n",
      "\n",
      "normal: 6it [00:10,  1.75s/it]\u001b[A\u001b[A\n",
      "\n",
      "normal: 7it [00:11,  1.66s/it]\u001b[A\u001b[A\n",
      "\n",
      "normal: 8it [00:13,  1.75s/it]\u001b[A\u001b[A\n",
      "\n",
      "normal: 9it [00:14,  1.65s/it]\u001b[A\u001b[A\n",
      "\n",
      "normal: 10it [00:16,  1.64s/it]\u001b[A\u001b[A\n",
      "\n",
      "normal: 11it [00:18,  1.70s/it]\u001b[A\u001b[A\n",
      "\n",
      "normal: 12it [00:19,  1.61s/it]\u001b[A\u001b[A\n",
      "\n",
      "normal: 13it [00:21,  1.68s/it]\u001b[A\u001b[A\n",
      "\n",
      "normal: 14it [00:22,  1.55s/it]\u001b[A\u001b[A\n",
      "\n",
      "normal: 15it [00:24,  1.62s/it]\u001b[A\u001b[A\n",
      "\n",
      "normal: 16it [00:26,  1.54s/it]\u001b[A\u001b[A\n",
      "\n",
      "normal: 17it [00:27,  1.49s/it]\u001b[A\u001b[A\n",
      "\n",
      "normal: 18it [00:29,  1.58s/it]\u001b[A\u001b[A\n",
      "\n",
      "normal: 19it [00:30,  1.47s/it]\u001b[A\u001b[A\n",
      "\n",
      "normal: 20it [00:32,  1.57s/it]\u001b[A\u001b[A\n",
      "\n",
      "normal: 21it [00:33,  1.49s/it]\u001b[A\u001b[A\n",
      "\n",
      "normal: 22it [00:35,  1.60s/it]\u001b[A\u001b[A\n",
      "\n",
      "normal: 23it [00:36,  1.52s/it]\u001b[A\u001b[A\n",
      "\n",
      "normal: 24it [00:38,  1.47s/it]\u001b[A\u001b[A\n",
      "\n",
      "normal: 25it [00:39,  1.55s/it]\u001b[A\u001b[A\n",
      "\n",
      "normal: 26it [00:41,  1.48s/it]\u001b[A\u001b[A\n",
      "\n",
      "normal: 27it [00:42,  1.59s/it]\u001b[A\u001b[A\n",
      "\n",
      "\n",
      "abnormal: 0it [00:00, ?it/s]\u001b[A\u001b[A\n",
      "\n",
      "abnormal: 1it [00:01,  1.33s/it]\u001b[A\u001b[A\n",
      "\n",
      "abnormal: 2it [00:03,  1.51s/it]\u001b[A\u001b[A\n",
      "\n",
      "abnormal: 3it [00:04,  1.52s/it]\u001b[A\u001b[A\n",
      "\n",
      "abnormal: 4it [00:06,  1.50s/it]\u001b[A\u001b[A\n",
      "\n",
      "abnormal: 5it [00:07,  1.57s/it]\u001b[A\u001b[A\n",
      "\n",
      "abnormal: 6it [00:09,  1.49s/it]\u001b[A\u001b[A\n",
      "\n",
      "abnormal: 7it [00:11,  1.59s/it]\u001b[A\u001b[A\n",
      "\n",
      "abnormal: 8it [00:12,  1.52s/it]\u001b[A\u001b[A\n",
      "\n",
      "abnormal: 9it [00:13,  1.51s/it]\u001b[A\u001b[A"
     ]
    },
    {
     "name": "stdout",
     "output_type": "stream",
     "text": [
      "elapsed_time: 56.581s\n",
      "false positive (FP): 320, false negative (FN): 1374, Precision: 89.573%, Recall: 66.675%, F1-measure: 76.446%\n",
      "Finished Predicting\n"
     ]
    },
    {
     "name": "stderr",
     "output_type": "stream",
     "text": [
      "\n"
     ]
    }
   ],
   "source": [
    "test_normal_result,test_abnormal_result = fast_predict(model,normal_dataloader,abnormal_dataloader,10,window_size)"
   ]
  },
  {
   "cell_type": "code",
   "execution_count": null,
   "metadata": {},
   "outputs": [],
   "source": [
    "test_normal_result,test_abnormal_result = fast_predict(model,normal_dataloader,abnormal_dataloader,10,window_size)"
   ]
  },
  {
   "cell_type": "code",
   "execution_count": 15,
   "metadata": {},
   "outputs": [],
   "source": [
    "with open('FP.txt','w') as f:\n",
    "    for i in range(len(test_normal_result)):\n",
    "        if test_normal_result[i]:\n",
    "            f.write(str(test_normal_seq[i])+'\\n')\n",
    "# test_normal_result[0]"
   ]
  },
  {
   "cell_type": "code",
   "execution_count": 18,
   "metadata": {},
   "outputs": [],
   "source": [
    "with open('FT.txt','w') as f:\n",
    "    for i in range(len(test_abnormal_result)):\n",
    "        if test_abnormal_result[i]:\n",
    "            f.write(str(test_abnormal_seq[i])+'\\n')\n",
    "# test_normal_result[0]"
   ]
  },
  {
   "cell_type": "code",
   "execution_count": 20,
   "metadata": {},
   "outputs": [],
   "source": [
    "with open('FT.txt','w') as f:\n",
    "    for session in test_abnormal_session:\n",
    "        for seq_id in session:\n",
    "            if test_abnormal_result[seq_id] == True:\n",
    "#                 TP += 1\n",
    "                f.write(str(test_abnormal_seq[seq_id])+'\\n')\n",
    "                break"
   ]
  },
  {
   "cell_type": "code",
   "execution_count": 13,
   "metadata": {},
   "outputs": [],
   "source": [
    "import gc\n",
    "gc.collect()\n",
    "torch.cuda.empty_cache()"
   ]
  },
  {
   "cell_type": "code",
   "execution_count": 5,
   "metadata": {},
   "outputs": [
    {
     "data": {
      "text/plain": [
       "Model(\n",
       "  (lstm): LSTM(1, 64, num_layers=2, batch_first=True)\n",
       "  (fc): Linear(in_features=64, out_features=32, bias=True)\n",
       ")"
      ]
     },
     "execution_count": 5,
     "metadata": {},
     "output_type": "execute_result"
    }
   ],
   "source": [
    "model.load_state_dict(torch.load(model_dir + '/' + log + '.pt'))\n",
    "model.to(device)\n",
    "model.eval()"
   ]
  },
  {
   "cell_type": "code",
   "execution_count": 6,
   "metadata": {},
   "outputs": [],
   "source": [
    "import random"
   ]
  },
  {
   "cell_type": "code",
   "execution_count": 10,
   "metadata": {},
   "outputs": [],
   "source": [
    "def generate_seq(start,window_size=10,num_candidates=5,scope=None):\n",
    "    if isinstance(start,list):\n",
    "        start = torch.FloatTensor(start).reshape(1,-1)\n",
    "    bg = start.size(1) \n",
    "    if scope==None:\n",
    "        scope=num_candidates\n",
    "    for i in range(bg,bg+window_size):\n",
    "#         start = torch.FloatTensor(start)\n",
    "        seq = start.clone().detach().view(-1, i, input_size).to(device)\n",
    "        output = model(seq).cpu()[:,-1,:]\n",
    "        output = output.reshape(-1)\n",
    "        predicted = torch.argsort(output)[-num_candidates:]\n",
    "        nxt = random.randint(1,scope)\n",
    "        start = torch.cat([start,predicted[-nxt].reshape(1,-1).float()],1)\n",
    "    return start,predicted,output"
   ]
  },
  {
   "cell_type": "code",
   "execution_count": 7,
   "metadata": {},
   "outputs": [],
   "source": [
    "softmax = nn.Softmax(dim=0)"
   ]
  },
  {
   "cell_type": "code",
   "execution_count": 8,
   "metadata": {},
   "outputs": [],
   "source": [
    "def showNext(t,num_candidates=10,ts=0.005):\n",
    "    _,predicted,output = generate_seq(t,1,num_candidates)\n",
    "    prob = softmax(output)\n",
    "    scope = 0\n",
    "    for i in range(num_candidates):\n",
    "        if prob[predicted[num_candidates-i-1]]<ts:\n",
    "            scope=num_candidates-i-1\n",
    "#             print(scope)\n",
    "            break\n",
    "            \n",
    "    #     print(t.int().cpu().numpy()[0])\n",
    "    predicted = predicted[scope+1:].cpu().numpy().tolist()\n",
    "    prob = prob[predicted].detach().cpu().numpy().tolist()\n",
    "    print(\"预测的序号排序:\",end=' ')\n",
    "    print(predicted)\n",
    "    print(\"对应的可能性:\",end=' ')\n",
    "    print(prob)\n",
    "    return predicted,prob"
   ]
  },
  {
   "cell_type": "code",
   "execution_count": 11,
   "metadata": {},
   "outputs": [
    {
     "name": "stdout",
     "output_type": "stream",
     "text": [
      "预测的序号排序: [5, 11, 30, 21]\n",
      "对应的可能性: [0.001603407901711762, 0.00365528860129416, 0.3520480692386627, 0.6404494643211365]\n"
     ]
    }
   ],
   "source": [
    "seq = [21]\n",
    "predicted,prob = showNext(seq,ts=0.001)"
   ]
  },
  {
   "cell_type": "code",
   "execution_count": null,
   "metadata": {},
   "outputs": [],
   "source": [
    "t = torch.FloatTensor([0]).reshape(1,-1)\n",
    "max_len = 60\n",
    "pattern = set()\n",
    "while t.size(1)<max_len:\n",
    "    t,predicted,output = generate_seq(t,1,3,1)\n",
    "    prob = softmax(output)\n",
    "    print(t.int().cpu().numpy()[0])\n",
    "    print(\"预测的序号排序:\",end=' ')\n",
    "    print(predicted)\n",
    "    print(\"对应的可能性:\",end=' ')\n",
    "    print(prob[predicted])\n",
    "    print()\n",
    "    if 30 in t[0]:\n",
    "        break\n",
    "print(t.int().cpu().numpy()[0])\n",
    "pattern.add(tuple(t.int().cpu().numpy()[0]))"
   ]
  },
  {
   "cell_type": "markdown",
   "metadata": {},
   "source": [
    "# 发现并发结构"
   ]
  },
  {
   "cell_type": "code",
   "execution_count": 40,
   "metadata": {},
   "outputs": [
    {
     "name": "stdout",
     "output_type": "stream",
     "text": [
      "预测的序号排序: [30, 9, 11, 23, 5, 21]\n",
      "对应的可能性: [0.006809363141655922, 0.011109961196780205, 0.032306522130966187, 0.10339812934398651, 0.13575124740600586, 0.6980828642845154]\n"
     ]
    }
   ],
   "source": [
    "seq = [21]\n",
    "pre_predict,prob = showNext(seq,ts=0.005)"
   ]
  },
  {
   "cell_type": "code",
   "execution_count": 162,
   "metadata": {},
   "outputs": [
    {
     "name": "stdout",
     "output_type": "stream",
     "text": [
      "预测的序号排序: [11, 5]\n",
      "对应的可能性: [0.0012148055247962475, 0.9984245300292969]\n",
      "预测的序号排序: [22, 5]\n",
      "对应的可能性: [0.24863998591899872, 0.7509623765945435]\n",
      "预测的序号排序: [22, 5]\n",
      "对应的可能性: [0.24863998591899872, 0.7509623765945435]\n"
     ]
    }
   ],
   "source": [
    "concorrent_set = set()\n",
    "for i,event in enumerate(pre_predict):\n",
    "    cur_seq = seq+[event]\n",
    "    cur_predicted,prob = showNext(cur_seq,ts=0.001)\n",
    "    for j in pre_predict[i+1:]:\n",
    "        pre1,_ = showNext(seq+[j])\n",
    "        if event in pre1 and j in cur_predicted:\n",
    "            concorrent_set.add(event)  \n",
    "            concorrent_set.add(j)   "
   ]
  },
  {
   "cell_type": "code",
   "execution_count": 163,
   "metadata": {},
   "outputs": [
    {
     "data": {
      "text/plain": [
       "{5, 22}"
      ]
     },
     "execution_count": 163,
     "metadata": {},
     "output_type": "execute_result"
    }
   ],
   "source": [
    "concorrent_set"
   ]
  },
  {
   "cell_type": "code",
   "execution_count": 102,
   "metadata": {},
   "outputs": [
    {
     "data": {
      "text/plain": [
       "[0, 5]"
      ]
     },
     "execution_count": 102,
     "metadata": {},
     "output_type": "execute_result"
    }
   ],
   "source": [
    "concorrent_set = list(concorrent_set)\n",
    "seq+[concorrent_set[0]]"
   ]
  },
  {
   "cell_type": "code",
   "execution_count": 131,
   "metadata": {},
   "outputs": [
    {
     "data": {
      "text/plain": [
       "set()"
      ]
     },
     "execution_count": 131,
     "metadata": {},
     "output_type": "execute_result"
    }
   ],
   "source": [
    "concorrent_set"
   ]
  },
  {
   "cell_type": "code",
   "execution_count": 160,
   "metadata": {},
   "outputs": [
    {
     "data": {
      "text/plain": [
       "[0, 5, 5, 5]"
      ]
     },
     "execution_count": 160,
     "metadata": {},
     "output_type": "execute_result"
    }
   ],
   "source": [
    "seq"
   ]
  },
  {
   "cell_type": "code",
   "execution_count": 166,
   "metadata": {},
   "outputs": [
    {
     "name": "stdout",
     "output_type": "stream",
     "text": [
      "[0, 5]\n",
      "预测的序号排序: [22, 5]\n",
      "对应的可能性: [0.24863998591899872, 0.7509623765945435]\n",
      "{5, 22}\n",
      "预测的序号排序: [22, 5]\n",
      "对应的可能性: [0.34808650612831116, 0.6518101096153259]\n",
      "预测的序号排序: [22]\n",
      "对应的可能性: [0.9969695210456848]\n",
      "[0, 22]\n",
      "预测的序号排序: [5]\n",
      "对应的可能性: [0.9984245300292969]\n",
      "{5}\n"
     ]
    }
   ],
   "source": [
    "concurrent_path = [i for i in seq]\n",
    "concurrent_path_list = []\n",
    "concorrent_tmp = list(concorrent_set)\n",
    "for i,event in enumerate(concorrent_tmp):\n",
    "    con_path = seq+[event]\n",
    "    print(con_path)\n",
    "    pre,_ = showNext(con_path)\n",
    "    pre = set(pre)\n",
    "    print(pre)\n",
    "    concorrent_set.remove(event)\n",
    "    while pre!=concorrent_set:\n",
    "        for j in concorrent_set:\n",
    "            pre.remove(j)\n",
    "        con_path = con_path+[pre.pop()]\n",
    "        pre,_ = showNext(con_path)\n",
    "        pre = set(pre)\n",
    "    concorrent_set.add(event)\n",
    "    concurrent_path.extend(con_path[len(seq):])"
   ]
  },
  {
   "cell_type": "code",
   "execution_count": 32,
   "metadata": {},
   "outputs": [],
   "source": [
    "def generate_train_data(name):\n",
    "    num_sessions = 0\n",
    "    inputs = []\n",
    "    outputs = []\n",
    "    sessions = []\n",
    "    with open(name, 'r') as f:\n",
    "        for line in tqdm(f,\"loading data\"):\n",
    "            num_sessions += 1\n",
    "            seq = [0]+list(map(lambda n: n, map(int, line.strip().split())))+[30]\n",
    "            sessions.append(seq)\n",
    "            line = tuple(seq)\n",
    "            \n",
    "            for i in range(len(line) - window_size):\n",
    "                inputs.append(line[i:i + window_size])\n",
    "                outputs.append(line[i + window_size])\n",
    "    print('Number of sessions({}): {}'.format(name, num_sessions))\n",
    "    print('Number of seqs({}): {}'.format(name, len(inputs)))\n",
    "    dataset = TensorDataset(torch.tensor(inputs, dtype=torch.float), torch.tensor(outputs))\n",
    "    return dataset,sessions"
   ]
  },
  {
   "cell_type": "code",
   "execution_count": 33,
   "metadata": {},
   "outputs": [
    {
     "name": "stderr",
     "output_type": "stream",
     "text": [
      "loading data: 4855it [00:00, 18530.29it/s]\n"
     ]
    },
    {
     "name": "stdout",
     "output_type": "stream",
     "text": [
      "Number of sessions(./data/hdfs_train): 4855\n",
      "Number of seqs(./data/hdfs_train): 56285\n"
     ]
    }
   ],
   "source": [
    "dataset,sessions = generate_train_data('./data/hdfs_train')"
   ]
  },
  {
   "cell_type": "code",
   "execution_count": 34,
   "metadata": {},
   "outputs": [
    {
     "name": "stdout",
     "output_type": "stream",
     "text": [
      "{0: 4855, 5: 4855, 9: 4855, 11: 4855, 21: 3976, 22: 4855, 23: 3960, 26: 4855, 30: 4855, 2: 721, 3: 1227, 4: 1153, 6: 17, 16: 17, 18: 17, 25: 17}\n",
      "{0: 1.0, 5: 1.0, 9: 1.0, 11: 1.0, 21: 0.8189495365602472, 22: 1.0, 23: 0.815653964984552, 26: 1.0, 30: 1.0, 2: 0.14850669412976314, 3: 0.25272914521112255, 4: 0.23748712667353244, 6: 0.003501544799176107, 16: 0.003501544799176107, 18: 0.003501544799176107, 25: 0.003501544799176107}\n"
     ]
    }
   ],
   "source": [
    "count_event = dict()\n",
    "for session in sessions:\n",
    "    event_set = list(set(session))\n",
    "    for event in event_set:\n",
    "        if event not in count_event:\n",
    "            count_event[event]=0\n",
    "        count_event[event]=count_event[event]+1\n",
    "print(count_event)\n",
    "for event in count_event:\n",
    "    count_event[event] = count_event[event]/len(sessions)\n",
    "print(count_event)"
   ]
  },
  {
   "cell_type": "code",
   "execution_count": 64,
   "metadata": {},
   "outputs": [],
   "source": [
    "def find_concurrent(seq):\n",
    "    concorrent_set = set()\n",
    "    concurrent_path_list= []\n",
    "    pre_predict,prob = showNext(seq,ts=0.01)\n",
    "    if seq[-1] in pre_predict:\n",
    "        pre_predict.remove(seq[-1])\n",
    "    if len(pre_predict)<2:\n",
    "        return concorrent_set\n",
    "    for i,event in enumerate(pre_predict):\n",
    "        cur_seq = seq+[event]\n",
    "        cur_predicted,prob = showNext(cur_seq,ts=0.01)\n",
    "        for j in pre_predict[i+1:] :\n",
    "            pre1,_ = showNext(seq+[j])\n",
    "            if event in pre1 and j in cur_predicted:\n",
    "                concorrent_set.add(event)  \n",
    "                concorrent_set.add(j) \n",
    "    concurrent_path = [i for i in seq]\n",
    "    concorrent_tmp = list(concorrent_set)\n",
    "    for i,event in enumerate(concorrent_tmp):\n",
    "        con_path = seq+[event]\n",
    "        print(con_path)\n",
    "        pre,_ = showNext(con_path)\n",
    "        pre = set(pre)\n",
    "        print(pre)\n",
    "        concorrent_set.remove(event)\n",
    "        while pre!=concorrent_set and not pre.issubset(concorrent_set):\n",
    "            for j in concorrent_set:\n",
    "                if j in pre:\n",
    "                    pre.remove(j)\n",
    "            con_path = con_path+[pre.pop()]\n",
    "            pre,_ = showNext(con_path)\n",
    "            pre = set(pre)\n",
    "        concorrent_set.add(event)\n",
    "        concurrent_path.extend(con_path[len(seq):])\n",
    "        concurrent_path_list.append(con_path)\n",
    "    merge,_ = showNext(concurrent_path)\n",
    "    return concorrent_set,merge,concurrent_path_list"
   ]
  },
  {
   "cell_type": "code",
   "execution_count": 62,
   "metadata": {},
   "outputs": [
    {
     "name": "stdout",
     "output_type": "stream",
     "text": [
      "预测的序号排序: [9, 26, 11]\n",
      "对应的可能性: [0.01762796938419342, 0.036271460354328156, 0.9450459480285645]\n"
     ]
    },
    {
     "data": {
      "text/plain": [
       "([9, 26, 11], [0.01762796938419342, 0.036271460354328156, 0.9450459480285645])"
      ]
     },
     "execution_count": 62,
     "metadata": {},
     "output_type": "execute_result"
    }
   ],
   "source": [
    "showNext([0,5,22,5,5])"
   ]
  },
  {
   "cell_type": "code",
   "execution_count": 65,
   "metadata": {},
   "outputs": [
    {
     "name": "stdout",
     "output_type": "stream",
     "text": [
      "预测的序号排序: [9, 26, 11]\n",
      "对应的可能性: [0.01762796938419342, 0.036271460354328156, 0.9450459480285645]\n",
      "预测的序号排序: [9, 26, 11]\n",
      "对应的可能性: [0.05149395763874054, 0.3727625012397766, 0.575558602809906]\n",
      "预测的序号排序: [9, 11, 26]\n",
      "对应的可能性: [0.006680076010525227, 0.4850876033306122, 0.5082016587257385]\n",
      "预测的序号排序: [11, 9]\n",
      "对应的可能性: [0.010778561234474182, 0.988262951374054]\n",
      "预测的序号排序: [11, 26]\n",
      "对应的可能性: [0.4850876033306122, 0.5082016587257385]\n",
      "预测的序号排序: [11, 9]\n",
      "对应的可能性: [0.010778561234474182, 0.988262951374054]\n",
      "预测的序号排序: [11, 9]\n",
      "对应的可能性: [0.010778561234474182, 0.988262951374054]\n",
      "[0, 5, 22, 5, 5, 9]\n",
      "预测的序号排序: [9, 26, 11]\n",
      "对应的可能性: [0.05149395763874054, 0.3727625012397766, 0.575558602809906]\n",
      "{9, 26, 11}\n",
      "预测的序号排序: [9, 26, 11]\n",
      "对应的可能性: [0.011504905298352242, 0.2595791518688202, 0.7285224199295044]\n",
      "预测的序号排序: [26, 11]\n",
      "对应的可能性: [0.09336795657873154, 0.9018100500106812]\n",
      "[0, 5, 22, 5, 5, 26]\n",
      "预测的序号排序: [9, 11, 26]\n",
      "对应的可能性: [0.006680076010525227, 0.4850876033306122, 0.5082016587257385]\n",
      "{9, 26, 11}\n",
      "预测的序号排序: [9, 11, 26]\n",
      "对应的可能性: [0.01052768062800169, 0.42368167638778687, 0.5647879838943481]\n",
      "预测的序号排序: [11]\n",
      "对应的可能性: [0.9955630302429199]\n",
      "[0, 5, 22, 5, 5, 11]\n",
      "预测的序号排序: [11, 9]\n",
      "对应的可能性: [0.010778561234474182, 0.988262951374054]\n",
      "{9, 11}\n",
      "预测的序号排序: [11, 9]\n",
      "对应的可能性: [0.005452172830700874, 0.99394291639328]\n",
      "预测的序号排序: [9]\n",
      "对应的可能性: [0.9999264478683472]\n",
      "预测的序号排序: [11, 9]\n",
      "对应的可能性: [0.11771351099014282, 0.8822327852249146]\n"
     ]
    },
    {
     "data": {
      "text/plain": [
       "({9, 11, 26},\n",
       " [11, 9],\n",
       " [[0, 5, 22, 5, 5, 9, 9, 9],\n",
       "  [0, 5, 22, 5, 5, 26, 26, 26],\n",
       "  [0, 5, 22, 5, 5, 11, 11, 11]])"
      ]
     },
     "execution_count": 65,
     "metadata": {},
     "output_type": "execute_result"
    }
   ],
   "source": [
    "find_concurrent([0,5,22,5,5])"
   ]
  },
  {
   "cell_type": "code",
   "execution_count": 177,
   "metadata": {},
   "outputs": [],
   "source": [
    "def find_loop(seq):\n",
    "    pass"
   ]
  },
  {
   "cell_type": "code",
   "execution_count": 178,
   "metadata": {},
   "outputs": [],
   "source": [
    "def find_branch(seq):\n",
    "    pass"
   ]
  },
  {
   "cell_type": "code",
   "execution_count": 68,
   "metadata": {},
   "outputs": [
    {
     "name": "stdout",
     "output_type": "stream",
     "text": [
      "预测的序号排序: [2, 3, 4, 30, 23]\n",
      "对应的可能性: [0.05369764193892479, 0.05526859685778618, 0.06050111725926399, 0.2377098798751831, 0.5877823829650879]\n",
      "预测的序号排序: [2, 4, 3, 30, 23]\n",
      "对应的可能性: [0.08384238183498383, 0.11713362485170364, 0.14755822718143463, 0.20119619369506836, 0.4497317969799042]\n",
      "预测的序号排序: [2, 23, 4, 3]\n",
      "对应的可能性: [0.028665073215961456, 0.033793333917856216, 0.3921320140361786, 0.5424069762229919]\n",
      "预测的序号排序: [4, 3]\n",
      "对应的可能性: [0.3911248743534088, 0.603672981262207]\n",
      "预测的序号排序: [25, 11, 4, 2, 3, 30, 23]\n",
      "对应的可能性: [0.005198594182729721, 0.020473534241318703, 0.05300910398364067, 0.08968948572874069, 0.1056489497423172, 0.34301844239234924, 0.3784100115299225]\n",
      "预测的序号排序: [23]\n",
      "对应的可能性: [0.9999033212661743]\n",
      "预测的序号排序: [2, 23, 4, 3]\n",
      "对应的可能性: [0.028665073215961456, 0.033793333917856216, 0.3921320140361786, 0.5424069762229919]\n",
      "预测的序号排序: [4, 3]\n",
      "对应的可能性: [0.3911248743534088, 0.603672981262207]\n",
      "预测的序号排序: [25, 11, 4, 2, 3, 30, 23]\n",
      "对应的可能性: [0.005198594182729721, 0.020473534241318703, 0.05300910398364067, 0.08968948572874069, 0.1056489497423172, 0.34301844239234924, 0.3784100115299225]\n",
      "预测的序号排序: [23]\n",
      "对应的可能性: [0.9999033212661743]\n",
      "预测的序号排序: [4, 3]\n",
      "对应的可能性: [0.3911248743534088, 0.603672981262207]\n",
      "预测的序号排序: [25, 11, 4, 2, 3, 30, 23]\n",
      "对应的可能性: [0.005198594182729721, 0.020473534241318703, 0.05300910398364067, 0.08968948572874069, 0.1056489497423172, 0.34301844239234924, 0.3784100115299225]\n",
      "预测的序号排序: [23]\n",
      "对应的可能性: [0.9999033212661743]\n",
      "预测的序号排序: [11, 4, 2, 3, 30, 23]\n",
      "对应的可能性: [0.020473534241318703, 0.05300910398364067, 0.08968948572874069, 0.1056489497423172, 0.34301844239234924, 0.3784100115299225]\n",
      "预测的序号排序: [23]\n",
      "对应的可能性: [0.9999033212661743]\n",
      "预测的序号排序: [23]\n",
      "对应的可能性: [0.9999033212661743]\n"
     ]
    }
   ],
   "source": [
    "seq = [11, 9, 11, 9, 11, 9, 26, 26, 26]\n",
    "concorrent_set = set()\n",
    "concurrent_path_list= []\n",
    "pre_predict,prob = showNext(seq,ts=0.01)\n",
    "if seq[-1] in pre_predict:\n",
    "    pre_predict.remove(seq[-1])\n",
    "for i,event in enumerate(pre_predict):\n",
    "    cur_seq = seq+[event]\n",
    "    cur_predicted,prob = showNext(cur_seq,ts=0.01)\n",
    "    for j in pre_predict[i+1:]:\n",
    "        pre1,_ = showNext(seq+[j])\n",
    "        if event in pre1 and j in cur_predicted:\n",
    "            concorrent_set.add(event)  \n",
    "            concorrent_set.add(j) \n",
    "concurrent_path = [i for i in seq]\n"
   ]
  },
  {
   "cell_type": "code",
   "execution_count": 70,
   "metadata": {},
   "outputs": [],
   "source": [
    "concorrent_set.remove(30)"
   ]
  },
  {
   "cell_type": "code",
   "execution_count": 71,
   "metadata": {},
   "outputs": [
    {
     "name": "stdout",
     "output_type": "stream",
     "text": [
      "cur_path: [11, 9, 11, 9, 11, 9, 26, 26, 26, 2]\n",
      "预测的序号排序: [2, 4, 3, 30, 23]\n",
      "对应的可能性: [0.08384238183498383, 0.11713362485170364, 0.14755822718143463, 0.20119619369506836, 0.4497317969799042]\n",
      "{2, 3, 4, 23, 30}\n",
      "预测的序号排序: [3, 23, 2, 4]\n",
      "对应的可能性: [0.02893654815852642, 0.045643649995326996, 0.38048607110977173, 0.5404440760612488]\n",
      "预测的序号排序: [18, 2, 3, 4]\n",
      "对应的可能性: [0.007617548108100891, 0.012384964153170586, 0.021838082000613213, 0.9568265080451965]\n",
      "预测的序号排序: [3, 2, 4, 23]\n",
      "对应的可能性: [0.005741815082728863, 0.0421714261174202, 0.08599156141281128, 0.8649125099182129]\n",
      "预测的序号排序: [3, 2, 23, 30, 4]\n",
      "对应的可能性: [0.0055436501279473305, 0.00710405083373189, 0.025522660464048386, 0.02755546011030674, 0.9339141249656677]\n",
      "预测的序号排序: [3, 30, 18, 23, 2, 4]\n",
      "对应的可能性: [0.00868134293705225, 0.008983652107417583, 0.011883899569511414, 0.03815518319606781, 0.3577229678630829, 0.5738712549209595]\n",
      "预测的序号排序: [18, 3, 23, 2, 4]\n",
      "对应的可能性: [0.005704065319150686, 0.009191661141812801, 0.015055007301270962, 0.01958266645669937, 0.9495834708213806]\n",
      "预测的序号排序: [2, 18, 4, 23]\n",
      "对应的可能性: [0.013128532096743584, 0.02498660236597061, 0.054221294820308685, 0.9073013663291931]\n",
      "预测的序号排序: [4, 23]\n",
      "对应的可能性: [0.019095493480563164, 0.9788797497749329]\n",
      "预测的序号排序: [23]\n",
      "对应的可能性: [0.9995055198669434]\n",
      "预测的序号排序: [23]\n",
      "对应的可能性: [0.999891996383667]\n",
      "预测的序号排序: [21]\n",
      "对应的可能性: [0.9998443126678467]\n",
      "预测的序号排序: [21]\n",
      "对应的可能性: [0.9999816417694092]\n",
      "预测的序号排序: [21]\n",
      "对应的可能性: [0.9999932050704956]\n",
      "预测的序号排序: [30]\n",
      "对应的可能性: [0.998325526714325]\n",
      "预测的序号排序: [3, 4, 18, 30]\n",
      "对应的可能性: [0.03942875936627388, 0.1735563725233078, 0.2083381712436676, 0.5725992321968079]\n",
      "预测的序号排序: [2, 3, 21, 4, 30]\n",
      "对应的可能性: [0.005623016506433487, 0.008762416429817677, 0.01192927360534668, 0.036696914583444595, 0.9316409826278687]\n",
      "预测的序号排序: [4, 30]\n",
      "对应的可能性: [0.019074542447924614, 0.9741909503936768]\n",
      "预测的序号排序: [23, 2, 3, 18, 30, 4]\n",
      "对应的可能性: [0.006866574287414551, 0.01706600748002529, 0.021932097151875496, 0.1531936079263687, 0.3482189476490021, 0.45140212774276733]\n",
      "预测的序号排序: [3, 21, 4, 30]\n",
      "对应的可能性: [0.010181845165789127, 0.010758566670119762, 0.2683669328689575, 0.7086174488067627]\n",
      "预测的序号排序: [3, 2, 23, 4, 21, 30]\n",
      "对应的可能性: [0.0062728151679039, 0.00634329579770565, 0.03063088282942772, 0.06785331666469574, 0.27090373635292053, 0.6074414253234863]\n",
      "预测的序号排序: [23, 4, 30, 21]\n",
      "对应的可能性: [0.005837284028530121, 0.05676602944731712, 0.18726395070552826, 0.7382946014404297]\n",
      "预测的序号排序: [30, 21]\n",
      "对应的可能性: [0.007736662402749062, 0.9859523773193359]\n",
      "预测的序号排序: [2, 3, 30, 4, 21]\n",
      "对应的可能性: [0.008809385821223259, 0.01956021413207054, 0.14663608372211456, 0.15434318780899048, 0.6629800200462341]\n",
      "预测的序号排序: [2, 5, 18, 4, 30, 21]\n",
      "对应的可能性: [0.00779629684984684, 0.00889184232801199, 0.018046079203486443, 0.05516044422984123, 0.20486463606357574, 0.6956866383552551]\n",
      "预测的序号排序: [5, 4, 30, 2, 21]\n",
      "对应的可能性: [0.012609760276973248, 0.021450037136673927, 0.04507506638765335, 0.05480291321873665, 0.8567529916763306]\n",
      "预测的序号排序: [23, 3, 30, 4, 2, 21]\n",
      "对应的可能性: [0.006675768177956343, 0.009798450395464897, 0.041601140052080154, 0.04746570065617561, 0.09779588133096695, 0.7956764101982117]\n",
      "预测的序号排序: [2, 23, 21, 4]\n",
      "对应的可能性: [0.011246743611991405, 0.01272223237901926, 0.02246544510126114, 0.9474055171012878]\n",
      "预测的序号排序: [4]\n",
      "对应的可能性: [0.9967002272605896]\n",
      "cur_path: [11, 9, 11, 9, 11, 9, 26, 26, 26, 3]\n",
      "预测的序号排序: [2, 23, 4, 3]\n",
      "对应的可能性: [0.028665073215961456, 0.033793333917856216, 0.3921320140361786, 0.5424069762229919]\n",
      "{2, 3, 4, 23}\n",
      "预测的序号排序: [3, 4]\n",
      "对应的可能性: [0.05723165348172188, 0.9396388530731201]\n",
      "预测的序号排序: [2, 4, 3]\n",
      "对应的可能性: [0.008985817432403564, 0.02474359981715679, 0.9641883373260498]\n",
      "预测的序号排序: [2, 4, 3, 23]\n",
      "对应的可能性: [0.005513741169124842, 0.007389573380351067, 0.04789116978645325, 0.9391935467720032]\n",
      "预测的序号排序: [4, 23, 3]\n",
      "对应的可能性: [0.011197956278920174, 0.2015584111213684, 0.7865447402000427]\n",
      "预测的序号排序: [3, 23]\n",
      "对应的可能性: [0.34444907307624817, 0.6529136896133423]\n",
      "预测的序号排序: [3, 23]\n",
      "对应的可能性: [0.06904218345880508, 0.9282719492912292]\n",
      "预测的序号排序: [3, 4, 23]\n",
      "对应的可能性: [0.010417643003165722, 0.01253719162195921, 0.9762858152389526]\n",
      "预测的序号排序: [23]\n",
      "对应的可能性: [0.9993910789489746]\n",
      "预测的序号排序: [23]\n",
      "对应的可能性: [0.9976221919059753]\n",
      "预测的序号排序: [23]\n",
      "对应的可能性: [0.9999479055404663]\n",
      "预测的序号排序: [21]\n",
      "对应的可能性: [0.9998015761375427]\n",
      "预测的序号排序: [21]\n",
      "对应的可能性: [0.999931812286377]\n",
      "预测的序号排序: [21]\n",
      "对应的可能性: [0.9999592304229736]\n",
      "预测的序号排序: [30]\n",
      "对应的可能性: [0.9963514804840088]\n",
      "预测的序号排序: [2, 18, 3, 4, 30]\n",
      "对应的可能性: [0.00571221811696887, 0.014622127637267113, 0.06510543823242188, 0.21373100578784943, 0.6989114880561829]\n",
      "预测的序号排序: [3, 2, 30, 4]\n",
      "对应的可能性: [0.022189704701304436, 0.12549959123134613, 0.3935840129852295, 0.45703551173210144]\n",
      "预测的序号排序: [21, 30, 23, 3, 2, 4]\n",
      "对应的可能性: [0.00842136237770319, 0.010184495709836483, 0.02014116384088993, 0.06677945703268051, 0.16932342946529388, 0.7235414981842041]\n",
      "预测的序号排序: [30, 4, 3]\n",
      "对应的可能性: [0.0051975734531879425, 0.051138728857040405, 0.9430044293403625]\n",
      "预测的序号排序: [4, 3]\n",
      "对应的可能性: [0.010345328599214554, 0.988304615020752]\n",
      "预测的序号排序: [4, 3]\n",
      "对应的可能性: [0.045896828174591064, 0.9494317173957825]\n",
      "预测的序号排序: [5, 30, 3, 4]\n",
      "对应的可能性: [0.022048724815249443, 0.027344314381480217, 0.4088149070739746, 0.5367762446403503]\n",
      "预测的序号排序: [23, 30, 2, 3, 4, 5]\n",
      "对应的可能性: [0.006485631689429283, 0.019115673378109932, 0.030731936916708946, 0.0449044406414032, 0.3242069482803345, 0.5737043023109436]\n",
      "预测的序号排序: [23, 2, 30, 3, 4, 5]\n",
      "对应的可能性: [0.012170854955911636, 0.02392120473086834, 0.04945551976561546, 0.09893377870321274, 0.29539620876312256, 0.5167458653450012]\n",
      "预测的序号排序: [2, 23, 30, 3, 4, 5]\n",
      "对应的可能性: [0.006650746800005436, 0.011016147211194038, 0.028872491791844368, 0.049674078822135925, 0.18913602828979492, 0.7129367589950562]\n",
      "预测的序号排序: [23, 30, 3, 4, 5]\n",
      "对应的可能性: [0.008628626354038715, 0.015088808722794056, 0.04772743955254555, 0.327932208776474, 0.5953565239906311]\n",
      "预测的序号排序: [30, 3, 4, 5]\n",
      "对应的可能性: [0.012916608713567257, 0.07237837463617325, 0.18786309659481049, 0.7230996489524841]\n",
      "预测的序号排序: [30, 4, 5, 3]\n",
      "对应的可能性: [0.06367780268192291, 0.23200367391109467, 0.30228495597839355, 0.40055572986602783]\n",
      "预测的序号排序: [30, 3, 4]\n",
      "对应的可能性: [0.02273833565413952, 0.477275550365448, 0.495745450258255]\n",
      "预测的序号排序: [30, 4, 3]\n",
      "对应的可能性: [0.07713951170444489, 0.1387600600719452, 0.7839789986610413]\n",
      "预测的序号排序: [4, 30, 3]\n",
      "对应的可能性: [0.03915663808584213, 0.08477457612752914, 0.8759362101554871]\n",
      "预测的序号排序: [4, 30, 3]\n",
      "对应的可能性: [0.04601970687508583, 0.05762863531708717, 0.896170437335968]\n",
      "预测的序号排序: [4, 30, 3]\n",
      "对应的可能性: [0.04661156237125397, 0.08194295316934586, 0.871296763420105]\n",
      "预测的序号排序: [4, 30, 3]\n",
      "对应的可能性: [0.02799054980278015, 0.1150050163269043, 0.8568821549415588]\n",
      "预测的序号排序: [4, 30, 3]\n",
      "对应的可能性: [0.01810617744922638, 0.10459936410188675, 0.8771756291389465]\n",
      "预测的序号排序: [4, 30, 3]\n",
      "对应的可能性: [0.008143623359501362, 0.06712259352207184, 0.9246514439582825]\n",
      "预测的序号排序: [30, 3]\n",
      "对应的可能性: [0.03498915210366249, 0.9621990323066711]\n",
      "预测的序号排序: [30, 3]\n",
      "对应的可能性: [0.02553846873342991, 0.9726535677909851]\n",
      "预测的序号排序: [30, 3]\n",
      "对应的可能性: [0.02475988306105137, 0.9734997153282166]\n",
      "预测的序号排序: [30, 3]\n",
      "对应的可能性: [0.044680334627628326, 0.9505248665809631]\n",
      "预测的序号排序: [4, 30, 5, 3]\n",
      "对应的可能性: [0.008765183389186859, 0.07012641429901123, 0.1178184226155281, 0.7999925017356873]\n",
      "预测的序号排序: [23, 2, 30, 4, 3, 5]\n",
      "对应的可能性: [0.00504722073674202, 0.011009513400495052, 0.045996662229299545, 0.1549965888261795, 0.33727332949638367, 0.4438167214393616]\n",
      "预测的序号排序: [2, 30, 5, 3, 4]\n",
      "对应的可能性: [0.012221945449709892, 0.0442110151052475, 0.19669261574745178, 0.2124273180961609, 0.5273504853248596]\n",
      "预测的序号排序: [30, 5, 3, 4]\n",
      "对应的可能性: [0.029601501300930977, 0.08416967839002609, 0.31003400683403015, 0.5711100697517395]\n",
      "预测的序号排序: [30, 4, 3]\n",
      "对应的可能性: [0.014999178238213062, 0.3674616813659668, 0.6156748533248901]\n",
      "预测的序号排序: [30, 3, 4]\n",
      "对应的可能性: [0.01395182590931654, 0.44839543104171753, 0.5374042391777039]\n",
      "预测的序号排序: [30, 3, 4]\n",
      "对应的可能性: [0.02068977989256382, 0.3479228615760803, 0.6312428116798401]\n",
      "预测的序号排序: [4, 30, 3]\n",
      "对应的可能性: [0.13998402655124664, 0.1486446112394333, 0.7109890580177307]\n",
      "预测的序号排序: [4, 30, 3]\n",
      "对应的可能性: [0.045546405017375946, 0.09399484843015671, 0.8600494265556335]\n",
      "预测的序号排序: [4, 30, 3]\n",
      "对应的可能性: [0.017169613391160965, 0.06753462553024292, 0.9150301218032837]\n",
      "预测的序号排序: [4, 30, 3]\n",
      "对应的可能性: [0.006135172210633755, 0.0385579876601696, 0.9552350044250488]\n",
      "预测的序号排序: [30, 3]\n",
      "对应的可能性: [0.03298688307404518, 0.9626032710075378]\n",
      "预测的序号排序: [4, 30, 3]\n",
      "对应的可能性: [0.005321643315255642, 0.03322834521532059, 0.9613625407218933]\n",
      "预测的序号排序: [4, 30, 3]\n",
      "对应的可能性: [0.006758940406143665, 0.02395036816596985, 0.9691721796989441]\n",
      "预测的序号排序: [4, 30, 3]\n",
      "对应的可能性: [0.00857942271977663, 0.010702455416321754, 0.9805599451065063]\n",
      "预测的序号排序: [4, 30, 3]\n",
      "对应的可能性: [0.00844899844378233, 0.008603536523878574, 0.9825941920280457]\n",
      "预测的序号排序: [30, 4, 3]\n",
      "对应的可能性: [0.008828659541904926, 0.01059034001082182, 0.979026198387146]\n"
     ]
    },
    {
     "name": "stdout",
     "output_type": "stream",
     "text": [
      "预测的序号排序: [6, 23, 30, 5, 4, 3]\n",
      "对应的可能性: [0.008524603210389614, 0.011513873934745789, 0.013502707704901695, 0.013898352161049843, 0.022668810561299324, 0.9280903935432434]\n",
      "预测的序号排序: [4, 3, 23, 5]\n",
      "对应的可能性: [0.011033434420824051, 0.12491286545991898, 0.35380470752716064, 0.5010837316513062]\n",
      "预测的序号排序: [3, 23, 5]\n",
      "对应的可能性: [0.024538634344935417, 0.10347607731819153, 0.8638625144958496]\n",
      "预测的序号排序: [2, 23, 4, 3, 5]\n",
      "对应的可能性: [0.01334332674741745, 0.014628302305936813, 0.05419773980975151, 0.1446402221918106, 0.7704848051071167]\n",
      "预测的序号排序: [30, 2, 4, 3]\n",
      "对应的可能性: [0.005858671385794878, 0.008532148785889149, 0.3840721547603607, 0.5989634990692139]\n",
      "预测的序号排序: [30, 4, 3]\n",
      "对应的可能性: [0.005984411109238863, 0.47227945923805237, 0.5205335021018982]\n",
      "预测的序号排序: [30, 3, 4]\n",
      "对应的可能性: [0.008617321960628033, 0.2426387071609497, 0.7486110329627991]\n",
      "预测的序号排序: [30, 4, 3]\n",
      "对应的可能性: [0.13855521380901337, 0.2444543093442917, 0.6167486906051636]\n",
      "预测的序号排序: [4, 30, 3]\n",
      "对应的可能性: [0.06648334860801697, 0.09203603118658066, 0.8411422967910767]\n",
      "预测的序号排序: [4, 30, 3]\n",
      "对应的可能性: [0.010167201049625874, 0.045257922261953354, 0.9443925023078918]\n",
      "预测的序号排序: [4, 30, 3]\n",
      "对应的可能性: [0.007243435364216566, 0.034548982977867126, 0.9580996632575989]\n",
      "预测的序号排序: [4, 30, 3]\n",
      "对应的可能性: [0.007084992714226246, 0.035900525748729706, 0.956903338432312]\n",
      "预测的序号排序: [4, 30, 3]\n",
      "对应的可能性: [0.010911677964031696, 0.021482793614268303, 0.9674912691116333]\n",
      "预测的序号排序: [30, 4, 3]\n",
      "对应的可能性: [0.009815020486712456, 0.013487612828612328, 0.976585328578949]\n",
      "预测的序号排序: [30, 4, 3]\n",
      "对应的可能性: [0.008024940267205238, 0.013205111026763916, 0.978615939617157]\n",
      "预测的序号排序: [30, 4, 3]\n",
      "对应的可能性: [0.006092664785683155, 0.012918470427393913, 0.9806573987007141]\n",
      "预测的序号排序: [4, 3]\n",
      "对应的可能性: [0.013602690771222115, 0.9804465770721436]\n",
      "预测的序号排序: [4, 6, 5, 23, 3]\n",
      "对应的可能性: [0.019830331206321716, 0.028588401153683662, 0.033478591591119766, 0.0357712022960186, 0.8752073049545288]\n",
      "预测的序号排序: [4, 30, 21, 2, 16, 6, 3, 5, 23]\n",
      "对应的可能性: [0.005073476582765579, 0.00529451435431838, 0.007511345203965902, 0.008400730788707733, 0.02071213349699974, 0.04391729086637497, 0.15813910961151123, 0.21667589247226715, 0.5341734886169434]\n",
      "预测的序号排序: [2, 3, 5, 23]\n",
      "对应的可能性: [0.014159428887069225, 0.02609400264918804, 0.07694542407989502, 0.8732215166091919]\n",
      "预测的序号排序: [16, 4, 5, 2, 3, 23]\n",
      "对应的可能性: [0.006595981772989035, 0.0110316788777709, 0.023908378556370735, 0.027366936206817627, 0.05835805460810661, 0.8692895174026489]\n",
      "预测的序号排序: [16, 21, 2, 23, 4, 3]\n",
      "对应的可能性: [0.017534654587507248, 0.02196146547794342, 0.04796099662780762, 0.1932230144739151, 0.2383582890033722, 0.47475460171699524]\n",
      "预测的序号排序: [2, 23, 3, 4]\n",
      "对应的可能性: [0.03347132354974747, 0.09660876542329788, 0.1824490875005722, 0.6794381737709045]\n",
      "预测的序号排序: [3, 4]\n",
      "对应的可能性: [0.014974999241530895, 0.9819748997688293]\n",
      "预测的序号排序: [3, 4]\n",
      "对应的可能性: [0.01990572176873684, 0.979334831237793]\n",
      "预测的序号排序: [30, 3, 4]\n",
      "对应的可能性: [0.03261663392186165, 0.2637849748134613, 0.7035534381866455]\n",
      "预测的序号排序: [30, 4, 3]\n",
      "对应的可能性: [0.030641360208392143, 0.4618334174156189, 0.50750732421875]\n",
      "预测的序号排序: [30, 3, 4]\n",
      "对应的可能性: [0.014601161703467369, 0.3167244493961334, 0.6685530543327332]\n",
      "预测的序号排序: [30, 3, 4]\n",
      "对应的可能性: [0.005384133197367191, 0.18387308716773987, 0.810076117515564]\n",
      "预测的序号排序: [30, 3, 4]\n",
      "对应的可能性: [0.009376214817166328, 0.42683401703834534, 0.5627255439758301]\n",
      "预测的序号排序: [30, 4, 3]\n",
      "对应的可能性: [0.02641698345541954, 0.17122948169708252, 0.8020326495170593]\n",
      "预测的序号排序: [30, 4, 3]\n",
      "对应的可能性: [0.010828027501702309, 0.08709601312875748, 0.9018393158912659]\n",
      "预测的序号排序: [4, 3]\n",
      "对应的可能性: [0.05478901043534279, 0.9417306780815125]\n",
      "预测的序号排序: [4, 3]\n",
      "对应的可能性: [0.029934708029031754, 0.9631407260894775]\n",
      "预测的序号排序: [5, 4, 23, 3]\n",
      "对应的可能性: [0.008228308521211147, 0.02017202042043209, 0.06425133347511292, 0.9010055065155029]\n",
      "预测的序号排序: [30, 21, 4, 6, 5, 23, 3]\n",
      "对应的可能性: [0.005846010055392981, 0.008757039904594421, 0.013183500617742538, 0.03100401721894741, 0.062182340770959854, 0.4072941839694977, 0.4626339375972748]\n",
      "预测的序号排序: [6, 2, 5, 3, 23]\n",
      "对应的可能性: [0.00578698143362999, 0.01197092141956091, 0.028192954137921333, 0.07558556646108627, 0.8639917373657227]\n",
      "预测的序号排序: [2, 5, 3, 23]\n",
      "对应的可能性: [0.006923832464963198, 0.007026907056570053, 0.009622057899832726, 0.9707958102226257]\n",
      "预测的序号排序: [2, 3, 4, 23]\n",
      "对应的可能性: [0.016501592472195625, 0.020087923854589462, 0.0973995253443718, 0.8649936318397522]\n",
      "预测的序号排序: [2, 3, 23, 4]\n",
      "对应的可能性: [0.02558731660246849, 0.029061801731586456, 0.3132306933403015, 0.6319980025291443]\n",
      "预测的序号排序: [3, 4]\n",
      "对应的可能性: [0.006986638065427542, 0.9907020330429077]\n",
      "预测的序号排序: [4]\n",
      "对应的可能性: [0.998551070690155]\n",
      "cur_path: [11, 9, 11, 9, 11, 9, 26, 26, 26, 4]\n",
      "预测的序号排序: [4, 3]\n",
      "对应的可能性: [0.3911248743534088, 0.603672981262207]\n",
      "{3, 4}\n",
      "预测的序号排序: [4, 3]\n",
      "对应的可能性: [0.19623532891273499, 0.8022601008415222]\n",
      "预测的序号排序: [2, 3, 4]\n",
      "对应的可能性: [0.013563442043960094, 0.05625918507575989, 0.9287809133529663]\n",
      "预测的序号排序: [3, 4]\n",
      "对应的可能性: [0.08062784373760223, 0.9168902635574341]\n",
      "预测的序号排序: [22, 3, 4]\n",
      "对应的可能性: [0.007079803850501776, 0.07975717633962631, 0.9116946458816528]\n",
      "预测的序号排序: [26, 30, 2, 3, 4]\n",
      "对应的可能性: [0.007170105818659067, 0.010915691033005714, 0.012806651182472706, 0.020518947392702103, 0.9425241351127625]\n",
      "预测的序号排序: [3, 4]\n",
      "对应的可能性: [0.19845455884933472, 0.7892972230911255]\n",
      "预测的序号排序: [3, 4]\n",
      "对应的可能性: [0.0649709552526474, 0.9333444833755493]\n",
      "预测的序号排序: [3, 4]\n",
      "对应的可能性: [0.09849034994840622, 0.8972777128219604]\n",
      "预测的序号排序: [3, 4]\n",
      "对应的可能性: [0.1226150244474411, 0.8715001344680786]\n",
      "预测的序号排序: [3, 4]\n",
      "对应的可能性: [0.1030326634645462, 0.8910711407661438]\n",
      "预测的序号排序: [3, 4]\n",
      "对应的可能性: [0.09558186680078506, 0.8991763591766357]\n",
      "预测的序号排序: [3, 4]\n",
      "对应的可能性: [0.08242430537939072, 0.9141371846199036]\n",
      "预测的序号排序: [3, 4]\n",
      "对应的可能性: [0.06651920825242996, 0.931425929069519]\n",
      "预测的序号排序: [3, 4]\n",
      "对应的可能性: [0.05169140547513962, 0.9471219778060913]\n",
      "预测的序号排序: [3, 4]\n",
      "对应的可能性: [0.03974257409572601, 0.9595715403556824]\n",
      "预测的序号排序: [3, 4]\n",
      "对应的可能性: [0.03092830255627632, 0.968659520149231]\n",
      "预测的序号排序: [3, 4]\n",
      "对应的可能性: [0.024873821064829826, 0.974862813949585]\n",
      "预测的序号排序: [3, 4]\n",
      "对应的可能性: [0.021197043359279633, 0.9786222577095032]\n",
      "预测的序号排序: [3, 4]\n",
      "对应的可能性: [0.01973673887550831, 0.9801295399665833]\n",
      "预测的序号排序: [3, 4]\n",
      "对应的可能性: [0.020442910492420197, 0.9794501066207886]\n",
      "预测的序号排序: [3, 4]\n",
      "对应的可能性: [0.022939983755350113, 0.9769680500030518]\n",
      "预测的序号排序: [3, 4]\n",
      "对应的可能性: [0.026282593607902527, 0.9736337065696716]\n",
      "预测的序号排序: [3, 4]\n",
      "对应的可能性: [0.029548395425081253, 0.9703724980354309]\n",
      "预测的序号排序: [3, 4]\n",
      "对应的可能性: [0.03237054497003555, 0.967552661895752]\n",
      "预测的序号排序: [3, 4]\n",
      "对应的可能性: [0.034758664667606354, 0.9651654362678528]\n",
      "预测的序号排序: [3, 4]\n",
      "对应的可能性: [0.0367981381714344, 0.9631261229515076]\n",
      "预测的序号排序: [3, 4]\n",
      "对应的可能性: [0.038533538579940796, 0.9613900780677795]\n",
      "预测的序号排序: [3, 4]\n",
      "对应的可能性: [0.039990510791540146, 0.9599324464797974]\n",
      "预测的序号排序: [3, 4]\n",
      "对应的可能性: [0.04119877144694328, 0.9587231278419495]\n",
      "预测的序号排序: [3, 4]\n",
      "对应的可能性: [0.04218257963657379, 0.9577382206916809]\n",
      "预测的序号排序: [3, 4]\n",
      "对应的可能性: [0.04295388236641884, 0.9569656848907471]\n",
      "预测的序号排序: [3, 4]\n",
      "对应的可能性: [0.04351591691374779, 0.956402063369751]\n",
      "预测的序号排序: [3, 4]\n",
      "对应的可能性: [0.043867770582437515, 0.9560485482215881]\n",
      "预测的序号排序: [3, 4]\n",
      "对应的可能性: [0.0440109446644783, 0.9559033513069153]\n",
      "预测的序号排序: [3, 4]\n",
      "对应的可能性: [0.04395107179880142, 0.955961287021637]\n",
      "预测的序号排序: [3, 4]\n",
      "对应的可能性: [0.043700724840164185, 0.9562094211578369]\n",
      "预测的序号排序: [3, 4]\n",
      "对应的可能性: [0.04328003153204918, 0.9566279053688049]\n",
      "预测的序号排序: [3, 4]\n",
      "对应的可能性: [0.04271707311272621, 0.9571885466575623]\n",
      "预测的序号排序: [3, 4]\n",
      "对应的可能性: [0.04204477742314339, 0.9578587412834167]\n",
      "预测的序号排序: [3, 4]\n",
      "对应的可能性: [0.04130002111196518, 0.9586014151573181]\n",
      "预测的序号排序: [3, 4]\n",
      "对应的可能性: [0.04051915928721428, 0.9593803882598877]\n",
      "预测的序号排序: [3, 4]\n",
      "对应的可能性: [0.039734598249197006, 0.960163414478302]\n",
      "预测的序号排序: [3, 4]\n",
      "对应的可能性: [0.03897290676832199, 0.9609239101409912]\n",
      "预测的序号排序: [3, 4]\n",
      "对应的可能性: [0.038252852857112885, 0.9616432189941406]\n",
      "预测的序号排序: [3, 4]\n",
      "对应的可能性: [0.03758644312620163, 0.9623088836669922]\n",
      "预测的序号排序: [3, 4]\n",
      "对应的可能性: [0.036979079246520996, 0.9629160761833191]\n",
      "预测的序号排序: [3, 4]\n",
      "对应的可能性: [0.03643187880516052, 0.963463306427002]\n",
      "预测的序号排序: [3, 4]\n",
      "对应的可能性: [0.03594231605529785, 0.9639530777931213]\n",
      "预测的序号排序: [3, 4]\n",
      "对应的可能性: [0.03550641983747482, 0.9643893837928772]\n",
      "预测的序号排序: [3, 4]\n",
      "对应的可能性: [0.03511890023946762, 0.9647774696350098]\n",
      "预测的序号排序: [3, 4]\n",
      "对应的可能性: [0.03477458655834198, 0.9651223421096802]\n",
      "预测的序号排序: [3, 4]\n",
      "对应的可能性: [0.03446817398071289, 0.9654296040534973]\n",
      "预测的序号排序: [3, 4]\n",
      "对应的可能性: [0.0341949425637722, 0.9657036662101746]\n",
      "预测的序号排序: [3, 4]\n",
      "对应的可能性: [0.03395027667284012, 0.9659490585327148]\n",
      "预测的序号排序: [3, 4]\n",
      "对应的可能性: [0.033730603754520416, 0.9661694765090942]\n",
      "预测的序号排序: [3, 4]\n",
      "对应的可能性: [0.03353242203593254, 0.9663684964179993]\n"
     ]
    },
    {
     "name": "stdout",
     "output_type": "stream",
     "text": [
      "预测的序号排序: [3, 4]\n",
      "对应的可能性: [0.033352818340063095, 0.9665488600730896]\n",
      "预测的序号排序: [3, 4]\n",
      "对应的可能性: [0.033189352601766586, 0.9667131304740906]\n",
      "预测的序号排序: [3, 4]\n",
      "对应的可能性: [0.03303997591137886, 0.9668632745742798]\n",
      "预测的序号排序: [3, 4]\n",
      "对应的可能性: [0.032902851700782776, 0.9670009016990662]\n",
      "预测的序号排序: [3, 4]\n",
      "对应的可能性: [0.03277641162276268, 0.9671278595924377]\n",
      "预测的序号排序: [3, 4]\n",
      "对应的可能性: [0.032659418880939484, 0.9672455191612244]\n",
      "预测的序号排序: [3, 4]\n",
      "对应的可能性: [0.0325508750975132, 0.9673545956611633]\n",
      "预测的序号排序: [3, 4]\n",
      "对应的可能性: [0.03244968503713608, 0.9674562215805054]\n",
      "预测的序号排序: [3, 4]\n",
      "对应的可能性: [0.03235539793968201, 0.9675511121749878]\n",
      "预测的序号排序: [3, 4]\n",
      "对应的可能性: [0.032267119735479355, 0.9676398038864136]\n",
      "预测的序号排序: [3, 4]\n",
      "对应的可能性: [0.032184239476919174, 0.96772301197052]\n",
      "预测的序号排序: [3, 4]\n",
      "对应的可能性: [0.032106515020132065, 0.9678011536598206]\n",
      "预测的序号排序: [3, 4]\n",
      "对应的可能性: [0.032033346593379974, 0.9678747057914734]\n",
      "预测的序号排序: [3, 4]\n",
      "对应的可能性: [0.031964465975761414, 0.9679438471794128]\n",
      "预测的序号排序: [3, 4]\n",
      "对应的可能性: [0.031899593770504, 0.9680091142654419]\n",
      "预测的序号排序: [3, 4]\n",
      "对应的可能性: [0.031838398426771164, 0.9680705070495605]\n",
      "预测的序号排序: [3, 4]\n",
      "对应的可能性: [0.03178064152598381, 0.9681287407875061]\n",
      "预测的序号排序: [3, 4]\n",
      "对应的可能性: [0.03172602504491806, 0.9681835770606995]\n",
      "预测的序号排序: [3, 4]\n",
      "对应的可能性: [0.03167445585131645, 0.968235433101654]\n",
      "预测的序号排序: [3, 4]\n",
      "对应的可能性: [0.03162567690014839, 0.9682844281196594]\n",
      "预测的序号排序: [3, 4]\n",
      "对应的可能性: [0.031579628586769104, 0.9683306813240051]\n",
      "预测的序号排序: [3, 4]\n",
      "对应的可能性: [0.03153597563505173, 0.968374490737915]\n",
      "预测的序号排序: [3, 4]\n",
      "对应的可能性: [0.03149464726448059, 0.9684160947799683]\n",
      "预测的序号排序: [3, 4]\n",
      "对应的可能性: [0.031455639749765396, 0.9684553146362305]\n",
      "预测的序号排序: [3, 4]\n",
      "对应的可能性: [0.03141867741942406, 0.968492329120636]\n",
      "预测的序号排序: [3, 4]\n",
      "对应的可能性: [0.031383611261844635, 0.9685275554656982]\n",
      "预测的序号排序: [3, 4]\n",
      "对应的可能性: [0.031350474804639816, 0.9685609936714172]\n",
      "预测的序号排序: [3, 4]\n",
      "对应的可能性: [0.031319014728069305, 0.968592643737793]\n",
      "预测的序号排序: [3, 4]\n",
      "对应的可能性: [0.0312892310321331, 0.9686225056648254]\n",
      "预测的序号排序: [3, 4]\n",
      "对应的可能性: [0.03126097843050957, 0.9686509370803833]\n",
      "预测的序号排序: [3, 4]\n",
      "对应的可能性: [0.031234251335263252, 0.9686778783798218]\n",
      "预测的序号排序: [3, 4]\n",
      "对应的可能性: [0.031208842992782593, 0.9687033891677856]\n",
      "预测的序号排序: [3, 4]\n",
      "对应的可能性: [0.031184745952486992, 0.9687274098396301]\n",
      "预测的序号排序: [3, 4]\n",
      "对应的可能性: [0.031161854043602943, 0.9687504768371582]\n",
      "预测的序号排序: [3, 4]\n",
      "对应的可能性: [0.031140243634581566, 0.968772292137146]\n",
      "预测的序号排序: [3, 4]\n",
      "对应的可能性: [0.03111962229013443, 0.9687929749488831]\n",
      "预测的序号排序: [3, 4]\n",
      "对应的可能性: [0.031100193038582802, 0.9688124656677246]\n",
      "预测的序号排序: [3, 4]\n",
      "对应的可能性: [0.031081605702638626, 0.9688311219215393]\n",
      "预测的序号排序: [3, 4]\n",
      "对应的可能性: [0.031064040958881378, 0.9688489437103271]\n",
      "预测的序号排序: [3, 4]\n",
      "对应的可能性: [0.031047342345118523, 0.9688656330108643]\n",
      "预测的序号排序: [3, 4]\n",
      "对应的可能性: [0.03103150986135006, 0.9688816070556641]\n",
      "预测的序号排序: [3, 4]\n",
      "对应的可能性: [0.031016459688544273, 0.9688966274261475]\n",
      "预测的序号排序: [3, 4]\n",
      "对应的可能性: [0.03100225329399109, 0.9689110517501831]\n",
      "预测的序号排序: [3, 4]\n",
      "对应的可能性: [0.03098861686885357, 0.9689245820045471]\n",
      "预测的序号排序: [3, 4]\n",
      "对应的可能性: [0.0309757087379694, 0.9689376950263977]\n",
      "预测的序号排序: [3, 4]\n",
      "对应的可能性: [0.030963459983468056, 0.9689499735832214]\n",
      "预测的序号排序: [3, 4]\n",
      "对应的可能性: [0.0309518463909626, 0.9689616560935974]\n",
      "预测的序号排序: [3, 4]\n",
      "对应的可能性: [0.030940838158130646, 0.9689726829528809]\n",
      "预测的序号排序: [3, 4]\n",
      "对应的可能性: [0.0309302918612957, 0.9689833521842957]\n",
      "预测的序号排序: [3, 4]\n",
      "对应的可能性: [0.030920347198843956, 0.9689933061599731]\n",
      "预测的序号排序: [3, 4]\n",
      "对应的可能性: [0.030910862609744072, 0.9690028429031372]\n",
      "预测的序号排序: [3, 4]\n",
      "对应的可能性: [0.030901841819286346, 0.9690120220184326]\n",
      "预测的序号排序: [3, 4]\n",
      "对应的可能性: [0.030893269926309586, 0.9690204858779907]\n",
      "预测的序号排序: [3, 4]\n",
      "对应的可能性: [0.030885133892297745, 0.969028651714325]\n",
      "预测的序号排序: [3, 4]\n",
      "对应的可能性: [0.030877403914928436, 0.9690365195274353]\n",
      "预测的序号排序: [3, 4]\n",
      "对应的可能性: [0.030870044603943825, 0.9690439105033875]\n",
      "预测的序号排序: [3, 4]\n",
      "对应的可能性: [0.03086308017373085, 0.9690508246421814]\n",
      "预测的序号排序: [3, 4]\n",
      "对应的可能性: [0.03085644356906414, 0.9690576791763306]\n",
      "预测的序号排序: [3, 4]\n",
      "对应的可能性: [0.030850140377879143, 0.969063937664032]\n",
      "预测的序号排序: [3, 4]\n",
      "对应的可能性: [0.03084421157836914, 0.9690698981285095]\n",
      "预测的序号排序: [3, 4]\n",
      "对应的可能性: [0.030838478356599808, 0.9690755605697632]\n",
      "预测的序号排序: [3, 4]\n",
      "对应的可能性: [0.030833035707473755, 0.9690810441970825]\n",
      "预测的序号排序: [3, 4]\n",
      "对应的可能性: [0.03082791157066822, 0.9690863490104675]\n",
      "预测的序号排序: [3, 4]\n",
      "对应的可能性: [0.030823012813925743, 0.9690912365913391]\n",
      "预测的序号排序: [3, 4]\n",
      "对应的可能性: [0.030818425118923187, 0.9690958261489868]\n",
      "预测的序号排序: [3, 4]\n",
      "对应的可能性: [0.030813954770565033, 0.969100296497345]\n",
      "预测的序号排序: [3, 4]\n",
      "对应的可能性: [0.030809855088591576, 0.9691044688224792]\n",
      "预测的序号排序: [3, 4]\n",
      "对应的可能性: [0.030805813148617744, 0.9691085815429688]\n",
      "预测的序号排序: [3, 4]\n",
      "对应的可能性: [0.030802110210061073, 0.9691122770309448]\n",
      "预测的序号排序: [3, 4]\n",
      "对应的可能性: [0.030798468738794327, 0.9691159129142761]\n",
      "预测的序号排序: [3, 4]\n",
      "对应的可能性: [0.030795108526945114, 0.9691192507743835]\n",
      "预测的序号排序: [3, 4]\n",
      "对应的可能性: [0.030791806057095528, 0.969122588634491]\n",
      "预测的序号排序: [3, 4]\n",
      "对应的可能性: [0.030788647010922432, 0.9691257476806641]\n",
      "预测的序号排序: [3, 4]\n",
      "对应的可能性: [0.03078571707010269, 0.9691286683082581]\n",
      "预测的序号排序: [3, 4]\n",
      "对应的可能性: [0.03078298643231392, 0.9691314697265625]\n",
      "预测的序号排序: [3, 4]\n",
      "对应的可能性: [0.03078031726181507, 0.9691342711448669]\n",
      "预测的序号排序: [3, 4]\n",
      "对应的可能性: [0.030777810141444206, 0.9691367149353027]\n",
      "预测的序号排序: [3, 4]\n",
      "对应的可能性: [0.030775336548686028, 0.9691391587257385]\n",
      "预测的序号排序: [3, 4]\n",
      "对应的可能性: [0.030773036181926727, 0.9691415429115295]\n",
      "预测的序号排序: [3, 4]\n",
      "对应的可能性: [0.030770983546972275, 0.9691435694694519]\n",
      "预测的序号排序: [3, 4]\n",
      "对应的可能性: [0.030768880620598793, 0.969145655632019]\n",
      "预测的序号排序: [3, 4]\n",
      "对应的可能性: [0.030766919255256653, 0.9691476821899414]\n",
      "预测的序号排序: [3, 4]\n",
      "对应的可能性: [0.030765099450945854, 0.9691494703292847]\n",
      "预测的序号排序: [3, 4]\n",
      "对应的可能性: [0.03076336160302162, 0.9691511392593384]\n",
      "预测的序号排序: [3, 4]\n",
      "对应的可能性: [0.0307615976780653, 0.9691529273986816]\n",
      "预测的序号排序: [3, 4]\n",
      "对应的可能性: [0.03076009638607502, 0.9691545367240906]\n",
      "预测的序号排序: [3, 4]\n",
      "对应的可能性: [0.030758589506149292, 0.9691560864448547]\n",
      "预测的序号排序: [3, 4]\n",
      "对应的可能性: [0.030757170170545578, 0.9691575169563293]\n",
      "预测的序号排序: [3, 4]\n",
      "对应的可能性: [0.030755747109651566, 0.9691588878631592]\n",
      "预测的序号排序: [3, 4]\n",
      "对应的可能性: [0.030754584819078445, 0.9691601395606995]\n",
      "预测的序号排序: [3, 4]\n",
      "对应的可能性: [0.030753247439861298, 0.9691614508628845]\n",
      "预测的序号排序: [3, 4]\n",
      "对应的可能性: [0.03075208142399788, 0.9691625833511353]\n",
      "预测的序号排序: [3, 4]\n",
      "对应的可能性: [0.030751030892133713, 0.969163715839386]\n",
      "预测的序号排序: [3, 4]\n",
      "对应的可能性: [0.03074995055794716, 0.9691647291183472]\n",
      "预测的序号排序: [3, 4]\n",
      "对应的可能性: [0.03074898011982441, 0.9691656827926636]\n",
      "预测的序号排序: [3, 4]\n",
      "对应的可能性: [0.030748017132282257, 0.9691666960716248]\n",
      "预测的序号排序: [3, 4]\n",
      "对应的可能性: [0.030747048556804657, 0.9691675901412964]\n",
      "预测的序号排序: [3, 4]\n",
      "对应的可能性: [0.030746255069971085, 0.9691684246063232]\n",
      "预测的序号排序: [3, 4]\n",
      "对应的可能性: [0.03074531815946102, 0.9691693782806396]\n",
      "预测的序号排序: [3, 4]\n",
      "对应的可能性: [0.030744606629014015, 0.969170093536377]\n",
      "预测的序号排序: [3, 4]\n",
      "对应的可能性: [0.03074387088418007, 0.969170868396759]\n",
      "预测的序号排序: [3, 4]\n",
      "对应的可能性: [0.03074321523308754, 0.9691715240478516]\n",
      "预测的序号排序: [3, 4]\n",
      "对应的可能性: [0.030742503702640533, 0.9691721796989441]\n",
      "预测的序号排序: [3, 4]\n",
      "对应的可能性: [0.03074190579354763, 0.9691727757453918]\n",
      "预测的序号排序: [3, 4]\n",
      "对应的可能性: [0.0307412501424551, 0.9691734313964844]\n",
      "预测的序号排序: [3, 4]\n",
      "对应的可能性: [0.030740683898329735, 0.9691739678382874]\n",
      "预测的序号排序: [3, 4]\n",
      "对应的可能性: [0.030740229412913322, 0.9691744446754456]\n",
      "预测的序号排序: [3, 4]\n",
      "对应的可能性: [0.030739661306142807, 0.9691749811172485]\n",
      "预测的序号排序: [3, 4]\n",
      "对应的可能性: [0.030739180743694305, 0.9691755771636963]\n"
     ]
    },
    {
     "ename": "KeyboardInterrupt",
     "evalue": "",
     "output_type": "error",
     "traceback": [
      "\u001b[1;31m---------------------------------------------------------------------------\u001b[0m",
      "\u001b[1;31mKeyboardInterrupt\u001b[0m                         Traceback (most recent call last)",
      "\u001b[1;32m<ipython-input-71-d26054e4539b>\u001b[0m in \u001b[0;36m<module>\u001b[1;34m\u001b[0m\n\u001b[0;32m     12\u001b[0m                 \u001b[0mpre\u001b[0m\u001b[1;33m.\u001b[0m\u001b[0mremove\u001b[0m\u001b[1;33m(\u001b[0m\u001b[0mj\u001b[0m\u001b[1;33m)\u001b[0m\u001b[1;33m\u001b[0m\u001b[1;33m\u001b[0m\u001b[0m\n\u001b[0;32m     13\u001b[0m         \u001b[0mcon_path\u001b[0m \u001b[1;33m=\u001b[0m \u001b[0mcon_path\u001b[0m\u001b[1;33m+\u001b[0m\u001b[1;33m[\u001b[0m\u001b[0mpre\u001b[0m\u001b[1;33m.\u001b[0m\u001b[0mpop\u001b[0m\u001b[1;33m(\u001b[0m\u001b[1;33m)\u001b[0m\u001b[1;33m]\u001b[0m\u001b[1;33m\u001b[0m\u001b[1;33m\u001b[0m\u001b[0m\n\u001b[1;32m---> 14\u001b[1;33m         \u001b[0mpre\u001b[0m\u001b[1;33m,\u001b[0m\u001b[0m_\u001b[0m \u001b[1;33m=\u001b[0m \u001b[0mshowNext\u001b[0m\u001b[1;33m(\u001b[0m\u001b[0mcon_path\u001b[0m\u001b[1;33m)\u001b[0m\u001b[1;33m\u001b[0m\u001b[1;33m\u001b[0m\u001b[0m\n\u001b[0m\u001b[0;32m     15\u001b[0m         \u001b[0mpre\u001b[0m \u001b[1;33m=\u001b[0m \u001b[0mset\u001b[0m\u001b[1;33m(\u001b[0m\u001b[0mpre\u001b[0m\u001b[1;33m)\u001b[0m\u001b[1;33m\u001b[0m\u001b[1;33m\u001b[0m\u001b[0m\n\u001b[0;32m     16\u001b[0m     \u001b[0mconcorrent_set\u001b[0m\u001b[1;33m.\u001b[0m\u001b[0madd\u001b[0m\u001b[1;33m(\u001b[0m\u001b[0mevent\u001b[0m\u001b[1;33m)\u001b[0m\u001b[1;33m\u001b[0m\u001b[1;33m\u001b[0m\u001b[0m\n",
      "\u001b[1;32m<ipython-input-18-7adf4d060fc7>\u001b[0m in \u001b[0;36mshowNext\u001b[1;34m(t, num_candidates, ts)\u001b[0m\n\u001b[0;32m      1\u001b[0m \u001b[1;32mdef\u001b[0m \u001b[0mshowNext\u001b[0m\u001b[1;33m(\u001b[0m\u001b[0mt\u001b[0m\u001b[1;33m,\u001b[0m\u001b[0mnum_candidates\u001b[0m\u001b[1;33m=\u001b[0m\u001b[1;36m10\u001b[0m\u001b[1;33m,\u001b[0m\u001b[0mts\u001b[0m\u001b[1;33m=\u001b[0m\u001b[1;36m0.005\u001b[0m\u001b[1;33m)\u001b[0m\u001b[1;33m:\u001b[0m\u001b[1;33m\u001b[0m\u001b[1;33m\u001b[0m\u001b[0m\n\u001b[1;32m----> 2\u001b[1;33m     \u001b[0m_\u001b[0m\u001b[1;33m,\u001b[0m\u001b[0mpredicted\u001b[0m\u001b[1;33m,\u001b[0m\u001b[0moutput\u001b[0m \u001b[1;33m=\u001b[0m \u001b[0mgenerate_seq\u001b[0m\u001b[1;33m(\u001b[0m\u001b[0mt\u001b[0m\u001b[1;33m,\u001b[0m\u001b[1;36m1\u001b[0m\u001b[1;33m,\u001b[0m\u001b[0mnum_candidates\u001b[0m\u001b[1;33m)\u001b[0m\u001b[1;33m\u001b[0m\u001b[1;33m\u001b[0m\u001b[0m\n\u001b[0m\u001b[0;32m      3\u001b[0m     \u001b[0mprob\u001b[0m \u001b[1;33m=\u001b[0m \u001b[0msoftmax\u001b[0m\u001b[1;33m(\u001b[0m\u001b[0moutput\u001b[0m\u001b[1;33m)\u001b[0m\u001b[1;33m\u001b[0m\u001b[1;33m\u001b[0m\u001b[0m\n\u001b[0;32m      4\u001b[0m     \u001b[0mscope\u001b[0m \u001b[1;33m=\u001b[0m \u001b[1;36m0\u001b[0m\u001b[1;33m\u001b[0m\u001b[1;33m\u001b[0m\u001b[0m\n\u001b[0;32m      5\u001b[0m     \u001b[1;32mfor\u001b[0m \u001b[0mi\u001b[0m \u001b[1;32min\u001b[0m \u001b[0mrange\u001b[0m\u001b[1;33m(\u001b[0m\u001b[0mnum_candidates\u001b[0m\u001b[1;33m)\u001b[0m\u001b[1;33m:\u001b[0m\u001b[1;33m\u001b[0m\u001b[1;33m\u001b[0m\u001b[0m\n",
      "\u001b[1;32m<ipython-input-16-350dbe834610>\u001b[0m in \u001b[0;36mgenerate_seq\u001b[1;34m(start, window_size, num_candidates, scope)\u001b[0m\n\u001b[0;32m      7\u001b[0m     \u001b[1;32mfor\u001b[0m \u001b[0mi\u001b[0m \u001b[1;32min\u001b[0m \u001b[0mrange\u001b[0m\u001b[1;33m(\u001b[0m\u001b[0mbg\u001b[0m\u001b[1;33m,\u001b[0m\u001b[0mbg\u001b[0m\u001b[1;33m+\u001b[0m\u001b[0mwindow_size\u001b[0m\u001b[1;33m)\u001b[0m\u001b[1;33m:\u001b[0m\u001b[1;33m\u001b[0m\u001b[1;33m\u001b[0m\u001b[0m\n\u001b[0;32m      8\u001b[0m \u001b[1;31m#         start = torch.FloatTensor(start)\u001b[0m\u001b[1;33m\u001b[0m\u001b[1;33m\u001b[0m\u001b[1;33m\u001b[0m\u001b[0m\n\u001b[1;32m----> 9\u001b[1;33m         \u001b[0mseq\u001b[0m \u001b[1;33m=\u001b[0m \u001b[0mstart\u001b[0m\u001b[1;33m.\u001b[0m\u001b[0mclone\u001b[0m\u001b[1;33m(\u001b[0m\u001b[1;33m)\u001b[0m\u001b[1;33m.\u001b[0m\u001b[0mdetach\u001b[0m\u001b[1;33m(\u001b[0m\u001b[1;33m)\u001b[0m\u001b[1;33m.\u001b[0m\u001b[0mview\u001b[0m\u001b[1;33m(\u001b[0m\u001b[1;33m-\u001b[0m\u001b[1;36m1\u001b[0m\u001b[1;33m,\u001b[0m \u001b[0mi\u001b[0m\u001b[1;33m,\u001b[0m \u001b[0minput_size\u001b[0m\u001b[1;33m)\u001b[0m\u001b[1;33m.\u001b[0m\u001b[0mto\u001b[0m\u001b[1;33m(\u001b[0m\u001b[0mdevice\u001b[0m\u001b[1;33m)\u001b[0m\u001b[1;33m\u001b[0m\u001b[1;33m\u001b[0m\u001b[0m\n\u001b[0m\u001b[0;32m     10\u001b[0m         \u001b[0moutput\u001b[0m \u001b[1;33m=\u001b[0m \u001b[0mmodel\u001b[0m\u001b[1;33m(\u001b[0m\u001b[0mseq\u001b[0m\u001b[1;33m)\u001b[0m\u001b[1;33m.\u001b[0m\u001b[0mcpu\u001b[0m\u001b[1;33m(\u001b[0m\u001b[1;33m)\u001b[0m\u001b[1;33m[\u001b[0m\u001b[1;33m:\u001b[0m\u001b[1;33m,\u001b[0m\u001b[1;33m-\u001b[0m\u001b[1;36m1\u001b[0m\u001b[1;33m,\u001b[0m\u001b[1;33m:\u001b[0m\u001b[1;33m]\u001b[0m\u001b[1;33m\u001b[0m\u001b[1;33m\u001b[0m\u001b[0m\n\u001b[0;32m     11\u001b[0m         \u001b[0moutput\u001b[0m \u001b[1;33m=\u001b[0m \u001b[0moutput\u001b[0m\u001b[1;33m.\u001b[0m\u001b[0mreshape\u001b[0m\u001b[1;33m(\u001b[0m\u001b[1;33m-\u001b[0m\u001b[1;36m1\u001b[0m\u001b[1;33m)\u001b[0m\u001b[1;33m\u001b[0m\u001b[1;33m\u001b[0m\u001b[0m\n",
      "\u001b[1;31mKeyboardInterrupt\u001b[0m: "
     ]
    }
   ],
   "source": [
    "concorrent_tmp = list(concorrent_set)\n",
    "for i,event in enumerate(concorrent_tmp):\n",
    "    con_path = seq+[event]\n",
    "    print(\"cur_path:\",con_path)\n",
    "    pre,_ = showNext(con_path)\n",
    "    pre = set(pre)\n",
    "    print(pre)\n",
    "    concorrent_set.remove(event)\n",
    "    while pre!=concorrent_set and not pre.issubset(concorrent_set):\n",
    "        for j in concorrent_set:\n",
    "            if j in pre:\n",
    "                pre.remove(j)\n",
    "        con_path = con_path+[pre.pop()]\n",
    "        pre,_ = showNext(con_path)\n",
    "        pre = set(pre)\n",
    "    concorrent_set.add(event)\n",
    "    concurrent_path.extend(con_path[len(seq):])\n",
    "    concurrent_path_list.append(con_path)\n",
    "merge,_ = showNext(concurrent_path)"
   ]
  },
  {
   "cell_type": "code",
   "execution_count": 74,
   "metadata": {},
   "outputs": [
    {
     "name": "stdout",
     "output_type": "stream",
     "text": [
      "[[11, 9, 11, 9, 11, 9, 26, 26, 26, 2, 2, 2, 18, 2, 2, 2, 2, 2, 23, 23, 23, 21, 21, 21, 30, 18, 2, 30, 2, 21, 2, 21, 21, 2, 2, 2, 2, 2], [11, 9, 11, 9, 11, 9, 26, 26, 26, 3, 3, 3, 3, 3, 3, 3, 3, 3, 23, 23, 23, 21, 21, 21, 30, 3, 3, 3, 3, 3, 3, 3, 3, 3, 3, 3, 3, 3, 3, 3, 3, 3, 3, 3, 3, 3, 3, 3, 3, 3, 3, 3, 3, 3, 3, 3, 3, 3, 3, 3, 3, 3, 3, 3, 3, 3, 3, 3, 3, 3, 3, 3, 3, 3, 3, 3, 3, 3, 3, 3, 3, 3, 3, 3, 3, 3, 3, 3, 3, 3, 3, 3, 3, 3, 3, 3, 3, 3, 3, 3, 3, 3, 3, 3, 3, 3, 3, 3]]\n"
     ]
    }
   ],
   "source": [
    "print(concurrent_path_list)"
   ]
  },
  {
   "cell_type": "code",
   "execution_count": 66,
   "metadata": {},
   "outputs": [
    {
     "name": "stdout",
     "output_type": "stream",
     "text": [
      "预测的序号排序: [30]\n",
      "对应的可能性: [0.9997605681419373]\n"
     ]
    },
    {
     "data": {
      "text/plain": [
       "([30], [0.9997605681419373])"
      ]
     },
     "execution_count": 66,
     "metadata": {},
     "output_type": "execute_result"
    }
   ],
   "source": [
    "showNext([26,26,26,23,23,23,21,21,21])"
   ]
  },
  {
   "cell_type": "code",
   "execution_count": 77,
   "metadata": {
    "scrolled": true
   },
   "outputs": [
    {
     "name": "stdout",
     "output_type": "stream",
     "text": [
      "预测的序号排序: [9, 11, 26]\n",
      "对应的可能性: [0.01060451753437519, 0.3045552968978882, 0.6845642328262329]\n",
      "预测的序号排序: [9, 11, 26]\n",
      "对应的可能性: [0.10653172433376312, 0.18710242211818695, 0.7063077688217163]\n",
      "预测的序号排序: [9]\n",
      "对应的可能性: [0.9990488886833191]\n",
      "预测的序号排序: [9, 11, 26]\n",
      "对应的可能性: [0.008123203180730343, 0.06586132943630219, 0.92600017786026]\n",
      "预测的序号排序: [9]\n",
      "对应的可能性: [0.9990488886833191]\n",
      "预测的序号排序: [9, 11, 26]\n",
      "对应的可能性: [0.008123203180730343, 0.06586132943630219, 0.92600017786026]\n",
      "预测的序号排序: [11, 26]\n",
      "对应的可能性: [0.06586132943630219, 0.92600017786026]\n",
      "[22, 5, 5, 5, 9]\n",
      "预测的序号排序: [9, 11, 26]\n",
      "对应的可能性: [0.10653172433376312, 0.18710242211818695, 0.7063077688217163]\n",
      "{9, 26, 11}\n",
      "预测的序号排序: [9, 26, 11]\n",
      "对应的可能性: [0.02290080487728119, 0.4846383333206177, 0.4920712411403656]\n",
      "预测的序号排序: [9, 26, 11]\n",
      "对应的可能性: [0.007098402362316847, 0.10752785205841064, 0.8851501941680908]\n",
      "预测的序号排序: [9, 26, 11]\n",
      "对应的可能性: [0.007510153576731682, 0.2285967767238617, 0.7633930444717407]\n",
      "预测的序号排序: [11, 26]\n",
      "对应的可能性: [0.04344955459237099, 0.9561227560043335]\n",
      "[22, 5, 5, 5, 26]\n",
      "预测的序号排序: [9, 11, 26]\n",
      "对应的可能性: [0.008123203180730343, 0.06586132943630219, 0.92600017786026]\n",
      "{9, 26, 11}\n",
      "预测的序号排序: [9, 11, 26]\n",
      "对应的可能性: [0.006950135808438063, 0.13600239157676697, 0.85655677318573]\n",
      "预测的序号排序: [9, 11]\n",
      "对应的可能性: [0.005036633927375078, 0.9941262006759644]\n",
      "[22, 5, 5, 5, 11]\n",
      "预测的序号排序: [9]\n",
      "对应的可能性: [0.9990488886833191]\n",
      "{9}\n",
      "预测的序号排序: [3, 30, 4, 26, 2, 23, 11]\n",
      "对应的可能性: [0.005958045832812786, 0.011577175930142403, 0.02559037320315838, 0.10887683182954788, 0.1291082501411438, 0.21623295545578003, 0.5010555386543274]\n"
     ]
    },
    {
     "data": {
      "text/plain": [
       "({9, 11, 26},\n",
       " [3, 30, 4, 26, 2, 23, 11],\n",
       " [[22, 5, 5, 5, 9, 9, 9, 9, 9], [22, 5, 5, 5, 26, 26, 26], [22, 5, 5, 5, 11]])"
      ]
     },
     "execution_count": 77,
     "metadata": {},
     "output_type": "execute_result"
    }
   ],
   "source": [
    "find_concurrent([22, 5, 5, 5])"
   ]
  },
  {
   "cell_type": "code",
   "execution_count": 49,
   "metadata": {},
   "outputs": [
    {
     "data": {
      "text/plain": [
       "{9, 11}"
      ]
     },
     "execution_count": 49,
     "metadata": {},
     "output_type": "execute_result"
    }
   ],
   "source": [
    "concorrent_set"
   ]
  },
  {
   "cell_type": "code",
   "execution_count": 50,
   "metadata": {},
   "outputs": [
    {
     "data": {
      "text/plain": [
       "True"
      ]
     },
     "execution_count": 50,
     "metadata": {},
     "output_type": "execute_result"
    }
   ],
   "source": [
    "concorrent_set.issubset({1,9,11})"
   ]
  },
  {
   "cell_type": "code",
   "execution_count": null,
   "metadata": {},
   "outputs": [],
   "source": [
    "global_wf = []"
   ]
  },
  {
   "cell_type": "code",
   "execution_count": 81,
   "metadata": {},
   "outputs": [
    {
     "name": "stdout",
     "output_type": "stream",
     "text": [
      "预测的序号排序: [22, 5]\n",
      "对应的可能性: [0.2586425244808197, 0.7405361533164978]\n"
     ]
    },
    {
     "data": {
      "text/plain": [
       "[0]"
      ]
     },
     "execution_count": 81,
     "metadata": {},
     "output_type": "execute_result"
    }
   ],
   "source": [
    "workflow_construction()"
   ]
  },
  {
   "cell_type": "code",
   "execution_count": 83,
   "metadata": {},
   "outputs": [
    {
     "data": {
      "text/plain": [
       "{2, 3}"
      ]
     },
     "execution_count": 83,
     "metadata": {},
     "output_type": "execute_result"
    }
   ],
   "source": [
    "concorrent_set.copy()"
   ]
  },
  {
   "cell_type": "code",
   "execution_count": 106,
   "metadata": {},
   "outputs": [],
   "source": [
    "def recognize_branch(seq,next_event):\n",
    "    concurrent_group=[]\n",
    "    event_to_group = [False for _ in next_event]\n",
    "    for i,event in enumerate(next_event):\n",
    "        if event_to_group[i]:\n",
    "            continue\n",
    "        cur_seq = seq+[event]\n",
    "        cur_group = [event]\n",
    "        concurrent_group.append(cur_group)\n",
    "        event_to_group[i] = True\n",
    "        cur_predicted,_ = showNext(cur_seq,ts=0.01)\n",
    "        for j,event2 in enumerate(next_event[i+1:]):\n",
    "            pre1,_ = showNext(seq+[event2])\n",
    "            if event in pre1 and event2 in cur_predicted:\n",
    "                event_to_group[j+i+1]=True\n",
    "                concurrent_group[-1].append(event2)\n",
    "    return concurrent_group"
   ]
  },
  {
   "cell_type": "code",
   "execution_count": 109,
   "metadata": {},
   "outputs": [
    {
     "name": "stdout",
     "output_type": "stream",
     "text": [
      "预测的序号排序: [5]\n",
      "对应的可能性: [0.9994300007820129]\n",
      "预测的序号排序: [22, 5]\n",
      "对应的可能性: [0.2932291626930237, 0.705966591835022]\n",
      "[True, True]\n"
     ]
    },
    {
     "data": {
      "text/plain": [
       "[[22, 5]]"
      ]
     },
     "execution_count": 109,
     "metadata": {},
     "output_type": "execute_result"
    }
   ],
   "source": [
    "recognize_branch([0],[22,5])"
   ]
  },
  {
   "cell_type": "code",
   "execution_count": 136,
   "metadata": {},
   "outputs": [],
   "source": [
    "def workflow_construction(seq=[0],end={30}):\n",
    "    next_event,_ = showNext(seq,ts=0.01)\n",
    "    if set(next_event)==end:\n",
    "        return seq\n",
    "    while seq[-1] in next_event:\n",
    "        seq =seq+[seq[-1]]\n",
    "        next_event,_ = showNext(seq,ts=0.01)\n",
    "    if len(next_event)>=2:\n",
    "        concorrent_group = recognize_branch(seq,next_event)\n",
    "    for group in concorrent_group:\n",
    "        if len(group)>2:\n",
    "            print(\"合并\",seq,group)\n",
    "            new_seq,end = res.append(find_merge_point(seq,set(group)))\n",
    "            workflow_construction(new_seq,set(end))\n",
    "        else:\n",
    "            workflow_construction(seq+[group[0]],{30})\n",
    "    return res"
   ]
  },
  {
   "cell_type": "code",
   "execution_count": 137,
   "metadata": {},
   "outputs": [],
   "source": [
    "def find_merge_point(seq,concorrent_group):\n",
    "    concorrent_set = set(concorrent_group)\n",
    "    concurrent_path = [i for i in seq]\n",
    "    for i,event in enumerate(concorrent_group):\n",
    "        con_path = seq+[event]\n",
    "        # print(\"cur_path:\",con_path)\n",
    "        pre,_ = showNext(con_path)\n",
    "        pre = set(pre)\n",
    "        # print(pre)\n",
    "        concorrent_set.remove(event)\n",
    "        while pre!=concorrent_set and not pre.issubset(concorrent_set):\n",
    "            for j in concorrent_set:\n",
    "                if j in pre:\n",
    "                    pre.remove(j)\n",
    "            con_path = con_path+[pre.pop()]\n",
    "            pre,_ = showNext(con_path)\n",
    "            pre = set(pre)\n",
    "        concorrent_set.add(event)\n",
    "        concurrent_path.extend(con_path[len(seq):])\n",
    "    merge,_ = showNext(concurrent_path)\n",
    "    return concurrent_path,merge"
   ]
  },
  {
   "cell_type": "code",
   "execution_count": 138,
   "metadata": {},
   "outputs": [
    {
     "name": "stdout",
     "output_type": "stream",
     "text": [
      "预测的序号排序: [22, 5]\n",
      "对应的可能性: [0.2586425244808197, 0.7405361533164978]\n",
      "预测的序号排序: [5]\n",
      "对应的可能性: [0.9994300007820129]\n",
      "预测的序号排序: [22, 5]\n",
      "对应的可能性: [0.2932291626930237, 0.705966591835022]\n",
      "[True, True]\n",
      "预测的序号排序: [5]\n",
      "对应的可能性: [0.9994300007820129]\n"
     ]
    },
    {
     "ename": "UnboundLocalError",
     "evalue": "local variable 'concorrent_group' referenced before assignment",
     "output_type": "error",
     "traceback": [
      "\u001b[1;31m---------------------------------------------------------------------------\u001b[0m",
      "\u001b[1;31mUnboundLocalError\u001b[0m                         Traceback (most recent call last)",
      "\u001b[1;32m<ipython-input-138-63baabc94fcb>\u001b[0m in \u001b[0;36m<module>\u001b[1;34m\u001b[0m\n\u001b[1;32m----> 1\u001b[1;33m \u001b[0mprint\u001b[0m\u001b[1;33m(\u001b[0m\u001b[0mworkflow_construction\u001b[0m\u001b[1;33m(\u001b[0m\u001b[1;33m[\u001b[0m\u001b[1;36m0\u001b[0m\u001b[1;33m]\u001b[0m\u001b[1;33m,\u001b[0m\u001b[1;33m{\u001b[0m\u001b[1;36m30\u001b[0m\u001b[1;33m}\u001b[0m\u001b[1;33m)\u001b[0m\u001b[1;33m)\u001b[0m\u001b[1;33m\u001b[0m\u001b[1;33m\u001b[0m\u001b[0m\n\u001b[0m",
      "\u001b[1;32m<ipython-input-136-66361ec9ed01>\u001b[0m in \u001b[0;36mworkflow_construction\u001b[1;34m(seq, end)\u001b[0m\n\u001b[0;32m     14\u001b[0m             \u001b[0mworkflow_construction\u001b[0m\u001b[1;33m(\u001b[0m\u001b[0mnew_seq\u001b[0m\u001b[1;33m,\u001b[0m\u001b[0mset\u001b[0m\u001b[1;33m(\u001b[0m\u001b[0mend\u001b[0m\u001b[1;33m)\u001b[0m\u001b[1;33m)\u001b[0m\u001b[1;33m\u001b[0m\u001b[1;33m\u001b[0m\u001b[0m\n\u001b[0;32m     15\u001b[0m         \u001b[1;32melse\u001b[0m\u001b[1;33m:\u001b[0m\u001b[1;33m\u001b[0m\u001b[1;33m\u001b[0m\u001b[0m\n\u001b[1;32m---> 16\u001b[1;33m             \u001b[0mworkflow_construction\u001b[0m\u001b[1;33m(\u001b[0m\u001b[0mseq\u001b[0m\u001b[1;33m+\u001b[0m\u001b[1;33m[\u001b[0m\u001b[0mgroup\u001b[0m\u001b[1;33m[\u001b[0m\u001b[1;36m0\u001b[0m\u001b[1;33m]\u001b[0m\u001b[1;33m]\u001b[0m\u001b[1;33m,\u001b[0m\u001b[1;33m{\u001b[0m\u001b[1;36m30\u001b[0m\u001b[1;33m}\u001b[0m\u001b[1;33m)\u001b[0m\u001b[1;33m\u001b[0m\u001b[1;33m\u001b[0m\u001b[0m\n\u001b[0m\u001b[0;32m     17\u001b[0m     \u001b[1;32mreturn\u001b[0m \u001b[0mres\u001b[0m\u001b[1;33m\u001b[0m\u001b[1;33m\u001b[0m\u001b[0m\n",
      "\u001b[1;32m<ipython-input-136-66361ec9ed01>\u001b[0m in \u001b[0;36mworkflow_construction\u001b[1;34m(seq, end)\u001b[0m\n\u001b[0;32m      8\u001b[0m     \u001b[1;32mif\u001b[0m \u001b[0mlen\u001b[0m\u001b[1;33m(\u001b[0m\u001b[0mnext_event\u001b[0m\u001b[1;33m)\u001b[0m\u001b[1;33m>=\u001b[0m\u001b[1;36m2\u001b[0m\u001b[1;33m:\u001b[0m\u001b[1;33m\u001b[0m\u001b[1;33m\u001b[0m\u001b[0m\n\u001b[0;32m      9\u001b[0m         \u001b[0mconcorrent_group\u001b[0m \u001b[1;33m=\u001b[0m \u001b[0mrecognize_branch\u001b[0m\u001b[1;33m(\u001b[0m\u001b[0mseq\u001b[0m\u001b[1;33m,\u001b[0m\u001b[0mnext_event\u001b[0m\u001b[1;33m)\u001b[0m\u001b[1;33m\u001b[0m\u001b[1;33m\u001b[0m\u001b[0m\n\u001b[1;32m---> 10\u001b[1;33m     \u001b[1;32mfor\u001b[0m \u001b[0mgroup\u001b[0m \u001b[1;32min\u001b[0m \u001b[0mconcorrent_group\u001b[0m\u001b[1;33m:\u001b[0m\u001b[1;33m\u001b[0m\u001b[1;33m\u001b[0m\u001b[0m\n\u001b[0m\u001b[0;32m     11\u001b[0m         \u001b[1;32mif\u001b[0m \u001b[0mlen\u001b[0m\u001b[1;33m(\u001b[0m\u001b[0mgroup\u001b[0m\u001b[1;33m)\u001b[0m\u001b[1;33m>\u001b[0m\u001b[1;36m2\u001b[0m\u001b[1;33m:\u001b[0m\u001b[1;33m\u001b[0m\u001b[1;33m\u001b[0m\u001b[0m\n\u001b[0;32m     12\u001b[0m             \u001b[0mprint\u001b[0m\u001b[1;33m(\u001b[0m\u001b[1;34m\"合并\"\u001b[0m\u001b[1;33m,\u001b[0m\u001b[0mseq\u001b[0m\u001b[1;33m,\u001b[0m\u001b[0mgroup\u001b[0m\u001b[1;33m)\u001b[0m\u001b[1;33m\u001b[0m\u001b[1;33m\u001b[0m\u001b[0m\n",
      "\u001b[1;31mUnboundLocalError\u001b[0m: local variable 'concorrent_group' referenced before assignment"
     ]
    }
   ],
   "source": [
    "print(workflow_construction([0],{30}))"
   ]
  },
  {
   "cell_type": "code",
   "execution_count": 132,
   "metadata": {},
   "outputs": [
    {
     "name": "stdout",
     "output_type": "stream",
     "text": [
      "预测的序号排序: [22, 5]\n",
      "对应的可能性: [0.2932291626930237, 0.705966591835022]\n",
      "预测的序号排序: [22, 5]\n",
      "对应的可能性: [0.42156782746315, 0.5777947306632996]\n",
      "预测的序号排序: [22]\n",
      "对应的可能性: [0.9989638328552246]\n",
      "预测的序号排序: [5]\n",
      "对应的可能性: [0.9994300007820129]\n",
      "预测的序号排序: [26, 9, 11]\n",
      "对应的可能性: [0.015241644345223904, 0.021479245275259018, 0.9622746109962463]\n"
     ]
    },
    {
     "data": {
      "text/plain": [
       "([0, 5, 5, 5, 22], [26, 9, 11])"
      ]
     },
     "execution_count": 132,
     "metadata": {},
     "output_type": "execute_result"
    }
   ],
   "source": [
    "find_merge_point([0],{22,5})"
   ]
  },
  {
   "cell_type": "code",
   "execution_count": null,
   "metadata": {},
   "outputs": [],
   "source": []
  }
 ],
 "metadata": {
  "kernelspec": {
   "display_name": "Python 3.6.7 64-bit ('cuda_pytorch': conda)",
   "language": "python",
   "name": "python36764bitcudapytorchconda3e33319a1fef4dc990a9d2f171216946"
  },
  "language_info": {
   "codemirror_mode": {
    "name": "ipython",
    "version": 3
   },
   "file_extension": ".py",
   "mimetype": "text/x-python",
   "name": "python",
   "nbconvert_exporter": "python",
   "pygments_lexer": "ipython3",
   "version": "3.6.7"
  }
 },
 "nbformat": 4,
 "nbformat_minor": 4
}
