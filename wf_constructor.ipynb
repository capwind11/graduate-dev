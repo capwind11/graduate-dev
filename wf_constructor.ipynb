{
 "cells": [
  {
   "cell_type": "code",
   "execution_count": 1,
   "metadata": {},
   "outputs": [],
   "source": [
    "import torch\n",
    "import torch.nn as nn\n",
    "import random\n",
    "import itertools\n",
    "import os\n",
    "import networkx as nx\n",
    "import matplotlib.pyplot as plt\n",
    "# Device configuration\n",
    "device = torch.device(\"cuda\" if torch.cuda.is_available() else \"cpu\")\n"
   ]
  },
  {
   "cell_type": "code",
   "execution_count": 2,
   "metadata": {},
   "outputs": [],
   "source": [
    "class Model(nn.Module):\n",
    "    def __init__(self, input_size, hidden_size, num_layers, num_keys):\n",
    "        super(Model, self).__init__()\n",
    "        self.hidden_size = hidden_size\n",
    "        self.num_layers = num_layers\n",
    "        self.lstm = nn.LSTM(input_size, hidden_size, num_layers, batch_first=True)\n",
    "        self.fc = nn.Linear(hidden_size, num_keys)\n",
    "\n",
    "    def forward(self, x):\n",
    "        h0 = torch.zeros(self.num_layers, x.size(0), self.hidden_size).to(device)\n",
    "        c0 = torch.zeros(self.num_layers, x.size(0), self.hidden_size).to(device)\n",
    "        out, _ = self.lstm(x, (h0, c0))\n",
    "        out = self.fc(out[:, :, :])\n",
    "        return out"
   ]
  },
  {
   "cell_type": "code",
   "execution_count": 3,
   "metadata": {},
   "outputs": [],
   "source": [
    "class workflow_constructor:\n",
    "    def __init__(self,model,input_size=1,ts=0.005,num_candidates=10):\n",
    "\n",
    "        self.softmax = nn.Softmax(dim=0)\n",
    "        self.model = model\n",
    "        self.input_size = input_size\n",
    "        self.visited = set()\n",
    "        self.graph = dict()\n",
    "        self.ts = ts\n",
    "        self.num_candidates=10\n",
    "\n",
    "    def permutation(self,event_list):\n",
    "        return [list(event) for event in (itertools.permutations(event_list))]\n",
    "\n",
    "    def generate_seq(self,start, window_size=10, scope=None):\n",
    "        if isinstance(start, list):\n",
    "            start = torch.FloatTensor(start).reshape(1, -1)\n",
    "        bg = start.size(1)\n",
    "        if scope == None:\n",
    "            scope = self.num_candidates\n",
    "        for i in range(bg, bg + window_size):\n",
    "            seq = start.clone().detach().view(-1, i, self.input_size).to(device)\n",
    "            output = model(seq).cpu()[:, -1, :]\n",
    "            output = output.reshape(-1)\n",
    "            predicted = torch.argsort(output)[-self.num_candidates:]\n",
    "            nxt = random.randint(1, scope)\n",
    "            start = torch.cat([start, predicted[-nxt].reshape(1, -1).float()], 1)\n",
    "        return start, predicted, output\n",
    "\n",
    "    def predict_next_event(self,seq):\n",
    "        _, predicted, output = self.generate_seq(seq, 1)\n",
    "        prob = self.softmax(output)\n",
    "        scope = 0\n",
    "        for i in range(self.num_candidates):\n",
    "            if prob[predicted[self.num_candidates - i - 1]] < self.ts:\n",
    "                scope = self.num_candidates - i - 1\n",
    "                break\n",
    "        return predicted[scope + 1:].cpu().numpy().tolist()\n",
    "\n",
    "    def next_possible_event(self,seq,out_of_order=False, bg=0, ed=-1):\n",
    "        res = []\n",
    "        if not out_of_order:\n",
    "            res.extend(self.predict_next_event(seq))\n",
    "        else:\n",
    "            seq_list = self.permutation(seq[bg:ed])\n",
    "            for s in seq_list:\n",
    "                res.extend(self.predict_next_event(s + seq[ed:]))\n",
    "            res = list(set(res))\n",
    "        return res\n",
    "\n",
    "    def is_connected(self,e1, e2, eventmap):\n",
    "        eventList = list(eventmap.keys())\n",
    "        visited = {i: False for i in eventList}\n",
    "        que = []\n",
    "        que.append(e1)\n",
    "        while len(que) != 0:\n",
    "            cur = que.pop(0)\n",
    "            visited[cur] = True\n",
    "            if e2 in eventmap[cur]:\n",
    "                return True\n",
    "            for e in eventmap[cur]:\n",
    "                if e in eventList and not visited[e]:\n",
    "                    que.append(e)\n",
    "        return False\n",
    "\n",
    "    def recognize_branch(self,next_event):\n",
    "        concurrent_group = []\n",
    "        if 30 in next_event:\n",
    "            next_event.remove(30)\n",
    "        event_to_group = [-1 for _ in next_event]\n",
    "        event_to_next = {event: self.next_possible_event([event]) for event in next_event}\n",
    "        for i, event in enumerate(next_event):\n",
    "            if event_to_group[i] == -1:\n",
    "                cur_group = [event]\n",
    "                concurrent_group.append(cur_group)\n",
    "                event_to_group[i] = len(concurrent_group) - 1\n",
    "            for j, event2 in enumerate(next_event[i + 1:]):\n",
    "                if self.is_connected(event, event2, event_to_next) and self.is_connected(event2, event, event_to_next):\n",
    "                    if event_to_group[j + i + 1] == -1:\n",
    "                        event_to_group[j + i + 1] = event_to_group[i]\n",
    "                        concurrent_group[event_to_group[i]].append(event2)\n",
    "        #                 print(concurrent_group,i,j+i+1)\n",
    "        return concurrent_group\n",
    "\n",
    "    def recognize_loop(self,seq, concurrent_event):\n",
    "\n",
    "        next_event = self.next_possible_event(seq)\n",
    "        for event in next_event:\n",
    "            if event in seq and event not in concurrent_event:\n",
    "                if self.find_loop(seq[seq.index(event):]):\n",
    "                    return seq[seq.index(event):]\n",
    "        return []\n",
    "\n",
    "    def find_loop(self,seq):\n",
    "\n",
    "        loop_len = len(seq)\n",
    "        loop_seq = [event for event in seq]\n",
    "        for i in range(loop_len):\n",
    "            if loop_seq[i] not in self.next_possible_event(loop_seq):\n",
    "                return False\n",
    "            loop_seq.append(loop_seq[i])\n",
    "        return True\n",
    "\n",
    "    def add_line(self,begin,end,concurrent):\n",
    "        if concurrent:\n",
    "            begin = 'merge({})'.format(','.join(list(map(str,sorted(begin)))))\n",
    "        else:\n",
    "            begin = str(begin[-1])\n",
    "        if begin not in self.graph:\n",
    "            self.graph[begin] = set()\n",
    "        if len(end)>1:\n",
    "            end_mark = ','.join(list(map(str,sorted(end))))\n",
    "            self.graph[begin].add('diverge({})'.format(end_mark))\n",
    "            if 'diverge({})'.format(end_mark) not in self.graph:\n",
    "                self.graph['diverge({})'.format(end_mark)] =set()\n",
    "            for event in end:\n",
    "                self.graph['diverge({})'.format(end_mark)].add(str(event))\n",
    "                if str(event) not in self.graph:\n",
    "                    self.graph[str(event)] = set()\n",
    "                self.graph[str(event)].add('merge({})'.format(end_mark))\n",
    "        else:\n",
    "            self.graph[begin].add(str(end[0]))\n",
    "\n",
    "    def workflow_construction(self,seq=[0], end={30}, visited = None,concurrent=False):\n",
    "        next_event = self.next_possible_event(seq, out_of_order=concurrent, ed=len(seq))\n",
    "        if visited==None:\n",
    "            visited = set()\n",
    "        for event in next_event[::-1]:\n",
    "            if event in seq or event in visited:\n",
    "                next_event.remove(event)\n",
    "        print(\"当前序列为:\", seq, \"下一个可能出现event为:\", next_event)\n",
    "        for event in seq:\n",
    "            visited.add(event)\n",
    "            \n",
    "        if set(next_event) == end or set(next_event).issubset(end):\n",
    "            print(\"到达终止位置,结束\", end)\n",
    "            if len(next_event)>0:\n",
    "                self.add_line(seq,next_event,concurrent)\n",
    "            return seq\n",
    "        \n",
    "        if not concurrent:\n",
    "            loop = self.recognize_loop(seq, [])\n",
    "            if len(loop) != 0:\n",
    "                print(\"当前序列中存在循环结构\", loop)\n",
    "                self.add_line([loop[0]],[loop[-1]],False)\n",
    "\n",
    "        print(\"判断分支情况\", next_event)\n",
    "        if len(next_event) >= 2:\n",
    "            concorrent_group = self.recognize_branch(next_event)\n",
    "        else:\n",
    "            concorrent_group = [[next_event[0]]]\n",
    "        print(\"发现不同的分支\", concorrent_group)\n",
    "\n",
    "        for group in concorrent_group:\n",
    "            self.add_line(seq,group,concurrent)\n",
    "            if len(group) >= 2:\n",
    "                print(\"并发执行的分支\", group)\n",
    "                for i, event in enumerate(group):\n",
    "                    loop = self.recognize_loop([event], group[:i] + group[i + 1:])\n",
    "                    if len(loop) != 0:\n",
    "                        print(\"发现循环\", loop)\n",
    "                        self.add_line([event],[event],False)\n",
    "                self.workflow_construction(group, end, visited, True)\n",
    "            else:\n",
    "                self.workflow_construction(group, {30},visited)\n",
    "        return seq"
   ]
  },
  {
   "cell_type": "code",
   "execution_count": 4,
   "metadata": {},
   "outputs": [],
   "source": [
    "def draw_wf(wf_cons):\n",
    "    g = nx.DiGraph()\n",
    "    graph = wf_cons.graph\n",
    "\n",
    "    g.add_nodes_from(list(graph.keys()))\n",
    "    pos = {}\n",
    "    h = 0\n",
    "    for i,key in enumerate(graph.keys()):\n",
    "        for j,node in enumerate(list(graph[key])):\n",
    "            g.add_edge(key,node)\n",
    "    height = {}\n",
    "    width = {}\n",
    "    shortest_path = dict(nx.all_pairs_shortest_path(g))\n",
    "    for key in shortest_path:\n",
    "    #     if key=='0':\n",
    "    #         height['0']=0\n",
    "    #         continue\n",
    "        height[key] = len(shortest_path['0'][key])\n",
    "        if height[key] not in width:\n",
    "            width[height[key]] = 0\n",
    "        width[height[key]]+=1\n",
    "    width_cur = {i:0 for i in list(width.keys())}\n",
    "    for i,key in enumerate(graph.keys()):\n",
    "        if key not in pos:\n",
    "            pos[key] = (0,height[key])\n",
    "        for j,node in enumerate(list(graph[key])):\n",
    "            if node not in pos:\n",
    "\n",
    "                if width[height[node]]%2==0:\n",
    "                    pos[node] = (width_cur[height[node]]+0.5-(width[height[node]]/2),height[node])\n",
    "                else:\n",
    "                    pos[node] = (width_cur[height[node]]-int(width[height[node]]/2),height[node])\n",
    "                width_cur[height[node]] += 1\n",
    "                print(j,width[height[node]],pos[node])\n",
    "    pos['30'] = (0,len(width)+1)\n",
    "    # layout = nx.spring_layout(g,  pos=pos)\n",
    "    nx.draw(g,pos=pos,with_labels=True)\n",
    "    plt.draw()\n",
    "    plt.show()"
   ]
  },
  {
   "cell_type": "code",
   "execution_count": 5,
   "metadata": {},
   "outputs": [
    {
     "data": {
      "text/plain": [
       "Model(\n",
       "  (lstm): LSTM(1, 64, num_layers=2, batch_first=True)\n",
       "  (fc): Linear(in_features=64, out_features=32, bias=True)\n",
       ")"
      ]
     },
     "execution_count": 5,
     "metadata": {},
     "output_type": "execute_result"
    }
   ],
   "source": [
    "num_classes = 32\n",
    "num_epochs = 300\n",
    "batch_size = 2048\n",
    "input_size = 1\n",
    "model_dir = 'model'\n",
    "window_size = 10\n",
    "log = 'add_padding_batch_size={}_epoch={}_window_size={}'.format(str(batch_size), str(num_epochs), str(window_size))\n",
    "num_layers = 2\n",
    "hidden_size = 64\n",
    "file_dir = 'data/'\n",
    "model = Model(input_size, hidden_size, num_layers, num_classes).to(device)\n",
    "model.load_state_dict(torch.load(model_dir + '/' + log + '.pt'))\n",
    "model.to(device)\n",
    "model.eval()"
   ]
  },
  {
   "cell_type": "code",
   "execution_count": 6,
   "metadata": {},
   "outputs": [
    {
     "name": "stdout",
     "output_type": "stream",
     "text": [
      "当前序列为: [0] 下一个可能出现event为: [22, 5]\n",
      "判断分支情况 [22, 5]\n",
      "发现不同的分支 [[22, 5]]\n",
      "并发执行的分支 [22, 5]\n",
      "发现循环 [5]\n",
      "当前序列为: [22, 5] 下一个可能出现event为: [9, 26, 11]\n",
      "判断分支情况 [9, 26, 11]\n",
      "发现不同的分支 [[9, 26, 11]]\n",
      "并发执行的分支 [9, 26, 11]\n",
      "发现循环 [9]\n",
      "发现循环 [26]\n",
      "发现循环 [11]\n",
      "当前序列为: [9, 26, 11] 下一个可能出现event为: [2, 3, 4, 23, 30]\n",
      "判断分支情况 [2, 3, 4, 23, 30]\n",
      "发现不同的分支 [[2, 3, 4], [23]]\n",
      "并发执行的分支 [2, 3, 4]\n",
      "发现循环 [2]\n",
      "发现循环 [3]\n",
      "发现循环 [4]\n",
      "当前序列为: [2, 3, 4] 下一个可能出现event为: [23]\n",
      "判断分支情况 [23]\n",
      "发现不同的分支 [[23]]\n",
      "当前序列为: [23] 下一个可能出现event为: [21]\n",
      "当前序列中存在循环结构 [23]\n",
      "判断分支情况 [21]\n",
      "发现不同的分支 [[21]]\n",
      "当前序列为: [21] 下一个可能出现event为: [30]\n",
      "到达终止位置,结束 {30}\n",
      "当前序列为: [23] 下一个可能出现event为: []\n",
      "到达终止位置,结束 {30}\n",
      "{'0': {'diverge(5,22)'}, 'diverge(5,22)': {'5', '22'}, '22': {'merge(5,22)'}, '5': {'5', 'merge(5,22)'}, 'merge(5,22)': {'diverge(9,11,26)'}, 'diverge(9,11,26)': {'26', '9', '11'}, '9': {'9', 'merge(9,11,26)'}, '26': {'26', 'merge(9,11,26)'}, '11': {'11', 'merge(9,11,26)'}, 'merge(9,11,26)': {'diverge(2,3,4)', '23'}, 'diverge(2,3,4)': {'2', '4', '3'}, '2': {'2', 'merge(2,3,4)'}, '3': {'merge(2,3,4)', '3'}, '4': {'merge(2,3,4)', '4'}, 'merge(2,3,4)': {'23'}, '23': {'21', '23'}, '21': {'30'}}\n"
     ]
    }
   ],
   "source": [
    "wf_cons = workflow_constructor(model,1)\n",
    "wf_cons.workflow_construction([0],{30})\n",
    "print(wf_cons.graph)"
   ]
  },
  {
   "cell_type": "code",
   "execution_count": 7,
   "metadata": {},
   "outputs": [
    {
     "name": "stdout",
     "output_type": "stream",
     "text": [
      "0 1 (0, 2)\n",
      "0 2 (-0.5, 3)\n",
      "1 2 (0.5, 3)\n",
      "0 1 (0, 4)\n",
      "0 1 (0, 5)\n",
      "0 3 (-1, 6)\n",
      "1 3 (0, 6)\n",
      "2 3 (1, 6)\n",
      "1 1 (0, 7)\n",
      "0 2 (-0.5, 8)\n",
      "1 2 (0.5, 8)\n",
      "0 4 (-1.5, 9)\n",
      "1 4 (-0.5, 9)\n",
      "2 4 (0.5, 9)\n",
      "1 2 (-0.5, 10)\n",
      "0 4 (1.5, 9)\n",
      "0 2 (0.5, 10)\n"
     ]
    },
    {
     "data": {
      "image/png": "[encoded data removed]",
      "text/plain": [
       "<Figure size 432x288 with 1 Axes>"
      ]
     },
     "metadata": {},
     "output_type": "display_data"
    }
   ],
   "source": [
    "draw_wf(wf_cons)"
   ]
  },
  {
   "cell_type": "code",
   "execution_count": 16,
   "metadata": {},
   "outputs": [
    {
     "data": {
      "text/plain": [
       "Model(\n",
       "  (lstm): LSTM(1, 64, num_layers=2, batch_first=True)\n",
       "  (fc): Linear(in_features=64, out_features=32, bias=True)\n",
       ")"
      ]
     },
     "execution_count": 16,
     "metadata": {},
     "output_type": "execute_result"
    }
   ],
   "source": [
    "# model_name = 'data_dir={}_version={}'.format(file_dir, version)\n",
    "# model_name = 'softmax_data_dir=data_official_version=v0.0'\n",
    "model_name = 'data_dir=data_official_version=v0.3'\n",
    "if os.path.exists(model_dir + '/' + model_name + '.pt'):\n",
    "    model.load_state_dict(torch.load(model_dir + '/' + model_name + '.pt'))\n",
    "model.to(device)\n",
    "model.eval()\n"
   ]
  },
  {
   "cell_type": "code",
   "execution_count": 17,
   "metadata": {},
   "outputs": [
    {
     "name": "stdout",
     "output_type": "stream",
     "text": [
      "当前序列为: [0] 下一个可能出现event为: [22, 5]\n",
      "判断分支情况 [22, 5]\n",
      "发现不同的分支 [[22, 5]]\n",
      "并发执行的分支 [22, 5]\n",
      "发现循环 [5]\n",
      "当前序列为: [22, 5] 下一个可能出现event为: [9, 26, 11]\n",
      "判断分支情况 [9, 26, 11]\n",
      "发现不同的分支 [[9, 26, 11]]\n",
      "并发执行的分支 [9, 26, 11]\n",
      "发现循环 [9]\n",
      "发现循环 [26]\n",
      "发现循环 [11]\n",
      "当前序列为: [9, 26, 11] 下一个可能出现event为: [2, 3, 4, 23, 30]\n",
      "判断分支情况 [2, 3, 4, 23, 30]\n",
      "发现不同的分支 [[2, 3, 4], [23]]\n",
      "并发执行的分支 [2, 3, 4]\n",
      "发现循环 [2]\n",
      "发现循环 [3]\n",
      "发现循环 [4]\n",
      "当前序列为: [2, 3, 4] 下一个可能出现event为: [23]\n",
      "判断分支情况 [23]\n",
      "发现不同的分支 [[23]]\n",
      "当前序列为: [23] 下一个可能出现event为: [21]\n",
      "当前序列中存在循环结构 [23]\n",
      "判断分支情况 [21]\n",
      "发现不同的分支 [[21]]\n",
      "当前序列为: [21] 下一个可能出现event为: [30]\n",
      "到达终止位置,结束 {30}\n",
      "当前序列为: [23] 下一个可能出现event为: []\n",
      "到达终止位置,结束 {30}\n",
      "{'0': {'diverge(5,22)'}, 'diverge(5,22)': {'5', '22'}, '22': {'merge(5,22)'}, '5': {'5', 'merge(5,22)'}, 'merge(5,22)': {'diverge(9,11,26)'}, 'diverge(9,11,26)': {'26', '9', '11'}, '9': {'9', 'merge(9,11,26)'}, '26': {'26', 'merge(9,11,26)'}, '11': {'11', 'merge(9,11,26)'}, 'merge(9,11,26)': {'diverge(2,3,4)', '23'}, 'diverge(2,3,4)': {'2', '4', '3'}, '2': {'2', 'merge(2,3,4)'}, '3': {'merge(2,3,4)', '3'}, '4': {'merge(2,3,4)', '4'}, 'merge(2,3,4)': {'23'}, '23': {'21', '23'}, '21': {'30'}}\n"
     ]
    }
   ],
   "source": [
    "ts = 0.006\n",
    "wf_cons = workflow_constructor(model,1,ts = 0.003)\n",
    "wf_cons.workflow_construction([0],{30})\n",
    "print(wf_cons.graph)"
   ]
  },
  {
   "cell_type": "code",
   "execution_count": 15,
   "metadata": {},
   "outputs": [
    {
     "name": "stdout",
     "output_type": "stream",
     "text": [
      "0 1 (0, 2)\n",
      "0 2 (-0.5, 3)\n",
      "1 2 (0.5, 3)\n",
      "0 1 (0, 4)\n",
      "0 1 (0, 5)\n",
      "0 3 (-1, 6)\n",
      "1 3 (0, 6)\n",
      "2 3 (1, 6)\n",
      "1 1 (0, 7)\n",
      "0 2 (-0.5, 8)\n",
      "1 2 (0.5, 8)\n",
      "0 4 (-1.5, 9)\n",
      "1 4 (-0.5, 9)\n",
      "2 4 (0.5, 9)\n",
      "1 2 (-0.5, 10)\n",
      "0 4 (1.5, 9)\n",
      "0 2 (0.5, 10)\n"
     ]
    },
    {
     "data": {
      "image/png": "[encoded data removed]",
      "text/plain": [
       "<Figure size 432x288 with 1 Axes>"
      ]
     },
     "metadata": {},
     "output_type": "display_data"
    }
   ],
   "source": [
    "draw_wf(wf_cons)"
   ]
  },
  {
   "cell_type": "code",
   "execution_count": 33,
   "metadata": {},
   "outputs": [],
   "source": [
    "_,pre,out=wf_cons.generate_seq([3,4,3,2,4,3,23,23,23,21],1,3)"
   ]
  },
  {
   "cell_type": "code",
   "execution_count": 21,
   "metadata": {},
   "outputs": [],
   "source": [
    "softmax = nn.Softmax(dim=0)"
   ]
  },
  {
   "cell_type": "code",
   "execution_count": 34,
   "metadata": {},
   "outputs": [
    {
     "data": {
      "text/plain": [
       "tensor(0.0004, grad_fn=<SelectBackward>)"
      ]
     },
     "execution_count": 34,
     "metadata": {},
     "output_type": "execute_result"
    }
   ],
   "source": [
    "softmax(out)[20]"
   ]
  },
  {
   "cell_type": "code",
   "execution_count": 24,
   "metadata": {},
   "outputs": [
    {
     "data": {
      "text/plain": [
       "tensor([ 4, 26, 25, 20,  6,  9,  5, 11, 30, 21])"
      ]
     },
     "execution_count": 24,
     "metadata": {},
     "output_type": "execute_result"
    }
   ],
   "source": [
    "pre"
   ]
  },
  {
   "cell_type": "code",
   "execution_count": null,
   "metadata": {},
   "outputs": [],
   "source": []
  }
 ],
 "metadata": {
  "kernelspec": {
   "display_name": "Python 3.6.7 64-bit ('cuda_pytorch': conda)",
   "language": "python",
   "name": "python36764bitcudapytorchconda3e33319a1fef4dc990a9d2f171216946"
  },
  "language_info": {
   "codemirror_mode": {
    "name": "ipython",
    "version": 3
   },
   "file_extension": ".py",
   "mimetype": "text/x-python",
   "name": "python",
   "nbconvert_exporter": "python",
   "pygments_lexer": "ipython3",
   "version": "3.6.7"
  }
 },
 "nbformat": 4,
 "nbformat_minor": 4
}
