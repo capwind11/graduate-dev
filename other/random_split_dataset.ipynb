{
 "cells": [
  {
   "cell_type": "code",
   "execution_count": 2,
   "metadata": {},
   "outputs": [],
   "source": [
    "import time\n",
    "from torch.utils.data import random_split\n",
    "from tqdm import tqdm"
   ]
  },
  {
   "cell_type": "code",
   "execution_count": 3,
   "metadata": {},
   "outputs": [],
   "source": [
    "def split_data(file_dir):\n",
    "    count = 0\n",
    "    with open(file_dir+'/normal','r') as f:\n",
    "        for i in f:\n",
    "            count+=1\n",
    "    print(4855/count)\n",
    "    data_set = random_split(range(count),[4855,count-4855])\n",
    "    f1 = open(file_dir+'/hdfs_test_normal','w')\n",
    "    f2 = open(file_dir+'/hdfs_train','w')\n",
    "    with open(file_dir+'/normal','r') as f:\n",
    "        lines = f.readlines()\n",
    "        for i in data_set[0]:\n",
    "            f2.write(lines[i])\n",
    "        for i in data_set[1]:\n",
    "            f1.write(lines[i])\n",
    "    f1.close()\n",
    "    f2.close()"
   ]
  },
  {
   "cell_type": "code",
   "execution_count": 14,
   "metadata": {},
   "outputs": [],
   "source": [
    "def count_session(name,window_size=10):\n",
    "    num_sessions = 0\n",
    "    num_seq = 0\n",
    "    sessions = set()\n",
    "    seqs = set()\n",
    "    with open(name, 'r') as f:\n",
    "        for line in tqdm(f,\"loading data\"):\n",
    "            num_sessions += 1\n",
    "            num_seq+=1\n",
    "            seq = [0]+list(map(lambda n: n, map(int, line.strip().split())))+[30]\n",
    "            line = tuple(seq)\n",
    "            sessions.add(line)\n",
    "            for i in range(len(line) - window_size):\n",
    "                seqs.add(line[i:window_size])\n",
    "                num_seq+=1\n",
    "    print('Number of sessions({}): {}'.format(name, len(sessions)))\n",
    "    print('Number of seqs({}): {}'.format(name, len(seqs)))"
   ]
  },
  {
   "cell_type": "code",
   "execution_count": 4,
   "metadata": {},
   "outputs": [],
   "source": [
    "def event_num(file_dir):\n",
    "    event_set=set()\n",
    "    with open(file_dir+'/normal','r') as f:\n",
    "        for line in f:\n",
    "            events = list(map(int,line.strip().split()))\n",
    "            for event in events:\n",
    "                event_set.add(event)\n",
    "    return event_set"
   ]
  },
  {
   "cell_type": "code",
   "execution_count": 5,
   "metadata": {},
   "outputs": [
    {
     "name": "stdout",
     "output_type": "stream",
     "text": [
      "0.008697272227307823\n"
     ]
    },
    {
     "ename": "NameError",
     "evalue": "name 'count_session' is not defined",
     "output_type": "error",
     "traceback": [
      "\u001b[1;31m---------------------------------------------------------------------------\u001b[0m",
      "\u001b[1;31mNameError\u001b[0m                                 Traceback (most recent call last)",
      "\u001b[1;32m<ipython-input-5-14df3294701a>\u001b[0m in \u001b[0;36m<module>\u001b[1;34m\u001b[0m\n\u001b[0;32m      1\u001b[0m \u001b[0mfile_dir\u001b[0m \u001b[1;33m=\u001b[0m \u001b[1;34m'../data_official'\u001b[0m\u001b[1;33m\u001b[0m\u001b[1;33m\u001b[0m\u001b[0m\n\u001b[0;32m      2\u001b[0m \u001b[0msplit_data\u001b[0m\u001b[1;33m(\u001b[0m\u001b[0mfile_dir\u001b[0m\u001b[1;33m)\u001b[0m\u001b[1;33m\u001b[0m\u001b[1;33m\u001b[0m\u001b[0m\n\u001b[1;32m----> 3\u001b[1;33m \u001b[0mcount_session\u001b[0m\u001b[1;33m(\u001b[0m\u001b[0mfile_dir\u001b[0m\u001b[1;33m+\u001b[0m\u001b[1;34m'/hdfs_train'\u001b[0m\u001b[1;33m)\u001b[0m\u001b[1;33m\u001b[0m\u001b[1;33m\u001b[0m\u001b[0m\n\u001b[0m",
      "\u001b[1;31mNameError\u001b[0m: name 'count_session' is not defined"
     ]
    }
   ],
   "source": [
    "file_dir = '../data_official'\n",
    "split_data(file_dir)\n",
    "count_session(file_dir+'/hdfs_train')"
   ]
  },
  {
   "cell_type": "code",
   "execution_count": 22,
   "metadata": {},
   "outputs": [
    {
     "name": "stderr",
     "output_type": "stream",
     "text": [
      "loading data: 4855it [00:00, 17339.32it/s]"
     ]
    },
    {
     "name": "stdout",
     "output_type": "stream",
     "text": [
      "Number of sessions(../data/hdfs_train): 839\n",
      "Number of seqs(../data/hdfs_train): 636\n"
     ]
    },
    {
     "name": "stderr",
     "output_type": "stream",
     "text": [
      "\n"
     ]
    }
   ],
   "source": [
    "count_session('../data/hdfs_train')"
   ]
  },
  {
   "cell_type": "code",
   "execution_count": 5,
   "metadata": {},
   "outputs": [
    {
     "ename": "NameError",
     "evalue": "name 'event_num' is not defined",
     "output_type": "error",
     "traceback": [
      "\u001b[1;31m---------------------------------------------------------------------------\u001b[0m",
      "\u001b[1;31mNameError\u001b[0m                                 Traceback (most recent call last)",
      "\u001b[1;32m<ipython-input-5-d16ac35dda7a>\u001b[0m in \u001b[0;36m<module>\u001b[1;34m\u001b[0m\n\u001b[1;32m----> 1\u001b[1;33m \u001b[0mofficial_set\u001b[0m\u001b[1;33m=\u001b[0m\u001b[0mevent_num\u001b[0m\u001b[1;33m(\u001b[0m\u001b[1;34m'../data_official'\u001b[0m\u001b[1;33m)\u001b[0m\u001b[1;33m\u001b[0m\u001b[1;33m\u001b[0m\u001b[0m\n\u001b[0m",
      "\u001b[1;31mNameError\u001b[0m: name 'event_num' is not defined"
     ]
    }
   ],
   "source": [
    "official_set=event_num('../data_official')"
   ]
  },
  {
   "cell_type": "code",
   "execution_count": 20,
   "metadata": {},
   "outputs": [
    {
     "data": {
      "text/plain": [
       "{1, 2, 3, 4, 5, 6, 7, 8, 9, 10, 11, 13, 16, 20, 21, 22}"
      ]
     },
     "execution_count": 20,
     "metadata": {},
     "output_type": "execute_result"
    }
   ],
   "source": [
    "dev_set = event_num('../data_dev')"
   ]
  },
  {
   "cell_type": "code",
   "execution_count": 7,
   "metadata": {},
   "outputs": [
    {
     "data": {
      "text/plain": [
       "{2, 3, 4, 5, 6, 9, 11, 16, 18, 20, 21, 22, 23, 25, 26, 27, 28}"
      ]
     },
     "execution_count": 7,
     "metadata": {},
     "output_type": "execute_result"
    }
   ],
   "source": [
    "official_set"
   ]
  },
  {
   "cell_type": "code",
   "execution_count": 22,
   "metadata": {},
   "outputs": [
    {
     "data": {
      "text/plain": [
       "16"
      ]
     },
     "execution_count": 22,
     "metadata": {},
     "output_type": "execute_result"
    }
   ],
   "source": [
    "len({1, 2, 3, 4, 5, 6, 7, 8, 9, 10, 11, 13, 16, 20, 21, 22})"
   ]
  }
 ],
 "metadata": {
  "kernelspec": {
   "display_name": "Python 3.6.7 64-bit ('cuda_pytorch': conda)",
   "language": "python",
   "name": "python36764bitcudapytorchconda3e33319a1fef4dc990a9d2f171216946"
  },
  "language_info": {
   "codemirror_mode": {
    "name": "ipython",
    "version": 3
   },
   "file_extension": ".py",
   "mimetype": "text/x-python",
   "name": "python",
   "nbconvert_exporter": "python",
   "pygments_lexer": "ipython3",
   "version": "3.6.7"
  }
 },
 "nbformat": 4,
 "nbformat_minor": 4
}
