{
 "cells": [
  {
   "cell_type": "code",
   "execution_count": 19,
   "metadata": {},
   "outputs": [],
   "source": [
    "import pandas as pd\n",
    "import torch\n",
    "from torch.utils.data import TensorDataset, DataLoader\n",
    "from tqdm import tqdm\n",
    "from ast import literal_eval"
   ]
  },
  {
   "cell_type": "code",
   "execution_count": 12,
   "metadata": {},
   "outputs": [],
   "source": [
    "data = pd.read_csv('./drain/results/normal.csv', engine='c', na_filter=False, memory_map=True)\n",
    "blockId_list= data['BlockId'].tolist()\n",
    "seqs = data['EventSequence'].apply(literal_eval).tolist()"
   ]
  },
  {
   "cell_type": "code",
   "execution_count": 13,
   "metadata": {},
   "outputs": [
    {
     "data": {
      "text/html": [
       "<div>\n",
       "<style scoped>\n",
       "    .dataframe tbody tr th:only-of-type {\n",
       "        vertical-align: middle;\n",
       "    }\n",
       "\n",
       "    .dataframe tbody tr th {\n",
       "        vertical-align: top;\n",
       "    }\n",
       "\n",
       "    .dataframe thead th {\n",
       "        text-align: right;\n",
       "    }\n",
       "</style>\n",
       "<table border=\"1\" class=\"dataframe\">\n",
       "  <thead>\n",
       "    <tr style=\"text-align: right;\">\n",
       "      <th></th>\n",
       "      <th>BlockId</th>\n",
       "      <th>EventSequence</th>\n",
       "    </tr>\n",
       "  </thead>\n",
       "  <tbody>\n",
       "    <tr>\n",
       "      <th>0</th>\n",
       "      <td>blk_-1608999687919862906</td>\n",
       "      <td>[1, 2, 1, 1, 3, 3, 4, 4, 3, 4, 5, 5, 5, 6, 1, ...</td>\n",
       "    </tr>\n",
       "    <tr>\n",
       "      <th>1</th>\n",
       "      <td>blk_7503483334202473044</td>\n",
       "      <td>[1, 1, 2, 1, 3, 4, 3, 4, 3, 4, 5, 5, 5, 10]</td>\n",
       "    </tr>\n",
       "    <tr>\n",
       "      <th>2</th>\n",
       "      <td>blk_-9073992586687739851</td>\n",
       "      <td>[1, 2, 1, 1, 3, 4, 3, 4, 3, 4, 5, 5, 5]</td>\n",
       "    </tr>\n",
       "    <tr>\n",
       "      <th>3</th>\n",
       "      <td>blk_7854771516489510256</td>\n",
       "      <td>[1, 1, 2, 1]</td>\n",
       "    </tr>\n",
       "    <tr>\n",
       "      <th>4</th>\n",
       "      <td>blk_1717858812220360316</td>\n",
       "      <td>[1, 1, 2, 1]</td>\n",
       "    </tr>\n",
       "  </tbody>\n",
       "</table>\n",
       "</div>"
      ],
      "text/plain": [
       "                    BlockId                                      EventSequence\n",
       "0  blk_-1608999687919862906  [1, 2, 1, 1, 3, 3, 4, 4, 3, 4, 5, 5, 5, 6, 1, ...\n",
       "1   blk_7503483334202473044        [1, 1, 2, 1, 3, 4, 3, 4, 3, 4, 5, 5, 5, 10]\n",
       "2  blk_-9073992586687739851            [1, 2, 1, 1, 3, 4, 3, 4, 3, 4, 5, 5, 5]\n",
       "3   blk_7854771516489510256                                       [1, 1, 2, 1]\n",
       "4   blk_1717858812220360316                                       [1, 1, 2, 1]"
      ]
     },
     "execution_count": 13,
     "metadata": {},
     "output_type": "execute_result"
    }
   ],
   "source": [
    "data.head()"
   ]
  },
  {
   "cell_type": "code",
   "execution_count": 20,
   "metadata": {},
   "outputs": [
    {
     "name": "stderr",
     "output_type": "stream",
     "text": [
      "loading data: 100%|███████████████████████████████████████████████████████████████| 382/382 [00:00<00:00, 42450.89it/s]"
     ]
    },
    {
     "name": "stdout",
     "output_type": "stream",
     "text": [
      "Number of sessions(test): 382\n",
      "Number of seqs(test): 2143\n"
     ]
    },
    {
     "name": "stderr",
     "output_type": "stream",
     "text": [
      "\n"
     ]
    }
   ],
   "source": [
    "num_sessions = 0\n",
    "window_size = 10\n",
    "inputs=[]\n",
    "outputs = []\n",
    "name = 'test'\n"
   ]
  },
  {
   "cell_type": "code",
   "execution_count": 23,
   "metadata": {},
   "outputs": [
    {
     "name": "stderr",
     "output_type": "stream",
     "text": [
      "loading data: 100%|███████████████████████████████████████████████████████████████| 382/382 [00:00<00:00, 38242.89it/s]"
     ]
    },
    {
     "name": "stdout",
     "output_type": "stream",
     "text": [
      "Number of sessions(./drain/results/normal.csv): 382\n",
      "Number of seqs(./drain/results/normal.csv): 2143\n"
     ]
    },
    {
     "name": "stderr",
     "output_type": "stream",
     "text": [
      "\n"
     ]
    },
    {
     "data": {
      "text/plain": [
       "<torch.utils.data.dataset.TensorDataset at 0x1ecd617ecf8>"
      ]
     },
     "execution_count": 23,
     "metadata": {},
     "output_type": "execute_result"
    }
   ],
   "source": [
    "name = './drain/results/normal.csv'\n",
    "generate_train_data(name)"
   ]
  },
  {
   "cell_type": "code",
   "execution_count": 22,
   "metadata": {},
   "outputs": [],
   "source": [
    "def generate_train_data(name):\n",
    "    num_sessions = 0\n",
    "    inputs = []\n",
    "    outputs = []\n",
    "    data = pd.read_csv(name, engine='c', na_filter=False, memory_map=True)\n",
    "    blockId_list= data['BlockId'].tolist()\n",
    "    seqs = data['EventSequence'].apply(literal_eval).tolist()\n",
    "    for line in tqdm(seqs, \"loading data\"):\n",
    "        num_sessions += 1\n",
    "        seq = [0] + line + [30] + [31] * (window_size - 1)\n",
    "        line = tuple(seq)\n",
    "\n",
    "        for i in range(len(line) - window_size):\n",
    "            inputs.append(line[i:i + window_size])\n",
    "            outputs.append(line[i + window_size])\n",
    "    print('Number of sessions({}): {}'.format(name, num_sessions))\n",
    "    print('Number of seqs({}): {}'.format(name, len(inputs)))\n",
    "    dataset = TensorDataset(torch.tensor(inputs, dtype=torch.float), torch.tensor(outputs))\n",
    "    return dataset"
   ]
  },
  {
   "cell_type": "code",
   "execution_count": 24,
   "metadata": {},
   "outputs": [],
   "source": [
    "def generate_test_data(name,window_size=10):\n",
    "    hdfs = set()\n",
    "    data = pd.read_csv(name, engine='c', na_filter=False, memory_map=True)\n",
    "    blockId_list= data['BlockId'].tolist()\n",
    "    seqs = data['EventSequence'].apply(literal_eval).tolist()\n",
    "    for ln in seqs:\n",
    "        ln = [0]+ln+[30]\n",
    "        ln = ln + [-1] * (window_size + 1 - len(ln))\n",
    "        hdfs.add(tuple(ln))\n",
    "        # hdfs.append(tuple(ln))\n",
    "    session_to_seq = []\n",
    "    seqs = []\n",
    "    labels = []\n",
    "    seq_count = 0\n",
    "    for line in tqdm(hdfs, \"normal:\"):\n",
    "        session = []\n",
    "        for i in range(len(line) - window_size):\n",
    "            seq = line[i:i + window_size]\n",
    "            label = line[i + window_size]\n",
    "            seqs.append(seq)\n",
    "            session.append(seq_count)\n",
    "            labels.append(label)\n",
    "            seq_count += 1\n",
    "        session_to_seq.append(session)\n",
    "    print('Number of sessions({}): {}'.format(name, len(session_to_seq)))\n",
    "    print('Number of seqs({}): {}'.format(name, len(seqs)))\n",
    "    dataset = TensorDataset(torch.tensor(seqs, dtype=torch.float), torch.tensor(labels))\n",
    "    return session_to_seq, dataset, seqs,labels"
   ]
  },
  {
   "cell_type": "code",
   "execution_count": 26,
   "metadata": {},
   "outputs": [
    {
     "name": "stderr",
     "output_type": "stream",
     "text": [
      "normal:: 100%|████████████████████████████████████████████████████████████████| 14259/14259 [00:00<00:00, 15790.69it/s]\n"
     ]
    },
    {
     "name": "stdout",
     "output_type": "stream",
     "text": [
      "Number of sessions(./drain/results/normal.csv): 14259\n",
      "Number of seqs(./drain/results/normal.csv): 271158\n"
     ]
    }
   ],
   "source": [
    "name = './drain/results/normal.csv'\n",
    "session_to_seq, dataset, seqs,labels = generate_test_data(name)"
   ]
  },
  {
   "cell_type": "code",
   "execution_count": null,
   "metadata": {},
   "outputs": [],
   "source": []
  }
 ],
 "metadata": {
  "kernelspec": {
   "display_name": "Python 3.6.7 64-bit ('cuda_pytorch': conda)",
   "language": "python",
   "name": "python36764bitcudapytorchconda3e33319a1fef4dc990a9d2f171216946"
  },
  "language_info": {
   "codemirror_mode": {
    "name": "ipython",
    "version": 3
   },
   "file_extension": ".py",
   "mimetype": "text/x-python",
   "name": "python",
   "nbconvert_exporter": "python",
   "pygments_lexer": "ipython3",
   "version": "3.6.7"
  }
 },
 "nbformat": 4,
 "nbformat_minor": 4
}
