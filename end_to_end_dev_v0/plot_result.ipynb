{
 "cells": [
  {
   "cell_type": "code",
   "execution_count": 1,
   "metadata": {},
   "outputs": [],
   "source": [
    "from utils.data_utils import *\n",
    "import unsupervised.model as unsupervised_model\n",
    "from torch import nn,optim\n",
    "from torch.utils.data import  DataLoader\n",
    "from torch.utils.tensorboard import SummaryWriter\n",
    "import pandas as pd\n",
    "import os"
   ]
  },
  {
   "cell_type": "code",
   "execution_count": 2,
   "metadata": {},
   "outputs": [],
   "source": [
    "device = torch.device(\"cuda\" if torch.cuda.is_available() else \"cpu\")\n",
    "num_classes = 32\n",
    "batch_size = 2048\n",
    "input_size = 1\n",
    "window_size = 10\n",
    "num_layers = 2\n",
    "hidden_size = 64"
   ]
  },
  {
   "cell_type": "code",
   "execution_count": 3,
   "metadata": {},
   "outputs": [],
   "source": [
    "logPath = 'D:\\\\毕业设计\\\\loghub\\\\HDFS_1\\\\HDFS.log'\n",
    "parsed_result = '.\\\\data\\\\parser\\\\log_item_to_label.csv'\n",
    "cluster_result = '.\\\\data\\\\parser\\\\'\n",
    "# partition\n",
    "partition_output = '.\\\\data\\\\lstm\\\\dataset_official\\\\'\n",
    "instance_file = 'instance.csv'\n",
    "label_file = '.\\\\data\\\\partition\\\\anormaly_label.csv'\n",
    "normal_output = 'normal.csv'\n",
    "abnormal_output = 'abnormal.csv'\n",
    "\n",
    "#lstm dataset\n",
    "lstm_dataset = '.\\\\data\\\\lstm\\\\dataset_official\\\\'\n",
    "unsupervised_train = 'train.csv'\n",
    "unsupervised_test_normal = 'normal.csv'\n",
    "unsupervised_test_abnormal = 'abnormal.csv'\n",
    "\n",
    "predicted_input = 'unsupervised_input.csv'\n",
    "predicted_normal_output = 'unsupervised_normal_output.csv'\n",
    "predicted_abnormal_output = 'unsupervised_abnormal_output.csv'\n",
    "supervised_test = 'supervised_test.csv'"
   ]
  },
  {
   "cell_type": "code",
   "execution_count": 4,
   "metadata": {},
   "outputs": [],
   "source": [
    "model_dir = 'model'\n",
    "input_size = 1\n",
    "model_usl_name = 'unsupervise_lstm_SGD'\n",
    "# model_usl_name = 'type={}_version={}'.format('official_unsupervised',version)"
   ]
  },
  {
   "cell_type": "code",
   "execution_count": 5,
   "metadata": {},
   "outputs": [],
   "source": [
    "def generate_predicted_data(name, window_size=10):\n",
    "\n",
    "    event_seq_set = set()\n",
    "    data = pd.read_csv(name, engine='c', na_filter=False, memory_map=True)\n",
    "    # blockId_list= data['BlockId'].tolist()\n",
    "    event_sequence = data['EventSequence'].apply(literal_eval).tolist()\n",
    "    block_to_seq = []\n",
    "    for i,line in enumerate(event_sequence[:4000]):\n",
    "        if tuple(line) not in event_seq_set:\n",
    "            block_to_seq.append([i,line])\n",
    "            event_seq_set.add(tuple(line))\n",
    "\n",
    "    session_to_seq = []\n",
    "    seqs = []\n",
    "    labels = []\n",
    "    seq_count = 0\n",
    "    event_seq_set = list(event_seq_set)\n",
    "    for line in tqdm(block_to_seq, name):\n",
    "        session = []\n",
    "        line = line[1]\n",
    "        line = [0]+list(line)+[30]\n",
    "        line = line + [-1] * (window_size + 1 - len(line))\n",
    "        for i in range(len(line) - window_size):\n",
    "            seq = line[i:i + window_size]\n",
    "            label = line[i + window_size]\n",
    "            seqs.append(seq)\n",
    "            session.append(seq_count)\n",
    "            labels.append(label)\n",
    "            seq_count += 1\n",
    "        session_to_seq.append(session)\n",
    "    print('Number of sessions({}): {}'.format(name, len(session_to_seq)))\n",
    "    print('Number of seqs({}): {}'.format(name, len(seqs)))\n",
    "    dataset = TensorDataset(torch.tensor(seqs, dtype=torch.float), torch.tensor(labels))\n",
    "    return session_to_seq, dataset, block_to_seq\n"
   ]
  },
  {
   "cell_type": "code",
   "execution_count": 5,
   "metadata": {},
   "outputs": [
    {
     "name": "stderr",
     "output_type": "stream",
     "text": [
      "loading data: 100%|█████████████████████████████████████████████████████████████| 4855/4855 [00:00<00:00, 25832.24it/s]\n"
     ]
    },
    {
     "name": "stdout",
     "output_type": "stream",
     "text": [
      "Number of sessions(.\\data\\lstm\\dataset_official\\train.csv): 4855\n",
      "Number of seqs(.\\data\\lstm\\dataset_official\\train.csv): 99980\n"
     ]
    },
    {
     "name": "stderr",
     "output_type": "stream",
     "text": [
      ".\\data\\lstm\\dataset_official\\no_dup_normal.csv: 100%|█████████████████████████| 14177/14177 [00:01<00:00, 11154.11it/s]\n"
     ]
    },
    {
     "name": "stdout",
     "output_type": "stream",
     "text": [
      "Number of sessions(.\\data\\lstm\\dataset_official\\no_dup_normal.csv): 14177\n",
      "Number of seqs(.\\data\\lstm\\dataset_official\\no_dup_normal.csv): 269570\n"
     ]
    },
    {
     "name": "stderr",
     "output_type": "stream",
     "text": [
      ".\\data\\lstm\\dataset_official\\no_dup_abnormal.csv: 100%|█████████████████████████| 4123/4123 [00:00<00:00, 11583.29it/s]\n"
     ]
    },
    {
     "name": "stdout",
     "output_type": "stream",
     "text": [
      "Number of sessions(.\\data\\lstm\\dataset_official\\no_dup_abnormal.csv): 4123\n",
      "Number of seqs(.\\data\\lstm\\dataset_official\\no_dup_abnormal.csv): 88410\n"
     ]
    }
   ],
   "source": [
    "train_dataset = generate_train_data(lstm_dataset + unsupervised_train)\n",
    "dataloader = DataLoader(train_dataset, batch_size=batch_size, shuffle=True, pin_memory=True)\n",
    "batch_size = 20000\n",
    "test_normal_session, test_normal_dataset, normal_block = generate_predicted_data(\n",
    "    lstm_dataset + 'no_dup_normal.csv', window_size)\n",
    "# normal_dataloader = DataLoader(test_normal_dataset, batch_size=batch_size, shuffle=False, pin_memory=True)\n",
    "test_abnormal_session, test_abnormal_dataset, abnormal_block = generate_predicted_data(\n",
    "    lstm_dataset + 'no_dup_abnormal.csv', window_size)\n",
    "abnormal_dataloader = DataLoader(test_abnormal_dataset, batch_size=batch_size, shuffle=False, pin_memory=True)"
   ]
  },
  {
   "cell_type": "code",
   "execution_count": 6,
   "metadata": {},
   "outputs": [],
   "source": [
    "# test_normal_session = test_normal_session[:4100]\n",
    "# test_normal_dataset = test_normal_dataset[]\n",
    "normal_dataloader = DataLoader(test_normal_dataset, batch_size=batch_size, shuffle=False, pin_memory=True)"
   ]
  },
  {
   "cell_type": "code",
   "execution_count": 7,
   "metadata": {},
   "outputs": [],
   "source": [
    "model = unsupervised_model.Model(input_size, hidden_size, num_layers, num_classes).to(device)\n",
    "criterion = nn.CrossEntropyLoss(ignore_index=31)\n",
    "optimizer = optim.SGD(model.parameters(),lr=0.01, momentum=0.9)"
   ]
  },
  {
   "cell_type": "code",
   "execution_count": 8,
   "metadata": {},
   "outputs": [],
   "source": [
    "writer = SummaryWriter(log_dir='log/' + model_usl_name)"
   ]
  },
  {
   "cell_type": "code",
   "execution_count": 9,
   "metadata": {},
   "outputs": [],
   "source": [
    "current_epoch = 0\n",
    "num_epochs = 400"
   ]
  },
  {
   "cell_type": "code",
   "execution_count": 10,
   "metadata": {},
   "outputs": [],
   "source": [
    "def predict(model, dataloader, sessions, num_candidates=5, window_size=10, ts=0.0003):\n",
    "    softmax = nn.Softmax(dim=1)\n",
    "    # Test the model\n",
    "    result = []\n",
    "    seq_result = []\n",
    "    with torch.no_grad():\n",
    "        for step, (seq, labels) in tqdm(enumerate(dataloader), desc='loading data'):\n",
    "            seq = seq.clone().detach().view(-1, window_size, input_size).to(device)\n",
    "            output = model(seq).cpu()\n",
    "            output = output[:, -1, :]\n",
    "            prob = softmax(output)\n",
    "            predicted = torch.argsort(output, 1)[:, -num_candidates:]\n",
    "            for i, label in enumerate(labels):\n",
    "                if label not in predicted[i] or prob[i][label] < ts:\n",
    "                    seq_result.append(True)\n",
    "                else:\n",
    "                    seq_result.append(False)\n",
    "\n",
    "    for session in sessions:\n",
    "        positive = False\n",
    "        for seq_id in session:\n",
    "            if seq_result[seq_id] == True:\n",
    "                positive = True\n",
    "                break\n",
    "        result.append(positive)\n",
    "\n",
    "    return result\n",
    "\n",
    "# count_metries\n",
    "def count_metries(model, normal_dataloader, abnormal_dataloader, test_normal_session, test_abnormal_session, num_candidates=5, window_size=10, ts=0.0003):\n",
    "\n",
    "    model.eval()\n",
    "    # Test the model\n",
    "    start_time = time.time()\n",
    "    test_normal_result = predict(model,normal_dataloader,test_normal_session,num_candidates,window_size,ts)\n",
    "    test_abnormal_result = predict(model,abnormal_dataloader,test_abnormal_session,num_candidates,window_size,ts)\n",
    "    elapsed_time = time.time() - start_time\n",
    "    print('elapsed_time: {:.3f}s'.format(elapsed_time))\n",
    "    TP = test_abnormal_result.count(True)\n",
    "    FP = test_normal_result.count(True)\n",
    "    TN = len(test_normal_session) - FP\n",
    "    # Compute precision, recall and F1-measure\n",
    "    FN = len(test_abnormal_session) - TP\n",
    "    A = 100 * (TP+TN)/(TP+FP+FN+TN)\n",
    "    P = 100 * TP / (TP + FP)\n",
    "    R = 100 * TP / (TP + FN)\n",
    "    F1 = 2 * P * R / (P + R)\n",
    "    print('false positive (FP): {}, false negative (FN): {}, Precision: {:.3f}%, Recall: {:.3f}%, F1-measure: {:.3f}%'.format(FP, FN, P, R, F1))\n",
    "    print('Finished Predicting')\n",
    "    return A,P,R,F1"
   ]
  },
  {
   "cell_type": "code",
   "execution_count": 11,
   "metadata": {},
   "outputs": [],
   "source": [
    "def metric(steps):\n",
    "    model.eval()\n",
    "    A,P,R,F1 = count_metries(model, normal_dataloader, abnormal_dataloader,\n",
    "                                test_normal_session, test_abnormal_session,\n",
    "                                10, window_size,ts=0)\n",
    "    result.append([steps,[A,P,R,F1]])\n",
    "    print(\"正确率:{} 准确率:{} 召回率:{} F1值:{}\".format(round(A,3),round(P,3),round(R,3),round(F1,3)))\n",
    "    writer.add_scalar('正确率', A, steps)\n",
    "    writer.add_scalar('准确率', P, steps)\n",
    "    writer.add_scalar('召回率', R, steps)\n",
    "    writer.add_scalar('F1值', F1, steps)\n",
    "    model.train()"
   ]
  },
  {
   "cell_type": "code",
   "execution_count": 12,
   "metadata": {},
   "outputs": [
    {
     "name": "stdout",
     "output_type": "stream",
     "text": [
      "49\n"
     ]
    }
   ],
   "source": [
    "total_step = len(dataloader)\n",
    "print(total_step)\n",
    "model = unsupervised_model.Model(input_size, hidden_size, num_layers, num_classes).to(device)\n",
    "criterion = nn.CrossEntropyLoss(ignore_index=31)\n",
    "optimizer = optim.SGD(model.parameters(),lr=0.01, momentum=0.9)"
   ]
  },
  {
   "cell_type": "code",
   "execution_count": null,
   "metadata": {},
   "outputs": [
    {
     "name": "stderr",
     "output_type": "stream",
     "text": [
      "loading data: 14it [00:48,  3.46s/it]\n",
      "loading data: 5it [00:16,  3.25s/it]\n"
     ]
    },
    {
     "name": "stdout",
     "output_type": "stream",
     "text": [
      "elapsed_time: 64.804s\n",
      "false positive (FP): 14131, false negative (FN): 0, Precision: 22.587%, Recall: 100.000%, F1-measure: 36.850%\n",
      "Finished Predicting\n",
      "正确率:22.781 准确率:22.587 召回率:100.0 F1值:36.85\n"
     ]
    },
    {
     "name": "stderr",
     "output_type": "stream",
     "text": [
      "loading data: 14it [00:55,  3.97s/it]\n",
      "loading data: 5it [00:19,  3.97s/it]\n"
     ]
    },
    {
     "name": "stdout",
     "output_type": "stream",
     "text": [
      "elapsed_time: 75.506s\n",
      "false positive (FP): 12845, false negative (FN): 54, Precision: 24.057%, Recall: 98.690%, F1-measure: 38.684%\n",
      "Finished Predicting\n",
      "正确率:29.514 准确率:24.057 召回率:98.69 F1值:38.684\n"
     ]
    },
    {
     "name": "stderr",
     "output_type": "stream",
     "text": [
      "loading data: 14it [00:54,  3.88s/it]\n",
      "loading data: 5it [00:19,  3.83s/it]\n"
     ]
    },
    {
     "name": "stdout",
     "output_type": "stream",
     "text": [
      "elapsed_time: 73.549s\n",
      "false positive (FP): 12727, false negative (FN): 56, Precision: 24.217%, Recall: 98.642%, F1-measure: 38.887%\n",
      "Finished Predicting\n",
      "正确率:30.148 准确率:24.217 召回率:98.642 F1值:38.887\n"
     ]
    },
    {
     "name": "stderr",
     "output_type": "stream",
     "text": [
      "loading data: 14it [00:52,  3.78s/it]\n",
      "loading data: 5it [00:13,  2.76s/it]\n"
     ]
    },
    {
     "name": "stdout",
     "output_type": "stream",
     "text": [
      "elapsed_time: 66.861s\n",
      "false positive (FP): 12727, false negative (FN): 56, Precision: 24.217%, Recall: 98.642%, F1-measure: 38.887%\n",
      "Finished Predicting\n",
      "正确率:30.148 准确率:24.217 召回率:98.642 F1值:38.887\n"
     ]
    },
    {
     "name": "stderr",
     "output_type": "stream",
     "text": [
      "loading data: 14it [00:46,  3.34s/it]\n",
      "loading data: 5it [00:14,  2.86s/it]\n"
     ]
    },
    {
     "name": "stdout",
     "output_type": "stream",
     "text": [
      "elapsed_time: 61.163s\n",
      "false positive (FP): 7867, false negative (FN): 73, Precision: 33.985%, Recall: 98.229%, F1-measure: 50.499%\n",
      "Finished Predicting\n",
      "正确率:56.612 准确率:33.985 召回率:98.229 F1值:50.499\n"
     ]
    },
    {
     "name": "stderr",
     "output_type": "stream",
     "text": [
      "\r",
      "loading data: 0it [00:00, ?it/s]"
     ]
    },
    {
     "name": "stdout",
     "output_type": "stream",
     "text": [
      "Epoch [1/400], train_loss: 3.0551\n"
     ]
    },
    {
     "name": "stderr",
     "output_type": "stream",
     "text": [
      "loading data: 14it [00:47,  3.39s/it]\n",
      "loading data: 5it [00:13,  2.68s/it]\n"
     ]
    },
    {
     "name": "stdout",
     "output_type": "stream",
     "text": [
      "elapsed_time: 60.906s\n",
      "false positive (FP): 7866, false negative (FN): 74, Precision: 33.982%, Recall: 98.205%, F1-measure: 50.493%\n",
      "Finished Predicting\n",
      "正确率:56.612 准确率:33.982 召回率:98.205 F1值:50.493\n"
     ]
    },
    {
     "name": "stderr",
     "output_type": "stream",
     "text": [
      "loading data: 14it [00:43,  3.08s/it]\n",
      "loading data: 5it [00:13,  2.78s/it]\n"
     ]
    },
    {
     "name": "stdout",
     "output_type": "stream",
     "text": [
      "elapsed_time: 57.111s\n",
      "false positive (FP): 7866, false negative (FN): 74, Precision: 33.982%, Recall: 98.205%, F1-measure: 50.493%\n",
      "Finished Predicting\n",
      "正确率:56.612 准确率:33.982 召回率:98.205 F1值:50.493\n"
     ]
    },
    {
     "name": "stderr",
     "output_type": "stream",
     "text": [
      "loading data: 14it [00:47,  3.41s/it]\n",
      "loading data: 5it [00:14,  2.83s/it]\n"
     ]
    },
    {
     "name": "stdout",
     "output_type": "stream",
     "text": [
      "elapsed_time: 61.963s\n",
      "false positive (FP): 7866, false negative (FN): 74, Precision: 33.982%, Recall: 98.205%, F1-measure: 50.493%\n",
      "Finished Predicting\n",
      "正确率:56.612 准确率:33.982 召回率:98.205 F1值:50.493\n"
     ]
    },
    {
     "name": "stderr",
     "output_type": "stream",
     "text": [
      "loading data: 14it [00:45,  3.24s/it]\n",
      "loading data: 5it [00:14,  2.92s/it]\n"
     ]
    },
    {
     "name": "stdout",
     "output_type": "stream",
     "text": [
      "elapsed_time: 59.953s\n",
      "false positive (FP): 7866, false negative (FN): 74, Precision: 33.982%, Recall: 98.205%, F1-measure: 50.493%\n",
      "Finished Predicting\n",
      "正确率:56.612 准确率:33.982 召回率:98.205 F1值:50.493\n"
     ]
    },
    {
     "name": "stderr",
     "output_type": "stream",
     "text": [
      "loading data: 14it [00:45,  3.26s/it]\n",
      "loading data: 5it [00:15,  3.07s/it]\n"
     ]
    },
    {
     "name": "stdout",
     "output_type": "stream",
     "text": [
      "elapsed_time: 61.088s\n",
      "false positive (FP): 5688, false negative (FN): 78, Precision: 41.560%, Recall: 98.108%, F1-measure: 58.386%\n",
      "Finished Predicting\n",
      "正确率:68.492 准确率:41.56 召回率:98.108 F1值:58.386\n"
     ]
    },
    {
     "name": "stderr",
     "output_type": "stream",
     "text": [
      "loading data: 14it [00:46,  3.31s/it]\n",
      "loading data: 5it [00:15,  3.04s/it]\n"
     ]
    },
    {
     "name": "stdout",
     "output_type": "stream",
     "text": [
      "elapsed_time: 61.610s\n",
      "false positive (FP): 830, false negative (FN): 93, Precision: 82.922%, Recall: 97.744%, F1-measure: 89.725%\n",
      "Finished Predicting\n",
      "正确率:94.956 准确率:82.922 召回率:97.744 F1值:89.725\n"
     ]
    },
    {
     "name": "stderr",
     "output_type": "stream",
     "text": [
      "\r",
      "loading data: 0it [00:00, ?it/s]"
     ]
    },
    {
     "name": "stdout",
     "output_type": "stream",
     "text": [
      "Epoch [2/400], train_loss: 2.3465\n"
     ]
    },
    {
     "name": "stderr",
     "output_type": "stream",
     "text": [
      "loading data: 14it [00:47,  3.39s/it]\n",
      "loading data: 5it [00:13,  2.78s/it]\n"
     ]
    },
    {
     "name": "stdout",
     "output_type": "stream",
     "text": [
      "elapsed_time: 61.482s\n",
      "false positive (FP): 830, false negative (FN): 93, Precision: 82.922%, Recall: 97.744%, F1-measure: 89.725%\n",
      "Finished Predicting\n",
      "正确率:94.956 准确率:82.922 召回率:97.744 F1值:89.725\n"
     ]
    },
    {
     "name": "stderr",
     "output_type": "stream",
     "text": [
      "\r",
      "loading data: 0it [00:00, ?it/s]"
     ]
    },
    {
     "name": "stdout",
     "output_type": "stream",
     "text": [
      "Epoch [3/400], train_loss: 2.1966\n"
     ]
    },
    {
     "name": "stderr",
     "output_type": "stream",
     "text": [
      "loading data: 14it [00:45,  3.24s/it]\n",
      "loading data: 5it [00:13,  2.72s/it]\n"
     ]
    },
    {
     "name": "stdout",
     "output_type": "stream",
     "text": [
      "elapsed_time: 58.987s\n",
      "false positive (FP): 830, false negative (FN): 93, Precision: 82.922%, Recall: 97.744%, F1-measure: 89.725%\n",
      "Finished Predicting\n",
      "正确率:94.956 准确率:82.922 召回率:97.744 F1值:89.725\n"
     ]
    },
    {
     "name": "stderr",
     "output_type": "stream",
     "text": [
      "\r",
      "loading data: 0it [00:00, ?it/s]"
     ]
    },
    {
     "name": "stdout",
     "output_type": "stream",
     "text": [
      "Epoch [4/400], train_loss: 2.0897\n"
     ]
    },
    {
     "name": "stderr",
     "output_type": "stream",
     "text": [
      "loading data: 14it [00:43,  3.14s/it]\n",
      "loading data: 5it [00:12,  2.55s/it]\n"
     ]
    },
    {
     "name": "stdout",
     "output_type": "stream",
     "text": [
      "elapsed_time: 56.739s\n",
      "false positive (FP): 830, false negative (FN): 93, Precision: 82.922%, Recall: 97.744%, F1-measure: 89.725%\n",
      "Finished Predicting\n",
      "正确率:94.956 准确率:82.922 召回率:97.744 F1值:89.725\n"
     ]
    },
    {
     "name": "stderr",
     "output_type": "stream",
     "text": [
      "\r",
      "loading data: 0it [00:00, ?it/s]"
     ]
    },
    {
     "name": "stdout",
     "output_type": "stream",
     "text": [
      "Epoch [5/400], train_loss: 1.9273\n"
     ]
    },
    {
     "name": "stderr",
     "output_type": "stream",
     "text": [
      "loading data: 14it [00:45,  3.22s/it]\n",
      "loading data: 5it [00:13,  2.78s/it]\n"
     ]
    },
    {
     "name": "stdout",
     "output_type": "stream",
     "text": [
      "elapsed_time: 59.063s\n",
      "false positive (FP): 830, false negative (FN): 93, Precision: 82.922%, Recall: 97.744%, F1-measure: 89.725%\n",
      "Finished Predicting\n",
      "正确率:94.956 准确率:82.922 召回率:97.744 F1值:89.725\n"
     ]
    },
    {
     "name": "stderr",
     "output_type": "stream",
     "text": [
      "\r",
      "loading data: 0it [00:00, ?it/s]"
     ]
    },
    {
     "name": "stdout",
     "output_type": "stream",
     "text": [
      "Epoch [6/400], train_loss: 1.8178\n"
     ]
    },
    {
     "name": "stderr",
     "output_type": "stream",
     "text": [
      "loading data: 14it [00:43,  3.14s/it]\n",
      "loading data: 5it [00:13,  2.73s/it]\n"
     ]
    },
    {
     "name": "stdout",
     "output_type": "stream",
     "text": [
      "elapsed_time: 57.678s\n",
      "false positive (FP): 819, false negative (FN): 95, Precision: 83.103%, Recall: 97.696%, F1-measure: 89.810%\n",
      "Finished Predicting\n",
      "正确率:95.005 准确率:83.103 召回率:97.696 F1值:89.81\n"
     ]
    },
    {
     "name": "stderr",
     "output_type": "stream",
     "text": [
      "\r",
      "loading data: 0it [00:00, ?it/s]"
     ]
    },
    {
     "name": "stdout",
     "output_type": "stream",
     "text": [
      "Epoch [7/400], train_loss: 1.7419\n"
     ]
    },
    {
     "name": "stderr",
     "output_type": "stream",
     "text": [
      "loading data: 14it [00:43,  3.14s/it]\n",
      "loading data: 5it [00:13,  2.74s/it]\n"
     ]
    },
    {
     "name": "stdout",
     "output_type": "stream",
     "text": [
      "elapsed_time: 57.701s\n",
      "false positive (FP): 823, false negative (FN): 95, Precision: 83.034%, Recall: 97.696%, F1-measure: 89.770%\n",
      "Finished Predicting\n",
      "正确率:94.984 准确率:83.034 召回率:97.696 F1值:89.77\n"
     ]
    },
    {
     "name": "stderr",
     "output_type": "stream",
     "text": [
      "\r",
      "loading data: 0it [00:00, ?it/s]"
     ]
    },
    {
     "name": "stdout",
     "output_type": "stream",
     "text": [
      "Epoch [8/400], train_loss: 1.6687\n"
     ]
    },
    {
     "name": "stderr",
     "output_type": "stream",
     "text": [
      "loading data: 14it [00:44,  3.18s/it]\n",
      "loading data: 5it [00:13,  2.75s/it]\n"
     ]
    },
    {
     "name": "stdout",
     "output_type": "stream",
     "text": [
      "elapsed_time: 58.292s\n",
      "false positive (FP): 826, false negative (FN): 95, Precision: 82.983%, Recall: 97.696%, F1-measure: 89.740%\n",
      "Finished Predicting\n",
      "正确率:94.967 准确率:82.983 召回率:97.696 F1值:89.74\n"
     ]
    },
    {
     "name": "stderr",
     "output_type": "stream",
     "text": [
      "\r",
      "loading data: 0it [00:00, ?it/s]"
     ]
    },
    {
     "name": "stdout",
     "output_type": "stream",
     "text": [
      "Epoch [9/400], train_loss: 1.5934\n"
     ]
    },
    {
     "name": "stderr",
     "output_type": "stream",
     "text": [
      "loading data: 14it [00:44,  3.19s/it]\n",
      "loading data: 5it [00:13,  2.76s/it]\n"
     ]
    },
    {
     "name": "stdout",
     "output_type": "stream",
     "text": [
      "elapsed_time: 58.490s\n",
      "false positive (FP): 825, false negative (FN): 95, Precision: 83.000%, Recall: 97.696%, F1-measure: 89.750%\n",
      "Finished Predicting\n",
      "正确率:94.973 准确率:83.0 召回率:97.696 F1值:89.75\n"
     ]
    },
    {
     "name": "stderr",
     "output_type": "stream",
     "text": [
      "\r",
      "loading data: 0it [00:00, ?it/s]"
     ]
    },
    {
     "name": "stdout",
     "output_type": "stream",
     "text": [
      "Epoch [10/400], train_loss: 1.5290\n"
     ]
    },
    {
     "name": "stderr",
     "output_type": "stream",
     "text": [
      "loading data: 14it [00:44,  3.21s/it]\n",
      "loading data: 5it [00:14,  2.83s/it]\n"
     ]
    },
    {
     "name": "stdout",
     "output_type": "stream",
     "text": [
      "elapsed_time: 59.124s\n",
      "false positive (FP): 823, false negative (FN): 95, Precision: 83.034%, Recall: 97.696%, F1-measure: 89.770%\n",
      "Finished Predicting\n",
      "正确率:94.984 准确率:83.034 召回率:97.696 F1值:89.77\n"
     ]
    },
    {
     "name": "stderr",
     "output_type": "stream",
     "text": [
      "\r",
      "loading data: 0it [00:00, ?it/s]"
     ]
    },
    {
     "name": "stdout",
     "output_type": "stream",
     "text": [
      "Epoch [11/400], train_loss: 1.4804\n"
     ]
    },
    {
     "name": "stderr",
     "output_type": "stream",
     "text": [
      "loading data: 14it [00:42,  3.03s/it]\n",
      "loading data: 5it [00:13,  2.65s/it]\n"
     ]
    },
    {
     "name": "stdout",
     "output_type": "stream",
     "text": [
      "elapsed_time: 55.745s\n",
      "false positive (FP): 819, false negative (FN): 96, Precision: 83.099%, Recall: 97.672%, F1-measure: 89.798%\n",
      "Finished Predicting\n",
      "正确率:95.0 准确率:83.099 召回率:97.672 F1值:89.798\n"
     ]
    },
    {
     "name": "stderr",
     "output_type": "stream",
     "text": [
      "\r",
      "loading data: 0it [00:00, ?it/s]"
     ]
    },
    {
     "name": "stdout",
     "output_type": "stream",
     "text": [
      "Epoch [12/400], train_loss: 1.4417\n"
     ]
    },
    {
     "name": "stderr",
     "output_type": "stream",
     "text": [
      "loading data: 14it [00:43,  3.13s/it]\n",
      "loading data: 5it [00:13,  2.69s/it]\n"
     ]
    },
    {
     "name": "stdout",
     "output_type": "stream",
     "text": [
      "elapsed_time: 57.296s\n",
      "false positive (FP): 819, false negative (FN): 96, Precision: 83.099%, Recall: 97.672%, F1-measure: 89.798%\n",
      "Finished Predicting\n",
      "正确率:95.0 准确率:83.099 召回率:97.672 F1值:89.798\n"
     ]
    },
    {
     "name": "stderr",
     "output_type": "stream",
     "text": [
      "\r",
      "loading data: 0it [00:00, ?it/s]"
     ]
    },
    {
     "name": "stdout",
     "output_type": "stream",
     "text": [
      "Epoch [13/400], train_loss: 1.4070\n"
     ]
    },
    {
     "name": "stderr",
     "output_type": "stream",
     "text": [
      "loading data: 14it [00:44,  3.15s/it]\n",
      "loading data: 5it [00:12,  2.44s/it]\n"
     ]
    },
    {
     "name": "stdout",
     "output_type": "stream",
     "text": [
      "elapsed_time: 56.426s\n",
      "false positive (FP): 819, false negative (FN): 96, Precision: 83.099%, Recall: 97.672%, F1-measure: 89.798%\n",
      "Finished Predicting\n",
      "正确率:95.0 准确率:83.099 召回率:97.672 F1值:89.798\n"
     ]
    },
    {
     "name": "stderr",
     "output_type": "stream",
     "text": [
      "\r",
      "loading data: 0it [00:00, ?it/s]"
     ]
    },
    {
     "name": "stdout",
     "output_type": "stream",
     "text": [
      "Epoch [14/400], train_loss: 1.3735\n"
     ]
    },
    {
     "name": "stderr",
     "output_type": "stream",
     "text": [
      "loading data: 14it [00:44,  3.14s/it]\n",
      "loading data: 5it [00:13,  2.73s/it]\n"
     ]
    },
    {
     "name": "stdout",
     "output_type": "stream",
     "text": [
      "elapsed_time: 57.737s\n",
      "false positive (FP): 817, false negative (FN): 96, Precision: 83.134%, Recall: 97.672%, F1-measure: 89.818%\n",
      "Finished Predicting\n",
      "正确率:95.011 准确率:83.134 召回率:97.672 F1值:89.818\n"
     ]
    },
    {
     "name": "stderr",
     "output_type": "stream",
     "text": [
      "\r",
      "loading data: 0it [00:00, ?it/s]"
     ]
    },
    {
     "name": "stdout",
     "output_type": "stream",
     "text": [
      "Epoch [15/400], train_loss: 1.3385\n"
     ]
    },
    {
     "name": "stderr",
     "output_type": "stream",
     "text": [
      "loading data: 14it [00:43,  3.13s/it]\n",
      "loading data: 5it [00:13,  2.63s/it]\n"
     ]
    },
    {
     "name": "stdout",
     "output_type": "stream",
     "text": [
      "elapsed_time: 56.953s\n",
      "false positive (FP): 815, false negative (FN): 96, Precision: 83.168%, Recall: 97.672%, F1-measure: 89.838%\n",
      "Finished Predicting\n",
      "正确率:95.022 准确率:83.168 召回率:97.672 F1值:89.838\n"
     ]
    },
    {
     "name": "stderr",
     "output_type": "stream",
     "text": [
      "\r",
      "loading data: 0it [00:00, ?it/s]"
     ]
    },
    {
     "name": "stdout",
     "output_type": "stream",
     "text": [
      "Epoch [16/400], train_loss: 1.2986\n"
     ]
    },
    {
     "name": "stderr",
     "output_type": "stream",
     "text": [
      "loading data: 14it [00:43,  3.12s/it]\n",
      "loading data: 5it [00:14,  2.81s/it]\n"
     ]
    },
    {
     "name": "stdout",
     "output_type": "stream",
     "text": [
      "elapsed_time: 57.871s\n",
      "false positive (FP): 815, false negative (FN): 96, Precision: 83.168%, Recall: 97.672%, F1-measure: 89.838%\n",
      "Finished Predicting\n",
      "正确率:95.022 准确率:83.168 召回率:97.672 F1值:89.838\n"
     ]
    },
    {
     "name": "stderr",
     "output_type": "stream",
     "text": [
      "\r",
      "loading data: 0it [00:00, ?it/s]"
     ]
    },
    {
     "name": "stdout",
     "output_type": "stream",
     "text": [
      "Epoch [17/400], train_loss: 1.2532\n"
     ]
    },
    {
     "name": "stderr",
     "output_type": "stream",
     "text": [
      "loading data: 14it [00:45,  3.25s/it]\n",
      "loading data: 5it [00:13,  2.76s/it]\n"
     ]
    },
    {
     "name": "stdout",
     "output_type": "stream",
     "text": [
      "elapsed_time: 59.321s\n",
      "false positive (FP): 815, false negative (FN): 96, Precision: 83.168%, Recall: 97.672%, F1-measure: 89.838%\n",
      "Finished Predicting\n",
      "正确率:95.022 准确率:83.168 召回率:97.672 F1值:89.838\n"
     ]
    },
    {
     "name": "stderr",
     "output_type": "stream",
     "text": [
      "\r",
      "loading data: 0it [00:00, ?it/s]"
     ]
    },
    {
     "name": "stdout",
     "output_type": "stream",
     "text": [
      "Epoch [18/400], train_loss: 1.2143\n"
     ]
    },
    {
     "name": "stderr",
     "output_type": "stream",
     "text": [
      "loading data: 14it [00:45,  3.26s/it]\n",
      "loading data: 5it [00:13,  2.77s/it]\n"
     ]
    },
    {
     "name": "stdout",
     "output_type": "stream",
     "text": [
      "elapsed_time: 59.586s\n",
      "false positive (FP): 821, false negative (FN): 96, Precision: 83.065%, Recall: 97.672%, F1-measure: 89.778%\n",
      "Finished Predicting\n",
      "正确率:94.989 准确率:83.065 召回率:97.672 F1值:89.778\n"
     ]
    },
    {
     "name": "stderr",
     "output_type": "stream",
     "text": [
      "\r",
      "loading data: 0it [00:00, ?it/s]"
     ]
    },
    {
     "name": "stdout",
     "output_type": "stream",
     "text": [
      "Epoch [19/400], train_loss: 1.1637\n"
     ]
    },
    {
     "name": "stderr",
     "output_type": "stream",
     "text": [
      "loading data: 14it [00:44,  3.21s/it]\n",
      "loading data: 5it [00:14,  2.87s/it]\n"
     ]
    },
    {
     "name": "stdout",
     "output_type": "stream",
     "text": [
      "elapsed_time: 59.356s\n",
      "false positive (FP): 812, false negative (FN): 96, Precision: 83.220%, Recall: 97.672%, F1-measure: 89.868%\n",
      "Finished Predicting\n",
      "正确率:95.038 准确率:83.22 召回率:97.672 F1值:89.868\n"
     ]
    },
    {
     "name": "stderr",
     "output_type": "stream",
     "text": [
      "\r",
      "loading data: 0it [00:00, ?it/s]"
     ]
    },
    {
     "name": "stdout",
     "output_type": "stream",
     "text": [
      "Epoch [20/400], train_loss: 1.1139\n"
     ]
    },
    {
     "name": "stderr",
     "output_type": "stream",
     "text": [
      "loading data: 14it [00:52,  3.76s/it]\n",
      "loading data: 5it [00:14,  2.83s/it]\n"
     ]
    },
    {
     "name": "stdout",
     "output_type": "stream",
     "text": [
      "elapsed_time: 66.844s\n",
      "false positive (FP): 810, false negative (FN): 96, Precision: 83.254%, Recall: 97.672%, F1-measure: 89.888%\n",
      "Finished Predicting\n",
      "正确率:95.049 准确率:83.254 召回率:97.672 F1值:89.888\n"
     ]
    },
    {
     "name": "stderr",
     "output_type": "stream",
     "text": [
      "\r",
      "loading data: 0it [00:00, ?it/s]"
     ]
    },
    {
     "name": "stdout",
     "output_type": "stream",
     "text": [
      "Epoch [21/400], train_loss: 1.0892\n"
     ]
    },
    {
     "name": "stderr",
     "output_type": "stream",
     "text": [
      "loading data: 14it [00:47,  3.43s/it]\n",
      "loading data: 5it [00:13,  2.76s/it]\n"
     ]
    },
    {
     "name": "stdout",
     "output_type": "stream",
     "text": [
      "elapsed_time: 61.874s\n",
      "false positive (FP): 809, false negative (FN): 95, Precision: 83.275%, Recall: 97.696%, F1-measure: 89.911%\n",
      "Finished Predicting\n",
      "正确率:95.06 准确率:83.275 召回率:97.696 F1值:89.911\n"
     ]
    },
    {
     "name": "stderr",
     "output_type": "stream",
     "text": [
      "\r",
      "loading data: 0it [00:00, ?it/s]"
     ]
    },
    {
     "name": "stdout",
     "output_type": "stream",
     "text": [
      "Epoch [22/400], train_loss: 1.0409\n"
     ]
    },
    {
     "name": "stderr",
     "output_type": "stream",
     "text": [
      "loading data: 14it [00:44,  3.18s/it]\n",
      "loading data: 5it [00:13,  2.76s/it]\n"
     ]
    },
    {
     "name": "stdout",
     "output_type": "stream",
     "text": [
      "elapsed_time: 58.392s\n",
      "false positive (FP): 811, false negative (FN): 95, Precision: 83.240%, Recall: 97.696%, F1-measure: 89.891%\n",
      "Finished Predicting\n",
      "正确率:95.049 准确率:83.24 召回率:97.696 F1值:89.891\n"
     ]
    },
    {
     "name": "stderr",
     "output_type": "stream",
     "text": [
      "\r",
      "loading data: 0it [00:00, ?it/s]"
     ]
    },
    {
     "name": "stdout",
     "output_type": "stream",
     "text": [
      "Epoch [23/400], train_loss: 1.0050\n"
     ]
    },
    {
     "name": "stderr",
     "output_type": "stream",
     "text": [
      "loading data: 14it [00:45,  3.22s/it]\n",
      "loading data: 5it [00:13,  2.76s/it]\n"
     ]
    },
    {
     "name": "stdout",
     "output_type": "stream",
     "text": [
      "elapsed_time: 58.937s\n",
      "false positive (FP): 810, false negative (FN): 95, Precision: 83.258%, Recall: 97.696%, F1-measure: 89.901%\n",
      "Finished Predicting\n",
      "正确率:95.055 准确率:83.258 召回率:97.696 F1值:89.901\n"
     ]
    },
    {
     "name": "stderr",
     "output_type": "stream",
     "text": [
      "\r",
      "loading data: 0it [00:00, ?it/s]"
     ]
    },
    {
     "name": "stdout",
     "output_type": "stream",
     "text": [
      "Epoch [24/400], train_loss: 0.9904\n"
     ]
    },
    {
     "name": "stderr",
     "output_type": "stream",
     "text": [
      "loading data: 14it [00:44,  3.18s/it]\n",
      "loading data: 5it [00:14,  2.89s/it]\n"
     ]
    },
    {
     "name": "stdout",
     "output_type": "stream",
     "text": [
      "elapsed_time: 59.108s\n",
      "false positive (FP): 809, false negative (FN): 95, Precision: 83.275%, Recall: 97.696%, F1-measure: 89.911%\n",
      "Finished Predicting\n",
      "正确率:95.06 准确率:83.275 召回率:97.696 F1值:89.911\n"
     ]
    },
    {
     "name": "stderr",
     "output_type": "stream",
     "text": [
      "\r",
      "loading data: 0it [00:00, ?it/s]"
     ]
    },
    {
     "name": "stdout",
     "output_type": "stream",
     "text": [
      "Epoch [25/400], train_loss: 0.9721\n"
     ]
    },
    {
     "name": "stderr",
     "output_type": "stream",
     "text": [
      "loading data: 14it [00:46,  3.35s/it]\n",
      "loading data: 5it [00:13,  2.75s/it]\n"
     ]
    },
    {
     "name": "stdout",
     "output_type": "stream",
     "text": [
      "elapsed_time: 60.774s\n",
      "false positive (FP): 809, false negative (FN): 95, Precision: 83.275%, Recall: 97.696%, F1-measure: 89.911%\n",
      "Finished Predicting\n",
      "正确率:95.06 准确率:83.275 召回率:97.696 F1值:89.911\n"
     ]
    },
    {
     "name": "stderr",
     "output_type": "stream",
     "text": [
      "\r",
      "loading data: 0it [00:00, ?it/s]"
     ]
    },
    {
     "name": "stdout",
     "output_type": "stream",
     "text": [
      "Epoch [26/400], train_loss: 0.9531\n"
     ]
    },
    {
     "name": "stderr",
     "output_type": "stream",
     "text": [
      "loading data: 14it [00:45,  3.28s/it]\n",
      "loading data: 5it [00:14,  2.80s/it]\n"
     ]
    },
    {
     "name": "stdout",
     "output_type": "stream",
     "text": [
      "elapsed_time: 60.012s\n",
      "false positive (FP): 809, false negative (FN): 95, Precision: 83.275%, Recall: 97.696%, F1-measure: 89.911%\n",
      "Finished Predicting\n",
      "正确率:95.06 准确率:83.275 召回率:97.696 F1值:89.911\n"
     ]
    },
    {
     "name": "stderr",
     "output_type": "stream",
     "text": [
      "\r",
      "loading data: 0it [00:00, ?it/s]"
     ]
    },
    {
     "name": "stdout",
     "output_type": "stream",
     "text": [
      "Epoch [27/400], train_loss: 0.9332\n"
     ]
    },
    {
     "name": "stderr",
     "output_type": "stream",
     "text": [
      "loading data: 14it [00:45,  3.25s/it]\n",
      "loading data: 5it [00:13,  2.74s/it]\n"
     ]
    },
    {
     "name": "stdout",
     "output_type": "stream",
     "text": [
      "elapsed_time: 59.348s\n",
      "false positive (FP): 815, false negative (FN): 96, Precision: 83.168%, Recall: 97.672%, F1-measure: 89.838%\n",
      "Finished Predicting\n",
      "正确率:95.022 准确率:83.168 召回率:97.672 F1值:89.838\n"
     ]
    },
    {
     "name": "stderr",
     "output_type": "stream",
     "text": [
      "\r",
      "loading data: 0it [00:00, ?it/s]"
     ]
    },
    {
     "name": "stdout",
     "output_type": "stream",
     "text": [
      "Epoch [28/400], train_loss: 0.9221\n"
     ]
    },
    {
     "name": "stderr",
     "output_type": "stream",
     "text": [
      "loading data: 14it [00:44,  3.20s/it]\n",
      "loading data: 5it [00:14,  2.84s/it]\n"
     ]
    },
    {
     "name": "stdout",
     "output_type": "stream",
     "text": [
      "elapsed_time: 59.134s\n",
      "false positive (FP): 819, false negative (FN): 96, Precision: 83.099%, Recall: 97.672%, F1-measure: 89.798%\n",
      "Finished Predicting\n",
      "正确率:95.0 准确率:83.099 召回率:97.672 F1值:89.798\n"
     ]
    },
    {
     "name": "stderr",
     "output_type": "stream",
     "text": [
      "\r",
      "loading data: 0it [00:00, ?it/s]"
     ]
    },
    {
     "name": "stdout",
     "output_type": "stream",
     "text": [
      "Epoch [29/400], train_loss: 0.9072\n"
     ]
    },
    {
     "name": "stderr",
     "output_type": "stream",
     "text": [
      "loading data: 14it [00:44,  3.21s/it]\n",
      "loading data: 5it [00:14,  2.82s/it]\n"
     ]
    },
    {
     "name": "stdout",
     "output_type": "stream",
     "text": [
      "elapsed_time: 59.044s\n",
      "false positive (FP): 819, false negative (FN): 96, Precision: 83.099%, Recall: 97.672%, F1-measure: 89.798%\n",
      "Finished Predicting\n",
      "正确率:95.0 准确率:83.099 召回率:97.672 F1值:89.798\n"
     ]
    },
    {
     "name": "stderr",
     "output_type": "stream",
     "text": [
      "\r",
      "loading data: 0it [00:00, ?it/s]"
     ]
    },
    {
     "name": "stdout",
     "output_type": "stream",
     "text": [
      "Epoch [30/400], train_loss: 0.8930\n"
     ]
    },
    {
     "name": "stderr",
     "output_type": "stream",
     "text": [
      "loading data: 14it [00:44,  3.19s/it]\n",
      "loading data: 5it [00:14,  2.80s/it]\n"
     ]
    },
    {
     "name": "stdout",
     "output_type": "stream",
     "text": [
      "elapsed_time: 58.729s\n",
      "false positive (FP): 837, false negative (FN): 96, Precision: 82.792%, Recall: 97.672%, F1-measure: 89.618%\n",
      "Finished Predicting\n",
      "正确率:94.902 准确率:82.792 召回率:97.672 F1值:89.618\n"
     ]
    },
    {
     "name": "stderr",
     "output_type": "stream",
     "text": [
      "\r",
      "loading data: 0it [00:00, ?it/s]"
     ]
    },
    {
     "name": "stdout",
     "output_type": "stream",
     "text": [
      "Epoch [31/400], train_loss: 0.8910\n"
     ]
    },
    {
     "name": "stderr",
     "output_type": "stream",
     "text": [
      "loading data: 14it [00:44,  3.20s/it]\n",
      "loading data: 5it [00:13,  2.77s/it]\n"
     ]
    },
    {
     "name": "stdout",
     "output_type": "stream",
     "text": [
      "elapsed_time: 58.770s\n",
      "false positive (FP): 818, false negative (FN): 96, Precision: 83.117%, Recall: 97.672%, F1-measure: 89.808%\n",
      "Finished Predicting\n",
      "正确率:95.005 准确率:83.117 召回率:97.672 F1值:89.808\n"
     ]
    },
    {
     "name": "stderr",
     "output_type": "stream",
     "text": [
      "\r",
      "loading data: 0it [00:00, ?it/s]"
     ]
    },
    {
     "name": "stdout",
     "output_type": "stream",
     "text": [
      "Epoch [32/400], train_loss: 0.8676\n"
     ]
    },
    {
     "name": "stderr",
     "output_type": "stream",
     "text": [
      "loading data: 14it [00:45,  3.23s/it]\n",
      "loading data: 5it [00:14,  2.81s/it]\n"
     ]
    },
    {
     "name": "stdout",
     "output_type": "stream",
     "text": [
      "elapsed_time: 59.334s\n",
      "false positive (FP): 819, false negative (FN): 96, Precision: 83.099%, Recall: 97.672%, F1-measure: 89.798%\n",
      "Finished Predicting\n",
      "正确率:95.0 准确率:83.099 召回率:97.672 F1值:89.798\n"
     ]
    },
    {
     "name": "stderr",
     "output_type": "stream",
     "text": [
      "\r",
      "loading data: 0it [00:00, ?it/s]"
     ]
    },
    {
     "name": "stdout",
     "output_type": "stream",
     "text": [
      "Epoch [33/400], train_loss: 0.8688\n"
     ]
    },
    {
     "name": "stderr",
     "output_type": "stream",
     "text": [
      "loading data: 14it [00:44,  3.21s/it]\n",
      "loading data: 5it [00:13,  2.80s/it]\n"
     ]
    },
    {
     "name": "stdout",
     "output_type": "stream",
     "text": [
      "elapsed_time: 59.012s\n",
      "false positive (FP): 821, false negative (FN): 96, Precision: 83.065%, Recall: 97.672%, F1-measure: 89.778%\n",
      "Finished Predicting\n",
      "正确率:94.989 准确率:83.065 召回率:97.672 F1值:89.778\n"
     ]
    },
    {
     "name": "stderr",
     "output_type": "stream",
     "text": [
      "\r",
      "loading data: 0it [00:00, ?it/s]"
     ]
    },
    {
     "name": "stdout",
     "output_type": "stream",
     "text": [
      "Epoch [34/400], train_loss: 0.8479\n"
     ]
    },
    {
     "name": "stderr",
     "output_type": "stream",
     "text": [
      "loading data: 14it [00:45,  3.22s/it]\n",
      "loading data: 5it [00:13,  2.78s/it]\n"
     ]
    },
    {
     "name": "stdout",
     "output_type": "stream",
     "text": [
      "elapsed_time: 59.029s\n",
      "false positive (FP): 818, false negative (FN): 96, Precision: 83.117%, Recall: 97.672%, F1-measure: 89.808%\n",
      "Finished Predicting\n",
      "正确率:95.005 准确率:83.117 召回率:97.672 F1值:89.808\n"
     ]
    },
    {
     "name": "stderr",
     "output_type": "stream",
     "text": [
      "\r",
      "loading data: 0it [00:00, ?it/s]"
     ]
    },
    {
     "name": "stdout",
     "output_type": "stream",
     "text": [
      "Epoch [35/400], train_loss: 0.8361\n"
     ]
    },
    {
     "name": "stderr",
     "output_type": "stream",
     "text": [
      "loading data: 14it [00:44,  3.20s/it]\n",
      "loading data: 5it [00:14,  2.85s/it]\n"
     ]
    },
    {
     "name": "stdout",
     "output_type": "stream",
     "text": [
      "elapsed_time: 59.157s\n",
      "false positive (FP): 823, false negative (FN): 96, Precision: 83.031%, Recall: 97.672%, F1-measure: 89.758%\n",
      "Finished Predicting\n",
      "正确率:94.978 准确率:83.031 召回率:97.672 F1值:89.758\n"
     ]
    },
    {
     "name": "stderr",
     "output_type": "stream",
     "text": [
      "\r",
      "loading data: 0it [00:00, ?it/s]"
     ]
    },
    {
     "name": "stdout",
     "output_type": "stream",
     "text": [
      "Epoch [36/400], train_loss: 0.8282\n"
     ]
    },
    {
     "name": "stderr",
     "output_type": "stream",
     "text": [
      "loading data: 14it [00:45,  3.24s/it]\n",
      "loading data: 5it [00:14,  2.91s/it]\n"
     ]
    },
    {
     "name": "stdout",
     "output_type": "stream",
     "text": [
      "elapsed_time: 59.991s\n",
      "false positive (FP): 823, false negative (FN): 96, Precision: 83.031%, Recall: 97.672%, F1-measure: 89.758%\n",
      "Finished Predicting\n",
      "正确率:94.978 准确率:83.031 召回率:97.672 F1值:89.758\n"
     ]
    },
    {
     "name": "stderr",
     "output_type": "stream",
     "text": [
      "\r",
      "loading data: 0it [00:00, ?it/s]"
     ]
    },
    {
     "name": "stdout",
     "output_type": "stream",
     "text": [
      "Epoch [37/400], train_loss: 0.8133\n"
     ]
    },
    {
     "name": "stderr",
     "output_type": "stream",
     "text": [
      "loading data: 14it [00:44,  3.21s/it]\n",
      "loading data: 5it [00:14,  2.82s/it]\n"
     ]
    },
    {
     "name": "stdout",
     "output_type": "stream",
     "text": [
      "elapsed_time: 59.151s\n",
      "false positive (FP): 823, false negative (FN): 96, Precision: 83.031%, Recall: 97.672%, F1-measure: 89.758%\n",
      "Finished Predicting\n",
      "正确率:94.978 准确率:83.031 召回率:97.672 F1值:89.758\n"
     ]
    },
    {
     "name": "stderr",
     "output_type": "stream",
     "text": [
      "\r",
      "loading data: 0it [00:00, ?it/s]"
     ]
    },
    {
     "name": "stdout",
     "output_type": "stream",
     "text": [
      "Epoch [38/400], train_loss: 0.8208\n"
     ]
    },
    {
     "name": "stderr",
     "output_type": "stream",
     "text": [
      "loading data: 14it [00:45,  3.22s/it]\n",
      "loading data: 5it [00:13,  2.78s/it]\n"
     ]
    },
    {
     "name": "stdout",
     "output_type": "stream",
     "text": [
      "elapsed_time: 59.077s\n",
      "false positive (FP): 827, false negative (FN): 96, Precision: 82.963%, Recall: 97.672%, F1-measure: 89.718%\n",
      "Finished Predicting\n",
      "正确率:94.956 准确率:82.963 召回率:97.672 F1值:89.718\n"
     ]
    },
    {
     "name": "stderr",
     "output_type": "stream",
     "text": [
      "\r",
      "loading data: 0it [00:00, ?it/s]"
     ]
    },
    {
     "name": "stdout",
     "output_type": "stream",
     "text": [
      "Epoch [39/400], train_loss: 0.7986\n"
     ]
    },
    {
     "name": "stderr",
     "output_type": "stream",
     "text": [
      "loading data: 14it [00:44,  3.19s/it]\n",
      "loading data: 5it [00:14,  2.85s/it]\n"
     ]
    },
    {
     "name": "stdout",
     "output_type": "stream",
     "text": [
      "elapsed_time: 59.013s\n",
      "false positive (FP): 836, false negative (FN): 96, Precision: 82.809%, Recall: 97.672%, F1-measure: 89.628%\n",
      "Finished Predicting\n",
      "正确率:94.907 准确率:82.809 召回率:97.672 F1值:89.628\n"
     ]
    },
    {
     "name": "stderr",
     "output_type": "stream",
     "text": [
      "\r",
      "loading data: 0it [00:00, ?it/s]"
     ]
    },
    {
     "name": "stdout",
     "output_type": "stream",
     "text": [
      "Epoch [40/400], train_loss: 0.7964\n"
     ]
    },
    {
     "name": "stderr",
     "output_type": "stream",
     "text": [
      "loading data: 14it [00:45,  3.26s/it]\n",
      "loading data: 5it [00:14,  2.84s/it]\n"
     ]
    },
    {
     "name": "stdout",
     "output_type": "stream",
     "text": [
      "elapsed_time: 59.867s\n",
      "false positive (FP): 824, false negative (FN): 96, Precision: 83.014%, Recall: 97.672%, F1-measure: 89.748%\n",
      "Finished Predicting\n",
      "正确率:94.973 准确率:83.014 召回率:97.672 F1值:89.748\n"
     ]
    },
    {
     "name": "stderr",
     "output_type": "stream",
     "text": [
      "\r",
      "loading data: 0it [00:00, ?it/s]"
     ]
    },
    {
     "name": "stdout",
     "output_type": "stream",
     "text": [
      "Epoch [41/400], train_loss: 0.7840\n"
     ]
    },
    {
     "name": "stderr",
     "output_type": "stream",
     "text": [
      "loading data: 14it [00:48,  3.47s/it]\n",
      "loading data: 5it [00:14,  2.87s/it]\n"
     ]
    },
    {
     "name": "stdout",
     "output_type": "stream",
     "text": [
      "elapsed_time: 63.067s\n",
      "false positive (FP): 828, false negative (FN): 96, Precision: 82.945%, Recall: 97.672%, F1-measure: 89.708%\n",
      "Finished Predicting\n",
      "正确率:94.951 准确率:82.945 召回率:97.672 F1值:89.708\n"
     ]
    },
    {
     "name": "stderr",
     "output_type": "stream",
     "text": [
      "\r",
      "loading data: 0it [00:00, ?it/s]"
     ]
    },
    {
     "name": "stdout",
     "output_type": "stream",
     "text": [
      "Epoch [42/400], train_loss: 0.7667\n"
     ]
    },
    {
     "name": "stderr",
     "output_type": "stream",
     "text": [
      "loading data: 14it [00:45,  3.27s/it]\n",
      "loading data: 5it [00:14,  2.84s/it]\n"
     ]
    },
    {
     "name": "stdout",
     "output_type": "stream",
     "text": [
      "elapsed_time: 60.094s\n",
      "false positive (FP): 829, false negative (FN): 96, Precision: 82.928%, Recall: 97.672%, F1-measure: 89.698%\n",
      "Finished Predicting\n",
      "正确率:94.945 准确率:82.928 召回率:97.672 F1值:89.698\n"
     ]
    },
    {
     "name": "stderr",
     "output_type": "stream",
     "text": [
      "\r",
      "loading data: 0it [00:00, ?it/s]"
     ]
    },
    {
     "name": "stdout",
     "output_type": "stream",
     "text": [
      "Epoch [43/400], train_loss: 0.7530\n"
     ]
    },
    {
     "name": "stderr",
     "output_type": "stream",
     "text": [
      "loading data: 14it [00:44,  3.18s/it]\n",
      "loading data: 5it [00:13,  2.78s/it]\n"
     ]
    },
    {
     "name": "stdout",
     "output_type": "stream",
     "text": [
      "elapsed_time: 58.607s\n",
      "false positive (FP): 835, false negative (FN): 96, Precision: 82.826%, Recall: 97.672%, F1-measure: 89.638%\n",
      "Finished Predicting\n",
      "正确率:94.913 准确率:82.826 召回率:97.672 F1值:89.638\n"
     ]
    },
    {
     "name": "stderr",
     "output_type": "stream",
     "text": [
      "\r",
      "loading data: 0it [00:00, ?it/s]"
     ]
    },
    {
     "name": "stdout",
     "output_type": "stream",
     "text": [
      "Epoch [44/400], train_loss: 0.7620\n"
     ]
    },
    {
     "name": "stderr",
     "output_type": "stream",
     "text": [
      "loading data: 14it [00:45,  3.23s/it]\n",
      "loading data: 5it [00:14,  2.84s/it]\n"
     ]
    },
    {
     "name": "stdout",
     "output_type": "stream",
     "text": [
      "elapsed_time: 59.520s\n",
      "false positive (FP): 834, false negative (FN): 96, Precision: 82.843%, Recall: 97.672%, F1-measure: 89.648%\n",
      "Finished Predicting\n",
      "正确率:94.918 准确率:82.843 召回率:97.672 F1值:89.648\n"
     ]
    },
    {
     "name": "stderr",
     "output_type": "stream",
     "text": [
      "\r",
      "loading data: 0it [00:00, ?it/s]"
     ]
    },
    {
     "name": "stdout",
     "output_type": "stream",
     "text": [
      "Epoch [45/400], train_loss: 0.7386\n"
     ]
    },
    {
     "name": "stderr",
     "output_type": "stream",
     "text": [
      "loading data: 14it [00:45,  3.22s/it]\n",
      "loading data: 5it [00:13,  2.78s/it]\n"
     ]
    },
    {
     "name": "stdout",
     "output_type": "stream",
     "text": [
      "elapsed_time: 59.175s\n",
      "false positive (FP): 834, false negative (FN): 96, Precision: 82.843%, Recall: 97.672%, F1-measure: 89.648%\n",
      "Finished Predicting\n",
      "正确率:94.918 准确率:82.843 召回率:97.672 F1值:89.648\n"
     ]
    },
    {
     "name": "stderr",
     "output_type": "stream",
     "text": [
      "\r",
      "loading data: 0it [00:00, ?it/s]"
     ]
    },
    {
     "name": "stdout",
     "output_type": "stream",
     "text": [
      "Epoch [46/400], train_loss: 0.7646\n"
     ]
    },
    {
     "name": "stderr",
     "output_type": "stream",
     "text": [
      "loading data: 14it [00:44,  3.17s/it]\n",
      "loading data: 5it [00:13,  2.77s/it]\n"
     ]
    },
    {
     "name": "stdout",
     "output_type": "stream",
     "text": [
      "elapsed_time: 58.332s\n",
      "false positive (FP): 833, false negative (FN): 96, Precision: 82.860%, Recall: 97.672%, F1-measure: 89.658%\n",
      "Finished Predicting\n",
      "正确率:94.923 准确率:82.86 召回率:97.672 F1值:89.658\n"
     ]
    },
    {
     "name": "stderr",
     "output_type": "stream",
     "text": [
      "\r",
      "loading data: 0it [00:00, ?it/s]"
     ]
    },
    {
     "name": "stdout",
     "output_type": "stream",
     "text": [
      "Epoch [47/400], train_loss: 0.7227\n"
     ]
    },
    {
     "name": "stderr",
     "output_type": "stream",
     "text": [
      "loading data: 14it [00:45,  3.24s/it]\n",
      "loading data: 5it [00:14,  2.82s/it]\n"
     ]
    },
    {
     "name": "stdout",
     "output_type": "stream",
     "text": [
      "elapsed_time: 59.579s\n",
      "false positive (FP): 834, false negative (FN): 96, Precision: 82.843%, Recall: 97.672%, F1-measure: 89.648%\n",
      "Finished Predicting\n",
      "正确率:94.918 准确率:82.843 召回率:97.672 F1值:89.648\n"
     ]
    },
    {
     "name": "stderr",
     "output_type": "stream",
     "text": [
      "\r",
      "loading data: 0it [00:00, ?it/s]"
     ]
    },
    {
     "name": "stdout",
     "output_type": "stream",
     "text": [
      "Epoch [48/400], train_loss: 0.7150\n"
     ]
    },
    {
     "name": "stderr",
     "output_type": "stream",
     "text": [
      "loading data: 14it [00:44,  3.21s/it]\n",
      "loading data: 5it [00:13,  2.72s/it]\n"
     ]
    },
    {
     "name": "stdout",
     "output_type": "stream",
     "text": [
      "elapsed_time: 58.706s\n",
      "false positive (FP): 833, false negative (FN): 96, Precision: 82.860%, Recall: 97.672%, F1-measure: 89.658%\n",
      "Finished Predicting\n",
      "正确率:94.923 准确率:82.86 召回率:97.672 F1值:89.658\n"
     ]
    },
    {
     "name": "stderr",
     "output_type": "stream",
     "text": [
      "\r",
      "loading data: 0it [00:00, ?it/s]"
     ]
    },
    {
     "name": "stdout",
     "output_type": "stream",
     "text": [
      "Epoch [49/400], train_loss: 0.7131\n"
     ]
    },
    {
     "name": "stderr",
     "output_type": "stream",
     "text": [
      "loading data: 14it [00:44,  3.21s/it]\n",
      "loading data: 5it [00:14,  2.96s/it]\n"
     ]
    },
    {
     "name": "stdout",
     "output_type": "stream",
     "text": [
      "elapsed_time: 59.796s\n",
      "false positive (FP): 833, false negative (FN): 96, Precision: 82.860%, Recall: 97.672%, F1-measure: 89.658%\n",
      "Finished Predicting\n",
      "正确率:94.923 准确率:82.86 召回率:97.672 F1值:89.658\n"
     ]
    },
    {
     "name": "stderr",
     "output_type": "stream",
     "text": [
      "\r",
      "loading data: 0it [00:00, ?it/s]"
     ]
    },
    {
     "name": "stdout",
     "output_type": "stream",
     "text": [
      "Epoch [50/400], train_loss: 0.7066\n"
     ]
    },
    {
     "name": "stderr",
     "output_type": "stream",
     "text": [
      "loading data: 14it [00:44,  3.17s/it]\n",
      "loading data: 5it [00:13,  2.78s/it]\n"
     ]
    },
    {
     "name": "stdout",
     "output_type": "stream",
     "text": [
      "elapsed_time: 58.363s\n",
      "false positive (FP): 834, false negative (FN): 96, Precision: 82.843%, Recall: 97.672%, F1-measure: 89.648%\n",
      "Finished Predicting\n",
      "正确率:94.918 准确率:82.843 召回率:97.672 F1值:89.648\n"
     ]
    },
    {
     "name": "stderr",
     "output_type": "stream",
     "text": [
      "\r",
      "loading data: 0it [00:00, ?it/s]"
     ]
    },
    {
     "name": "stdout",
     "output_type": "stream",
     "text": [
      "Epoch [51/400], train_loss: 0.6998\n"
     ]
    },
    {
     "name": "stderr",
     "output_type": "stream",
     "text": [
      "loading data: 14it [00:44,  3.21s/it]\n",
      "loading data: 5it [00:13,  2.79s/it]\n"
     ]
    },
    {
     "name": "stdout",
     "output_type": "stream",
     "text": [
      "elapsed_time: 59.022s\n",
      "false positive (FP): 834, false negative (FN): 96, Precision: 82.843%, Recall: 97.672%, F1-measure: 89.648%\n",
      "Finished Predicting\n",
      "正确率:94.918 准确率:82.843 召回率:97.672 F1值:89.648\n"
     ]
    },
    {
     "name": "stderr",
     "output_type": "stream",
     "text": [
      "\r",
      "loading data: 0it [00:00, ?it/s]"
     ]
    },
    {
     "name": "stdout",
     "output_type": "stream",
     "text": [
      "Epoch [52/400], train_loss: 0.7084\n"
     ]
    },
    {
     "name": "stderr",
     "output_type": "stream",
     "text": [
      "loading data: 14it [00:44,  3.21s/it]\n",
      "loading data: 5it [00:13,  2.72s/it]\n"
     ]
    },
    {
     "name": "stdout",
     "output_type": "stream",
     "text": [
      "elapsed_time: 58.651s\n",
      "false positive (FP): 835, false negative (FN): 96, Precision: 82.826%, Recall: 97.672%, F1-measure: 89.638%\n",
      "Finished Predicting\n",
      "正确率:94.913 准确率:82.826 召回率:97.672 F1值:89.638\n"
     ]
    },
    {
     "name": "stderr",
     "output_type": "stream",
     "text": [
      "\r",
      "loading data: 0it [00:00, ?it/s]"
     ]
    },
    {
     "name": "stdout",
     "output_type": "stream",
     "text": [
      "Epoch [53/400], train_loss: 0.6990\n"
     ]
    },
    {
     "name": "stderr",
     "output_type": "stream",
     "text": [
      "loading data: 14it [00:44,  3.16s/it]\n",
      "loading data: 5it [00:13,  2.69s/it]\n"
     ]
    },
    {
     "name": "stdout",
     "output_type": "stream",
     "text": [
      "elapsed_time: 57.840s\n",
      "false positive (FP): 835, false negative (FN): 96, Precision: 82.826%, Recall: 97.672%, F1-measure: 89.638%\n",
      "Finished Predicting\n",
      "正确率:94.913 准确率:82.826 召回率:97.672 F1值:89.638\n"
     ]
    },
    {
     "name": "stderr",
     "output_type": "stream",
     "text": [
      "\r",
      "loading data: 0it [00:00, ?it/s]"
     ]
    },
    {
     "name": "stdout",
     "output_type": "stream",
     "text": [
      "Epoch [54/400], train_loss: 0.7044\n"
     ]
    },
    {
     "name": "stderr",
     "output_type": "stream",
     "text": [
      "loading data: 14it [00:43,  3.09s/it]\n",
      "loading data: 5it [00:13,  2.65s/it]\n"
     ]
    },
    {
     "name": "stdout",
     "output_type": "stream",
     "text": [
      "elapsed_time: 56.641s\n",
      "false positive (FP): 835, false negative (FN): 96, Precision: 82.826%, Recall: 97.672%, F1-measure: 89.638%\n",
      "Finished Predicting\n",
      "正确率:94.913 准确率:82.826 召回率:97.672 F1值:89.638\n"
     ]
    },
    {
     "name": "stderr",
     "output_type": "stream",
     "text": [
      "\r",
      "loading data: 0it [00:00, ?it/s]"
     ]
    },
    {
     "name": "stdout",
     "output_type": "stream",
     "text": [
      "Epoch [55/400], train_loss: 0.7255\n"
     ]
    },
    {
     "name": "stderr",
     "output_type": "stream",
     "text": [
      "loading data: 14it [00:42,  3.01s/it]\n",
      "loading data: 5it [00:13,  2.69s/it]\n"
     ]
    },
    {
     "name": "stdout",
     "output_type": "stream",
     "text": [
      "elapsed_time: 55.657s\n",
      "false positive (FP): 841, false negative (FN): 96, Precision: 82.724%, Recall: 97.672%, F1-measure: 89.578%\n",
      "Finished Predicting\n",
      "正确率:94.88 准确率:82.724 召回率:97.672 F1值:89.578\n"
     ]
    },
    {
     "name": "stderr",
     "output_type": "stream",
     "text": [
      "\r",
      "loading data: 0it [00:00, ?it/s]"
     ]
    },
    {
     "name": "stdout",
     "output_type": "stream",
     "text": [
      "Epoch [56/400], train_loss: 0.7079\n"
     ]
    },
    {
     "name": "stderr",
     "output_type": "stream",
     "text": [
      "loading data: 14it [00:43,  3.09s/it]\n",
      "loading data: 5it [00:13,  2.68s/it]\n"
     ]
    },
    {
     "name": "stdout",
     "output_type": "stream",
     "text": [
      "elapsed_time: 56.754s\n",
      "false positive (FP): 839, false negative (FN): 96, Precision: 82.758%, Recall: 97.672%, F1-measure: 89.598%\n",
      "Finished Predicting\n",
      "正确率:94.891 准确率:82.758 召回率:97.672 F1值:89.598\n"
     ]
    },
    {
     "name": "stderr",
     "output_type": "stream",
     "text": [
      "\r",
      "loading data: 0it [00:00, ?it/s]"
     ]
    },
    {
     "name": "stdout",
     "output_type": "stream",
     "text": [
      "Epoch [57/400], train_loss: 0.6715\n"
     ]
    },
    {
     "name": "stderr",
     "output_type": "stream",
     "text": [
      "loading data: 14it [00:42,  3.05s/it]\n",
      "loading data: 5it [00:13,  2.73s/it]\n"
     ]
    },
    {
     "name": "stdout",
     "output_type": "stream",
     "text": [
      "elapsed_time: 56.544s\n",
      "false positive (FP): 836, false negative (FN): 96, Precision: 82.809%, Recall: 97.672%, F1-measure: 89.628%\n",
      "Finished Predicting\n",
      "正确率:94.907 准确率:82.809 召回率:97.672 F1值:89.628\n"
     ]
    },
    {
     "name": "stderr",
     "output_type": "stream",
     "text": [
      "\r",
      "loading data: 0it [00:00, ?it/s]"
     ]
    },
    {
     "name": "stdout",
     "output_type": "stream",
     "text": [
      "Epoch [58/400], train_loss: 0.6698\n"
     ]
    },
    {
     "name": "stderr",
     "output_type": "stream",
     "text": [
      "loading data: 14it [00:42,  3.03s/it]\n",
      "loading data: 5it [00:13,  2.71s/it]\n"
     ]
    },
    {
     "name": "stdout",
     "output_type": "stream",
     "text": [
      "elapsed_time: 56.056s\n",
      "false positive (FP): 836, false negative (FN): 96, Precision: 82.809%, Recall: 97.672%, F1-measure: 89.628%\n",
      "Finished Predicting\n",
      "正确率:94.907 准确率:82.809 召回率:97.672 F1值:89.628\n"
     ]
    },
    {
     "name": "stderr",
     "output_type": "stream",
     "text": [
      "\r",
      "loading data: 0it [00:00, ?it/s]"
     ]
    },
    {
     "name": "stdout",
     "output_type": "stream",
     "text": [
      "Epoch [59/400], train_loss: 0.6655\n"
     ]
    },
    {
     "name": "stderr",
     "output_type": "stream",
     "text": [
      "loading data: 14it [00:42,  3.04s/it]\n",
      "loading data: 5it [00:13,  2.65s/it]\n"
     ]
    },
    {
     "name": "stdout",
     "output_type": "stream",
     "text": [
      "elapsed_time: 55.975s\n",
      "false positive (FP): 836, false negative (FN): 96, Precision: 82.809%, Recall: 97.672%, F1-measure: 89.628%\n",
      "Finished Predicting\n",
      "正确率:94.907 准确率:82.809 召回率:97.672 F1值:89.628\n"
     ]
    },
    {
     "name": "stderr",
     "output_type": "stream",
     "text": [
      "\r",
      "loading data: 0it [00:00, ?it/s]"
     ]
    },
    {
     "name": "stdout",
     "output_type": "stream",
     "text": [
      "Epoch [60/400], train_loss: 0.6641\n"
     ]
    },
    {
     "name": "stderr",
     "output_type": "stream",
     "text": [
      "loading data: 14it [00:45,  3.23s/it]\n",
      "loading data: 5it [00:12,  2.60s/it]\n"
     ]
    },
    {
     "name": "stdout",
     "output_type": "stream",
     "text": [
      "elapsed_time: 58.334s\n",
      "false positive (FP): 836, false negative (FN): 96, Precision: 82.809%, Recall: 97.672%, F1-measure: 89.628%\n",
      "Finished Predicting\n",
      "正确率:94.907 准确率:82.809 召回率:97.672 F1值:89.628\n"
     ]
    },
    {
     "name": "stderr",
     "output_type": "stream",
     "text": [
      "\r",
      "loading data: 0it [00:00, ?it/s]"
     ]
    },
    {
     "name": "stdout",
     "output_type": "stream",
     "text": [
      "Epoch [61/400], train_loss: 0.6588\n"
     ]
    },
    {
     "name": "stderr",
     "output_type": "stream",
     "text": [
      "loading data: 14it [00:42,  3.03s/it]\n",
      "loading data: 5it [00:13,  2.65s/it]\n"
     ]
    },
    {
     "name": "stdout",
     "output_type": "stream",
     "text": [
      "elapsed_time: 55.764s\n",
      "false positive (FP): 839, false negative (FN): 96, Precision: 82.758%, Recall: 97.672%, F1-measure: 89.598%\n",
      "Finished Predicting\n",
      "正确率:94.891 准确率:82.758 召回率:97.672 F1值:89.598\n"
     ]
    },
    {
     "name": "stderr",
     "output_type": "stream",
     "text": [
      "\r",
      "loading data: 0it [00:00, ?it/s]"
     ]
    },
    {
     "name": "stdout",
     "output_type": "stream",
     "text": [
      "Epoch [62/400], train_loss: 0.6821\n"
     ]
    },
    {
     "name": "stderr",
     "output_type": "stream",
     "text": [
      "loading data: 14it [00:43,  3.13s/it]\n",
      "loading data: 5it [00:13,  2.68s/it]\n"
     ]
    },
    {
     "name": "stdout",
     "output_type": "stream",
     "text": [
      "elapsed_time: 57.399s\n",
      "false positive (FP): 839, false negative (FN): 96, Precision: 82.758%, Recall: 97.672%, F1-measure: 89.598%\n",
      "Finished Predicting\n",
      "正确率:94.891 准确率:82.758 召回率:97.672 F1值:89.598\n"
     ]
    },
    {
     "name": "stderr",
     "output_type": "stream",
     "text": [
      "\r",
      "loading data: 0it [00:00, ?it/s]"
     ]
    },
    {
     "name": "stdout",
     "output_type": "stream",
     "text": [
      "Epoch [63/400], train_loss: 0.6502\n"
     ]
    },
    {
     "name": "stderr",
     "output_type": "stream",
     "text": [
      "loading data: 14it [00:42,  3.05s/it]\n",
      "loading data: 5it [00:13,  2.71s/it]\n"
     ]
    },
    {
     "name": "stdout",
     "output_type": "stream",
     "text": [
      "elapsed_time: 56.377s\n",
      "false positive (FP): 839, false negative (FN): 96, Precision: 82.758%, Recall: 97.672%, F1-measure: 89.598%\n",
      "Finished Predicting\n",
      "正确率:94.891 准确率:82.758 召回率:97.672 F1值:89.598\n"
     ]
    },
    {
     "name": "stderr",
     "output_type": "stream",
     "text": [
      "\r",
      "loading data: 0it [00:00, ?it/s]"
     ]
    },
    {
     "name": "stdout",
     "output_type": "stream",
     "text": [
      "Epoch [64/400], train_loss: 0.6537\n"
     ]
    },
    {
     "name": "stderr",
     "output_type": "stream",
     "text": [
      "loading data: 14it [00:42,  3.06s/it]\n",
      "loading data: 5it [00:13,  2.71s/it]\n"
     ]
    },
    {
     "name": "stdout",
     "output_type": "stream",
     "text": [
      "elapsed_time: 56.565s\n",
      "false positive (FP): 839, false negative (FN): 96, Precision: 82.758%, Recall: 97.672%, F1-measure: 89.598%\n",
      "Finished Predicting\n",
      "正确率:94.891 准确率:82.758 召回率:97.672 F1值:89.598\n"
     ]
    },
    {
     "name": "stderr",
     "output_type": "stream",
     "text": [
      "\r",
      "loading data: 0it [00:00, ?it/s]"
     ]
    },
    {
     "name": "stdout",
     "output_type": "stream",
     "text": [
      "Epoch [65/400], train_loss: 0.6569\n"
     ]
    },
    {
     "name": "stderr",
     "output_type": "stream",
     "text": [
      "loading data: 14it [00:42,  3.06s/it]\n",
      "loading data: 5it [00:13,  2.66s/it]\n"
     ]
    },
    {
     "name": "stdout",
     "output_type": "stream",
     "text": [
      "elapsed_time: 56.245s\n",
      "false positive (FP): 846, false negative (FN): 96, Precision: 82.639%, Recall: 97.672%, F1-measure: 89.529%\n",
      "Finished Predicting\n",
      "正确率:94.852 准确率:82.639 召回率:97.672 F1值:89.529\n"
     ]
    },
    {
     "name": "stderr",
     "output_type": "stream",
     "text": [
      "\r",
      "loading data: 0it [00:00, ?it/s]"
     ]
    },
    {
     "name": "stdout",
     "output_type": "stream",
     "text": [
      "Epoch [66/400], train_loss: 0.6458\n"
     ]
    },
    {
     "name": "stderr",
     "output_type": "stream",
     "text": [
      "loading data: 14it [00:42,  3.00s/it]\n",
      "loading data: 5it [00:13,  2.73s/it]\n"
     ]
    },
    {
     "name": "stdout",
     "output_type": "stream",
     "text": [
      "elapsed_time: 55.789s\n",
      "false positive (FP): 850, false negative (FN): 100, Precision: 82.557%, Recall: 97.575%, F1-measure: 89.440%\n",
      "Finished Predicting\n",
      "正确率:94.809 准确率:82.557 召回率:97.575 F1值:89.44\n"
     ]
    },
    {
     "name": "stderr",
     "output_type": "stream",
     "text": [
      "\r",
      "loading data: 0it [00:00, ?it/s]"
     ]
    },
    {
     "name": "stdout",
     "output_type": "stream",
     "text": [
      "Epoch [67/400], train_loss: 0.6428\n"
     ]
    },
    {
     "name": "stderr",
     "output_type": "stream",
     "text": [
      "loading data: 14it [00:42,  3.05s/it]\n",
      "loading data: 5it [00:13,  2.62s/it]\n"
     ]
    },
    {
     "name": "stdout",
     "output_type": "stream",
     "text": [
      "elapsed_time: 55.919s\n",
      "false positive (FP): 848, false negative (FN): 100, Precision: 82.591%, Recall: 97.575%, F1-measure: 89.460%\n",
      "Finished Predicting\n",
      "正确率:94.82 准确率:82.591 召回率:97.575 F1值:89.46\n"
     ]
    },
    {
     "name": "stderr",
     "output_type": "stream",
     "text": [
      "\r",
      "loading data: 0it [00:00, ?it/s]"
     ]
    },
    {
     "name": "stdout",
     "output_type": "stream",
     "text": [
      "Epoch [68/400], train_loss: 0.6469\n"
     ]
    },
    {
     "name": "stderr",
     "output_type": "stream",
     "text": [
      "loading data: 14it [00:43,  3.07s/it]\n",
      "loading data: 5it [00:12,  2.59s/it]\n"
     ]
    },
    {
     "name": "stdout",
     "output_type": "stream",
     "text": [
      "elapsed_time: 56.074s\n",
      "false positive (FP): 850, false negative (FN): 100, Precision: 82.557%, Recall: 97.575%, F1-measure: 89.440%\n",
      "Finished Predicting\n",
      "正确率:94.809 准确率:82.557 召回率:97.575 F1值:89.44\n"
     ]
    },
    {
     "name": "stderr",
     "output_type": "stream",
     "text": [
      "\r",
      "loading data: 0it [00:00, ?it/s]"
     ]
    },
    {
     "name": "stdout",
     "output_type": "stream",
     "text": [
      "Epoch [69/400], train_loss: 0.6471\n"
     ]
    },
    {
     "name": "stderr",
     "output_type": "stream",
     "text": [
      "loading data: 14it [00:42,  3.04s/it]\n",
      "loading data: 5it [00:13,  2.69s/it]\n"
     ]
    },
    {
     "name": "stdout",
     "output_type": "stream",
     "text": [
      "elapsed_time: 56.124s\n",
      "false positive (FP): 848, false negative (FN): 100, Precision: 82.591%, Recall: 97.575%, F1-measure: 89.460%\n",
      "Finished Predicting\n",
      "正确率:94.82 准确率:82.591 召回率:97.575 F1值:89.46\n"
     ]
    },
    {
     "name": "stderr",
     "output_type": "stream",
     "text": [
      "\r",
      "loading data: 0it [00:00, ?it/s]"
     ]
    },
    {
     "name": "stdout",
     "output_type": "stream",
     "text": [
      "Epoch [70/400], train_loss: 0.6357\n"
     ]
    },
    {
     "name": "stderr",
     "output_type": "stream",
     "text": [
      "loading data: 14it [00:42,  3.00s/it]\n",
      "loading data: 5it [00:13,  2.74s/it]\n"
     ]
    },
    {
     "name": "stdout",
     "output_type": "stream",
     "text": [
      "elapsed_time: 55.859s\n",
      "false positive (FP): 850, false negative (FN): 98, Precision: 82.564%, Recall: 97.623%, F1-measure: 89.464%\n",
      "Finished Predicting\n",
      "正确率:94.82 准确率:82.564 召回率:97.623 F1值:89.464\n"
     ]
    },
    {
     "name": "stderr",
     "output_type": "stream",
     "text": [
      "\r",
      "loading data: 0it [00:00, ?it/s]"
     ]
    },
    {
     "name": "stdout",
     "output_type": "stream",
     "text": [
      "Epoch [71/400], train_loss: 0.6394\n"
     ]
    },
    {
     "name": "stderr",
     "output_type": "stream",
     "text": [
      "loading data: 14it [00:42,  3.03s/it]\n",
      "loading data: 5it [00:13,  2.60s/it]\n"
     ]
    },
    {
     "name": "stdout",
     "output_type": "stream",
     "text": [
      "elapsed_time: 55.533s\n",
      "false positive (FP): 853, false negative (FN): 102, Precision: 82.499%, Recall: 97.526%, F1-measure: 89.385%\n",
      "Finished Predicting\n",
      "正确率:94.781 准确率:82.499 召回率:97.526 F1值:89.385\n"
     ]
    },
    {
     "name": "stderr",
     "output_type": "stream",
     "text": [
      "\r",
      "loading data: 0it [00:00, ?it/s]"
     ]
    },
    {
     "name": "stdout",
     "output_type": "stream",
     "text": [
      "Epoch [72/400], train_loss: 0.6309\n"
     ]
    },
    {
     "name": "stderr",
     "output_type": "stream",
     "text": [
      "loading data: 14it [00:43,  3.08s/it]\n",
      "loading data: 5it [00:13,  2.68s/it]\n"
     ]
    },
    {
     "name": "stdout",
     "output_type": "stream",
     "text": [
      "elapsed_time: 56.698s\n",
      "false positive (FP): 853, false negative (FN): 102, Precision: 82.499%, Recall: 97.526%, F1-measure: 89.385%\n",
      "Finished Predicting\n",
      "正确率:94.781 准确率:82.499 召回率:97.526 F1值:89.385\n"
     ]
    },
    {
     "name": "stderr",
     "output_type": "stream",
     "text": [
      "\r",
      "loading data: 0it [00:00, ?it/s]"
     ]
    },
    {
     "name": "stdout",
     "output_type": "stream",
     "text": [
      "Epoch [73/400], train_loss: 0.6350\n"
     ]
    },
    {
     "name": "stderr",
     "output_type": "stream",
     "text": [
      "loading data: 14it [00:45,  3.23s/it]\n",
      "loading data: 5it [00:13,  2.67s/it]\n"
     ]
    },
    {
     "name": "stdout",
     "output_type": "stream",
     "text": [
      "elapsed_time: 58.674s\n",
      "false positive (FP): 853, false negative (FN): 102, Precision: 82.499%, Recall: 97.526%, F1-measure: 89.385%\n",
      "Finished Predicting\n",
      "正确率:94.781 准确率:82.499 召回率:97.526 F1值:89.385\n"
     ]
    },
    {
     "name": "stderr",
     "output_type": "stream",
     "text": [
      "\r",
      "loading data: 0it [00:00, ?it/s]"
     ]
    },
    {
     "name": "stdout",
     "output_type": "stream",
     "text": [
      "Epoch [74/400], train_loss: 0.6269\n"
     ]
    },
    {
     "name": "stderr",
     "output_type": "stream",
     "text": [
      "loading data: 14it [00:43,  3.13s/it]\n",
      "loading data: 5it [00:13,  2.79s/it]\n"
     ]
    },
    {
     "name": "stdout",
     "output_type": "stream",
     "text": [
      "elapsed_time: 57.931s\n",
      "false positive (FP): 855, false negative (FN): 98, Precision: 82.480%, Recall: 97.623%, F1-measure: 89.415%\n",
      "Finished Predicting\n",
      "正确率:94.792 准确率:82.48 召回率:97.623 F1值:89.415\n"
     ]
    },
    {
     "name": "stderr",
     "output_type": "stream",
     "text": [
      "\r",
      "loading data: 0it [00:00, ?it/s]"
     ]
    },
    {
     "name": "stdout",
     "output_type": "stream",
     "text": [
      "Epoch [75/400], train_loss: 0.6428\n"
     ]
    },
    {
     "name": "stderr",
     "output_type": "stream",
     "text": [
      "loading data: 14it [00:42,  3.05s/it]\n",
      "loading data: 5it [00:13,  2.74s/it]\n"
     ]
    },
    {
     "name": "stdout",
     "output_type": "stream",
     "text": [
      "elapsed_time: 56.556s\n",
      "false positive (FP): 872, false negative (FN): 101, Precision: 82.182%, Recall: 97.550%, F1-measure: 89.209%\n",
      "Finished Predicting\n",
      "正确率:94.683 准确率:82.182 召回率:97.55 F1值:89.209\n"
     ]
    },
    {
     "name": "stderr",
     "output_type": "stream",
     "text": [
      "\r",
      "loading data: 0it [00:00, ?it/s]"
     ]
    },
    {
     "name": "stdout",
     "output_type": "stream",
     "text": [
      "Epoch [76/400], train_loss: 0.7147\n"
     ]
    },
    {
     "name": "stderr",
     "output_type": "stream",
     "text": [
      "loading data: 14it [00:42,  3.03s/it]\n",
      "loading data: 5it [00:13,  2.67s/it]\n"
     ]
    },
    {
     "name": "stdout",
     "output_type": "stream",
     "text": [
      "elapsed_time: 55.940s\n",
      "false positive (FP): 867, false negative (FN): 101, Precision: 82.266%, Recall: 97.550%, F1-measure: 89.259%\n",
      "Finished Predicting\n",
      "正确率:94.71 准确率:82.266 召回率:97.55 F1值:89.259\n"
     ]
    },
    {
     "name": "stderr",
     "output_type": "stream",
     "text": [
      "\r",
      "loading data: 0it [00:00, ?it/s]"
     ]
    },
    {
     "name": "stdout",
     "output_type": "stream",
     "text": [
      "Epoch [77/400], train_loss: 0.6216\n"
     ]
    },
    {
     "name": "stderr",
     "output_type": "stream",
     "text": [
      "loading data: 14it [00:45,  3.22s/it]\n",
      "loading data: 5it [00:14,  2.83s/it]\n"
     ]
    },
    {
     "name": "stdout",
     "output_type": "stream",
     "text": [
      "elapsed_time: 59.407s\n",
      "false positive (FP): 861, false negative (FN): 103, Precision: 82.360%, Recall: 97.502%, F1-measure: 89.294%\n",
      "Finished Predicting\n",
      "正确率:94.732 准确率:82.36 召回率:97.502 F1值:89.294\n"
     ]
    },
    {
     "name": "stderr",
     "output_type": "stream",
     "text": [
      "\r",
      "loading data: 0it [00:00, ?it/s]"
     ]
    },
    {
     "name": "stdout",
     "output_type": "stream",
     "text": [
      "Epoch [78/400], train_loss: 0.6167\n"
     ]
    },
    {
     "name": "stderr",
     "output_type": "stream",
     "text": [
      "loading data: 14it [00:44,  3.20s/it]\n",
      "loading data: 5it [00:13,  2.77s/it]\n"
     ]
    },
    {
     "name": "stdout",
     "output_type": "stream",
     "text": [
      "elapsed_time: 58.869s\n",
      "false positive (FP): 862, false negative (FN): 103, Precision: 82.343%, Recall: 97.502%, F1-measure: 89.284%\n",
      "Finished Predicting\n",
      "正确率:94.727 准确率:82.343 召回率:97.502 F1值:89.284\n"
     ]
    },
    {
     "name": "stderr",
     "output_type": "stream",
     "text": [
      "\r",
      "loading data: 0it [00:00, ?it/s]"
     ]
    },
    {
     "name": "stdout",
     "output_type": "stream",
     "text": [
      "Epoch [79/400], train_loss: 0.6127\n"
     ]
    },
    {
     "name": "stderr",
     "output_type": "stream",
     "text": [
      "loading data: 14it [00:45,  3.24s/it]\n",
      "loading data: 5it [00:14,  2.85s/it]\n"
     ]
    },
    {
     "name": "stdout",
     "output_type": "stream",
     "text": [
      "elapsed_time: 59.795s\n",
      "false positive (FP): 862, false negative (FN): 104, Precision: 82.340%, Recall: 97.478%, F1-measure: 89.271%\n",
      "Finished Predicting\n",
      "正确率:94.721 准确率:82.34 召回率:97.478 F1值:89.271\n"
     ]
    },
    {
     "name": "stderr",
     "output_type": "stream",
     "text": [
      "\r",
      "loading data: 0it [00:00, ?it/s]"
     ]
    },
    {
     "name": "stdout",
     "output_type": "stream",
     "text": [
      "Epoch [80/400], train_loss: 0.7140\n"
     ]
    },
    {
     "name": "stderr",
     "output_type": "stream",
     "text": [
      "loading data: 14it [00:45,  3.28s/it]\n",
      "loading data: 5it [00:14,  2.89s/it]\n"
     ]
    },
    {
     "name": "stdout",
     "output_type": "stream",
     "text": [
      "elapsed_time: 60.591s\n",
      "false positive (FP): 917, false negative (FN): 100, Precision: 81.437%, Recall: 97.575%, F1-measure: 88.779%\n",
      "Finished Predicting\n",
      "正确率:94.443 准确率:81.437 召回率:97.575 F1值:88.779\n"
     ]
    },
    {
     "name": "stderr",
     "output_type": "stream",
     "text": [
      "\r",
      "loading data: 0it [00:00, ?it/s]"
     ]
    },
    {
     "name": "stdout",
     "output_type": "stream",
     "text": [
      "Epoch [81/400], train_loss: 0.6878\n"
     ]
    },
    {
     "name": "stderr",
     "output_type": "stream",
     "text": [
      "loading data: 14it [00:44,  3.21s/it]\n",
      "loading data: 5it [00:14,  2.83s/it]\n"
     ]
    },
    {
     "name": "stdout",
     "output_type": "stream",
     "text": [
      "elapsed_time: 59.217s\n",
      "false positive (FP): 844, false negative (FN): 127, Precision: 82.562%, Recall: 96.920%, F1-measure: 89.167%\n",
      "Finished Predicting\n",
      "正确率:94.694 准确率:82.562 召回率:96.92 F1值:89.167\n"
     ]
    },
    {
     "name": "stderr",
     "output_type": "stream",
     "text": [
      "\r",
      "loading data: 0it [00:00, ?it/s]"
     ]
    },
    {
     "name": "stdout",
     "output_type": "stream",
     "text": [
      "Epoch [82/400], train_loss: 0.6250\n"
     ]
    },
    {
     "name": "stderr",
     "output_type": "stream",
     "text": [
      "loading data: 14it [00:45,  3.24s/it]\n",
      "loading data: 5it [00:14,  2.82s/it]\n"
     ]
    },
    {
     "name": "stdout",
     "output_type": "stream",
     "text": [
      "elapsed_time: 59.578s\n",
      "false positive (FP): 858, false negative (FN): 124, Precision: 82.335%, Recall: 96.992%, F1-measure: 89.065%\n",
      "Finished Predicting\n",
      "正确率:94.634 准确率:82.335 召回率:96.992 F1值:89.065\n"
     ]
    },
    {
     "name": "stderr",
     "output_type": "stream",
     "text": [
      "\r",
      "loading data: 0it [00:00, ?it/s]"
     ]
    },
    {
     "name": "stdout",
     "output_type": "stream",
     "text": [
      "Epoch [83/400], train_loss: 0.6174\n"
     ]
    },
    {
     "name": "stderr",
     "output_type": "stream",
     "text": [
      "loading data: 14it [00:43,  3.10s/it]\n",
      "loading data: 5it [00:13,  2.64s/it]\n"
     ]
    },
    {
     "name": "stdout",
     "output_type": "stream",
     "text": [
      "elapsed_time: 56.789s\n",
      "false positive (FP): 878, false negative (FN): 99, Precision: 82.089%, Recall: 97.599%, F1-measure: 89.175%\n",
      "Finished Predicting\n",
      "正确率:94.661 准确率:82.089 召回率:97.599 F1值:89.175\n"
     ]
    },
    {
     "name": "stderr",
     "output_type": "stream",
     "text": [
      "\r",
      "loading data: 0it [00:00, ?it/s]"
     ]
    },
    {
     "name": "stdout",
     "output_type": "stream",
     "text": [
      "Epoch [84/400], train_loss: 0.6165\n"
     ]
    },
    {
     "name": "stderr",
     "output_type": "stream",
     "text": [
      "loading data: 14it [00:43,  3.11s/it]\n",
      "loading data: 5it [00:13,  2.68s/it]\n"
     ]
    },
    {
     "name": "stdout",
     "output_type": "stream",
     "text": [
      "elapsed_time: 57.042s\n",
      "false positive (FP): 862, false negative (FN): 126, Precision: 82.260%, Recall: 96.944%, F1-measure: 89.000%\n",
      "Finished Predicting\n",
      "正确率:94.601 准确率:82.26 召回率:96.944 F1值:89.0\n"
     ]
    },
    {
     "name": "stderr",
     "output_type": "stream",
     "text": [
      "\r",
      "loading data: 0it [00:00, ?it/s]"
     ]
    },
    {
     "name": "stdout",
     "output_type": "stream",
     "text": [
      "Epoch [85/400], train_loss: 0.6376\n"
     ]
    },
    {
     "name": "stderr",
     "output_type": "stream",
     "text": [
      "loading data: 14it [00:42,  3.04s/it]\n",
      "loading data: 5it [00:13,  2.75s/it]\n"
     ]
    },
    {
     "name": "stdout",
     "output_type": "stream",
     "text": [
      "elapsed_time: 56.454s\n",
      "false positive (FP): 876, false negative (FN): 99, Precision: 82.122%, Recall: 97.599%, F1-measure: 89.194%\n",
      "Finished Predicting\n",
      "正确率:94.672 准确率:82.122 召回率:97.599 F1值:89.194\n"
     ]
    },
    {
     "name": "stderr",
     "output_type": "stream",
     "text": [
      "\r",
      "loading data: 0it [00:00, ?it/s]"
     ]
    },
    {
     "name": "stdout",
     "output_type": "stream",
     "text": [
      "Epoch [86/400], train_loss: 0.6234\n"
     ]
    },
    {
     "name": "stderr",
     "output_type": "stream",
     "text": [
      "loading data: 14it [00:43,  3.12s/it]\n",
      "loading data: 5it [00:13,  2.80s/it]\n"
     ]
    },
    {
     "name": "stdout",
     "output_type": "stream",
     "text": [
      "elapsed_time: 57.809s\n",
      "false positive (FP): 874, false negative (FN): 103, Precision: 82.141%, Recall: 97.502%, F1-measure: 89.165%\n",
      "Finished Predicting\n",
      "正确率:94.661 准确率:82.141 召回率:97.502 F1值:89.165\n"
     ]
    },
    {
     "name": "stderr",
     "output_type": "stream",
     "text": [
      "\r",
      "loading data: 0it [00:00, ?it/s]"
     ]
    },
    {
     "name": "stdout",
     "output_type": "stream",
     "text": [
      "Epoch [87/400], train_loss: 0.6073\n"
     ]
    },
    {
     "name": "stderr",
     "output_type": "stream",
     "text": [
      "loading data: 14it [00:43,  3.07s/it]\n",
      "loading data: 5it [00:13,  2.74s/it]\n"
     ]
    },
    {
     "name": "stdout",
     "output_type": "stream",
     "text": [
      "elapsed_time: 56.850s\n",
      "false positive (FP): 868, false negative (FN): 119, Precision: 82.184%, Recall: 97.114%, F1-measure: 89.027%\n",
      "Finished Predicting\n",
      "正确率:94.607 准确率:82.184 召回率:97.114 F1值:89.027\n"
     ]
    },
    {
     "name": "stderr",
     "output_type": "stream",
     "text": [
      "\r",
      "loading data: 0it [00:00, ?it/s]"
     ]
    },
    {
     "name": "stdout",
     "output_type": "stream",
     "text": [
      "Epoch [88/400], train_loss: 0.6330\n"
     ]
    },
    {
     "name": "stderr",
     "output_type": "stream",
     "text": [
      "loading data: 14it [00:43,  3.09s/it]\n",
      "loading data: 5it [00:13,  2.68s/it]\n"
     ]
    },
    {
     "name": "stdout",
     "output_type": "stream",
     "text": [
      "elapsed_time: 56.866s\n",
      "false positive (FP): 881, false negative (FN): 98, Precision: 82.042%, Recall: 97.623%, F1-measure: 89.157%\n",
      "Finished Predicting\n",
      "正确率:94.65 准确率:82.042 召回率:97.623 F1值:89.157\n"
     ]
    },
    {
     "name": "stderr",
     "output_type": "stream",
     "text": [
      "\r",
      "loading data: 0it [00:00, ?it/s]"
     ]
    },
    {
     "name": "stdout",
     "output_type": "stream",
     "text": [
      "Epoch [89/400], train_loss: 0.6041\n"
     ]
    },
    {
     "name": "stderr",
     "output_type": "stream",
     "text": [
      "loading data: 14it [00:46,  3.31s/it]\n",
      "loading data: 5it [00:14,  2.90s/it]\n"
     ]
    },
    {
     "name": "stdout",
     "output_type": "stream",
     "text": [
      "elapsed_time: 61.066s\n",
      "false positive (FP): 874, false negative (FN): 100, Precision: 82.152%, Recall: 97.575%, F1-measure: 89.202%\n",
      "Finished Predicting\n",
      "正确率:94.678 准确率:82.152 召回率:97.575 F1值:89.202\n"
     ]
    },
    {
     "name": "stderr",
     "output_type": "stream",
     "text": [
      "\r",
      "loading data: 0it [00:00, ?it/s]"
     ]
    },
    {
     "name": "stdout",
     "output_type": "stream",
     "text": [
      "Epoch [90/400], train_loss: 0.7174\n"
     ]
    },
    {
     "name": "stderr",
     "output_type": "stream",
     "text": [
      "loading data: 14it [00:45,  3.25s/it]\n",
      "loading data: 5it [00:14,  2.87s/it]\n"
     ]
    },
    {
     "name": "stdout",
     "output_type": "stream",
     "text": [
      "elapsed_time: 60.146s\n",
      "false positive (FP): 868, false negative (FN): 95, Precision: 82.271%, Recall: 97.696%, F1-measure: 89.323%\n",
      "Finished Predicting\n",
      "正确率:94.738 准确率:82.271 召回率:97.696 F1值:89.323\n"
     ]
    },
    {
     "name": "stderr",
     "output_type": "stream",
     "text": [
      "\r",
      "loading data: 0it [00:00, ?it/s]"
     ]
    },
    {
     "name": "stdout",
     "output_type": "stream",
     "text": [
      "Epoch [91/400], train_loss: 0.6371\n"
     ]
    },
    {
     "name": "stderr",
     "output_type": "stream",
     "text": [
      "loading data: 14it [00:45,  3.28s/it]\n",
      "loading data: 5it [00:14,  2.90s/it]\n"
     ]
    },
    {
     "name": "stdout",
     "output_type": "stream",
     "text": [
      "elapsed_time: 60.562s\n",
      "false positive (FP): 867, false negative (FN): 122, Precision: 82.190%, Recall: 97.041%, F1-measure: 89.000%\n",
      "Finished Predicting\n",
      "正确率:94.596 准确率:82.19 召回率:97.041 F1值:89.0\n"
     ]
    },
    {
     "name": "stderr",
     "output_type": "stream",
     "text": [
      "\r",
      "loading data: 0it [00:00, ?it/s]"
     ]
    },
    {
     "name": "stdout",
     "output_type": "stream",
     "text": [
      "Epoch [92/400], train_loss: 0.6009\n"
     ]
    },
    {
     "name": "stderr",
     "output_type": "stream",
     "text": [
      "loading data: 14it [00:46,  3.33s/it]\n",
      "loading data: 5it [00:14,  2.99s/it]\n"
     ]
    },
    {
     "name": "stdout",
     "output_type": "stream",
     "text": [
      "elapsed_time: 61.820s\n",
      "false positive (FP): 887, false negative (FN): 101, Precision: 81.931%, Recall: 97.550%, F1-measure: 89.061%\n",
      "Finished Predicting\n",
      "正确率:94.601 准确率:81.931 召回率:97.55 F1值:89.061\n"
     ]
    },
    {
     "name": "stderr",
     "output_type": "stream",
     "text": [
      "\r",
      "loading data: 0it [00:00, ?it/s]"
     ]
    },
    {
     "name": "stdout",
     "output_type": "stream",
     "text": [
      "Epoch [93/400], train_loss: 0.6069\n"
     ]
    },
    {
     "name": "stderr",
     "output_type": "stream",
     "text": [
      "loading data: 14it [00:46,  3.30s/it]\n",
      "loading data: 5it [00:14,  2.86s/it]\n"
     ]
    },
    {
     "name": "stdout",
     "output_type": "stream",
     "text": [
      "elapsed_time: 60.686s\n",
      "false positive (FP): 881, false negative (FN): 116, Precision: 81.976%, Recall: 97.187%, F1-measure: 88.936%\n",
      "Finished Predicting\n",
      "正确率:94.552 准确率:81.976 召回率:97.187 F1值:88.936\n"
     ]
    },
    {
     "name": "stderr",
     "output_type": "stream",
     "text": [
      "\r",
      "loading data: 0it [00:00, ?it/s]"
     ]
    },
    {
     "name": "stdout",
     "output_type": "stream",
     "text": [
      "Epoch [94/400], train_loss: 0.6766\n"
     ]
    },
    {
     "name": "stderr",
     "output_type": "stream",
     "text": [
      "loading data: 14it [00:45,  3.24s/it]\n",
      "loading data: 5it [00:14,  2.80s/it]\n"
     ]
    },
    {
     "name": "stdout",
     "output_type": "stream",
     "text": [
      "elapsed_time: 59.601s\n",
      "false positive (FP): 878, false negative (FN): 97, Precision: 82.096%, Recall: 97.647%, F1-measure: 89.199%\n",
      "Finished Predicting\n",
      "正确率:94.672 准确率:82.096 召回率:97.647 F1值:89.199\n"
     ]
    },
    {
     "name": "stderr",
     "output_type": "stream",
     "text": [
      "\r",
      "loading data: 0it [00:00, ?it/s]"
     ]
    },
    {
     "name": "stdout",
     "output_type": "stream",
     "text": [
      "Epoch [95/400], train_loss: 0.6027\n"
     ]
    },
    {
     "name": "stderr",
     "output_type": "stream",
     "text": [
      "loading data: 14it [00:45,  3.27s/it]\n",
      "loading data: 5it [00:14,  2.82s/it]\n"
     ]
    },
    {
     "name": "stdout",
     "output_type": "stream",
     "text": [
      "elapsed_time: 60.013s\n",
      "false positive (FP): 889, false negative (FN): 100, Precision: 81.901%, Recall: 97.575%, F1-measure: 89.054%\n",
      "Finished Predicting\n",
      "正确率:94.596 准确率:81.901 召回率:97.575 F1值:89.054\n"
     ]
    },
    {
     "name": "stderr",
     "output_type": "stream",
     "text": [
      "\r",
      "loading data: 0it [00:00, ?it/s]"
     ]
    },
    {
     "name": "stdout",
     "output_type": "stream",
     "text": [
      "Epoch [96/400], train_loss: 0.5939\n"
     ]
    },
    {
     "name": "stderr",
     "output_type": "stream",
     "text": [
      "loading data: 14it [00:45,  3.25s/it]\n",
      "loading data: 5it [00:13,  2.71s/it]\n"
     ]
    },
    {
     "name": "stdout",
     "output_type": "stream",
     "text": [
      "elapsed_time: 59.221s\n",
      "false positive (FP): 899, false negative (FN): 98, Precision: 81.742%, Recall: 97.623%, F1-measure: 88.980%\n",
      "Finished Predicting\n",
      "正确率:94.552 准确率:81.742 召回率:97.623 F1值:88.98\n"
     ]
    },
    {
     "name": "stderr",
     "output_type": "stream",
     "text": [
      "\r",
      "loading data: 0it [00:00, ?it/s]"
     ]
    },
    {
     "name": "stdout",
     "output_type": "stream",
     "text": [
      "Epoch [97/400], train_loss: 0.5942\n"
     ]
    },
    {
     "name": "stderr",
     "output_type": "stream",
     "text": [
      "loading data: 14it [00:44,  3.15s/it]\n",
      "loading data: 5it [00:13,  2.73s/it]\n"
     ]
    },
    {
     "name": "stdout",
     "output_type": "stream",
     "text": [
      "elapsed_time: 57.936s\n",
      "false positive (FP): 896, false negative (FN): 101, Precision: 81.781%, Recall: 97.550%, F1-measure: 88.972%\n",
      "Finished Predicting\n",
      "正确率:94.552 准确率:81.781 召回率:97.55 F1值:88.972\n"
     ]
    },
    {
     "name": "stderr",
     "output_type": "stream",
     "text": [
      "\r",
      "loading data: 0it [00:00, ?it/s]"
     ]
    },
    {
     "name": "stdout",
     "output_type": "stream",
     "text": [
      "Epoch [98/400], train_loss: 0.5913\n"
     ]
    },
    {
     "name": "stderr",
     "output_type": "stream",
     "text": [
      "loading data: 14it [00:43,  3.13s/it]\n",
      "loading data: 5it [00:13,  2.74s/it]\n"
     ]
    },
    {
     "name": "stdout",
     "output_type": "stream",
     "text": [
      "elapsed_time: 57.764s\n",
      "false positive (FP): 903, false negative (FN): 103, Precision: 81.658%, Recall: 97.502%, F1-measure: 88.879%\n",
      "Finished Predicting\n",
      "正确率:94.503 准确率:81.658 召回率:97.502 F1值:88.879\n"
     ]
    },
    {
     "name": "stderr",
     "output_type": "stream",
     "text": [
      "\r",
      "loading data: 0it [00:00, ?it/s]"
     ]
    },
    {
     "name": "stdout",
     "output_type": "stream",
     "text": [
      "Epoch [99/400], train_loss: 0.8945\n"
     ]
    },
    {
     "name": "stderr",
     "output_type": "stream",
     "text": [
      "loading data: 14it [00:44,  3.17s/it]\n",
      "loading data: 5it [00:13,  2.68s/it]\n"
     ]
    },
    {
     "name": "stdout",
     "output_type": "stream",
     "text": [
      "elapsed_time: 57.906s\n",
      "false positive (FP): 968, false negative (FN): 100, Precision: 80.605%, Recall: 97.575%, F1-measure: 88.282%\n",
      "Finished Predicting\n",
      "正确率:94.164 准确率:80.605 召回率:97.575 F1值:88.282\n"
     ]
    },
    {
     "name": "stderr",
     "output_type": "stream",
     "text": [
      "\r",
      "loading data: 0it [00:00, ?it/s]"
     ]
    },
    {
     "name": "stdout",
     "output_type": "stream",
     "text": [
      "Epoch [100/400], train_loss: 0.7186\n"
     ]
    },
    {
     "name": "stderr",
     "output_type": "stream",
     "text": [
      "loading data: 14it [00:44,  3.21s/it]\n",
      "loading data: 5it [00:13,  2.77s/it]\n"
     ]
    },
    {
     "name": "stdout",
     "output_type": "stream",
     "text": [
      "elapsed_time: 58.852s\n",
      "false positive (FP): 843, false negative (FN): 140, Precision: 82.532%, Recall: 96.604%, F1-measure: 89.016%\n",
      "Finished Predicting\n",
      "正确率:94.628 准确率:82.532 召回率:96.604 F1值:89.016\n"
     ]
    },
    {
     "name": "stderr",
     "output_type": "stream",
     "text": [
      "\r",
      "loading data: 0it [00:00, ?it/s]"
     ]
    },
    {
     "name": "stdout",
     "output_type": "stream",
     "text": [
      "Epoch [101/400], train_loss: 0.7206\n"
     ]
    },
    {
     "name": "stderr",
     "output_type": "stream",
     "text": [
      "loading data: 14it [00:42,  3.06s/it]\n",
      "loading data: 5it [00:14,  2.81s/it]\n"
     ]
    },
    {
     "name": "stdout",
     "output_type": "stream",
     "text": [
      "elapsed_time: 57.160s\n",
      "false positive (FP): 898, false negative (FN): 103, Precision: 81.741%, Recall: 97.502%, F1-measure: 88.928%\n",
      "Finished Predicting\n",
      "正确率:94.53 准确率:81.741 召回率:97.502 F1值:88.928\n"
     ]
    },
    {
     "name": "stderr",
     "output_type": "stream",
     "text": [
      "\r",
      "loading data: 0it [00:00, ?it/s]"
     ]
    },
    {
     "name": "stdout",
     "output_type": "stream",
     "text": [
      "Epoch [102/400], train_loss: 0.6805\n"
     ]
    },
    {
     "name": "stderr",
     "output_type": "stream",
     "text": [
      "loading data: 14it [00:44,  3.18s/it]\n",
      "loading data: 5it [00:13,  2.75s/it]\n"
     ]
    },
    {
     "name": "stdout",
     "output_type": "stream",
     "text": [
      "elapsed_time: 58.351s\n",
      "false positive (FP): 892, false negative (FN): 106, Precision: 81.829%, Recall: 97.429%, F1-measure: 88.950%\n",
      "Finished Predicting\n",
      "正确率:94.546 准确率:81.829 召回率:97.429 F1值:88.95\n"
     ]
    },
    {
     "name": "stderr",
     "output_type": "stream",
     "text": [
      "\r",
      "loading data: 0it [00:00, ?it/s]"
     ]
    },
    {
     "name": "stdout",
     "output_type": "stream",
     "text": [
      "Epoch [103/400], train_loss: 0.6668\n"
     ]
    },
    {
     "name": "stderr",
     "output_type": "stream",
     "text": [
      "loading data: 14it [00:44,  3.20s/it]\n",
      "loading data: 5it [00:13,  2.73s/it]\n"
     ]
    },
    {
     "name": "stdout",
     "output_type": "stream",
     "text": [
      "elapsed_time: 58.530s\n",
      "false positive (FP): 889, false negative (FN): 100, Precision: 81.901%, Recall: 97.575%, F1-measure: 89.054%\n",
      "Finished Predicting\n",
      "正确率:94.596 准确率:81.901 召回率:97.575 F1值:89.054\n"
     ]
    },
    {
     "name": "stderr",
     "output_type": "stream",
     "text": [
      "\r",
      "loading data: 0it [00:00, ?it/s]"
     ]
    },
    {
     "name": "stdout",
     "output_type": "stream",
     "text": [
      "Epoch [104/400], train_loss: 0.6862\n"
     ]
    },
    {
     "name": "stderr",
     "output_type": "stream",
     "text": [
      "loading data: 14it [00:44,  3.21s/it]\n",
      "loading data: 5it [00:13,  2.80s/it]\n"
     ]
    },
    {
     "name": "stdout",
     "output_type": "stream",
     "text": [
      "elapsed_time: 59.043s\n",
      "false positive (FP): 907, false negative (FN): 103, Precision: 81.591%, Recall: 97.502%, F1-measure: 88.840%\n",
      "Finished Predicting\n",
      "正确率:94.481 准确率:81.591 召回率:97.502 F1值:88.84\n"
     ]
    },
    {
     "name": "stderr",
     "output_type": "stream",
     "text": [
      "\r",
      "loading data: 0it [00:00, ?it/s]"
     ]
    },
    {
     "name": "stdout",
     "output_type": "stream",
     "text": [
      "Epoch [105/400], train_loss: 0.6758\n"
     ]
    },
    {
     "name": "stderr",
     "output_type": "stream",
     "text": [
      "loading data: 14it [00:44,  3.19s/it]\n",
      "loading data: 5it [00:13,  2.67s/it]\n"
     ]
    },
    {
     "name": "stdout",
     "output_type": "stream",
     "text": [
      "elapsed_time: 58.159s\n",
      "false positive (FP): 909, false negative (FN): 99, Precision: 81.573%, Recall: 97.599%, F1-measure: 88.869%\n",
      "Finished Predicting\n",
      "正确率:94.492 准确率:81.573 召回率:97.599 F1值:88.869\n"
     ]
    },
    {
     "name": "stderr",
     "output_type": "stream",
     "text": [
      "\r",
      "loading data: 0it [00:00, ?it/s]"
     ]
    },
    {
     "name": "stdout",
     "output_type": "stream",
     "text": [
      "Epoch [106/400], train_loss: 0.6645\n"
     ]
    },
    {
     "name": "stderr",
     "output_type": "stream",
     "text": [
      "loading data: 14it [00:44,  3.18s/it]\n",
      "loading data: 5it [00:13,  2.79s/it]\n"
     ]
    },
    {
     "name": "stdout",
     "output_type": "stream",
     "text": [
      "elapsed_time: 58.712s\n",
      "false positive (FP): 887, false negative (FN): 99, Precision: 81.939%, Recall: 97.599%, F1-measure: 89.086%\n",
      "Finished Predicting\n",
      "正确率:94.612 准确率:81.939 召回率:97.599 F1值:89.086\n"
     ]
    },
    {
     "name": "stderr",
     "output_type": "stream",
     "text": [
      "\r",
      "loading data: 0it [00:00, ?it/s]"
     ]
    },
    {
     "name": "stdout",
     "output_type": "stream",
     "text": [
      "Epoch [107/400], train_loss: 0.6684\n"
     ]
    },
    {
     "name": "stderr",
     "output_type": "stream",
     "text": [
      "loading data: 14it [00:44,  3.19s/it]\n",
      "loading data: 5it [00:14,  2.97s/it]\n"
     ]
    },
    {
     "name": "stdout",
     "output_type": "stream",
     "text": [
      "elapsed_time: 59.665s\n",
      "false positive (FP): 920, false negative (FN): 104, Precision: 81.373%, Recall: 97.478%, F1-measure: 88.700%\n",
      "Finished Predicting\n",
      "正确率:94.404 准确率:81.373 召回率:97.478 F1值:88.7\n"
     ]
    },
    {
     "name": "stderr",
     "output_type": "stream",
     "text": [
      "\r",
      "loading data: 0it [00:00, ?it/s]"
     ]
    },
    {
     "name": "stdout",
     "output_type": "stream",
     "text": [
      "Epoch [108/400], train_loss: 0.6389\n"
     ]
    },
    {
     "name": "stderr",
     "output_type": "stream",
     "text": [
      "loading data: 14it [00:45,  3.23s/it]\n",
      "loading data: 5it [00:14,  2.83s/it]\n"
     ]
    },
    {
     "name": "stdout",
     "output_type": "stream",
     "text": [
      "elapsed_time: 59.611s\n",
      "false positive (FP): 890, false negative (FN): 101, Precision: 81.881%, Recall: 97.550%, F1-measure: 89.032%\n",
      "Finished Predicting\n",
      "正确率:94.585 准确率:81.881 召回率:97.55 F1值:89.032\n"
     ]
    },
    {
     "name": "stderr",
     "output_type": "stream",
     "text": [
      "\r",
      "loading data: 0it [00:00, ?it/s]"
     ]
    },
    {
     "name": "stdout",
     "output_type": "stream",
     "text": [
      "Epoch [109/400], train_loss: 0.7356\n"
     ]
    },
    {
     "name": "stderr",
     "output_type": "stream",
     "text": [
      "loading data: 14it [00:45,  3.22s/it]\n",
      "loading data: 5it [00:13,  2.71s/it]\n"
     ]
    },
    {
     "name": "stdout",
     "output_type": "stream",
     "text": [
      "elapsed_time: 58.821s\n",
      "false positive (FP): 897, false negative (FN): 122, Precision: 81.686%, Recall: 97.041%, F1-measure: 88.704%\n",
      "Finished Predicting\n",
      "正确率:94.432 准确率:81.686 召回率:97.041 F1值:88.704\n"
     ]
    },
    {
     "name": "stderr",
     "output_type": "stream",
     "text": [
      "\r",
      "loading data: 0it [00:00, ?it/s]"
     ]
    },
    {
     "name": "stdout",
     "output_type": "stream",
     "text": [
      "Epoch [110/400], train_loss: 0.6243\n"
     ]
    },
    {
     "name": "stderr",
     "output_type": "stream",
     "text": [
      "loading data: 14it [00:44,  3.18s/it]\n",
      "loading data: 5it [00:13,  2.74s/it]\n"
     ]
    },
    {
     "name": "stdout",
     "output_type": "stream",
     "text": [
      "elapsed_time: 58.409s\n",
      "false positive (FP): 881, false negative (FN): 100, Precision: 82.035%, Recall: 97.575%, F1-measure: 89.133%\n",
      "Finished Predicting\n",
      "正确率:94.639 准确率:82.035 召回率:97.575 F1值:89.133\n"
     ]
    },
    {
     "name": "stderr",
     "output_type": "stream",
     "text": [
      "\r",
      "loading data: 0it [00:00, ?it/s]"
     ]
    },
    {
     "name": "stdout",
     "output_type": "stream",
     "text": [
      "Epoch [111/400], train_loss: 0.6406\n"
     ]
    },
    {
     "name": "stderr",
     "output_type": "stream",
     "text": [
      "loading data: 14it [00:45,  3.25s/it]\n",
      "loading data: 5it [00:13,  2.61s/it]\n"
     ]
    },
    {
     "name": "stdout",
     "output_type": "stream",
     "text": [
      "elapsed_time: 58.766s\n",
      "false positive (FP): 929, false negative (FN): 108, Precision: 81.210%, Recall: 97.381%, F1-measure: 88.563%\n",
      "Finished Predicting\n",
      "正确率:94.333 准确率:81.21 召回率:97.381 F1值:88.563\n"
     ]
    },
    {
     "name": "stderr",
     "output_type": "stream",
     "text": [
      "\r",
      "loading data: 0it [00:00, ?it/s]"
     ]
    },
    {
     "name": "stdout",
     "output_type": "stream",
     "text": [
      "Epoch [112/400], train_loss: 0.7225\n"
     ]
    },
    {
     "name": "stderr",
     "output_type": "stream",
     "text": [
      "loading data: 14it [00:43,  3.11s/it]\n",
      "loading data: 5it [00:14,  2.82s/it]\n"
     ]
    },
    {
     "name": "stdout",
     "output_type": "stream",
     "text": [
      "elapsed_time: 57.840s\n",
      "false positive (FP): 928, false negative (FN): 97, Precision: 81.268%, Recall: 97.647%, F1-measure: 88.708%\n",
      "Finished Predicting\n",
      "正确率:94.399 准确率:81.268 召回率:97.647 F1值:88.708\n"
     ]
    },
    {
     "name": "stderr",
     "output_type": "stream",
     "text": [
      "\r",
      "loading data: 0it [00:00, ?it/s]"
     ]
    },
    {
     "name": "stdout",
     "output_type": "stream",
     "text": [
      "Epoch [113/400], train_loss: 0.6856\n"
     ]
    },
    {
     "name": "stderr",
     "output_type": "stream",
     "text": [
      "loading data: 14it [00:42,  3.07s/it]\n",
      "loading data: 5it [00:13,  2.68s/it]\n"
     ]
    },
    {
     "name": "stdout",
     "output_type": "stream",
     "text": [
      "elapsed_time: 56.483s\n",
      "false positive (FP): 926, false negative (FN): 101, Precision: 81.285%, Recall: 97.550%, F1-measure: 88.678%\n",
      "Finished Predicting\n",
      "正确率:94.388 准确率:81.285 召回率:97.55 F1值:88.678\n"
     ]
    },
    {
     "name": "stderr",
     "output_type": "stream",
     "text": [
      "\r",
      "loading data: 0it [00:00, ?it/s]"
     ]
    },
    {
     "name": "stdout",
     "output_type": "stream",
     "text": [
      "Epoch [114/400], train_loss: 0.6070\n"
     ]
    },
    {
     "name": "stderr",
     "output_type": "stream",
     "text": [
      "loading data: 14it [00:43,  3.11s/it]\n",
      "loading data: 5it [00:14,  2.86s/it]\n"
     ]
    },
    {
     "name": "stdout",
     "output_type": "stream",
     "text": [
      "elapsed_time: 57.930s\n",
      "false positive (FP): 903, false negative (FN): 95, Precision: 81.687%, Recall: 97.696%, F1-measure: 88.977%\n",
      "Finished Predicting\n",
      "正确率:94.546 准确率:81.687 召回率:97.696 F1值:88.977\n"
     ]
    },
    {
     "name": "stderr",
     "output_type": "stream",
     "text": [
      "\r",
      "loading data: 0it [00:00, ?it/s]"
     ]
    },
    {
     "name": "stdout",
     "output_type": "stream",
     "text": [
      "Epoch [115/400], train_loss: 0.6462\n"
     ]
    },
    {
     "name": "stderr",
     "output_type": "stream",
     "text": [
      "loading data: 14it [00:43,  3.13s/it]\n",
      "loading data: 5it [00:14,  2.82s/it]\n"
     ]
    },
    {
     "name": "stdout",
     "output_type": "stream",
     "text": [
      "elapsed_time: 58.133s\n",
      "false positive (FP): 910, false negative (FN): 101, Precision: 81.549%, Recall: 97.550%, F1-measure: 88.835%\n",
      "Finished Predicting\n",
      "正确率:94.475 准确率:81.549 召回率:97.55 F1值:88.835\n"
     ]
    },
    {
     "name": "stderr",
     "output_type": "stream",
     "text": [
      "\r",
      "loading data: 0it [00:00, ?it/s]"
     ]
    },
    {
     "name": "stdout",
     "output_type": "stream",
     "text": [
      "Epoch [116/400], train_loss: 0.6064\n"
     ]
    },
    {
     "name": "stderr",
     "output_type": "stream",
     "text": [
      "loading data: 14it [00:45,  3.25s/it]\n",
      "loading data: 5it [00:14,  2.85s/it]\n"
     ]
    },
    {
     "name": "stdout",
     "output_type": "stream",
     "text": [
      "elapsed_time: 59.913s\n",
      "false positive (FP): 901, false negative (FN): 95, Precision: 81.720%, Recall: 97.696%, F1-measure: 88.997%\n",
      "Finished Predicting\n",
      "正确率:94.557 准确率:81.72 召回率:97.696 F1值:88.997\n"
     ]
    },
    {
     "name": "stderr",
     "output_type": "stream",
     "text": [
      "\r",
      "loading data: 0it [00:00, ?it/s]"
     ]
    },
    {
     "name": "stdout",
     "output_type": "stream",
     "text": [
      "Epoch [117/400], train_loss: 0.6107\n"
     ]
    },
    {
     "name": "stderr",
     "output_type": "stream",
     "text": [
      "loading data: 14it [00:44,  3.17s/it]\n",
      "loading data: 5it [00:14,  2.85s/it]\n"
     ]
    },
    {
     "name": "stdout",
     "output_type": "stream",
     "text": [
      "elapsed_time: 58.840s\n",
      "false positive (FP): 906, false negative (FN): 98, Precision: 81.626%, Recall: 97.623%, F1-measure: 88.911%\n",
      "Finished Predicting\n",
      "正确率:94.514 准确率:81.626 召回率:97.623 F1值:88.911\n"
     ]
    },
    {
     "name": "stderr",
     "output_type": "stream",
     "text": [
      "\r",
      "loading data: 0it [00:00, ?it/s]"
     ]
    },
    {
     "name": "stdout",
     "output_type": "stream",
     "text": [
      "Epoch [118/400], train_loss: 0.6011\n"
     ]
    },
    {
     "name": "stderr",
     "output_type": "stream",
     "text": [
      "loading data: 14it [00:43,  3.13s/it]\n",
      "loading data: 5it [00:13,  2.79s/it]\n"
     ]
    },
    {
     "name": "stdout",
     "output_type": "stream",
     "text": [
      "elapsed_time: 58.040s\n",
      "false positive (FP): 899, false negative (FN): 97, Precision: 81.746%, Recall: 97.647%, F1-measure: 88.992%\n",
      "Finished Predicting\n",
      "正确率:94.557 准确率:81.746 召回率:97.647 F1值:88.992\n"
     ]
    },
    {
     "name": "stderr",
     "output_type": "stream",
     "text": [
      "\r",
      "loading data: 0it [00:00, ?it/s]"
     ]
    },
    {
     "name": "stdout",
     "output_type": "stream",
     "text": [
      "Epoch [119/400], train_loss: 0.5942\n"
     ]
    },
    {
     "name": "stderr",
     "output_type": "stream",
     "text": [
      "loading data: 14it [00:45,  3.25s/it]\n",
      "loading data: 5it [00:14,  2.82s/it]\n"
     ]
    },
    {
     "name": "stdout",
     "output_type": "stream",
     "text": [
      "elapsed_time: 59.812s\n",
      "false positive (FP): 900, false negative (FN): 97, Precision: 81.730%, Recall: 97.647%, F1-measure: 88.982%\n",
      "Finished Predicting\n",
      "正确率:94.552 准确率:81.73 召回率:97.647 F1值:88.982\n"
     ]
    },
    {
     "name": "stderr",
     "output_type": "stream",
     "text": [
      "\r",
      "loading data: 0it [00:00, ?it/s]"
     ]
    },
    {
     "name": "stdout",
     "output_type": "stream",
     "text": [
      "Epoch [120/400], train_loss: 0.6487\n"
     ]
    },
    {
     "name": "stderr",
     "output_type": "stream",
     "text": [
      "loading data: 14it [00:46,  3.35s/it]\n",
      "loading data: 5it [00:14,  2.90s/it]\n"
     ]
    },
    {
     "name": "stdout",
     "output_type": "stream",
     "text": [
      "elapsed_time: 61.599s\n",
      "false positive (FP): 943, false negative (FN): 100, Precision: 81.011%, Recall: 97.575%, F1-measure: 88.525%\n",
      "Finished Predicting\n",
      "正确率:94.301 准确率:81.011 召回率:97.575 F1值:88.525\n"
     ]
    },
    {
     "name": "stderr",
     "output_type": "stream",
     "text": [
      "\r",
      "loading data: 0it [00:00, ?it/s]"
     ]
    },
    {
     "name": "stdout",
     "output_type": "stream",
     "text": [
      "Epoch [121/400], train_loss: 0.6085\n"
     ]
    },
    {
     "name": "stderr",
     "output_type": "stream",
     "text": [
      "loading data: 14it [00:44,  3.18s/it]\n",
      "loading data: 5it [00:15,  3.04s/it]\n"
     ]
    },
    {
     "name": "stdout",
     "output_type": "stream",
     "text": [
      "elapsed_time: 59.968s\n",
      "false positive (FP): 912, false negative (FN): 97, Precision: 81.531%, Recall: 97.647%, F1-measure: 88.864%\n",
      "Finished Predicting\n",
      "正确率:94.486 准确率:81.531 召回率:97.647 F1值:88.864\n"
     ]
    },
    {
     "name": "stderr",
     "output_type": "stream",
     "text": [
      "\r",
      "loading data: 0it [00:00, ?it/s]"
     ]
    },
    {
     "name": "stdout",
     "output_type": "stream",
     "text": [
      "Epoch [122/400], train_loss: 0.5807\n"
     ]
    },
    {
     "name": "stderr",
     "output_type": "stream",
     "text": [
      "loading data: 14it [00:45,  3.25s/it]\n",
      "loading data: 5it [00:13,  2.75s/it]\n"
     ]
    },
    {
     "name": "stdout",
     "output_type": "stream",
     "text": [
      "elapsed_time: 59.460s\n",
      "false positive (FP): 909, false negative (FN): 97, Precision: 81.581%, Recall: 97.647%, F1-measure: 88.894%\n",
      "Finished Predicting\n",
      "正确率:94.503 准确率:81.581 召回率:97.647 F1值:88.894\n"
     ]
    },
    {
     "name": "stderr",
     "output_type": "stream",
     "text": [
      "\r",
      "loading data: 0it [00:00, ?it/s]"
     ]
    },
    {
     "name": "stdout",
     "output_type": "stream",
     "text": [
      "Epoch [123/400], train_loss: 0.6792\n"
     ]
    },
    {
     "name": "stderr",
     "output_type": "stream",
     "text": [
      "loading data: 14it [00:44,  3.21s/it]\n",
      "loading data: 5it [00:14,  2.95s/it]\n"
     ]
    },
    {
     "name": "stdout",
     "output_type": "stream",
     "text": [
      "elapsed_time: 59.825s\n",
      "false positive (FP): 942, false negative (FN): 99, Precision: 81.031%, Recall: 97.599%, F1-measure: 88.547%\n",
      "Finished Predicting\n",
      "正确率:94.311 准确率:81.031 召回率:97.599 F1值:88.547\n"
     ]
    },
    {
     "name": "stderr",
     "output_type": "stream",
     "text": [
      "\r",
      "loading data: 0it [00:00, ?it/s]"
     ]
    },
    {
     "name": "stdout",
     "output_type": "stream",
     "text": [
      "Epoch [124/400], train_loss: 0.6350\n"
     ]
    },
    {
     "name": "stderr",
     "output_type": "stream",
     "text": [
      "loading data: 14it [00:45,  3.23s/it]\n",
      "loading data: 5it [00:13,  2.78s/it]\n"
     ]
    },
    {
     "name": "stdout",
     "output_type": "stream",
     "text": [
      "elapsed_time: 59.306s\n",
      "false positive (FP): 948, false negative (FN): 96, Precision: 80.945%, Recall: 97.672%, F1-measure: 88.525%\n",
      "Finished Predicting\n",
      "正确率:94.295 准确率:80.945 召回率:97.672 F1值:88.525\n"
     ]
    },
    {
     "name": "stderr",
     "output_type": "stream",
     "text": [
      "\r",
      "loading data: 0it [00:00, ?it/s]"
     ]
    },
    {
     "name": "stdout",
     "output_type": "stream",
     "text": [
      "Epoch [125/400], train_loss: 0.5828\n"
     ]
    },
    {
     "name": "stderr",
     "output_type": "stream",
     "text": [
      "loading data: 14it [00:44,  3.18s/it]\n",
      "loading data: 5it [00:14,  2.89s/it]\n"
     ]
    },
    {
     "name": "stdout",
     "output_type": "stream",
     "text": [
      "elapsed_time: 59.188s\n",
      "false positive (FP): 924, false negative (FN): 97, Precision: 81.333%, Recall: 97.647%, F1-measure: 88.747%\n",
      "Finished Predicting\n",
      "正确率:94.421 准确率:81.333 召回率:97.647 F1值:88.747\n"
     ]
    },
    {
     "name": "stderr",
     "output_type": "stream",
     "text": [
      "\r",
      "loading data: 0it [00:00, ?it/s]"
     ]
    },
    {
     "name": "stdout",
     "output_type": "stream",
     "text": [
      "Epoch [126/400], train_loss: 0.8549\n"
     ]
    },
    {
     "name": "stderr",
     "output_type": "stream",
     "text": [
      "loading data: 14it [00:45,  3.28s/it]\n",
      "loading data: 5it [00:14,  2.87s/it]\n"
     ]
    },
    {
     "name": "stdout",
     "output_type": "stream",
     "text": [
      "elapsed_time: 60.433s\n",
      "false positive (FP): 1044, false negative (FN): 109, Precision: 79.359%, Recall: 97.356%, F1-measure: 87.441%\n",
      "Finished Predicting\n",
      "正确率:93.699 准确率:79.359 召回率:97.356 F1值:87.441\n"
     ]
    },
    {
     "name": "stderr",
     "output_type": "stream",
     "text": [
      "\r",
      "loading data: 0it [00:00, ?it/s]"
     ]
    },
    {
     "name": "stdout",
     "output_type": "stream",
     "text": [
      "Epoch [127/400], train_loss: 0.7343\n"
     ]
    },
    {
     "name": "stderr",
     "output_type": "stream",
     "text": [
      "loading data: 14it [00:44,  3.16s/it]\n",
      "loading data: 5it [00:14,  2.85s/it]\n"
     ]
    },
    {
     "name": "stdout",
     "output_type": "stream",
     "text": [
      "elapsed_time: 58.619s\n",
      "false positive (FP): 933, false negative (FN): 123, Precision: 81.087%, Recall: 97.017%, F1-measure: 88.339%\n",
      "Finished Predicting\n",
      "正确率:94.23 准确率:81.087 召回率:97.017 F1值:88.339\n"
     ]
    },
    {
     "name": "stderr",
     "output_type": "stream",
     "text": [
      "\r",
      "loading data: 0it [00:00, ?it/s]"
     ]
    },
    {
     "name": "stdout",
     "output_type": "stream",
     "text": [
      "Epoch [128/400], train_loss: 0.6686\n"
     ]
    },
    {
     "name": "stderr",
     "output_type": "stream",
     "text": [
      "loading data: 14it [00:45,  3.23s/it]\n",
      "loading data: 5it [00:14,  2.85s/it]\n"
     ]
    },
    {
     "name": "stdout",
     "output_type": "stream",
     "text": [
      "elapsed_time: 59.730s\n",
      "false positive (FP): 922, false negative (FN): 97, Precision: 81.366%, Recall: 97.647%, F1-measure: 88.766%\n",
      "Finished Predicting\n",
      "正确率:94.432 准确率:81.366 召回率:97.647 F1值:88.766\n"
     ]
    },
    {
     "name": "stderr",
     "output_type": "stream",
     "text": [
      "\r",
      "loading data: 0it [00:00, ?it/s]"
     ]
    },
    {
     "name": "stdout",
     "output_type": "stream",
     "text": [
      "Epoch [129/400], train_loss: 0.7228\n"
     ]
    },
    {
     "name": "stderr",
     "output_type": "stream",
     "text": [
      "loading data: 14it [00:44,  3.18s/it]\n",
      "loading data: 5it [00:14,  2.89s/it]\n"
     ]
    },
    {
     "name": "stdout",
     "output_type": "stream",
     "text": [
      "elapsed_time: 59.128s\n",
      "false positive (FP): 943, false negative (FN): 105, Precision: 80.992%, Recall: 97.453%, F1-measure: 88.463%\n",
      "Finished Predicting\n",
      "正确率:94.273 准确率:80.992 召回率:97.453 F1值:88.463\n"
     ]
    },
    {
     "name": "stderr",
     "output_type": "stream",
     "text": [
      "\r",
      "loading data: 0it [00:00, ?it/s]"
     ]
    },
    {
     "name": "stdout",
     "output_type": "stream",
     "text": [
      "Epoch [130/400], train_loss: 0.6152\n"
     ]
    },
    {
     "name": "stderr",
     "output_type": "stream",
     "text": [
      "loading data: 14it [00:45,  3.22s/it]\n",
      "loading data: 5it [00:14,  2.89s/it]\n"
     ]
    },
    {
     "name": "stdout",
     "output_type": "stream",
     "text": [
      "elapsed_time: 59.671s\n",
      "false positive (FP): 920, false negative (FN): 95, Precision: 81.407%, Recall: 97.696%, F1-measure: 88.810%\n",
      "Finished Predicting\n",
      "正确率:94.454 准确率:81.407 召回率:97.696 F1值:88.81\n"
     ]
    },
    {
     "name": "stderr",
     "output_type": "stream",
     "text": [
      "\r",
      "loading data: 0it [00:00, ?it/s]"
     ]
    },
    {
     "name": "stdout",
     "output_type": "stream",
     "text": [
      "Epoch [131/400], train_loss: 0.6079\n"
     ]
    },
    {
     "name": "stderr",
     "output_type": "stream",
     "text": [
      "loading data: 14it [00:45,  3.26s/it]\n",
      "loading data: 5it [00:14,  2.81s/it]\n"
     ]
    },
    {
     "name": "stdout",
     "output_type": "stream",
     "text": [
      "elapsed_time: 59.875s\n",
      "false positive (FP): 922, false negative (FN): 95, Precision: 81.374%, Recall: 97.696%, F1-measure: 88.791%\n",
      "Finished Predicting\n",
      "正确率:94.443 准确率:81.374 召回率:97.696 F1值:88.791\n"
     ]
    },
    {
     "name": "stderr",
     "output_type": "stream",
     "text": [
      "\r",
      "loading data: 0it [00:00, ?it/s]"
     ]
    },
    {
     "name": "stdout",
     "output_type": "stream",
     "text": [
      "Epoch [132/400], train_loss: 0.5867\n"
     ]
    },
    {
     "name": "stderr",
     "output_type": "stream",
     "text": [
      "loading data: 14it [00:44,  3.18s/it]\n",
      "loading data: 5it [00:13,  2.78s/it]\n"
     ]
    },
    {
     "name": "stdout",
     "output_type": "stream",
     "text": [
      "elapsed_time: 58.567s\n",
      "false positive (FP): 918, false negative (FN): 95, Precision: 81.440%, Recall: 97.696%, F1-measure: 88.830%\n",
      "Finished Predicting\n",
      "正确率:94.464 准确率:81.44 召回率:97.696 F1值:88.83\n"
     ]
    },
    {
     "name": "stderr",
     "output_type": "stream",
     "text": [
      "\r",
      "loading data: 0it [00:00, ?it/s]"
     ]
    },
    {
     "name": "stdout",
     "output_type": "stream",
     "text": [
      "Epoch [133/400], train_loss: 0.6065\n"
     ]
    },
    {
     "name": "stderr",
     "output_type": "stream",
     "text": [
      "loading data: 14it [00:44,  3.16s/it]\n",
      "loading data: 5it [00:14,  2.92s/it]\n"
     ]
    },
    {
     "name": "stdout",
     "output_type": "stream",
     "text": [
      "elapsed_time: 59.108s\n",
      "false positive (FP): 924, false negative (FN): 95, Precision: 81.341%, Recall: 97.696%, F1-measure: 88.771%\n",
      "Finished Predicting\n",
      "正确率:94.432 准确率:81.341 召回率:97.696 F1值:88.771\n"
     ]
    },
    {
     "name": "stderr",
     "output_type": "stream",
     "text": [
      "\r",
      "loading data: 0it [00:00, ?it/s]"
     ]
    },
    {
     "name": "stdout",
     "output_type": "stream",
     "text": [
      "Epoch [134/400], train_loss: 0.6305\n"
     ]
    },
    {
     "name": "stderr",
     "output_type": "stream",
     "text": [
      "loading data: 14it [00:43,  3.10s/it]\n",
      "loading data: 5it [00:14,  2.87s/it]\n"
     ]
    },
    {
     "name": "stdout",
     "output_type": "stream",
     "text": [
      "elapsed_time: 57.941s\n",
      "false positive (FP): 939, false negative (FN): 107, Precision: 81.049%, Recall: 97.405%, F1-measure: 88.478%\n",
      "Finished Predicting\n",
      "正确率:94.284 准确率:81.049 召回率:97.405 F1值:88.478\n"
     ]
    },
    {
     "name": "stderr",
     "output_type": "stream",
     "text": [
      "\r",
      "loading data: 0it [00:00, ?it/s]"
     ]
    },
    {
     "name": "stdout",
     "output_type": "stream",
     "text": [
      "Epoch [135/400], train_loss: 0.6336\n"
     ]
    },
    {
     "name": "stderr",
     "output_type": "stream",
     "text": [
      "loading data: 14it [00:43,  3.13s/it]\n",
      "loading data: 5it [00:14,  2.84s/it]\n"
     ]
    },
    {
     "name": "stdout",
     "output_type": "stream",
     "text": [
      "elapsed_time: 58.312s\n",
      "false positive (FP): 931, false negative (FN): 97, Precision: 81.218%, Recall: 97.647%, F1-measure: 88.678%\n",
      "Finished Predicting\n",
      "正确率:94.383 准确率:81.218 召回率:97.647 F1值:88.678\n"
     ]
    },
    {
     "name": "stderr",
     "output_type": "stream",
     "text": [
      "\r",
      "loading data: 0it [00:00, ?it/s]"
     ]
    },
    {
     "name": "stdout",
     "output_type": "stream",
     "text": [
      "Epoch [136/400], train_loss: 0.5771\n"
     ]
    },
    {
     "name": "stderr",
     "output_type": "stream",
     "text": [
      "loading data: 14it [00:43,  3.11s/it]\n",
      "loading data: 5it [00:13,  2.77s/it]\n"
     ]
    },
    {
     "name": "stdout",
     "output_type": "stream",
     "text": [
      "elapsed_time: 57.615s\n",
      "false positive (FP): 925, false negative (FN): 95, Precision: 81.324%, Recall: 97.696%, F1-measure: 88.762%\n",
      "Finished Predicting\n",
      "正确率:94.426 准确率:81.324 召回率:97.696 F1值:88.762\n"
     ]
    },
    {
     "name": "stderr",
     "output_type": "stream",
     "text": [
      "\r",
      "loading data: 0it [00:00, ?it/s]"
     ]
    },
    {
     "name": "stdout",
     "output_type": "stream",
     "text": [
      "Epoch [137/400], train_loss: 0.5739\n"
     ]
    },
    {
     "name": "stderr",
     "output_type": "stream",
     "text": [
      "loading data: 14it [00:44,  3.15s/it]\n",
      "loading data: 5it [00:14,  2.88s/it]\n"
     ]
    },
    {
     "name": "stdout",
     "output_type": "stream",
     "text": [
      "elapsed_time: 58.647s\n",
      "false positive (FP): 919, false negative (FN): 97, Precision: 81.416%, Recall: 97.647%, F1-measure: 88.796%\n",
      "Finished Predicting\n",
      "正确率:94.448 准确率:81.416 召回率:97.647 F1值:88.796\n"
     ]
    },
    {
     "name": "stderr",
     "output_type": "stream",
     "text": [
      "\r",
      "loading data: 0it [00:00, ?it/s]"
     ]
    },
    {
     "name": "stdout",
     "output_type": "stream",
     "text": [
      "Epoch [138/400], train_loss: 0.6991\n"
     ]
    },
    {
     "name": "stderr",
     "output_type": "stream",
     "text": [
      "loading data: 14it [00:43,  3.14s/it]\n",
      "loading data: 5it [00:13,  2.80s/it]\n"
     ]
    },
    {
     "name": "stdout",
     "output_type": "stream",
     "text": [
      "elapsed_time: 58.151s\n",
      "false positive (FP): 969, false negative (FN): 142, Precision: 80.424%, Recall: 96.556%, F1-measure: 87.755%\n",
      "Finished Predicting\n",
      "正确率:93.929 准确率:80.424 召回率:96.556 F1值:87.755\n"
     ]
    },
    {
     "name": "stderr",
     "output_type": "stream",
     "text": [
      "\r",
      "loading data: 0it [00:00, ?it/s]"
     ]
    },
    {
     "name": "stdout",
     "output_type": "stream",
     "text": [
      "Epoch [139/400], train_loss: 0.6262\n"
     ]
    },
    {
     "name": "stderr",
     "output_type": "stream",
     "text": [
      "loading data: 14it [00:45,  3.27s/it]\n",
      "loading data: 5it [00:14,  2.95s/it]\n"
     ]
    },
    {
     "name": "stdout",
     "output_type": "stream",
     "text": [
      "elapsed_time: 60.694s\n",
      "false positive (FP): 952, false negative (FN): 101, Precision: 80.860%, Recall: 97.550%, F1-measure: 88.425%\n",
      "Finished Predicting\n",
      "正确率:94.246 准确率:80.86 召回率:97.55 F1值:88.425\n"
     ]
    },
    {
     "name": "stderr",
     "output_type": "stream",
     "text": [
      "\r",
      "loading data: 0it [00:00, ?it/s]"
     ]
    },
    {
     "name": "stdout",
     "output_type": "stream",
     "text": [
      "Epoch [140/400], train_loss: 0.5775\n"
     ]
    },
    {
     "name": "stderr",
     "output_type": "stream",
     "text": [
      "loading data: 14it [00:44,  3.20s/it]\n",
      "loading data: 5it [00:14,  2.88s/it]\n"
     ]
    },
    {
     "name": "stdout",
     "output_type": "stream",
     "text": [
      "elapsed_time: 59.348s\n",
      "false positive (FP): 934, false negative (FN): 98, Precision: 81.166%, Recall: 97.623%, F1-measure: 88.637%\n",
      "Finished Predicting\n",
      "正确率:94.361 准确率:81.166 召回率:97.623 F1值:88.637\n"
     ]
    },
    {
     "name": "stderr",
     "output_type": "stream",
     "text": [
      "\r",
      "loading data: 0it [00:00, ?it/s]"
     ]
    },
    {
     "name": "stdout",
     "output_type": "stream",
     "text": [
      "Epoch [141/400], train_loss: 0.5728\n"
     ]
    },
    {
     "name": "stderr",
     "output_type": "stream",
     "text": [
      "loading data: 14it [00:44,  3.20s/it]\n",
      "loading data: 5it [00:13,  2.77s/it]\n"
     ]
    },
    {
     "name": "stdout",
     "output_type": "stream",
     "text": [
      "elapsed_time: 58.902s\n",
      "false positive (FP): 936, false negative (FN): 97, Precision: 81.137%, Recall: 97.647%, F1-measure: 88.630%\n",
      "Finished Predicting\n",
      "正确率:94.355 准确率:81.137 召回率:97.647 F1值:88.63\n"
     ]
    },
    {
     "name": "stderr",
     "output_type": "stream",
     "text": [
      "\r",
      "loading data: 0it [00:00, ?it/s]"
     ]
    },
    {
     "name": "stdout",
     "output_type": "stream",
     "text": [
      "Epoch [142/400], train_loss: 0.6708\n"
     ]
    },
    {
     "name": "stderr",
     "output_type": "stream",
     "text": [
      "loading data: 14it [00:44,  3.16s/it]\n",
      "loading data: 5it [00:13,  2.76s/it]\n"
     ]
    },
    {
     "name": "stdout",
     "output_type": "stream",
     "text": [
      "elapsed_time: 58.239s\n",
      "false positive (FP): 965, false negative (FN): 179, Precision: 80.342%, Recall: 95.659%, F1-measure: 87.334%\n",
      "Finished Predicting\n",
      "正确率:93.749 准确率:80.342 召回率:95.659 F1值:87.334\n"
     ]
    },
    {
     "name": "stderr",
     "output_type": "stream",
     "text": [
      "\r",
      "loading data: 0it [00:00, ?it/s]"
     ]
    },
    {
     "name": "stdout",
     "output_type": "stream",
     "text": [
      "Epoch [143/400], train_loss: 0.6740\n"
     ]
    },
    {
     "name": "stderr",
     "output_type": "stream",
     "text": [
      "loading data: 14it [00:44,  3.16s/it]\n",
      "loading data: 5it [00:14,  2.87s/it]\n"
     ]
    },
    {
     "name": "stdout",
     "output_type": "stream",
     "text": [
      "elapsed_time: 58.791s\n",
      "false positive (FP): 976, false negative (FN): 100, Precision: 80.476%, Recall: 97.575%, F1-measure: 88.204%\n",
      "Finished Predicting\n",
      "正确率:94.12 准确率:80.476 召回率:97.575 F1值:88.204\n"
     ]
    },
    {
     "name": "stderr",
     "output_type": "stream",
     "text": [
      "\r",
      "loading data: 0it [00:00, ?it/s]"
     ]
    },
    {
     "name": "stdout",
     "output_type": "stream",
     "text": [
      "Epoch [144/400], train_loss: 0.5767\n"
     ]
    },
    {
     "name": "stderr",
     "output_type": "stream",
     "text": [
      "loading data: 14it [00:44,  3.16s/it]\n",
      "loading data: 5it [00:14,  2.81s/it]\n"
     ]
    },
    {
     "name": "stdout",
     "output_type": "stream",
     "text": [
      "elapsed_time: 58.612s\n",
      "false positive (FP): 945, false negative (FN): 98, Precision: 80.986%, Recall: 97.623%, F1-measure: 88.530%\n",
      "Finished Predicting\n",
      "正确率:94.301 准确率:80.986 召回率:97.623 F1值:88.53\n"
     ]
    },
    {
     "name": "stderr",
     "output_type": "stream",
     "text": [
      "\r",
      "loading data: 0it [00:00, ?it/s]"
     ]
    },
    {
     "name": "stdout",
     "output_type": "stream",
     "text": [
      "Epoch [145/400], train_loss: 0.5706\n"
     ]
    },
    {
     "name": "stderr",
     "output_type": "stream",
     "text": [
      "loading data: 14it [00:45,  3.24s/it]\n",
      "loading data: 5it [00:14,  2.82s/it]\n"
     ]
    },
    {
     "name": "stdout",
     "output_type": "stream",
     "text": [
      "elapsed_time: 59.804s\n",
      "false positive (FP): 930, false negative (FN): 98, Precision: 81.231%, Recall: 97.623%, F1-measure: 88.676%\n",
      "Finished Predicting\n",
      "正确率:94.383 准确率:81.231 召回率:97.623 F1值:88.676\n"
     ]
    },
    {
     "name": "stderr",
     "output_type": "stream",
     "text": [
      "\r",
      "loading data: 0it [00:00, ?it/s]"
     ]
    },
    {
     "name": "stdout",
     "output_type": "stream",
     "text": [
      "Epoch [146/400], train_loss: 0.5681\n"
     ]
    },
    {
     "name": "stderr",
     "output_type": "stream",
     "text": [
      "loading data: 14it [00:44,  3.17s/it]\n",
      "loading data: 5it [00:14,  2.86s/it]\n"
     ]
    },
    {
     "name": "stdout",
     "output_type": "stream",
     "text": [
      "elapsed_time: 58.954s\n",
      "false positive (FP): 938, false negative (FN): 97, Precision: 81.104%, Recall: 97.647%, F1-measure: 88.610%\n",
      "Finished Predicting\n",
      "正确率:94.344 准确率:81.104 召回率:97.647 F1值:88.61\n"
     ]
    },
    {
     "name": "stderr",
     "output_type": "stream",
     "text": [
      "\r",
      "loading data: 0it [00:00, ?it/s]"
     ]
    },
    {
     "name": "stdout",
     "output_type": "stream",
     "text": [
      "Epoch [147/400], train_loss: 0.7313\n"
     ]
    },
    {
     "name": "stderr",
     "output_type": "stream",
     "text": [
      "loading data: 14it [00:46,  3.29s/it]\n",
      "loading data: 5it [00:14,  2.95s/it]\n"
     ]
    },
    {
     "name": "stdout",
     "output_type": "stream",
     "text": [
      "elapsed_time: 61.064s\n",
      "false positive (FP): 997, false negative (FN): 100, Precision: 80.139%, Recall: 97.575%, F1-measure: 88.002%\n",
      "Finished Predicting\n",
      "正确率:94.005 准确率:80.139 召回率:97.575 F1值:88.002\n"
     ]
    },
    {
     "name": "stderr",
     "output_type": "stream",
     "text": [
      "\r",
      "loading data: 0it [00:00, ?it/s]"
     ]
    },
    {
     "name": "stdout",
     "output_type": "stream",
     "text": [
      "Epoch [148/400], train_loss: 0.5784\n"
     ]
    },
    {
     "name": "stderr",
     "output_type": "stream",
     "text": [
      "loading data: 14it [00:47,  3.36s/it]\n",
      "loading data: 5it [00:15,  3.01s/it]\n"
     ]
    },
    {
     "name": "stdout",
     "output_type": "stream",
     "text": [
      "elapsed_time: 62.299s\n",
      "false positive (FP): 955, false negative (FN): 99, Precision: 80.819%, Recall: 97.599%, F1-measure: 88.420%\n",
      "Finished Predicting\n",
      "正确率:94.24 准确率:80.819 召回率:97.599 F1值:88.42\n"
     ]
    },
    {
     "name": "stderr",
     "output_type": "stream",
     "text": [
      "\r",
      "loading data: 0it [00:00, ?it/s]"
     ]
    },
    {
     "name": "stdout",
     "output_type": "stream",
     "text": [
      "Epoch [149/400], train_loss: 0.5800\n"
     ]
    },
    {
     "name": "stderr",
     "output_type": "stream",
     "text": [
      "loading data: 14it [00:46,  3.31s/it]\n",
      "loading data: 5it [00:14,  2.99s/it]\n"
     ]
    },
    {
     "name": "stdout",
     "output_type": "stream",
     "text": [
      "elapsed_time: 61.539s\n",
      "false positive (FP): 977, false negative (FN): 97, Precision: 80.472%, Recall: 97.647%, F1-measure: 88.231%\n",
      "Finished Predicting\n",
      "正确率:94.131 准确率:80.472 召回率:97.647 F1值:88.231\n"
     ]
    },
    {
     "name": "stderr",
     "output_type": "stream",
     "text": [
      "\r",
      "loading data: 0it [00:00, ?it/s]"
     ]
    },
    {
     "name": "stdout",
     "output_type": "stream",
     "text": [
      "Epoch [150/400], train_loss: 0.7270\n"
     ]
    },
    {
     "name": "stderr",
     "output_type": "stream",
     "text": [
      "loading data: 14it [00:46,  3.35s/it]\n",
      "loading data: 5it [00:14,  2.89s/it]\n"
     ]
    },
    {
     "name": "stdout",
     "output_type": "stream",
     "text": [
      "elapsed_time: 61.581s\n",
      "false positive (FP): 973, false negative (FN): 102, Precision: 80.517%, Recall: 97.526%, F1-measure: 88.209%\n",
      "Finished Predicting\n",
      "正确率:94.126 准确率:80.517 召回率:97.526 F1值:88.209\n"
     ]
    },
    {
     "name": "stderr",
     "output_type": "stream",
     "text": [
      "\r",
      "loading data: 0it [00:00, ?it/s]"
     ]
    },
    {
     "name": "stdout",
     "output_type": "stream",
     "text": [
      "Epoch [151/400], train_loss: 0.5726\n"
     ]
    },
    {
     "name": "stderr",
     "output_type": "stream",
     "text": [
      "loading data: 14it [00:46,  3.35s/it]\n",
      "loading data: 5it [00:14,  2.98s/it]\n"
     ]
    },
    {
     "name": "stdout",
     "output_type": "stream",
     "text": [
      "elapsed_time: 62.081s\n",
      "false positive (FP): 965, false negative (FN): 99, Precision: 80.657%, Recall: 97.599%, F1-measure: 88.323%\n",
      "Finished Predicting\n",
      "正确率:94.186 准确率:80.657 召回率:97.599 F1值:88.323\n"
     ]
    },
    {
     "name": "stderr",
     "output_type": "stream",
     "text": [
      "\r",
      "loading data: 0it [00:00, ?it/s]"
     ]
    },
    {
     "name": "stdout",
     "output_type": "stream",
     "text": [
      "Epoch [152/400], train_loss: 0.5667\n"
     ]
    },
    {
     "name": "stderr",
     "output_type": "stream",
     "text": [
      "loading data: 14it [00:47,  3.38s/it]\n",
      "loading data: 5it [00:14,  2.92s/it]\n"
     ]
    },
    {
     "name": "stdout",
     "output_type": "stream",
     "text": [
      "elapsed_time: 62.131s\n",
      "false positive (FP): 945, false negative (FN): 100, Precision: 80.978%, Recall: 97.575%, F1-measure: 88.505%\n",
      "Finished Predicting\n",
      "正确率:94.29 准确率:80.978 召回率:97.575 F1值:88.505\n"
     ]
    },
    {
     "name": "stderr",
     "output_type": "stream",
     "text": [
      "\r",
      "loading data: 0it [00:00, ?it/s]"
     ]
    },
    {
     "name": "stdout",
     "output_type": "stream",
     "text": [
      "Epoch [153/400], train_loss: 0.5643\n"
     ]
    },
    {
     "name": "stderr",
     "output_type": "stream",
     "text": [
      "loading data: 14it [00:48,  3.44s/it]\n",
      "loading data: 5it [00:14,  3.00s/it]\n"
     ]
    },
    {
     "name": "stdout",
     "output_type": "stream",
     "text": [
      "elapsed_time: 63.403s\n",
      "false positive (FP): 946, false negative (FN): 97, Precision: 80.973%, Recall: 97.647%, F1-measure: 88.532%\n",
      "Finished Predicting\n",
      "正确率:94.301 准确率:80.973 召回率:97.647 F1值:88.532\n"
     ]
    },
    {
     "name": "stderr",
     "output_type": "stream",
     "text": [
      "\r",
      "loading data: 0it [00:00, ?it/s]"
     ]
    },
    {
     "name": "stdout",
     "output_type": "stream",
     "text": [
      "Epoch [154/400], train_loss: 0.5631\n"
     ]
    },
    {
     "name": "stderr",
     "output_type": "stream",
     "text": [
      "loading data: 14it [00:47,  3.41s/it]\n",
      "loading data: 5it [00:17,  3.46s/it]\n"
     ]
    },
    {
     "name": "stdout",
     "output_type": "stream",
     "text": [
      "elapsed_time: 65.245s\n",
      "false positive (FP): 946, false negative (FN): 97, Precision: 80.973%, Recall: 97.647%, F1-measure: 88.532%\n",
      "Finished Predicting\n",
      "正确率:94.301 准确率:80.973 召回率:97.647 F1值:88.532\n"
     ]
    },
    {
     "name": "stderr",
     "output_type": "stream",
     "text": [
      "\r",
      "loading data: 0it [00:00, ?it/s]"
     ]
    },
    {
     "name": "stdout",
     "output_type": "stream",
     "text": [
      "Epoch [155/400], train_loss: 0.8320\n"
     ]
    },
    {
     "name": "stderr",
     "output_type": "stream",
     "text": [
      "loading data: 14it [00:46,  3.33s/it]\n",
      "loading data: 5it [00:14,  2.85s/it]\n"
     ]
    },
    {
     "name": "stdout",
     "output_type": "stream",
     "text": [
      "elapsed_time: 60.995s\n",
      "false positive (FP): 1123, false negative (FN): 106, Precision: 78.152%, Recall: 97.429%, F1-measure: 86.732%\n",
      "Finished Predicting\n",
      "正确率:93.284 准确率:78.152 召回率:97.429 F1值:86.732\n"
     ]
    },
    {
     "name": "stderr",
     "output_type": "stream",
     "text": [
      "\r",
      "loading data: 0it [00:00, ?it/s]"
     ]
    },
    {
     "name": "stdout",
     "output_type": "stream",
     "text": [
      "Epoch [156/400], train_loss: 0.7554\n"
     ]
    },
    {
     "name": "stderr",
     "output_type": "stream",
     "text": [
      "loading data: 14it [00:45,  3.25s/it]\n",
      "loading data: 5it [00:16,  3.31s/it]\n"
     ]
    },
    {
     "name": "stdout",
     "output_type": "stream",
     "text": [
      "elapsed_time: 62.338s\n",
      "false positive (FP): 1060, false negative (FN): 105, Precision: 79.126%, Recall: 97.453%, F1-measure: 87.338%\n",
      "Finished Predicting\n",
      "正确率:93.634 准确率:79.126 召回率:97.453 F1值:87.338\n"
     ]
    },
    {
     "name": "stderr",
     "output_type": "stream",
     "text": [
      "\r",
      "loading data: 0it [00:00, ?it/s]"
     ]
    },
    {
     "name": "stdout",
     "output_type": "stream",
     "text": [
      "Epoch [157/400], train_loss: 0.6714\n"
     ]
    },
    {
     "name": "stderr",
     "output_type": "stream",
     "text": [
      "loading data: 14it [00:45,  3.27s/it]\n",
      "loading data: 5it [00:14,  2.82s/it]\n"
     ]
    },
    {
     "name": "stdout",
     "output_type": "stream",
     "text": [
      "elapsed_time: 60.142s\n",
      "false positive (FP): 1037, false negative (FN): 104, Precision: 79.490%, Recall: 97.478%, F1-measure: 87.569%\n",
      "Finished Predicting\n",
      "正确率:93.765 准确率:79.49 召回率:97.478 F1值:87.569\n"
     ]
    },
    {
     "name": "stderr",
     "output_type": "stream",
     "text": [
      "\r",
      "loading data: 0it [00:00, ?it/s]"
     ]
    },
    {
     "name": "stdout",
     "output_type": "stream",
     "text": [
      "Epoch [158/400], train_loss: 0.6354\n"
     ]
    },
    {
     "name": "stderr",
     "output_type": "stream",
     "text": [
      "loading data: 14it [00:45,  3.28s/it]\n",
      "loading data: 5it [00:15,  3.08s/it]\n"
     ]
    },
    {
     "name": "stdout",
     "output_type": "stream",
     "text": [
      "elapsed_time: 61.576s\n",
      "false positive (FP): 1059, false negative (FN): 106, Precision: 79.137%, Recall: 97.429%, F1-measure: 87.336%\n",
      "Finished Predicting\n",
      "正确率:93.634 准确率:79.137 召回率:97.429 F1值:87.336\n"
     ]
    },
    {
     "name": "stderr",
     "output_type": "stream",
     "text": [
      "\r",
      "loading data: 0it [00:00, ?it/s]"
     ]
    },
    {
     "name": "stdout",
     "output_type": "stream",
     "text": [
      "Epoch [159/400], train_loss: 0.5995\n"
     ]
    },
    {
     "name": "stderr",
     "output_type": "stream",
     "text": [
      "loading data: 14it [00:46,  3.32s/it]\n",
      "loading data: 5it [00:14,  2.93s/it]\n"
     ]
    },
    {
     "name": "stdout",
     "output_type": "stream",
     "text": [
      "elapsed_time: 61.337s\n",
      "false positive (FP): 1039, false negative (FN): 107, Precision: 79.446%, Recall: 97.405%, F1-measure: 87.514%\n",
      "Finished Predicting\n",
      "正确率:93.738 准确率:79.446 召回率:97.405 F1值:87.514\n"
     ]
    },
    {
     "name": "stderr",
     "output_type": "stream",
     "text": [
      "\r",
      "loading data: 0it [00:00, ?it/s]"
     ]
    },
    {
     "name": "stdout",
     "output_type": "stream",
     "text": [
      "Epoch [160/400], train_loss: 0.6071\n"
     ]
    },
    {
     "name": "stderr",
     "output_type": "stream",
     "text": [
      "loading data: 14it [00:45,  3.26s/it]\n",
      "loading data: 5it [00:14,  2.84s/it]\n"
     ]
    },
    {
     "name": "stdout",
     "output_type": "stream",
     "text": [
      "elapsed_time: 60.015s\n",
      "false positive (FP): 1026, false negative (FN): 107, Precision: 79.651%, Recall: 97.405%, F1-measure: 87.638%\n",
      "Finished Predicting\n",
      "正确率:93.809 准确率:79.651 召回率:97.405 F1值:87.638\n"
     ]
    },
    {
     "name": "stderr",
     "output_type": "stream",
     "text": [
      "\r",
      "loading data: 0it [00:00, ?it/s]"
     ]
    },
    {
     "name": "stdout",
     "output_type": "stream",
     "text": [
      "Epoch [161/400], train_loss: 0.5904\n"
     ]
    },
    {
     "name": "stderr",
     "output_type": "stream",
     "text": [
      "loading data: 14it [00:45,  3.24s/it]\n",
      "loading data: 5it [00:14,  2.90s/it]\n"
     ]
    },
    {
     "name": "stdout",
     "output_type": "stream",
     "text": [
      "elapsed_time: 60.133s\n",
      "false positive (FP): 1031, false negative (FN): 100, Precision: 79.600%, Recall: 97.575%, F1-measure: 87.676%\n",
      "Finished Predicting\n",
      "正确率:93.82 准确率:79.6 召回率:97.575 F1值:87.676\n"
     ]
    },
    {
     "name": "stderr",
     "output_type": "stream",
     "text": [
      "\r",
      "loading data: 0it [00:00, ?it/s]"
     ]
    },
    {
     "name": "stdout",
     "output_type": "stream",
     "text": [
      "Epoch [162/400], train_loss: 0.5719\n"
     ]
    },
    {
     "name": "stderr",
     "output_type": "stream",
     "text": [
      "loading data: 14it [00:46,  3.32s/it]\n",
      "loading data: 5it [00:14,  2.91s/it]\n"
     ]
    },
    {
     "name": "stdout",
     "output_type": "stream",
     "text": [
      "elapsed_time: 61.221s\n",
      "false positive (FP): 1018, false negative (FN): 108, Precision: 79.773%, Recall: 97.381%, F1-measure: 87.702%\n",
      "Finished Predicting\n",
      "正确率:93.847 准确率:79.773 召回率:97.381 F1值:87.702\n"
     ]
    },
    {
     "name": "stderr",
     "output_type": "stream",
     "text": [
      "\r",
      "loading data: 0it [00:00, ?it/s]"
     ]
    },
    {
     "name": "stdout",
     "output_type": "stream",
     "text": [
      "Epoch [163/400], train_loss: 0.5678\n"
     ]
    },
    {
     "name": "stderr",
     "output_type": "stream",
     "text": [
      "loading data: 14it [00:45,  3.26s/it]\n",
      "loading data: 5it [00:14,  2.86s/it]\n"
     ]
    },
    {
     "name": "stdout",
     "output_type": "stream",
     "text": [
      "elapsed_time: 60.191s\n",
      "false positive (FP): 1021, false negative (FN): 109, Precision: 79.722%, Recall: 97.356%, F1-measure: 87.661%\n",
      "Finished Predicting\n",
      "正确率:93.825 准确率:79.722 召回率:97.356 F1值:87.661\n"
     ]
    },
    {
     "name": "stderr",
     "output_type": "stream",
     "text": [
      "\r",
      "loading data: 0it [00:00, ?it/s]"
     ]
    },
    {
     "name": "stdout",
     "output_type": "stream",
     "text": [
      "Epoch [164/400], train_loss: 0.8654\n"
     ]
    },
    {
     "name": "stderr",
     "output_type": "stream",
     "text": [
      "loading data: 14it [00:44,  3.20s/it]\n",
      "loading data: 5it [00:14,  2.91s/it]\n"
     ]
    },
    {
     "name": "stdout",
     "output_type": "stream",
     "text": [
      "elapsed_time: 59.548s\n",
      "false positive (FP): 969, false negative (FN): 161, Precision: 80.349%, Recall: 96.095%, F1-measure: 87.519%\n",
      "Finished Predicting\n",
      "正确率:93.825 准确率:80.349 召回率:96.095 F1值:87.519\n"
     ]
    },
    {
     "name": "stderr",
     "output_type": "stream",
     "text": [
      "\r",
      "loading data: 0it [00:00, ?it/s]"
     ]
    },
    {
     "name": "stdout",
     "output_type": "stream",
     "text": [
      "Epoch [165/400], train_loss: 0.6550\n"
     ]
    },
    {
     "name": "stderr",
     "output_type": "stream",
     "text": [
      "loading data: 14it [00:45,  3.28s/it]\n",
      "loading data: 5it [00:14,  2.87s/it]\n"
     ]
    },
    {
     "name": "stdout",
     "output_type": "stream",
     "text": [
      "elapsed_time: 60.521s\n",
      "false positive (FP): 1010, false negative (FN): 99, Precision: 79.936%, Recall: 97.599%, F1-measure: 87.889%\n",
      "Finished Predicting\n",
      "正确率:93.94 准确率:79.936 召回率:97.599 F1值:87.889\n"
     ]
    },
    {
     "name": "stderr",
     "output_type": "stream",
     "text": [
      "\r",
      "loading data: 0it [00:00, ?it/s]"
     ]
    },
    {
     "name": "stdout",
     "output_type": "stream",
     "text": [
      "Epoch [166/400], train_loss: 0.5782\n"
     ]
    },
    {
     "name": "stderr",
     "output_type": "stream",
     "text": [
      "loading data: 14it [00:46,  3.32s/it]\n",
      "loading data: 5it [00:15,  3.08s/it]\n"
     ]
    },
    {
     "name": "stdout",
     "output_type": "stream",
     "text": [
      "elapsed_time: 62.146s\n",
      "false positive (FP): 1006, false negative (FN): 108, Precision: 79.964%, Recall: 97.381%, F1-measure: 87.817%\n",
      "Finished Predicting\n",
      "正确率:93.913 准确率:79.964 召回率:97.381 F1值:87.817\n"
     ]
    },
    {
     "name": "stderr",
     "output_type": "stream",
     "text": [
      "\r",
      "loading data: 0it [00:00, ?it/s]"
     ]
    },
    {
     "name": "stdout",
     "output_type": "stream",
     "text": [
      "Epoch [167/400], train_loss: 0.5675\n"
     ]
    },
    {
     "name": "stderr",
     "output_type": "stream",
     "text": [
      "loading data: 14it [00:44,  3.21s/it]\n",
      "loading data: 5it [00:14,  2.92s/it]\n"
     ]
    },
    {
     "name": "stdout",
     "output_type": "stream",
     "text": [
      "elapsed_time: 59.785s\n",
      "false positive (FP): 996, false negative (FN): 110, Precision: 80.116%, Recall: 97.332%, F1-measure: 87.889%\n",
      "Finished Predicting\n",
      "正确率:93.956 准确率:80.116 召回率:97.332 F1值:87.889\n"
     ]
    },
    {
     "name": "stderr",
     "output_type": "stream",
     "text": [
      "\r",
      "loading data: 0it [00:00, ?it/s]"
     ]
    },
    {
     "name": "stdout",
     "output_type": "stream",
     "text": [
      "Epoch [168/400], train_loss: 0.5645\n"
     ]
    },
    {
     "name": "stderr",
     "output_type": "stream",
     "text": [
      "loading data: 14it [00:47,  3.38s/it]\n",
      "loading data: 5it [00:14,  2.80s/it]\n"
     ]
    },
    {
     "name": "stdout",
     "output_type": "stream",
     "text": [
      "elapsed_time: 61.624s\n",
      "false positive (FP): 1006, false negative (FN): 111, Precision: 79.952%, Recall: 97.308%, F1-measure: 87.780%\n",
      "Finished Predicting\n",
      "正确率:93.896 准确率:79.952 召回率:97.308 F1值:87.78\n"
     ]
    },
    {
     "name": "stderr",
     "output_type": "stream",
     "text": [
      "\r",
      "loading data: 0it [00:00, ?it/s]"
     ]
    },
    {
     "name": "stdout",
     "output_type": "stream",
     "text": [
      "Epoch [169/400], train_loss: 0.5718\n"
     ]
    },
    {
     "name": "stderr",
     "output_type": "stream",
     "text": [
      "loading data: 14it [00:43,  3.13s/it]\n",
      "loading data: 5it [00:14,  2.93s/it]\n"
     ]
    },
    {
     "name": "stdout",
     "output_type": "stream",
     "text": [
      "elapsed_time: 58.659s\n",
      "false positive (FP): 1005, false negative (FN): 113, Precision: 79.960%, Recall: 97.259%, F1-measure: 87.765%\n",
      "Finished Predicting\n",
      "正确率:93.891 准确率:79.96 召回率:97.259 F1值:87.765\n"
     ]
    },
    {
     "name": "stderr",
     "output_type": "stream",
     "text": [
      "\r",
      "loading data: 0it [00:00, ?it/s]"
     ]
    },
    {
     "name": "stdout",
     "output_type": "stream",
     "text": [
      "Epoch [170/400], train_loss: 0.5611\n"
     ]
    },
    {
     "name": "stderr",
     "output_type": "stream",
     "text": [
      "loading data: 14it [00:45,  3.24s/it]\n",
      "loading data: 5it [00:14,  2.85s/it]\n"
     ]
    },
    {
     "name": "stdout",
     "output_type": "stream",
     "text": [
      "elapsed_time: 59.954s\n",
      "false positive (FP): 1004, false negative (FN): 116, Precision: 79.964%, Recall: 97.187%, F1-measure: 87.738%\n",
      "Finished Predicting\n",
      "正确率:93.88 准确率:79.964 召回率:97.187 F1值:87.738\n"
     ]
    },
    {
     "name": "stderr",
     "output_type": "stream",
     "text": [
      "\r",
      "loading data: 0it [00:00, ?it/s]"
     ]
    },
    {
     "name": "stdout",
     "output_type": "stream",
     "text": [
      "Epoch [171/400], train_loss: 0.5592\n"
     ]
    },
    {
     "name": "stderr",
     "output_type": "stream",
     "text": [
      "loading data: 14it [00:45,  3.26s/it]\n",
      "loading data: 5it [00:13,  2.80s/it]\n"
     ]
    },
    {
     "name": "stdout",
     "output_type": "stream",
     "text": [
      "elapsed_time: 59.945s\n",
      "false positive (FP): 1015, false negative (FN): 115, Precision: 79.793%, Recall: 97.211%, F1-measure: 87.645%\n",
      "Finished Predicting\n",
      "正确率:93.825 准确率:79.793 召回率:97.211 F1值:87.645\n"
     ]
    },
    {
     "name": "stderr",
     "output_type": "stream",
     "text": [
      "\r",
      "loading data: 0it [00:00, ?it/s]"
     ]
    },
    {
     "name": "stdout",
     "output_type": "stream",
     "text": [
      "Epoch [172/400], train_loss: 0.5577\n"
     ]
    },
    {
     "name": "stderr",
     "output_type": "stream",
     "text": [
      "loading data: 14it [00:45,  3.26s/it]\n",
      "loading data: 5it [00:14,  2.88s/it]\n"
     ]
    },
    {
     "name": "stdout",
     "output_type": "stream",
     "text": [
      "elapsed_time: 60.324s\n",
      "false positive (FP): 1003, false negative (FN): 116, Precision: 79.980%, Recall: 97.187%, F1-measure: 87.748%\n",
      "Finished Predicting\n",
      "正确率:93.885 准确率:79.98 召回率:97.187 F1值:87.748\n"
     ]
    },
    {
     "name": "stderr",
     "output_type": "stream",
     "text": [
      "\r",
      "loading data: 0it [00:00, ?it/s]"
     ]
    },
    {
     "name": "stdout",
     "output_type": "stream",
     "text": [
      "Epoch [173/400], train_loss: 0.5564\n"
     ]
    },
    {
     "name": "stderr",
     "output_type": "stream",
     "text": [
      "loading data: 14it [00:45,  3.27s/it]\n",
      "loading data: 5it [00:14,  2.93s/it]\n"
     ]
    },
    {
     "name": "stdout",
     "output_type": "stream",
     "text": [
      "elapsed_time: 60.719s\n",
      "false positive (FP): 958, false negative (FN): 124, Precision: 80.674%, Recall: 96.992%, F1-measure: 88.084%\n",
      "Finished Predicting\n",
      "正确率:94.087 准确率:80.674 召回率:96.992 F1值:88.084\n"
     ]
    },
    {
     "name": "stderr",
     "output_type": "stream",
     "text": [
      "\r",
      "loading data: 0it [00:00, ?it/s]"
     ]
    },
    {
     "name": "stdout",
     "output_type": "stream",
     "text": [
      "Epoch [174/400], train_loss: 0.5559\n"
     ]
    },
    {
     "name": "stderr",
     "output_type": "stream",
     "text": [
      "loading data: 14it [00:45,  3.25s/it]\n",
      "loading data: 5it [00:13,  2.77s/it]\n"
     ]
    },
    {
     "name": "stdout",
     "output_type": "stream",
     "text": [
      "elapsed_time: 59.630s\n",
      "false positive (FP): 960, false negative (FN): 124, Precision: 80.641%, Recall: 96.992%, F1-measure: 88.064%\n",
      "Finished Predicting\n",
      "正确率:94.077 准确率:80.641 召回率:96.992 F1值:88.064\n"
     ]
    },
    {
     "name": "stderr",
     "output_type": "stream",
     "text": [
      "\r",
      "loading data: 0it [00:00, ?it/s]"
     ]
    },
    {
     "name": "stdout",
     "output_type": "stream",
     "text": [
      "Epoch [175/400], train_loss: 0.8680\n"
     ]
    },
    {
     "name": "stderr",
     "output_type": "stream",
     "text": [
      "loading data: 14it [00:44,  3.14s/it]\n",
      "loading data: 5it [00:14,  2.91s/it]\n"
     ]
    },
    {
     "name": "stdout",
     "output_type": "stream",
     "text": [
      "elapsed_time: 58.855s\n",
      "false positive (FP): 1114, false negative (FN): 117, Precision: 78.242%, Recall: 97.162%, F1-measure: 86.682%\n",
      "Finished Predicting\n",
      "正确率:93.273 准确率:78.242 召回率:97.162 F1值:86.682\n"
     ]
    },
    {
     "name": "stderr",
     "output_type": "stream",
     "text": [
      "\r",
      "loading data: 0it [00:00, ?it/s]"
     ]
    },
    {
     "name": "stdout",
     "output_type": "stream",
     "text": [
      "Epoch [176/400], train_loss: 0.7195\n"
     ]
    },
    {
     "name": "stderr",
     "output_type": "stream",
     "text": [
      "loading data: 14it [00:45,  3.28s/it]\n",
      "loading data: 5it [00:14,  2.86s/it]\n"
     ]
    },
    {
     "name": "stdout",
     "output_type": "stream",
     "text": [
      "elapsed_time: 60.449s\n",
      "false positive (FP): 1030, false negative (FN): 108, Precision: 79.584%, Recall: 97.381%, F1-measure: 87.587%\n",
      "Finished Predicting\n",
      "正确率:93.781 准确率:79.584 召回率:97.381 F1值:87.587\n"
     ]
    },
    {
     "name": "stderr",
     "output_type": "stream",
     "text": [
      "\r",
      "loading data: 0it [00:00, ?it/s]"
     ]
    },
    {
     "name": "stdout",
     "output_type": "stream",
     "text": [
      "Epoch [177/400], train_loss: 0.6509\n"
     ]
    },
    {
     "name": "stderr",
     "output_type": "stream",
     "text": [
      "loading data: 14it [00:45,  3.23s/it]\n",
      "loading data: 5it [00:14,  2.99s/it]\n"
     ]
    },
    {
     "name": "stdout",
     "output_type": "stream",
     "text": [
      "elapsed_time: 60.436s\n",
      "false positive (FP): 1012, false negative (FN): 105, Precision: 79.881%, Recall: 97.453%, F1-measure: 87.796%\n",
      "Finished Predicting\n",
      "正确率:93.896 准确率:79.881 召回率:97.453 F1值:87.796\n"
     ]
    },
    {
     "name": "stderr",
     "output_type": "stream",
     "text": [
      "\r",
      "loading data: 0it [00:00, ?it/s]"
     ]
    },
    {
     "name": "stdout",
     "output_type": "stream",
     "text": [
      "Epoch [178/400], train_loss: 0.5801\n"
     ]
    },
    {
     "name": "stderr",
     "output_type": "stream",
     "text": [
      "loading data: 14it [00:45,  3.27s/it]\n",
      "loading data: 5it [00:14,  2.85s/it]\n"
     ]
    },
    {
     "name": "stdout",
     "output_type": "stream",
     "text": [
      "elapsed_time: 60.261s\n",
      "false positive (FP): 1017, false negative (FN): 105, Precision: 79.801%, Recall: 97.453%, F1-measure: 87.748%\n",
      "Finished Predicting\n",
      "正确率:93.869 准确率:79.801 召回率:97.453 F1值:87.748\n"
     ]
    },
    {
     "name": "stderr",
     "output_type": "stream",
     "text": [
      "\r",
      "loading data: 0it [00:00, ?it/s]"
     ]
    },
    {
     "name": "stdout",
     "output_type": "stream",
     "text": [
      "Epoch [179/400], train_loss: 0.5645\n"
     ]
    },
    {
     "name": "stderr",
     "output_type": "stream",
     "text": [
      "loading data: 14it [00:46,  3.35s/it]\n",
      "loading data: 5it [00:15,  3.05s/it]\n"
     ]
    },
    {
     "name": "stdout",
     "output_type": "stream",
     "text": [
      "elapsed_time: 62.559s\n",
      "false positive (FP): 997, false negative (FN): 111, Precision: 80.096%, Recall: 97.308%, F1-measure: 87.867%\n",
      "Finished Predicting\n",
      "正确率:93.945 准确率:80.096 召回率:97.308 F1值:87.867\n"
     ]
    },
    {
     "name": "stderr",
     "output_type": "stream",
     "text": [
      "\r",
      "loading data: 0it [00:00, ?it/s]"
     ]
    },
    {
     "name": "stdout",
     "output_type": "stream",
     "text": [
      "Epoch [180/400], train_loss: 0.5591\n"
     ]
    },
    {
     "name": "stderr",
     "output_type": "stream",
     "text": [
      "loading data: 14it [00:44,  3.17s/it]\n",
      "loading data: 5it [00:14,  2.86s/it]\n"
     ]
    },
    {
     "name": "stdout",
     "output_type": "stream",
     "text": [
      "elapsed_time: 59.031s\n",
      "false positive (FP): 964, false negative (FN): 124, Precision: 80.576%, Recall: 96.992%, F1-measure: 88.026%\n",
      "Finished Predicting\n",
      "正确率:94.055 准确率:80.576 召回率:96.992 F1值:88.026\n"
     ]
    },
    {
     "name": "stderr",
     "output_type": "stream",
     "text": [
      "\r",
      "loading data: 0it [00:00, ?it/s]"
     ]
    },
    {
     "name": "stdout",
     "output_type": "stream",
     "text": [
      "Epoch [181/400], train_loss: 0.8408\n"
     ]
    },
    {
     "name": "stderr",
     "output_type": "stream",
     "text": [
      "loading data: 14it [00:46,  3.29s/it]\n",
      "loading data: 5it [00:14,  2.86s/it]\n"
     ]
    },
    {
     "name": "stdout",
     "output_type": "stream",
     "text": [
      "elapsed_time: 60.564s\n",
      "false positive (FP): 1117, false negative (FN): 108, Precision: 78.235%, Recall: 97.381%, F1-measure: 86.764%\n",
      "Finished Predicting\n",
      "正确率:93.306 准确率:78.235 召回率:97.381 F1值:86.764\n"
     ]
    },
    {
     "name": "stderr",
     "output_type": "stream",
     "text": [
      "\r",
      "loading data: 0it [00:00, ?it/s]"
     ]
    },
    {
     "name": "stdout",
     "output_type": "stream",
     "text": [
      "Epoch [182/400], train_loss: 0.7118\n"
     ]
    },
    {
     "name": "stderr",
     "output_type": "stream",
     "text": [
      "loading data: 14it [00:45,  3.26s/it]\n",
      "loading data: 5it [00:14,  2.80s/it]\n"
     ]
    },
    {
     "name": "stdout",
     "output_type": "stream",
     "text": [
      "elapsed_time: 59.985s\n",
      "false positive (FP): 967, false negative (FN): 161, Precision: 80.381%, Recall: 96.095%, F1-measure: 87.539%\n",
      "Finished Predicting\n",
      "正确率:93.836 准确率:80.381 召回率:96.095 F1值:87.539\n"
     ]
    },
    {
     "name": "stderr",
     "output_type": "stream",
     "text": [
      "\r",
      "loading data: 0it [00:00, ?it/s]"
     ]
    },
    {
     "name": "stdout",
     "output_type": "stream",
     "text": [
      "Epoch [183/400], train_loss: 0.6157\n"
     ]
    },
    {
     "name": "stderr",
     "output_type": "stream",
     "text": [
      "loading data: 14it [00:45,  3.22s/it]\n",
      "loading data: 5it [00:14,  2.87s/it]\n"
     ]
    },
    {
     "name": "stdout",
     "output_type": "stream",
     "text": [
      "elapsed_time: 59.730s\n",
      "false positive (FP): 1025, false negative (FN): 111, Precision: 79.651%, Recall: 97.308%, F1-measure: 87.598%\n",
      "Finished Predicting\n",
      "正确率:93.792 准确率:79.651 召回率:97.308 F1值:87.598\n"
     ]
    },
    {
     "name": "stderr",
     "output_type": "stream",
     "text": [
      "\r",
      "loading data: 0it [00:00, ?it/s]"
     ]
    },
    {
     "name": "stdout",
     "output_type": "stream",
     "text": [
      "Epoch [184/400], train_loss: 0.5613\n"
     ]
    },
    {
     "name": "stderr",
     "output_type": "stream",
     "text": [
      "loading data: 14it [00:44,  3.21s/it]\n",
      "loading data: 5it [00:14,  2.83s/it]\n"
     ]
    },
    {
     "name": "stdout",
     "output_type": "stream",
     "text": [
      "elapsed_time: 59.411s\n",
      "false positive (FP): 1004, false negative (FN): 120, Precision: 79.948%, Recall: 97.089%, F1-measure: 87.689%\n",
      "Finished Predicting\n",
      "正确率:93.858 准确率:79.948 召回率:97.089 F1值:87.689\n"
     ]
    },
    {
     "name": "stderr",
     "output_type": "stream",
     "text": [
      "\r",
      "loading data: 0it [00:00, ?it/s]"
     ]
    },
    {
     "name": "stdout",
     "output_type": "stream",
     "text": [
      "Epoch [185/400], train_loss: 0.5570\n"
     ]
    },
    {
     "name": "stderr",
     "output_type": "stream",
     "text": [
      "loading data: 14it [00:45,  3.27s/it]\n",
      "loading data: 5it [00:15,  3.01s/it]\n"
     ]
    },
    {
     "name": "stdout",
     "output_type": "stream",
     "text": [
      "elapsed_time: 61.119s\n",
      "false positive (FP): 998, false negative (FN): 124, Precision: 80.028%, Recall: 96.992%, F1-measure: 87.697%\n",
      "Finished Predicting\n",
      "正确率:93.869 准确率:80.028 召回率:96.992 F1值:87.697\n"
     ]
    },
    {
     "name": "stderr",
     "output_type": "stream",
     "text": [
      "\r",
      "loading data: 0it [00:00, ?it/s]"
     ]
    },
    {
     "name": "stdout",
     "output_type": "stream",
     "text": [
      "Epoch [186/400], train_loss: 0.5549\n"
     ]
    },
    {
     "name": "stderr",
     "output_type": "stream",
     "text": [
      "loading data: 14it [00:45,  3.27s/it]\n",
      "loading data: 5it [00:14,  2.89s/it]\n"
     ]
    },
    {
     "name": "stdout",
     "output_type": "stream",
     "text": [
      "elapsed_time: 60.475s\n",
      "false positive (FP): 989, false negative (FN): 121, Precision: 80.184%, Recall: 97.065%, F1-measure: 87.821%\n",
      "Finished Predicting\n",
      "正确率:93.934 准确率:80.184 召回率:97.065 F1值:87.821\n"
     ]
    },
    {
     "name": "stderr",
     "output_type": "stream",
     "text": [
      "\r",
      "loading data: 0it [00:00, ?it/s]"
     ]
    },
    {
     "name": "stdout",
     "output_type": "stream",
     "text": [
      "Epoch [187/400], train_loss: 0.5536\n"
     ]
    },
    {
     "name": "stderr",
     "output_type": "stream",
     "text": [
      "loading data: 14it [00:44,  3.21s/it]\n",
      "loading data: 5it [00:13,  2.79s/it]\n"
     ]
    },
    {
     "name": "stdout",
     "output_type": "stream",
     "text": [
      "elapsed_time: 59.072s\n",
      "false positive (FP): 988, false negative (FN): 119, Precision: 80.208%, Recall: 97.114%, F1-measure: 87.855%\n",
      "Finished Predicting\n",
      "正确率:93.951 准确率:80.208 召回率:97.114 F1值:87.855\n"
     ]
    },
    {
     "name": "stderr",
     "output_type": "stream",
     "text": [
      "\r",
      "loading data: 0it [00:00, ?it/s]"
     ]
    },
    {
     "name": "stdout",
     "output_type": "stream",
     "text": [
      "Epoch [188/400], train_loss: 0.5521\n"
     ]
    },
    {
     "name": "stderr",
     "output_type": "stream",
     "text": [
      "loading data: 14it [00:45,  3.25s/it]\n",
      "loading data: 5it [00:14,  2.88s/it]\n"
     ]
    },
    {
     "name": "stdout",
     "output_type": "stream",
     "text": [
      "elapsed_time: 60.211s\n",
      "false positive (FP): 984, false negative (FN): 121, Precision: 80.265%, Recall: 97.065%, F1-measure: 87.869%\n",
      "Finished Predicting\n",
      "正确率:93.962 准确率:80.265 召回率:97.065 F1值:87.869\n"
     ]
    },
    {
     "name": "stderr",
     "output_type": "stream",
     "text": [
      "\r",
      "loading data: 0it [00:00, ?it/s]"
     ]
    },
    {
     "name": "stdout",
     "output_type": "stream",
     "text": [
      "Epoch [189/400], train_loss: 0.5524\n"
     ]
    },
    {
     "name": "stderr",
     "output_type": "stream",
     "text": [
      "loading data: 14it [00:47,  3.38s/it]\n",
      "loading data: 5it [00:14,  2.87s/it]\n"
     ]
    },
    {
     "name": "stdout",
     "output_type": "stream",
     "text": [
      "elapsed_time: 61.904s\n",
      "false positive (FP): 987, false negative (FN): 116, Precision: 80.236%, Recall: 97.187%, F1-measure: 87.902%\n",
      "Finished Predicting\n",
      "正确率:93.973 准确率:80.236 召回率:97.187 F1值:87.902\n"
     ]
    },
    {
     "name": "stderr",
     "output_type": "stream",
     "text": [
      "\r",
      "loading data: 0it [00:00, ?it/s]"
     ]
    },
    {
     "name": "stdout",
     "output_type": "stream",
     "text": [
      "Epoch [190/400], train_loss: 0.5501\n"
     ]
    },
    {
     "name": "stderr",
     "output_type": "stream",
     "text": [
      "loading data: 14it [00:46,  3.29s/it]\n",
      "loading data: 5it [00:14,  2.87s/it]\n"
     ]
    },
    {
     "name": "stdout",
     "output_type": "stream",
     "text": [
      "elapsed_time: 60.648s\n",
      "false positive (FP): 984, false negative (FN): 118, Precision: 80.277%, Recall: 97.138%, F1-measure: 87.906%\n",
      "Finished Predicting\n",
      "正确率:93.978 准确率:80.277 召回率:97.138 F1值:87.906\n"
     ]
    },
    {
     "name": "stderr",
     "output_type": "stream",
     "text": [
      "\r",
      "loading data: 0it [00:00, ?it/s]"
     ]
    },
    {
     "name": "stdout",
     "output_type": "stream",
     "text": [
      "Epoch [191/400], train_loss: 0.5495\n"
     ]
    },
    {
     "name": "stderr",
     "output_type": "stream",
     "text": [
      "loading data: 14it [00:47,  3.38s/it]\n",
      "loading data: 5it [00:14,  2.96s/it]\n"
     ]
    },
    {
     "name": "stdout",
     "output_type": "stream",
     "text": [
      "elapsed_time: 62.438s\n",
      "false positive (FP): 991, false negative (FN): 116, Precision: 80.172%, Recall: 97.187%, F1-measure: 87.863%\n",
      "Finished Predicting\n",
      "正确率:93.951 准确率:80.172 召回率:97.187 F1值:87.863\n"
     ]
    },
    {
     "name": "stderr",
     "output_type": "stream",
     "text": [
      "\r",
      "loading data: 0it [00:00, ?it/s]"
     ]
    },
    {
     "name": "stdout",
     "output_type": "stream",
     "text": [
      "Epoch [192/400], train_loss: 0.5485\n"
     ]
    },
    {
     "name": "stderr",
     "output_type": "stream",
     "text": [
      "loading data: 14it [00:46,  3.34s/it]\n",
      "loading data: 5it [00:14,  2.96s/it]\n"
     ]
    },
    {
     "name": "stdout",
     "output_type": "stream",
     "text": [
      "elapsed_time: 61.878s\n",
      "false positive (FP): 948, false negative (FN): 128, Precision: 80.821%, Recall: 96.895%, F1-measure: 88.131%\n",
      "Finished Predicting\n",
      "正确率:94.12 准确率:80.821 召回率:96.895 F1值:88.131\n"
     ]
    },
    {
     "name": "stderr",
     "output_type": "stream",
     "text": [
      "\r",
      "loading data: 0it [00:00, ?it/s]"
     ]
    },
    {
     "name": "stdout",
     "output_type": "stream",
     "text": [
      "Epoch [193/400], train_loss: 0.5486\n"
     ]
    },
    {
     "name": "stderr",
     "output_type": "stream",
     "text": [
      "loading data: 14it [00:46,  3.29s/it]\n",
      "loading data: 5it [00:14,  2.87s/it]\n"
     ]
    },
    {
     "name": "stdout",
     "output_type": "stream",
     "text": [
      "elapsed_time: 60.779s\n",
      "false positive (FP): 993, false negative (FN): 117, Precision: 80.136%, Recall: 97.162%, F1-measure: 87.832%\n",
      "Finished Predicting\n",
      "正确率:93.934 准确率:80.136 召回率:97.162 F1值:87.832\n"
     ]
    },
    {
     "name": "stderr",
     "output_type": "stream",
     "text": [
      "\r",
      "loading data: 0it [00:00, ?it/s]"
     ]
    },
    {
     "name": "stdout",
     "output_type": "stream",
     "text": [
      "Epoch [194/400], train_loss: 0.8476\n"
     ]
    },
    {
     "name": "stderr",
     "output_type": "stream",
     "text": [
      "loading data: 14it [00:46,  3.33s/it]\n",
      "loading data: 5it [00:14,  2.98s/it]\n"
     ]
    },
    {
     "name": "stdout",
     "output_type": "stream",
     "text": [
      "elapsed_time: 61.800s\n",
      "false positive (FP): 1015, false negative (FN): 151, Precision: 79.647%, Recall: 96.338%, F1-measure: 87.201%\n",
      "Finished Predicting\n",
      "正确率:93.628 准确率:79.647 召回率:96.338 F1值:87.201\n"
     ]
    },
    {
     "name": "stderr",
     "output_type": "stream",
     "text": [
      "\r",
      "loading data: 0it [00:00, ?it/s]"
     ]
    },
    {
     "name": "stdout",
     "output_type": "stream",
     "text": [
      "Epoch [195/400], train_loss: 0.6218\n"
     ]
    },
    {
     "name": "stderr",
     "output_type": "stream",
     "text": [
      "loading data: 14it [00:46,  3.32s/it]\n",
      "loading data: 5it [00:14,  2.91s/it]\n"
     ]
    },
    {
     "name": "stdout",
     "output_type": "stream",
     "text": [
      "elapsed_time: 61.304s\n",
      "false positive (FP): 1030, false negative (FN): 113, Precision: 79.563%, Recall: 97.259%, F1-measure: 87.526%\n",
      "Finished Predicting\n",
      "正确率:93.754 准确率:79.563 召回率:97.259 F1值:87.526\n"
     ]
    },
    {
     "name": "stderr",
     "output_type": "stream",
     "text": [
      "\r",
      "loading data: 0it [00:00, ?it/s]"
     ]
    },
    {
     "name": "stdout",
     "output_type": "stream",
     "text": [
      "Epoch [196/400], train_loss: 0.5708\n"
     ]
    },
    {
     "name": "stderr",
     "output_type": "stream",
     "text": [
      "loading data: 14it [00:46,  3.32s/it]\n",
      "loading data: 5it [00:15,  3.03s/it]\n"
     ]
    },
    {
     "name": "stdout",
     "output_type": "stream",
     "text": [
      "elapsed_time: 61.971s\n",
      "false positive (FP): 1011, false negative (FN): 125, Precision: 79.816%, Recall: 96.968%, F1-measure: 87.560%\n",
      "Finished Predicting\n",
      "正确率:93.792 准确率:79.816 召回率:96.968 F1值:87.56\n"
     ]
    },
    {
     "name": "stderr",
     "output_type": "stream",
     "text": [
      "\r",
      "loading data: 0it [00:00, ?it/s]"
     ]
    },
    {
     "name": "stdout",
     "output_type": "stream",
     "text": [
      "Epoch [197/400], train_loss: 0.5523\n"
     ]
    },
    {
     "name": "stderr",
     "output_type": "stream",
     "text": [
      "loading data: 14it [00:46,  3.33s/it]\n",
      "loading data: 5it [00:14,  2.95s/it]\n"
     ]
    },
    {
     "name": "stdout",
     "output_type": "stream",
     "text": [
      "elapsed_time: 61.713s\n",
      "false positive (FP): 1008, false negative (FN): 128, Precision: 79.852%, Recall: 96.895%, F1-measure: 87.552%\n",
      "Finished Predicting\n",
      "正确率:93.792 准确率:79.852 召回率:96.895 F1值:87.552\n"
     ]
    },
    {
     "name": "stderr",
     "output_type": "stream",
     "text": [
      "\r",
      "loading data: 0it [00:00, ?it/s]"
     ]
    },
    {
     "name": "stdout",
     "output_type": "stream",
     "text": [
      "Epoch [198/400], train_loss: 0.5492\n"
     ]
    },
    {
     "name": "stderr",
     "output_type": "stream",
     "text": [
      "loading data: 14it [00:46,  3.33s/it]\n",
      "loading data: 5it [00:14,  2.89s/it]\n"
     ]
    },
    {
     "name": "stdout",
     "output_type": "stream",
     "text": [
      "elapsed_time: 61.376s\n",
      "false positive (FP): 1001, false negative (FN): 126, Precision: 79.972%, Recall: 96.944%, F1-measure: 87.644%\n",
      "Finished Predicting\n",
      "正确率:93.842 准确率:79.972 召回率:96.944 F1值:87.644\n"
     ]
    },
    {
     "name": "stderr",
     "output_type": "stream",
     "text": [
      "\r",
      "loading data: 0it [00:00, ?it/s]"
     ]
    },
    {
     "name": "stdout",
     "output_type": "stream",
     "text": [
      "Epoch [199/400], train_loss: 0.5477\n"
     ]
    },
    {
     "name": "stderr",
     "output_type": "stream",
     "text": [
      "loading data: 14it [00:47,  3.36s/it]\n",
      "loading data: 5it [00:14,  2.87s/it]\n"
     ]
    },
    {
     "name": "stdout",
     "output_type": "stream",
     "text": [
      "elapsed_time: 61.720s\n",
      "false positive (FP): 1006, false negative (FN): 125, Precision: 79.896%, Recall: 96.968%, F1-measure: 87.608%\n",
      "Finished Predicting\n",
      "正确率:93.82 准确率:79.896 召回率:96.968 F1值:87.608\n"
     ]
    },
    {
     "name": "stderr",
     "output_type": "stream",
     "text": [
      "\r",
      "loading data: 0it [00:00, ?it/s]"
     ]
    },
    {
     "name": "stdout",
     "output_type": "stream",
     "text": [
      "Epoch [200/400], train_loss: 0.5469\n"
     ]
    },
    {
     "name": "stderr",
     "output_type": "stream",
     "text": [
      "loading data: 14it [00:48,  3.45s/it]\n",
      "loading data: 5it [00:14,  2.98s/it]\n"
     ]
    },
    {
     "name": "stdout",
     "output_type": "stream",
     "text": [
      "elapsed_time: 63.426s\n",
      "false positive (FP): 1002, false negative (FN): 125, Precision: 79.960%, Recall: 96.968%, F1-measure: 87.647%\n",
      "Finished Predicting\n",
      "正确率:93.842 准确率:79.96 召回率:96.968 F1值:87.647\n"
     ]
    },
    {
     "name": "stderr",
     "output_type": "stream",
     "text": [
      "\r",
      "loading data: 0it [00:00, ?it/s]"
     ]
    },
    {
     "name": "stdout",
     "output_type": "stream",
     "text": [
      "Epoch [201/400], train_loss: 0.5453\n"
     ]
    },
    {
     "name": "stderr",
     "output_type": "stream",
     "text": [
      "loading data: 14it [00:49,  3.53s/it]\n",
      "loading data: 5it [00:15,  3.11s/it]\n"
     ]
    },
    {
     "name": "stdout",
     "output_type": "stream",
     "text": [
      "elapsed_time: 65.312s\n",
      "false positive (FP): 1012, false negative (FN): 127, Precision: 79.792%, Recall: 96.920%, F1-measure: 87.526%\n",
      "Finished Predicting\n",
      "正确率:93.776 准确率:79.792 召回率:96.92 F1值:87.526\n"
     ]
    },
    {
     "name": "stderr",
     "output_type": "stream",
     "text": [
      "\r",
      "loading data: 0it [00:00, ?it/s]"
     ]
    },
    {
     "name": "stdout",
     "output_type": "stream",
     "text": [
      "Epoch [202/400], train_loss: 0.5447\n"
     ]
    },
    {
     "name": "stderr",
     "output_type": "stream",
     "text": [
      "loading data: 14it [00:49,  3.50s/it]\n",
      "loading data: 5it [00:15,  3.03s/it]\n"
     ]
    },
    {
     "name": "stdout",
     "output_type": "stream",
     "text": [
      "elapsed_time: 64.420s\n",
      "false positive (FP): 1015, false negative (FN): 121, Precision: 79.769%, Recall: 97.065%, F1-measure: 87.571%\n",
      "Finished Predicting\n",
      "正确率:93.792 准确率:79.769 召回率:97.065 F1值:87.571\n"
     ]
    },
    {
     "name": "stderr",
     "output_type": "stream",
     "text": [
      "\r",
      "loading data: 0it [00:00, ?it/s]"
     ]
    },
    {
     "name": "stdout",
     "output_type": "stream",
     "text": [
      "Epoch [203/400], train_loss: 0.5443\n"
     ]
    },
    {
     "name": "stderr",
     "output_type": "stream",
     "text": [
      "loading data: 14it [00:45,  3.25s/it]\n",
      "loading data: 5it [00:14,  2.85s/it]\n"
     ]
    },
    {
     "name": "stdout",
     "output_type": "stream",
     "text": [
      "elapsed_time: 60.022s\n",
      "false positive (FP): 1016, false negative (FN): 126, Precision: 79.733%, Recall: 96.944%, F1-measure: 87.500%\n",
      "Finished Predicting\n",
      "正确率:93.76 准确率:79.733 召回率:96.944 F1值:87.5\n"
     ]
    },
    {
     "name": "stderr",
     "output_type": "stream",
     "text": [
      "\r",
      "loading data: 0it [00:00, ?it/s]"
     ]
    },
    {
     "name": "stdout",
     "output_type": "stream",
     "text": [
      "Epoch [204/400], train_loss: 0.5430\n"
     ]
    },
    {
     "name": "stderr",
     "output_type": "stream",
     "text": [
      "loading data: 14it [01:00,  4.29s/it]\n",
      "loading data: 5it [00:14,  2.94s/it]\n"
     ]
    },
    {
     "name": "stdout",
     "output_type": "stream",
     "text": [
      "elapsed_time: 75.096s\n",
      "false positive (FP): 1019, false negative (FN): 118, Precision: 79.717%, Recall: 97.138%, F1-measure: 87.570%\n",
      "Finished Predicting\n",
      "正确率:93.787 准确率:79.717 召回率:97.138 F1值:87.57\n"
     ]
    },
    {
     "name": "stderr",
     "output_type": "stream",
     "text": [
      "\r",
      "loading data: 0it [00:00, ?it/s]"
     ]
    },
    {
     "name": "stdout",
     "output_type": "stream",
     "text": [
      "Epoch [205/400], train_loss: 0.5427\n"
     ]
    },
    {
     "name": "stderr",
     "output_type": "stream",
     "text": [
      "loading data: 14it [00:46,  3.32s/it]\n",
      "loading data: 5it [00:15,  3.03s/it]\n"
     ]
    },
    {
     "name": "stdout",
     "output_type": "stream",
     "text": [
      "elapsed_time: 61.844s\n",
      "false positive (FP): 1016, false negative (FN): 127, Precision: 79.729%, Recall: 96.920%, F1-measure: 87.488%\n",
      "Finished Predicting\n",
      "正确率:93.754 准确率:79.729 召回率:96.92 F1值:87.488\n"
     ]
    },
    {
     "name": "stderr",
     "output_type": "stream",
     "text": [
      "\r",
      "loading data: 0it [00:00, ?it/s]"
     ]
    },
    {
     "name": "stdout",
     "output_type": "stream",
     "text": [
      "Epoch [206/400], train_loss: 0.5418\n"
     ]
    },
    {
     "name": "stderr",
     "output_type": "stream",
     "text": [
      "loading data: 14it [00:43,  3.14s/it]\n",
      "loading data: 5it [00:14,  2.82s/it]\n"
     ]
    },
    {
     "name": "stdout",
     "output_type": "stream",
     "text": [
      "elapsed_time: 58.285s\n",
      "false positive (FP): 1018, false negative (FN): 123, Precision: 79.713%, Recall: 97.017%, F1-measure: 87.518%\n",
      "Finished Predicting\n",
      "正确率:93.765 准确率:79.713 召回率:97.017 F1值:87.518\n"
     ]
    },
    {
     "name": "stderr",
     "output_type": "stream",
     "text": [
      "\r",
      "loading data: 0it [00:00, ?it/s]"
     ]
    },
    {
     "name": "stdout",
     "output_type": "stream",
     "text": [
      "Epoch [207/400], train_loss: 0.5410\n"
     ]
    },
    {
     "name": "stderr",
     "output_type": "stream",
     "text": [
      "loading data: 14it [00:44,  3.19s/it]\n",
      "loading data: 5it [00:14,  2.81s/it]\n"
     ]
    },
    {
     "name": "stdout",
     "output_type": "stream",
     "text": [
      "elapsed_time: 58.875s\n",
      "false positive (FP): 983, false negative (FN): 130, Precision: 80.245%, Recall: 96.847%, F1-measure: 87.768%\n",
      "Finished Predicting\n",
      "正确率:93.918 准确率:80.245 召回率:96.847 F1值:87.768\n"
     ]
    },
    {
     "name": "stderr",
     "output_type": "stream",
     "text": [
      "\r",
      "loading data: 0it [00:00, ?it/s]"
     ]
    },
    {
     "name": "stdout",
     "output_type": "stream",
     "text": [
      "Epoch [208/400], train_loss: 0.5408\n"
     ]
    },
    {
     "name": "stderr",
     "output_type": "stream",
     "text": [
      "loading data: 14it [00:43,  3.14s/it]\n",
      "loading data: 5it [00:14,  2.88s/it]\n"
     ]
    },
    {
     "name": "stdout",
     "output_type": "stream",
     "text": [
      "elapsed_time: 58.592s\n",
      "false positive (FP): 1023, false negative (FN): 120, Precision: 79.646%, Recall: 97.089%, F1-measure: 87.507%\n",
      "Finished Predicting\n",
      "正确率:93.754 准确率:79.646 召回率:97.089 F1值:87.507\n"
     ]
    },
    {
     "name": "stderr",
     "output_type": "stream",
     "text": [
      "\r",
      "loading data: 0it [00:00, ?it/s]"
     ]
    },
    {
     "name": "stdout",
     "output_type": "stream",
     "text": [
      "Epoch [209/400], train_loss: 0.5399\n"
     ]
    },
    {
     "name": "stderr",
     "output_type": "stream",
     "text": [
      "loading data: 14it [00:44,  3.16s/it]\n",
      "loading data: 5it [00:14,  2.81s/it]\n"
     ]
    },
    {
     "name": "stdout",
     "output_type": "stream",
     "text": [
      "elapsed_time: 58.503s\n",
      "false positive (FP): 1020, false negative (FN): 122, Precision: 79.685%, Recall: 97.041%, F1-measure: 87.511%\n",
      "Finished Predicting\n",
      "正确率:93.76 准确率:79.685 召回率:97.041 F1值:87.511\n"
     ]
    },
    {
     "name": "stderr",
     "output_type": "stream",
     "text": [
      "\r",
      "loading data: 0it [00:00, ?it/s]"
     ]
    },
    {
     "name": "stdout",
     "output_type": "stream",
     "text": [
      "Epoch [210/400], train_loss: 0.5395\n"
     ]
    },
    {
     "name": "stderr",
     "output_type": "stream",
     "text": [
      "loading data: 14it [00:43,  3.14s/it]\n",
      "loading data: 5it [00:13,  2.78s/it]\n"
     ]
    },
    {
     "name": "stdout",
     "output_type": "stream",
     "text": [
      "elapsed_time: 58.079s\n",
      "false positive (FP): 982, false negative (FN): 129, Precision: 80.265%, Recall: 96.871%, F1-measure: 87.790%\n",
      "Finished Predicting\n",
      "正确率:93.929 准确率:80.265 召回率:96.871 F1值:87.79\n"
     ]
    },
    {
     "name": "stderr",
     "output_type": "stream",
     "text": [
      "\r",
      "loading data: 0it [00:00, ?it/s]"
     ]
    },
    {
     "name": "stdout",
     "output_type": "stream",
     "text": [
      "Epoch [211/400], train_loss: 0.5390\n"
     ]
    },
    {
     "name": "stderr",
     "output_type": "stream",
     "text": [
      "loading data: 14it [00:44,  3.18s/it]\n",
      "loading data: 5it [00:14,  2.82s/it]\n"
     ]
    },
    {
     "name": "stdout",
     "output_type": "stream",
     "text": [
      "elapsed_time: 58.948s\n",
      "false positive (FP): 991, false negative (FN): 137, Precision: 80.088%, Recall: 96.677%, F1-measure: 87.604%\n",
      "Finished Predicting\n",
      "正确率:93.836 准确率:80.088 召回率:96.677 F1值:87.604\n"
     ]
    },
    {
     "name": "stderr",
     "output_type": "stream",
     "text": [
      "\r",
      "loading data: 0it [00:00, ?it/s]"
     ]
    },
    {
     "name": "stdout",
     "output_type": "stream",
     "text": [
      "Epoch [212/400], train_loss: 0.5381\n"
     ]
    },
    {
     "name": "stderr",
     "output_type": "stream",
     "text": [
      "loading data: 14it [00:43,  3.13s/it]\n",
      "loading data: 5it [00:14,  2.84s/it]\n"
     ]
    },
    {
     "name": "stdout",
     "output_type": "stream",
     "text": [
      "elapsed_time: 58.277s\n",
      "false positive (FP): 996, false negative (FN): 124, Precision: 80.060%, Recall: 96.992%, F1-measure: 87.717%\n",
      "Finished Predicting\n",
      "正确率:93.88 准确率:80.06 召回率:96.992 F1值:87.717\n"
     ]
    },
    {
     "name": "stderr",
     "output_type": "stream",
     "text": [
      "\r",
      "loading data: 0it [00:00, ?it/s]"
     ]
    },
    {
     "name": "stdout",
     "output_type": "stream",
     "text": [
      "Epoch [213/400], train_loss: 0.5378\n"
     ]
    },
    {
     "name": "stderr",
     "output_type": "stream",
     "text": [
      "loading data: 14it [00:46,  3.33s/it]\n",
      "loading data: 5it [00:13,  2.79s/it]\n"
     ]
    },
    {
     "name": "stdout",
     "output_type": "stream",
     "text": [
      "elapsed_time: 60.780s\n",
      "false positive (FP): 989, false negative (FN): 141, Precision: 80.105%, Recall: 96.580%, F1-measure: 87.574%\n",
      "Finished Predicting\n",
      "正确率:93.825 准确率:80.105 召回率:96.58 F1值:87.574\n"
     ]
    },
    {
     "name": "stderr",
     "output_type": "stream",
     "text": [
      "\r",
      "loading data: 0it [00:00, ?it/s]"
     ]
    },
    {
     "name": "stdout",
     "output_type": "stream",
     "text": [
      "Epoch [214/400], train_loss: 0.5377\n"
     ]
    },
    {
     "name": "stderr",
     "output_type": "stream",
     "text": [
      "loading data: 14it [00:45,  3.25s/it]\n",
      "loading data: 5it [00:15,  3.01s/it]\n"
     ]
    },
    {
     "name": "stdout",
     "output_type": "stream",
     "text": [
      "elapsed_time: 60.838s\n",
      "false positive (FP): 989, false negative (FN): 137, Precision: 80.121%, Recall: 96.677%, F1-measure: 87.624%\n",
      "Finished Predicting\n",
      "正确率:93.847 准确率:80.121 召回率:96.677 F1值:87.624\n"
     ]
    },
    {
     "name": "stderr",
     "output_type": "stream",
     "text": [
      "\r",
      "loading data: 0it [00:00, ?it/s]"
     ]
    },
    {
     "name": "stdout",
     "output_type": "stream",
     "text": [
      "Epoch [215/400], train_loss: 0.9362\n"
     ]
    },
    {
     "name": "stderr",
     "output_type": "stream",
     "text": [
      "loading data: 14it [00:45,  3.22s/it]\n",
      "loading data: 5it [00:13,  2.79s/it]\n"
     ]
    },
    {
     "name": "stdout",
     "output_type": "stream",
     "text": [
      "elapsed_time: 59.180s\n",
      "false positive (FP): 1138, false negative (FN): 96, Precision: 77.967%, Recall: 97.672%, F1-measure: 86.714%\n",
      "Finished Predicting\n",
      "正确率:93.257 准确率:77.967 召回率:97.672 F1值:86.714\n"
     ]
    },
    {
     "name": "stderr",
     "output_type": "stream",
     "text": [
      "\r",
      "loading data: 0it [00:00, ?it/s]"
     ]
    },
    {
     "name": "stdout",
     "output_type": "stream",
     "text": [
      "Epoch [216/400], train_loss: 0.7899\n"
     ]
    },
    {
     "name": "stderr",
     "output_type": "stream",
     "text": [
      "loading data: 14it [00:45,  3.23s/it]\n",
      "loading data: 5it [00:14,  2.84s/it]\n"
     ]
    },
    {
     "name": "stdout",
     "output_type": "stream",
     "text": [
      "elapsed_time: 59.615s\n",
      "false positive (FP): 1102, false negative (FN): 101, Precision: 78.493%, Recall: 97.550%, F1-measure: 86.990%\n",
      "Finished Predicting\n",
      "正确率:93.426 准确率:78.493 召回率:97.55 F1值:86.99\n"
     ]
    },
    {
     "name": "stderr",
     "output_type": "stream",
     "text": [
      "\r",
      "loading data: 0it [00:00, ?it/s]"
     ]
    },
    {
     "name": "stdout",
     "output_type": "stream",
     "text": [
      "Epoch [217/400], train_loss: 0.7372\n"
     ]
    },
    {
     "name": "stderr",
     "output_type": "stream",
     "text": [
      "loading data: 14it [00:44,  3.20s/it]\n",
      "loading data: 5it [00:14,  2.86s/it]\n"
     ]
    },
    {
     "name": "stdout",
     "output_type": "stream",
     "text": [
      "elapsed_time: 59.409s\n",
      "false positive (FP): 1122, false negative (FN): 100, Precision: 78.192%, Recall: 97.575%, F1-measure: 86.815%\n",
      "Finished Predicting\n",
      "正确率:93.322 准确率:78.192 召回率:97.575 F1值:86.815\n"
     ]
    },
    {
     "name": "stderr",
     "output_type": "stream",
     "text": [
      "\r",
      "loading data: 0it [00:00, ?it/s]"
     ]
    },
    {
     "name": "stdout",
     "output_type": "stream",
     "text": [
      "Epoch [218/400], train_loss: 0.7125\n"
     ]
    },
    {
     "name": "stderr",
     "output_type": "stream",
     "text": [
      "loading data: 14it [00:45,  3.25s/it]\n",
      "loading data: 5it [00:14,  2.87s/it]\n"
     ]
    },
    {
     "name": "stdout",
     "output_type": "stream",
     "text": [
      "elapsed_time: 60.125s\n",
      "false positive (FP): 1090, false negative (FN): 100, Precision: 78.682%, Recall: 97.575%, F1-measure: 87.116%\n",
      "Finished Predicting\n",
      "正确率:93.497 准确率:78.682 召回率:97.575 F1值:87.116\n"
     ]
    },
    {
     "name": "stderr",
     "output_type": "stream",
     "text": [
      "\r",
      "loading data: 0it [00:00, ?it/s]"
     ]
    },
    {
     "name": "stdout",
     "output_type": "stream",
     "text": [
      "Epoch [219/400], train_loss: 0.6800\n"
     ]
    },
    {
     "name": "stderr",
     "output_type": "stream",
     "text": [
      "loading data: 14it [00:46,  3.31s/it]\n",
      "loading data: 5it [00:14,  2.95s/it]\n"
     ]
    },
    {
     "name": "stdout",
     "output_type": "stream",
     "text": [
      "elapsed_time: 61.352s\n",
      "false positive (FP): 1013, false negative (FN): 128, Precision: 79.772%, Recall: 96.895%, F1-measure: 87.504%\n",
      "Finished Predicting\n",
      "正确率:93.765 准确率:79.772 召回率:96.895 F1值:87.504\n"
     ]
    },
    {
     "name": "stderr",
     "output_type": "stream",
     "text": [
      "\r",
      "loading data: 0it [00:00, ?it/s]"
     ]
    },
    {
     "name": "stdout",
     "output_type": "stream",
     "text": [
      "Epoch [220/400], train_loss: 0.6550\n"
     ]
    },
    {
     "name": "stderr",
     "output_type": "stream",
     "text": [
      "loading data: 14it [00:44,  3.19s/it]\n",
      "loading data: 5it [00:14,  2.83s/it]\n"
     ]
    },
    {
     "name": "stdout",
     "output_type": "stream",
     "text": [
      "elapsed_time: 59.081s\n",
      "false positive (FP): 982, false negative (FN): 155, Precision: 80.162%, Recall: 96.241%, F1-measure: 87.468%\n",
      "Finished Predicting\n",
      "正确率:93.787 准确率:80.162 召回率:96.241 F1值:87.468\n"
     ]
    },
    {
     "name": "stderr",
     "output_type": "stream",
     "text": [
      "\r",
      "loading data: 0it [00:00, ?it/s]"
     ]
    },
    {
     "name": "stdout",
     "output_type": "stream",
     "text": [
      "Epoch [221/400], train_loss: 0.6013\n"
     ]
    },
    {
     "name": "stderr",
     "output_type": "stream",
     "text": [
      "loading data: 14it [00:46,  3.35s/it]\n",
      "loading data: 5it [00:14,  2.81s/it]\n"
     ]
    },
    {
     "name": "stdout",
     "output_type": "stream",
     "text": [
      "elapsed_time: 61.229s\n",
      "false positive (FP): 1000, false negative (FN): 122, Precision: 80.004%, Recall: 97.041%, F1-measure: 87.703%\n",
      "Finished Predicting\n",
      "正确率:93.869 准确率:80.004 召回率:97.041 F1值:87.703\n"
     ]
    },
    {
     "name": "stderr",
     "output_type": "stream",
     "text": [
      "\r",
      "loading data: 0it [00:00, ?it/s]"
     ]
    },
    {
     "name": "stdout",
     "output_type": "stream",
     "text": [
      "Epoch [222/400], train_loss: 0.5597\n"
     ]
    },
    {
     "name": "stderr",
     "output_type": "stream",
     "text": [
      "loading data: 14it [00:43,  3.13s/it]\n",
      "loading data: 5it [00:14,  2.91s/it]\n"
     ]
    },
    {
     "name": "stdout",
     "output_type": "stream",
     "text": [
      "elapsed_time: 58.725s\n",
      "false positive (FP): 968, false negative (FN): 147, Precision: 80.421%, Recall: 96.435%, F1-measure: 87.703%\n",
      "Finished Predicting\n",
      "正确率:93.907 准确率:80.421 召回率:96.435 F1值:87.703\n"
     ]
    },
    {
     "name": "stderr",
     "output_type": "stream",
     "text": [
      "\r",
      "loading data: 0it [00:00, ?it/s]"
     ]
    },
    {
     "name": "stdout",
     "output_type": "stream",
     "text": [
      "Epoch [223/400], train_loss: 0.5607\n"
     ]
    },
    {
     "name": "stderr",
     "output_type": "stream",
     "text": [
      "loading data: 14it [00:45,  3.24s/it]\n",
      "loading data: 5it [00:14,  2.88s/it]\n"
     ]
    },
    {
     "name": "stdout",
     "output_type": "stream",
     "text": [
      "elapsed_time: 60.068s\n",
      "false positive (FP): 864, false negative (FN): 172, Precision: 82.056%, Recall: 95.828%, F1-measure: 88.409%\n",
      "Finished Predicting\n",
      "正确率:94.339 准确率:82.056 召回率:95.828 F1值:88.409\n"
     ]
    },
    {
     "name": "stderr",
     "output_type": "stream",
     "text": [
      "\r",
      "loading data: 0it [00:00, ?it/s]"
     ]
    },
    {
     "name": "stdout",
     "output_type": "stream",
     "text": [
      "Epoch [224/400], train_loss: 0.5456\n"
     ]
    },
    {
     "name": "stderr",
     "output_type": "stream",
     "text": [
      "loading data: 14it [00:44,  3.21s/it]\n",
      "loading data: 5it [00:13,  2.79s/it]\n"
     ]
    },
    {
     "name": "stdout",
     "output_type": "stream",
     "text": [
      "elapsed_time: 59.167s\n",
      "false positive (FP): 836, false negative (FN): 174, Precision: 82.529%, Recall: 95.780%, F1-measure: 88.662%\n",
      "Finished Predicting\n",
      "正确率:94.481 准确率:82.529 召回率:95.78 F1值:88.662\n"
     ]
    },
    {
     "name": "stderr",
     "output_type": "stream",
     "text": [
      "\r",
      "loading data: 0it [00:00, ?it/s]"
     ]
    },
    {
     "name": "stdout",
     "output_type": "stream",
     "text": [
      "Epoch [225/400], train_loss: 0.7008\n"
     ]
    },
    {
     "name": "stderr",
     "output_type": "stream",
     "text": [
      "loading data: 14it [00:43,  3.14s/it]\n",
      "loading data: 5it [00:16,  3.20s/it]\n"
     ]
    },
    {
     "name": "stdout",
     "output_type": "stream",
     "text": [
      "elapsed_time: 60.202s\n",
      "false positive (FP): 1158, false negative (FN): 93, Precision: 77.679%, Recall: 97.744%, F1-measure: 86.564%\n",
      "Finished Predicting\n",
      "正确率:93.164 准确率:77.679 召回率:97.744 F1值:86.564\n"
     ]
    },
    {
     "name": "stderr",
     "output_type": "stream",
     "text": [
      "\r",
      "loading data: 0it [00:00, ?it/s]"
     ]
    },
    {
     "name": "stdout",
     "output_type": "stream",
     "text": [
      "Epoch [226/400], train_loss: 0.8359\n"
     ]
    },
    {
     "name": "stderr",
     "output_type": "stream",
     "text": [
      "loading data: 14it [00:44,  3.17s/it]\n",
      "loading data: 5it [00:14,  2.85s/it]\n"
     ]
    },
    {
     "name": "stdout",
     "output_type": "stream",
     "text": [
      "elapsed_time: 58.977s\n",
      "false positive (FP): 1127, false negative (FN): 103, Precision: 78.104%, Recall: 97.502%, F1-measure: 86.731%\n",
      "Finished Predicting\n",
      "正确率:93.279 准确率:78.104 召回率:97.502 F1值:86.731\n"
     ]
    },
    {
     "name": "stderr",
     "output_type": "stream",
     "text": [
      "\r",
      "loading data: 0it [00:00, ?it/s]"
     ]
    },
    {
     "name": "stdout",
     "output_type": "stream",
     "text": [
      "Epoch [227/400], train_loss: 0.6994\n"
     ]
    },
    {
     "name": "stderr",
     "output_type": "stream",
     "text": [
      "loading data: 14it [00:44,  3.21s/it]\n",
      "loading data: 5it [00:13,  2.80s/it]\n"
     ]
    },
    {
     "name": "stdout",
     "output_type": "stream",
     "text": [
      "elapsed_time: 59.242s\n",
      "false positive (FP): 893, false negative (FN): 192, Precision: 81.488%, Recall: 95.343%, F1-measure: 87.873%\n",
      "Finished Predicting\n",
      "正确率:94.071 准确率:81.488 召回率:95.343 F1值:87.873\n"
     ]
    },
    {
     "name": "stderr",
     "output_type": "stream",
     "text": [
      "\r",
      "loading data: 0it [00:00, ?it/s]"
     ]
    },
    {
     "name": "stdout",
     "output_type": "stream",
     "text": [
      "Epoch [228/400], train_loss: 0.6603\n"
     ]
    },
    {
     "name": "stderr",
     "output_type": "stream",
     "text": [
      "loading data: 14it [00:43,  3.13s/it]\n",
      "loading data: 5it [00:14,  2.93s/it]\n"
     ]
    },
    {
     "name": "stdout",
     "output_type": "stream",
     "text": [
      "elapsed_time: 58.736s\n",
      "false positive (FP): 946, false negative (FN): 192, Precision: 80.603%, Recall: 95.343%, F1-measure: 87.356%\n",
      "Finished Predicting\n",
      "正确率:93.781 准确率:80.603 召回率:95.343 F1值:87.356\n"
     ]
    },
    {
     "name": "stderr",
     "output_type": "stream",
     "text": [
      "\r",
      "loading data: 0it [00:00, ?it/s]"
     ]
    },
    {
     "name": "stdout",
     "output_type": "stream",
     "text": [
      "Epoch [229/400], train_loss: 0.6327\n"
     ]
    },
    {
     "name": "stderr",
     "output_type": "stream",
     "text": [
      "loading data: 14it [00:44,  3.15s/it]\n",
      "loading data: 5it [00:13,  2.78s/it]\n"
     ]
    },
    {
     "name": "stdout",
     "output_type": "stream",
     "text": [
      "elapsed_time: 58.375s\n",
      "false positive (FP): 869, false negative (FN): 191, Precision: 81.900%, Recall: 95.367%, F1-measure: 88.122%\n",
      "Finished Predicting\n",
      "正确率:94.208 准确率:81.9 召回率:95.367 F1值:88.122\n"
     ]
    },
    {
     "name": "stderr",
     "output_type": "stream",
     "text": [
      "\r",
      "loading data: 0it [00:00, ?it/s]"
     ]
    },
    {
     "name": "stdout",
     "output_type": "stream",
     "text": [
      "Epoch [230/400], train_loss: 0.5877\n"
     ]
    },
    {
     "name": "stderr",
     "output_type": "stream",
     "text": [
      "loading data: 14it [00:44,  3.19s/it]\n",
      "loading data: 5it [00:15,  3.02s/it]\n"
     ]
    },
    {
     "name": "stdout",
     "output_type": "stream",
     "text": [
      "elapsed_time: 60.105s\n",
      "false positive (FP): 855, false negative (FN): 259, Precision: 81.882%, Recall: 93.718%, F1-measure: 87.401%\n",
      "Finished Predicting\n",
      "正确率:93.913 准确率:81.882 召回率:93.718 F1值:87.401\n"
     ]
    },
    {
     "name": "stderr",
     "output_type": "stream",
     "text": [
      "\r",
      "loading data: 0it [00:00, ?it/s]"
     ]
    },
    {
     "name": "stdout",
     "output_type": "stream",
     "text": [
      "Epoch [231/400], train_loss: 0.5689\n"
     ]
    },
    {
     "name": "stderr",
     "output_type": "stream",
     "text": [
      "loading data: 14it [00:48,  3.47s/it]\n",
      "loading data: 5it [00:14,  2.92s/it]\n"
     ]
    },
    {
     "name": "stdout",
     "output_type": "stream",
     "text": [
      "elapsed_time: 63.459s\n",
      "false positive (FP): 830, false negative (FN): 182, Precision: 82.603%, Recall: 95.586%, F1-measure: 88.622%\n",
      "Finished Predicting\n",
      "正确率:94.47 准确率:82.603 召回率:95.586 F1值:88.622\n"
     ]
    },
    {
     "name": "stderr",
     "output_type": "stream",
     "text": [
      "\r",
      "loading data: 0it [00:00, ?it/s]"
     ]
    },
    {
     "name": "stdout",
     "output_type": "stream",
     "text": [
      "Epoch [232/400], train_loss: 0.5483\n"
     ]
    },
    {
     "name": "stderr",
     "output_type": "stream",
     "text": [
      "loading data: 14it [00:43,  3.14s/it]\n",
      "loading data: 5it [00:14,  2.80s/it]\n"
     ]
    },
    {
     "name": "stdout",
     "output_type": "stream",
     "text": [
      "elapsed_time: 58.303s\n",
      "false positive (FP): 875, false negative (FN): 180, Precision: 81.839%, Recall: 95.634%, F1-measure: 88.200%\n",
      "Finished Predicting\n",
      "正确率:94.235 准确率:81.839 召回率:95.634 F1值:88.2\n"
     ]
    },
    {
     "name": "stderr",
     "output_type": "stream",
     "text": [
      "\r",
      "loading data: 0it [00:00, ?it/s]"
     ]
    },
    {
     "name": "stdout",
     "output_type": "stream",
     "text": [
      "Epoch [233/400], train_loss: 0.5437\n"
     ]
    },
    {
     "name": "stderr",
     "output_type": "stream",
     "text": [
      "loading data: 14it [00:44,  3.17s/it]\n",
      "loading data: 5it [00:14,  2.84s/it]\n"
     ]
    },
    {
     "name": "stdout",
     "output_type": "stream",
     "text": [
      "elapsed_time: 58.940s\n",
      "false positive (FP): 877, false negative (FN): 180, Precision: 81.805%, Recall: 95.634%, F1-measure: 88.181%\n",
      "Finished Predicting\n",
      "正确率:94.224 准确率:81.805 召回率:95.634 F1值:88.181\n"
     ]
    },
    {
     "name": "stderr",
     "output_type": "stream",
     "text": [
      "\r",
      "loading data: 0it [00:00, ?it/s]"
     ]
    },
    {
     "name": "stdout",
     "output_type": "stream",
     "text": [
      "Epoch [234/400], train_loss: 0.5416\n"
     ]
    },
    {
     "name": "stderr",
     "output_type": "stream",
     "text": [
      "loading data: 14it [00:45,  3.24s/it]\n",
      "loading data: 5it [00:14,  2.87s/it]\n"
     ]
    },
    {
     "name": "stdout",
     "output_type": "stream",
     "text": [
      "elapsed_time: 60.034s\n",
      "false positive (FP): 870, false negative (FN): 191, Precision: 81.883%, Recall: 95.367%, F1-measure: 88.112%\n",
      "Finished Predicting\n",
      "正确率:94.202 准确率:81.883 召回率:95.367 F1值:88.112\n"
     ]
    },
    {
     "name": "stderr",
     "output_type": "stream",
     "text": [
      "\r",
      "loading data: 0it [00:00, ?it/s]"
     ]
    },
    {
     "name": "stdout",
     "output_type": "stream",
     "text": [
      "Epoch [235/400], train_loss: 0.5401\n"
     ]
    },
    {
     "name": "stderr",
     "output_type": "stream",
     "text": [
      "loading data: 14it [00:43,  3.14s/it]\n",
      "loading data: 5it [00:13,  2.79s/it]\n"
     ]
    },
    {
     "name": "stdout",
     "output_type": "stream",
     "text": [
      "elapsed_time: 58.224s\n",
      "false positive (FP): 893, false negative (FN): 173, Precision: 81.561%, Recall: 95.804%, F1-measure: 88.111%\n",
      "Finished Predicting\n",
      "正确率:94.175 准确率:81.561 召回率:95.804 F1值:88.111\n"
     ]
    },
    {
     "name": "stderr",
     "output_type": "stream",
     "text": [
      "\r",
      "loading data: 0it [00:00, ?it/s]"
     ]
    },
    {
     "name": "stdout",
     "output_type": "stream",
     "text": [
      "Epoch [236/400], train_loss: 0.9338\n"
     ]
    },
    {
     "name": "stderr",
     "output_type": "stream",
     "text": [
      "loading data: 14it [00:45,  3.28s/it]\n",
      "loading data: 5it [00:14,  2.82s/it]\n"
     ]
    },
    {
     "name": "stdout",
     "output_type": "stream",
     "text": [
      "elapsed_time: 60.377s\n",
      "false positive (FP): 1148, false negative (FN): 158, Precision: 77.547%, Recall: 96.168%, F1-measure: 85.860%\n",
      "Finished Predicting\n",
      "正确率:92.863 准确率:77.547 召回率:96.168 F1值:85.86\n"
     ]
    },
    {
     "name": "stderr",
     "output_type": "stream",
     "text": [
      "\r",
      "loading data: 0it [00:00, ?it/s]"
     ]
    },
    {
     "name": "stdout",
     "output_type": "stream",
     "text": [
      "Epoch [237/400], train_loss: 0.7551\n"
     ]
    },
    {
     "name": "stderr",
     "output_type": "stream",
     "text": [
      "loading data: 14it [00:45,  3.28s/it]\n",
      "loading data: 5it [00:13,  2.79s/it]\n"
     ]
    },
    {
     "name": "stdout",
     "output_type": "stream",
     "text": [
      "elapsed_time: 60.189s\n",
      "false positive (FP): 1102, false negative (FN): 99, Precision: 78.502%, Recall: 97.599%, F1-measure: 87.015%\n",
      "Finished Predicting\n",
      "正确率:93.437 准确率:78.502 召回率:97.599 F1值:87.015\n"
     ]
    },
    {
     "name": "stderr",
     "output_type": "stream",
     "text": [
      "\r",
      "loading data: 0it [00:00, ?it/s]"
     ]
    },
    {
     "name": "stdout",
     "output_type": "stream",
     "text": [
      "Epoch [238/400], train_loss: 0.7068\n"
     ]
    },
    {
     "name": "stderr",
     "output_type": "stream",
     "text": [
      "loading data: 14it [00:44,  3.18s/it]\n",
      "loading data: 5it [00:14,  2.85s/it]\n"
     ]
    },
    {
     "name": "stdout",
     "output_type": "stream",
     "text": [
      "elapsed_time: 59.041s\n",
      "false positive (FP): 1053, false negative (FN): 107, Precision: 79.227%, Recall: 97.405%, F1-measure: 87.380%\n",
      "Finished Predicting\n",
      "正确率:93.661 准确率:79.227 召回率:97.405 F1值:87.38\n"
     ]
    },
    {
     "name": "stderr",
     "output_type": "stream",
     "text": [
      "\r",
      "loading data: 0it [00:00, ?it/s]"
     ]
    },
    {
     "name": "stdout",
     "output_type": "stream",
     "text": [
      "Epoch [239/400], train_loss: 0.6579\n"
     ]
    },
    {
     "name": "stderr",
     "output_type": "stream",
     "text": [
      "loading data: 14it [00:44,  3.18s/it]\n",
      "loading data: 5it [00:14,  2.83s/it]\n"
     ]
    },
    {
     "name": "stdout",
     "output_type": "stream",
     "text": [
      "elapsed_time: 59.083s\n",
      "false positive (FP): 983, false negative (FN): 156, Precision: 80.141%, Recall: 96.216%, F1-measure: 87.446%\n",
      "Finished Predicting\n",
      "正确率:93.776 准确率:80.141 召回率:96.216 F1值:87.446\n"
     ]
    },
    {
     "name": "stderr",
     "output_type": "stream",
     "text": [
      "\r",
      "loading data: 0it [00:00, ?it/s]"
     ]
    },
    {
     "name": "stdout",
     "output_type": "stream",
     "text": [
      "Epoch [240/400], train_loss: 0.6816\n"
     ]
    },
    {
     "name": "stderr",
     "output_type": "stream",
     "text": [
      "loading data: 14it [00:44,  3.16s/it]\n",
      "loading data: 5it [00:13,  2.79s/it]\n"
     ]
    },
    {
     "name": "stdout",
     "output_type": "stream",
     "text": [
      "elapsed_time: 58.481s\n",
      "false positive (FP): 1010, false negative (FN): 136, Precision: 79.788%, Recall: 96.701%, F1-measure: 87.434%\n",
      "Finished Predicting\n",
      "正确率:93.738 准确率:79.788 召回率:96.701 F1值:87.434\n"
     ]
    },
    {
     "name": "stderr",
     "output_type": "stream",
     "text": [
      "\r",
      "loading data: 0it [00:00, ?it/s]"
     ]
    },
    {
     "name": "stdout",
     "output_type": "stream",
     "text": [
      "Epoch [241/400], train_loss: 0.6473\n"
     ]
    },
    {
     "name": "stderr",
     "output_type": "stream",
     "text": [
      "loading data: 14it [00:44,  3.17s/it]\n",
      "loading data: 5it [00:14,  2.85s/it]\n"
     ]
    },
    {
     "name": "stdout",
     "output_type": "stream",
     "text": [
      "elapsed_time: 58.987s\n",
      "false positive (FP): 927, false negative (FN): 199, Precision: 80.891%, Recall: 95.173%, F1-measure: 87.453%\n",
      "Finished Predicting\n",
      "正确率:93.847 准确率:80.891 召回率:95.173 F1值:87.453\n"
     ]
    },
    {
     "name": "stderr",
     "output_type": "stream",
     "text": [
      "\r",
      "loading data: 0it [00:00, ?it/s]"
     ]
    },
    {
     "name": "stdout",
     "output_type": "stream",
     "text": [
      "Epoch [242/400], train_loss: 0.7552\n"
     ]
    },
    {
     "name": "stderr",
     "output_type": "stream",
     "text": [
      "loading data: 14it [00:45,  3.23s/it]\n",
      "loading data: 5it [00:14,  2.81s/it]\n"
     ]
    },
    {
     "name": "stdout",
     "output_type": "stream",
     "text": [
      "elapsed_time: 59.611s\n",
      "false positive (FP): 1083, false negative (FN): 97, Precision: 78.802%, Recall: 97.647%, F1-measure: 87.218%\n",
      "Finished Predicting\n",
      "正确率:93.552 准确率:78.802 召回率:97.647 F1值:87.218\n"
     ]
    },
    {
     "name": "stderr",
     "output_type": "stream",
     "text": [
      "\r",
      "loading data: 0it [00:00, ?it/s]"
     ]
    },
    {
     "name": "stdout",
     "output_type": "stream",
     "text": [
      "Epoch [243/400], train_loss: 0.7290\n"
     ]
    },
    {
     "name": "stderr",
     "output_type": "stream",
     "text": [
      "loading data: 14it [00:44,  3.16s/it]\n",
      "loading data: 5it [00:14,  2.81s/it]\n"
     ]
    },
    {
     "name": "stdout",
     "output_type": "stream",
     "text": [
      "elapsed_time: 58.632s\n",
      "false positive (FP): 1042, false negative (FN): 110, Precision: 79.387%, Recall: 97.332%, F1-measure: 87.448%\n",
      "Finished Predicting\n",
      "正确率:93.705 准确率:79.387 召回率:97.332 F1值:87.448\n"
     ]
    },
    {
     "name": "stderr",
     "output_type": "stream",
     "text": [
      "\r",
      "loading data: 0it [00:00, ?it/s]"
     ]
    },
    {
     "name": "stdout",
     "output_type": "stream",
     "text": [
      "Epoch [244/400], train_loss: 0.6574\n"
     ]
    },
    {
     "name": "stderr",
     "output_type": "stream",
     "text": [
      "loading data: 14it [00:45,  3.27s/it]\n",
      "loading data: 5it [00:14,  2.89s/it]\n"
     ]
    },
    {
     "name": "stdout",
     "output_type": "stream",
     "text": [
      "elapsed_time: 60.479s\n",
      "false positive (FP): 927, false negative (FN): 197, Precision: 80.898%, Recall: 95.222%, F1-measure: 87.478%\n",
      "Finished Predicting\n",
      "正确率:93.858 准确率:80.898 召回率:95.222 F1值:87.478\n"
     ]
    },
    {
     "name": "stderr",
     "output_type": "stream",
     "text": [
      "\r",
      "loading data: 0it [00:00, ?it/s]"
     ]
    },
    {
     "name": "stdout",
     "output_type": "stream",
     "text": [
      "Epoch [245/400], train_loss: 0.6185\n"
     ]
    },
    {
     "name": "stderr",
     "output_type": "stream",
     "text": [
      "loading data: 14it [00:44,  3.15s/it]\n",
      "loading data: 5it [00:14,  2.94s/it]\n"
     ]
    },
    {
     "name": "stdout",
     "output_type": "stream",
     "text": [
      "elapsed_time: 59.127s\n",
      "false positive (FP): 766, false negative (FN): 206, Precision: 83.643%, Recall: 95.004%, F1-measure: 88.962%\n",
      "Finished Predicting\n",
      "正确率:94.689 准确率:83.643 召回率:95.004 F1值:88.962\n"
     ]
    },
    {
     "name": "stderr",
     "output_type": "stream",
     "text": [
      "\r",
      "loading data: 0it [00:00, ?it/s]"
     ]
    },
    {
     "name": "stdout",
     "output_type": "stream",
     "text": [
      "Epoch [246/400], train_loss: 0.5969\n"
     ]
    },
    {
     "name": "stderr",
     "output_type": "stream",
     "text": [
      "loading data: 14it [00:45,  3.23s/it]\n",
      "loading data: 5it [00:14,  2.88s/it]\n"
     ]
    },
    {
     "name": "stdout",
     "output_type": "stream",
     "text": [
      "elapsed_time: 59.828s\n",
      "false positive (FP): 764, false negative (FN): 185, Precision: 83.752%, Recall: 95.513%, F1-measure: 89.246%\n",
      "Finished Predicting\n",
      "正确率:94.814 准确率:83.752 召回率:95.513 F1值:89.246\n"
     ]
    },
    {
     "name": "stderr",
     "output_type": "stream",
     "text": [
      "\r",
      "loading data: 0it [00:00, ?it/s]"
     ]
    },
    {
     "name": "stdout",
     "output_type": "stream",
     "text": [
      "Epoch [247/400], train_loss: 0.6885\n"
     ]
    },
    {
     "name": "stderr",
     "output_type": "stream",
     "text": [
      "loading data: 14it [00:47,  3.38s/it]\n",
      "loading data: 5it [00:14,  2.88s/it]\n"
     ]
    },
    {
     "name": "stdout",
     "output_type": "stream",
     "text": [
      "elapsed_time: 61.960s\n",
      "false positive (FP): 792, false negative (FN): 235, Precision: 83.077%, Recall: 94.300%, F1-measure: 88.334%\n",
      "Finished Predicting\n",
      "正确率:94.388 准确率:83.077 召回率:94.3 F1值:88.334\n"
     ]
    },
    {
     "name": "stderr",
     "output_type": "stream",
     "text": [
      "\r",
      "loading data: 0it [00:00, ?it/s]"
     ]
    },
    {
     "name": "stdout",
     "output_type": "stream",
     "text": [
      "Epoch [248/400], train_loss: 0.5665\n"
     ]
    },
    {
     "name": "stderr",
     "output_type": "stream",
     "text": [
      "loading data: 14it [00:44,  3.18s/it]\n",
      "loading data: 5it [00:15,  3.16s/it]\n"
     ]
    },
    {
     "name": "stdout",
     "output_type": "stream",
     "text": [
      "elapsed_time: 60.649s\n",
      "false positive (FP): 747, false negative (FN): 250, Precision: 83.831%, Recall: 93.936%, F1-measure: 88.597%\n",
      "Finished Predicting\n",
      "正确率:94.552 准确率:83.831 召回率:93.936 F1值:88.597\n"
     ]
    },
    {
     "name": "stderr",
     "output_type": "stream",
     "text": [
      "\r",
      "loading data: 0it [00:00, ?it/s]"
     ]
    },
    {
     "name": "stdout",
     "output_type": "stream",
     "text": [
      "Epoch [249/400], train_loss: 0.5490\n"
     ]
    },
    {
     "name": "stderr",
     "output_type": "stream",
     "text": [
      "loading data: 14it [00:44,  3.14s/it]\n",
      "loading data: 5it [00:14,  2.97s/it]\n"
     ]
    },
    {
     "name": "stdout",
     "output_type": "stream",
     "text": [
      "elapsed_time: 59.202s\n",
      "false positive (FP): 762, false negative (FN): 196, Precision: 83.749%, Recall: 95.246%, F1-measure: 89.128%\n",
      "Finished Predicting\n",
      "正确率:94.765 准确率:83.749 召回率:95.246 F1值:89.128\n"
     ]
    },
    {
     "name": "stderr",
     "output_type": "stream",
     "text": [
      "\r",
      "loading data: 0it [00:00, ?it/s]"
     ]
    },
    {
     "name": "stdout",
     "output_type": "stream",
     "text": [
      "Epoch [250/400], train_loss: 0.5443\n"
     ]
    },
    {
     "name": "stderr",
     "output_type": "stream",
     "text": [
      "loading data: 14it [00:45,  3.24s/it]\n",
      "loading data: 5it [00:13,  2.79s/it]\n"
     ]
    },
    {
     "name": "stdout",
     "output_type": "stream",
     "text": [
      "elapsed_time: 59.598s\n",
      "false positive (FP): 758, false negative (FN): 194, Precision: 83.828%, Recall: 95.295%, F1-measure: 89.194%\n",
      "Finished Predicting\n",
      "正确率:94.798 准确率:83.828 召回率:95.295 F1值:89.194\n"
     ]
    },
    {
     "name": "stderr",
     "output_type": "stream",
     "text": [
      "\r",
      "loading data: 0it [00:00, ?it/s]"
     ]
    },
    {
     "name": "stdout",
     "output_type": "stream",
     "text": [
      "Epoch [251/400], train_loss: 0.5414\n"
     ]
    },
    {
     "name": "stderr",
     "output_type": "stream",
     "text": [
      "loading data: 14it [00:44,  3.20s/it]\n",
      "loading data: 5it [00:14,  2.92s/it]\n"
     ]
    },
    {
     "name": "stdout",
     "output_type": "stream",
     "text": [
      "elapsed_time: 59.760s\n",
      "false positive (FP): 757, false negative (FN): 194, Precision: 83.845%, Recall: 95.295%, F1-measure: 89.204%\n",
      "Finished Predicting\n",
      "正确率:94.803 准确率:83.845 召回率:95.295 F1值:89.204\n"
     ]
    },
    {
     "name": "stderr",
     "output_type": "stream",
     "text": [
      "\r",
      "loading data: 0it [00:00, ?it/s]"
     ]
    },
    {
     "name": "stdout",
     "output_type": "stream",
     "text": [
      "Epoch [252/400], train_loss: 0.5398\n"
     ]
    },
    {
     "name": "stderr",
     "output_type": "stream",
     "text": [
      "loading data: 14it [00:43,  3.14s/it]\n",
      "loading data: 5it [00:14,  2.89s/it]\n"
     ]
    },
    {
     "name": "stdout",
     "output_type": "stream",
     "text": [
      "elapsed_time: 58.747s\n",
      "false positive (FP): 760, false negative (FN): 193, Precision: 83.795%, Recall: 95.319%, F1-measure: 89.186%\n",
      "Finished Predicting\n",
      "正确率:94.792 准确率:83.795 召回率:95.319 F1值:89.186\n"
     ]
    },
    {
     "name": "stderr",
     "output_type": "stream",
     "text": [
      "\r",
      "loading data: 0it [00:00, ?it/s]"
     ]
    },
    {
     "name": "stdout",
     "output_type": "stream",
     "text": [
      "Epoch [253/400], train_loss: 0.5385\n"
     ]
    },
    {
     "name": "stderr",
     "output_type": "stream",
     "text": [
      "loading data: 14it [00:46,  3.33s/it]\n",
      "loading data: 5it [00:14,  2.93s/it]\n"
     ]
    },
    {
     "name": "stdout",
     "output_type": "stream",
     "text": [
      "elapsed_time: 61.547s\n",
      "false positive (FP): 763, false negative (FN): 199, Precision: 83.721%, Recall: 95.173%, F1-measure: 89.081%\n",
      "Finished Predicting\n",
      "正确率:94.743 准确率:83.721 召回率:95.173 F1值:89.081\n"
     ]
    },
    {
     "name": "stderr",
     "output_type": "stream",
     "text": [
      "\r",
      "loading data: 0it [00:00, ?it/s]"
     ]
    },
    {
     "name": "stdout",
     "output_type": "stream",
     "text": [
      "Epoch [254/400], train_loss: 0.5372\n"
     ]
    },
    {
     "name": "stderr",
     "output_type": "stream",
     "text": [
      "loading data: 14it [00:46,  3.30s/it]\n",
      "loading data: 5it [00:15,  3.06s/it]\n"
     ]
    },
    {
     "name": "stdout",
     "output_type": "stream",
     "text": [
      "elapsed_time: 62.043s\n",
      "false positive (FP): 774, false negative (FN): 197, Precision: 83.532%, Recall: 95.222%, F1-measure: 88.995%\n",
      "Finished Predicting\n",
      "正确率:94.694 准确率:83.532 召回率:95.222 F1值:88.995\n"
     ]
    },
    {
     "name": "stderr",
     "output_type": "stream",
     "text": [
      "\r",
      "loading data: 0it [00:00, ?it/s]"
     ]
    },
    {
     "name": "stdout",
     "output_type": "stream",
     "text": [
      "Epoch [255/400], train_loss: 0.5363\n"
     ]
    },
    {
     "name": "stderr",
     "output_type": "stream",
     "text": [
      "loading data: 14it [00:45,  3.23s/it]\n",
      "loading data: 5it [00:14,  2.94s/it]\n"
     ]
    },
    {
     "name": "stdout",
     "output_type": "stream",
     "text": [
      "elapsed_time: 60.318s\n",
      "false positive (FP): 781, false negative (FN): 206, Precision: 83.376%, Recall: 95.004%, F1-measure: 88.811%\n",
      "Finished Predicting\n",
      "正确率:94.607 准确率:83.376 召回率:95.004 F1值:88.811\n"
     ]
    },
    {
     "name": "stderr",
     "output_type": "stream",
     "text": [
      "\r",
      "loading data: 0it [00:00, ?it/s]"
     ]
    },
    {
     "name": "stdout",
     "output_type": "stream",
     "text": [
      "Epoch [256/400], train_loss: 0.5358\n"
     ]
    },
    {
     "name": "stderr",
     "output_type": "stream",
     "text": [
      "\r",
      "loading data: 1it [00:04,  4.52s/it]"
     ]
    }
   ],
   "source": [
    "total_step = len(dataloader)\n",
    "start_time = time.time()\n",
    "result = []\n",
    "steps = 0\n",
    "for epoch in range(current_epoch,num_epochs):  # Loop over the dataset multiple times\n",
    "    train_loss = 0\n",
    "    model.train()\n",
    "    for step, (seq, label) in enumerate(dataloader):\n",
    "        # Forward pass\n",
    "        if epoch<2 and steps%10==0:\n",
    "            metric(steps)\n",
    "        steps+=1\n",
    "        seq = seq.clone().detach().view(-1, window_size, input_size).to(device)\n",
    "        label1= seq[:,1:,:].cpu().long()\n",
    "        label2 = label.view(-1,1,1)\n",
    "        label = torch.cat([label1,label2],1).view(-1,window_size)\n",
    "        label = label.reshape(label.size(0)*label.size(1))\n",
    "        output = model(seq)\n",
    "        output = output.reshape(output.size(0)*output.size(1),-1)\n",
    "        loss = criterion(output, label.to(device))\n",
    "\n",
    "        # Backward and optimize\n",
    "        optimizer.zero_grad()\n",
    "        loss.backward()\n",
    "        train_loss += loss.item()\n",
    "        optimizer.step()\n",
    "        writer.add_graph(model, seq)\n",
    "    print('Epoch [{}/{}], train_loss: {:.4f}'.format(epoch + 1, current_epoch+num_epochs, train_loss / total_step))\n",
    "    writer.add_scalar('第一阶段模型训练损失', train_loss / total_step, epoch + 1)\n",
    "    metric(steps)\n",
    "elapsed_time = time.time() - start_time\n",
    "print('elapsed_time: {:.3f}s'.format(elapsed_time))"
   ]
  },
  {
   "cell_type": "code",
   "execution_count": null,
   "metadata": {},
   "outputs": [],
   "source": [
    "steps"
   ]
  },
  {
   "cell_type": "code",
   "execution_count": null,
   "metadata": {},
   "outputs": [],
   "source": []
  },
  {
   "cell_type": "code",
   "execution_count": 17,
   "metadata": {},
   "outputs": [
    {
     "name": "stdout",
     "output_type": "stream",
     "text": [
      "Finished Training\n"
     ]
    }
   ],
   "source": [
    "if not os.path.isdir(model_dir):\n",
    "    os.makedirs(model_dir)\n",
    "torch.save(model.state_dict(), model_dir + '/' + model_usl_name + '.pt')\n",
    "print('Finished Training')"
   ]
  },
  {
   "cell_type": "code",
   "execution_count": 14,
   "metadata": {},
   "outputs": [],
   "source": [
    "import unsupervised.predictor as unsupervised_predictor"
   ]
  },
  {
   "cell_type": "code",
   "execution_count": 16,
   "metadata": {},
   "outputs": [
    {
     "name": "stderr",
     "output_type": "stream",
     "text": [
      "loading data: 5it [00:26,  5.33s/it]\n"
     ]
    }
   ],
   "source": [
    "re = unsupervised_predictor.predict(model, abnormal_dataloader,test_abnormal_session,10, window_size,ts=0.0005)"
   ]
  },
  {
   "cell_type": "code",
   "execution_count": 1,
   "metadata": {},
   "outputs": [],
   "source": [
    "from tensorboard.backend.event_processing import event_accumulator\n",
    "from torch.utils.tensorboard import SummaryWriter\n",
    "ea=event_accumulator.EventAccumulator('E:\\\n",
    "\\python_workspace\\\\jupyter_notebook\\\\毕业设计\\\\dev\\\\end_to_end_dev_v0\\\\log\\\\unsupervise_lstm_SGD')\n",
    "ea.Reload()\n",
    "acc = ea.scalars.Items('正确率')\n",
    "P = ea.scalars.Items('准确率')\n",
    "R = ea.scalars.Items('召回率')\n",
    "F1 = ea.scalars.Items('F1值')\n",
    "Loss = ea.scalars.Items('第一阶段模型训练损失') \n",
    "process = {'accuracy':[[i.step,i.value] for i in acc]}\n",
    "process['precision'] = [[i.step,i.value] for i in P]\n",
    "process['recall'] = [[i.step,i.value] for i in R]\n",
    "process['F1'] = [[i.step,i.value] for i in F1]\n",
    "process['第一阶段模型训练损失'] = [[i.step,i.value] for i in Loss]\n",
    "\n",
    "writer = SummaryWriter(log_dir='log/' + 'process')\n",
    "\n",
    "for item in process['accuracy']:\n",
    "    writer.add_scalar('正确率',item[1],item[0])\n",
    "    \n",
    "for item in process['precision']:\n",
    "    writer.add_scalar('准确率',item[1],item[0])\n",
    "    \n",
    "for item in process['recall']:\n",
    "    writer.add_scalar('召回率',item[1],item[0])\n",
    "    \n",
    "for item in process['F1']:\n",
    "    writer.add_scalar('F1值',item[1],item[0])\n",
    "    \n",
    "f = open('unsupervised_process', 'wb')\n",
    "pickle.dump(process, f)\n",
    "\n",
    "with open('unsupervised_process', 'rb') as unsupervised_process:\n",
    "    process = pickle.load(unsupervised_process)"
   ]
  },
  {
   "cell_type": "code",
   "execution_count": null,
   "metadata": {},
   "outputs": [],
   "source": [
    "ea=event_accumulator.EventAccumulator('E:\\\n",
    "\\python_workspace\\\\jupyter_notebook\\\\毕业设计\\\\dev\\\\end_to_end_dev_v0\\\\log\\\\unsupervise_lstm_SGD')\n",
    "ea.Reload()\n",
    "# print(ea.scalars.Keys())"
   ]
  },
  {
   "cell_type": "code",
   "execution_count": 40,
   "metadata": {},
   "outputs": [],
   "source": [
    "acc = ea.scalars.Items('正确率')\n",
    "P = ea.scalars.Items('准确率')\n",
    "R = ea.scalars.Items('召回率')\n",
    "F1 = ea.scalars.Items('F1值')\n",
    "Loss = ea.scalars.Items('第一阶段模型训练损失') "
   ]
  },
  {
   "cell_type": "code",
   "execution_count": 29,
   "metadata": {},
   "outputs": [
    {
     "data": {
      "text/plain": [
       "<bound method Reservoir.Items of <tensorboard.backend.event_processing.reservoir.Reservoir object at 0x000002A9457267B8>>"
      ]
     },
     "execution_count": 29,
     "metadata": {},
     "output_type": "execute_result"
    }
   ],
   "source": [
    " ea.scalars.Items"
   ]
  },
  {
   "cell_type": "code",
   "execution_count": 41,
   "metadata": {},
   "outputs": [],
   "source": [
    "process = {'accuracy':[[i.step,i.value] for i in acc]}\n",
    "process['precision'] = [[i.step,i.value] for i in P]\n",
    "process['recall'] = [[i.step,i.value] for i in R]\n",
    "process['F1'] = [[i.step,i.value] for i in F1]\n",
    "process['第一阶段模型训练损失'] = [[i.step,i.value] for i in Loss]"
   ]
  },
  {
   "cell_type": "code",
   "execution_count": 42,
   "metadata": {},
   "outputs": [
    {
     "name": "stdout",
     "output_type": "stream",
     "text": [
      "265\n"
     ]
    }
   ],
   "source": [
    "print(len(process['accuracy']))"
   ]
  },
  {
   "cell_type": "code",
   "execution_count": 34,
   "metadata": {},
   "outputs": [],
   "source": [
    "writer = SummaryWriter(log_dir='log/' + 'process')"
   ]
  },
  {
   "cell_type": "code",
   "execution_count": 35,
   "metadata": {},
   "outputs": [],
   "source": [
    "for item in process['accuracy']:\n",
    "    writer.add_scalar('正确率',item[1],item[0])\n",
    "    \n",
    "for item in process['precision']:\n",
    "    writer.add_scalar('准确率',item[1],item[0])\n",
    "    \n",
    "for item in process['recall']:\n",
    "    writer.add_scalar('召回率',item[1],item[0])\n",
    "    \n",
    "for item in process['F1']:\n",
    "    writer.add_scalar('F1值',item[1],item[0])"
   ]
  },
  {
   "cell_type": "code",
   "execution_count": 1,
   "metadata": {},
   "outputs": [],
   "source": [
    "import pickle"
   ]
  },
  {
   "cell_type": "code",
   "execution_count": null,
   "metadata": {},
   "outputs": [],
   "source": [
    "f = open('unsupervised_process', 'wb')\n",
    "pickle.dump(process, f)"
   ]
  },
  {
   "cell_type": "code",
   "execution_count": 2,
   "metadata": {},
   "outputs": [],
   "source": [
    "with open('unsupervised_process', 'rb') as unsupervised_process:\n",
    "    process = pickle.load(unsupervised_process)"
   ]
  },
  {
   "cell_type": "code",
   "execution_count": 3,
   "metadata": {},
   "outputs": [
    {
     "name": "stdout",
     "output_type": "stream",
     "text": [
      "{'accuracy': [[0, 22.781421661376953], [10, 29.513660430908203], [20, 30.147541046142578], [30, 30.147541046142578], [40, 56.612022399902344], [49, 56.612022399902344], [50, 56.612022399902344], [60, 56.612022399902344], [70, 56.612022399902344], [80, 68.49180603027344], [90, 94.95628356933594], [98, 94.95628356933594], [147, 94.95628356933594], [196, 94.95628356933594], [245, 94.95628356933594], [294, 95.00546264648438], [343, 94.98360443115234], [392, 94.96721649169922], [441, 94.9726791381836], [490, 94.98360443115234], [539, 95.0], [588, 95.0], [637, 95.0], [686, 95.01092529296875], [735, 95.02185821533203], [784, 95.02185821533203], [833, 95.02185821533203], [882, 94.98907470703125], [931, 95.03825378417969], [980, 95.04917907714844], [1029, 95.06011199951172], [1078, 95.04917907714844], [1127, 95.05464172363281], [1176, 95.06011199951172], [1225, 95.06011199951172], [1274, 95.06011199951172], [1323, 95.02185821533203], [1372, 95.0], [1421, 95.0], [1470, 94.90164184570312], [1519, 95.00546264648438], [1568, 95.0], [1617, 94.98907470703125], [1666, 95.00546264648438], [1715, 94.97814178466797], [1764, 94.97814178466797], [1813, 94.97814178466797], [1862, 94.95628356933594], [1911, 94.9071044921875], [1960, 94.9726791381836], [2009, 94.95082092285156], [2058, 94.94535827636719], [2107, 94.91256713867188], [2156, 94.91802978515625], [2205, 94.91802978515625], [2254, 94.92350006103516], [2303, 94.91802978515625], [2352, 94.92350006103516], [2401, 94.92350006103516], [2450, 94.91802978515625], [2499, 94.91802978515625], [2548, 94.91256713867188], [2597, 94.91256713867188], [2646, 94.91256713867188], [2695, 94.8797836303711], [2744, 94.89070892333984], [2793, 94.9071044921875], [2842, 94.9071044921875], [2891, 94.9071044921875], [2940, 94.9071044921875], [2989, 94.89070892333984], [3038, 94.89070892333984], [3087, 94.89070892333984], [3136, 94.89070892333984], [3185, 94.85246276855469], [3234, 94.80874633789062], [3283, 94.81967163085938], [3332, 94.80874633789062], [3381, 94.81967163085938], [3430, 94.81967163085938], [3479, 94.78141784667969], [3528, 94.78141784667969], [3577, 94.78141784667969], [3626, 94.79235076904297], [3675, 94.68305969238281], [3724, 94.71038055419922], [3773, 94.73223876953125], [3822, 94.72677612304688], [3871, 94.7213134765625], [3920, 94.44261932373047], [3969, 94.6939926147461], [4018, 94.63388061523438], [4067, 94.66120147705078], [4116, 94.60108947753906], [4165, 94.67213439941406], [4214, 94.66120147705078], [4263, 94.60655975341797], [4312, 94.65027618408203], [4361, 94.67759704589844], [4410, 94.73770141601562], [4459, 94.59562683105469], [4508, 94.60108947753906], [4557, 94.55191040039062], [4606, 94.67213439941406], [4655, 94.59562683105469], [4704, 94.55191040039062], [4753, 94.55191040039062], [4802, 94.50273132324219], [4851, 94.16393280029297], [4900, 94.62841796875], [4949, 94.5300521850586], [4998, 94.54644775390625], [5047, 94.59562683105469], [5096, 94.48087310791016], [5145, 94.49180603027344], [5194, 94.61202239990234], [5243, 94.40437316894531], [5292, 94.58470153808594], [5341, 94.43169403076172], [5390, 94.63934326171875], [5439, 94.33333587646484], [5488, 94.39891052246094], [5537, 94.38797760009766], [5586, 94.54644775390625], [5635, 94.47541046142578], [5684, 94.55738067626953], [5733, 94.51366424560547], [5782, 94.55738067626953], [5831, 94.55191040039062], [5880, 94.30054473876953], [5929, 94.48633575439453], [5978, 94.50273132324219], [6027, 94.31147766113281], [6076, 94.29508209228516], [6125, 94.42076873779297], [6174, 93.69945526123047], [6223, 94.22950744628906], [6272, 94.43169403076172], [6321, 94.27322387695312], [6370, 94.45355224609375], [6419, 94.44261932373047], [6468, 94.4644775390625], [6517, 94.43169403076172], [6566, 94.2841567993164], [6615, 94.38251495361328], [6664, 94.42623138427734], [6713, 94.44808959960938], [6762, 93.92896270751953], [6811, 94.24590301513672], [6860, 94.36065673828125], [6909, 94.35519409179688], [6958, 93.7486343383789], [7007, 94.1202163696289], [7056, 94.30054473876953], [7105, 94.38251495361328], [7154, 94.3442611694336], [7203, 94.00546264648438], [7252, 94.24044036865234], [7301, 94.13114929199219], [7350, 94.12568664550781], [7399, 94.185791015625], [7448, 94.28961944580078], [7497, 94.30054473876953], [7546, 94.30054473876953], [7595, 93.2841567993164], [7644, 93.63388061523438], [7693, 93.76502990722656], [7742, 93.63388061523438], [7791, 93.73770141601562], [7840, 93.80874633789062], [7889, 93.81967163085938], [7938, 93.84699249267578], [7987, 93.82513427734375], [8036, 93.82513427734375], [8085, 93.93988800048828], [8134, 93.91256713867188], [8183, 93.95628356933594], [8232, 93.89617156982422], [8281, 93.89070892333984], [8330, 93.8797836303711], [8379, 93.82513427734375], [8428, 93.88524627685547], [8477, 94.08743286132812], [8526, 94.07649993896484], [8575, 93.27322387695312], [8624, 93.78141784667969], [8673, 93.89617156982422], [8722, 93.86885070800781], [8771, 93.94535827636719], [8820, 94.05464172363281], [8869, 93.3060073852539], [8918, 93.83606719970703], [8967, 93.79235076904297], [9016, 93.85792541503906], [9065, 93.86885070800781], [9114, 93.9344253540039], [9163, 93.95082092285156], [9212, 93.96174621582031], [9261, 93.9726791381836], [9310, 93.97814178466797], [9359, 93.95082092285156], [9408, 94.1202163696289], [9457, 93.9344253540039], [9506, 93.62841796875], [9555, 93.75409698486328], [9604, 93.79235076904297], [9653, 93.79235076904297], [9702, 93.8415298461914], [9751, 93.81967163085938], [9800, 93.8415298461914], [9849, 93.77595520019531], [9898, 93.79235076904297], [9947, 93.75955963134766], [9996, 93.7868881225586], [10045, 93.75409698486328], [10094, 93.76502990722656], [10143, 93.91802978515625], [10192, 93.75409698486328], [10241, 93.75955963134766], [10290, 93.92896270751953], [10339, 93.83606719970703], [10388, 93.8797836303711], [10437, 93.82513427734375], [10486, 93.84699249267578], [10535, 93.25682830810547], [10584, 93.42623138427734], [10633, 93.32240295410156], [10682, 93.49726867675781], [10731, 93.76502990722656], [10780, 93.7868881225586], [10829, 93.86885070800781], [10878, 93.9071044921875], [10927, 94.33879852294922], [10976, 94.48087310791016], [11025, 93.16393280029297], [11074, 93.2786865234375], [11123, 94.07103729248047], [11172, 93.78141784667969], [11221, 94.20764923095703], [11270, 93.91256713867188], [11319, 94.4699478149414], [11368, 94.23497009277344], [11417, 94.22404479980469], [11466, 94.20218658447266], [11515, 94.17486572265625], [11564, 92.86338806152344], [11613, 93.4371566772461], [11662, 93.66120147705078], [11711, 93.77595520019531], [11760, 93.73770141601562], [11809, 93.84699249267578], [11858, 93.55191040039062], [11907, 93.70491790771484], [11956, 93.85792541503906], [12005, 94.68852233886719], [12054, 94.814208984375], [12103, 94.38797760009766], [12152, 94.55191040039062], [12201, 94.76502990722656], [12250, 94.79781341552734], [12299, 94.80327606201172], [12348, 94.79235076904297], [12397, 94.74317169189453], [12446, 94.6939926147461], [12495, 94.60655975341797]], 'precision': [[0, 22.586830139160156], [10, 24.05699348449707], [20, 24.216981887817383], [30, 24.216981887817383], [40, 33.98506164550781], [49, 33.98237609863281], [50, 33.98237609863281], [60, 33.98237609863281], [70, 33.98237609863281], [80, 41.55964279174805], [90, 82.92181396484375], [98, 82.92181396484375], [147, 82.92181396484375], [196, 82.92181396484375], [245, 82.92181396484375], [294, 83.10295104980469], [343, 83.034423828125], [392, 82.98310852050781], [441, 83.00020599365234], [490, 83.034423828125], [539, 83.0994644165039], [588, 83.0994644165039], [637, 83.0994644165039], [686, 83.13377380371094], [735, 83.1681137084961], [784, 83.1681137084961], [833, 83.1681137084961], [882, 83.06517791748047], [931, 83.21967315673828], [980, 83.25408172607422], [1029, 83.2747573852539], [1078, 83.24034118652344], [1127, 83.2575454711914], [1176, 83.2747573852539], [1225, 83.2747573852539], [1274, 83.2747573852539], [1323, 83.1681137084961], [1372, 83.0994644165039], [1421, 83.0994644165039], [1470, 82.79193878173828], [1519, 83.11661529541016], [1568, 83.0994644165039], [1617, 83.06517791748047], [1666, 83.11661529541016], [1715, 83.03092956542969], [1764, 83.03092956542969], [1813, 83.03092956542969], [1862, 82.9625015258789], [1911, 82.80896759033203], [1960, 83.01380920410156], [2009, 82.94541931152344], [2058, 82.92833709716797], [2107, 82.82599639892578], [2156, 82.84303283691406], [2205, 82.84303283691406], [2254, 82.8600845336914], [2303, 82.84303283691406], [2352, 82.8600845336914], [2401, 82.8600845336914], [2450, 82.84303283691406], [2499, 82.84303283691406], [2548, 82.82599639892578], [2597, 82.82599639892578], [2646, 82.82599639892578], [2695, 82.72390747070312], [2744, 82.7579116821289], [2793, 82.80896759033203], [2842, 82.80896759033203], [2891, 82.80896759033203], [2940, 82.80896759033203], [2989, 82.7579116821289], [3038, 82.7579116821289], [3087, 82.7579116821289], [3136, 82.7579116821289], [3185, 82.63903045654297], [3234, 82.55694580078125], [3283, 82.5908432006836], [3332, 82.55694580078125], [3381, 82.5908432006836], [3430, 82.56410217285156], [3479, 82.49897766113281], [3528, 82.49897766113281], [3577, 82.49897766113281], [3626, 82.47950744628906], [3675, 82.18226623535156], [3724, 82.26631164550781], [3773, 82.36016845703125], [3822, 82.34329986572266], [3871, 82.33968353271484], [3920, 81.43724822998047], [3969, 82.56198120117188], [4018, 82.33477783203125], [4067, 82.08894348144531], [4116, 82.25972747802734], [4165, 82.12245178222656], [4214, 82.14139556884766], [4263, 82.18390655517578], [4312, 82.04239654541016], [4361, 82.15233612060547], [4410, 82.271240234375], [4459, 82.18981170654297], [4508, 81.93114471435547], [4557, 81.97626495361328], [4606, 82.09624481201172], [4655, 81.9014663696289], [4704, 81.74248504638672], [4753, 81.78121185302734], [4802, 81.65752410888672], [4851, 80.60508728027344], [4900, 82.53211975097656], [4949, 81.74054718017578], [4998, 81.82929229736328], [5047, 81.9014663696289], [5096, 81.59123229980469], [5145, 81.57308197021484], [5194, 81.93850708007812], [5243, 81.37274932861328], [5292, 81.88111114501953], [5341, 81.6864013671875], [5390, 82.03507232666016], [5439, 81.20954895019531], [5488, 81.26766204833984], [5537, 81.28536987304688], [5586, 81.68728637695312], [5635, 81.54906463623047], [5684, 81.72042846679688], [5733, 81.6264419555664], [5782, 81.7461929321289], [5831, 81.72959899902344], [5880, 81.01087188720703], [5929, 81.5309829711914], [5978, 81.5805435180664], [6027, 81.03101348876953], [6076, 80.9447250366211], [6125, 81.33333587646484], [6174, 79.35942840576172], [6223, 81.08656311035156], [6272, 81.3662109375], [6321, 80.99173736572266], [6370, 81.40663146972656], [6419, 81.37374114990234], [6468, 81.43954467773438], [6517, 81.34087371826172], [6566, 81.04944610595703], [6615, 81.21847534179688], [6664, 81.32444763183594], [6713, 81.41557312011719], [6762, 80.42424011230469], [6811, 80.8604736328125], [6860, 81.16555786132812], [6909, 81.13663482666016], [6958, 80.34223175048828], [7007, 80.4760971069336], [7056, 80.98591613769531], [7105, 81.2310791015625], [7154, 81.10395050048828], [7203, 80.13944244384766], [7252, 80.81944274902344], [7301, 80.47171783447266], [7350, 80.51661682128906], [7399, 80.6574478149414], [7448, 80.97826385498047], [7497, 80.97344970703125], [7546, 80.97344970703125], [7595, 78.15174865722656], [7644, 79.12564086914062], [7693, 79.48971557617188], [7742, 79.13711547851562], [7791, 79.44609069824219], [7840, 79.65093231201172], [7889, 79.6003189086914], [7938, 79.77349853515625], [7987, 79.7219467163086], [8036, 80.34881591796875], [8085, 79.93643188476562], [8134, 79.96414947509766], [8183, 80.11579132080078], [8232, 79.9521713256836], [8281, 79.96012115478516], [8330, 79.96408081054688], [8379, 79.79295349121094], [8428, 79.98004150390625], [8477, 80.67379760742188], [8526, 80.6412582397461], [8575, 78.2421875], [8624, 79.58374786376953], [8673, 79.8807144165039], [8722, 79.8013916015625], [8771, 80.0958251953125], [8820, 80.57626342773438], [8869, 78.23460388183594], [8918, 80.38141632080078], [8967, 79.65058898925781], [9016, 79.94807434082031], [9065, 80.02801513671875], [9114, 80.18433380126953], [9163, 80.20833587646484], [9212, 80.26473999023438], [9261, 80.23628234863281], [9310, 80.276611328125], [9359, 80.17206573486328], [9408, 80.82136535644531], [9457, 80.13602447509766], [9506, 79.64707946777344], [9555, 79.56349182128906], [9604, 79.81632995605469], [9653, 79.85208892822266], [9702, 79.97199249267578], [9751, 79.89608001708984], [9800, 79.95999908447266], [9849, 79.7923355102539], [9898, 79.76878356933594], [9947, 79.73269653320312], [9996, 79.71735382080078], [10045, 79.72865295410156], [10094, 79.7130355834961], [10143, 80.24517822265625], [10192, 79.64584350585938], [10241, 79.68531799316406], [10290, 80.26527404785156], [10339, 80.08840942382812], [10388, 80.06005859375], [10437, 80.10460662841797], [10486, 80.12060546875], [10535, 77.96708679199219], [10584, 78.49336242675781], [10633, 78.19242095947266], [10682, 78.68179321289062], [10731, 79.7723617553711], [10780, 80.16161346435547], [10829, 80.00399780273438], [10878, 80.42071533203125], [10927, 82.05607604980469], [10976, 82.52873229980469], [11025, 77.67926025390625], [11074, 78.10375213623047], [11123, 81.48838806152344], [11172, 80.60282897949219], [11221, 81.89960479736328], [11270, 81.88175201416016], [11319, 82.60322570800781], [11368, 81.83893585205078], [11417, 81.80497741699219], [11466, 81.8825454711914], [11515, 81.5610122680664], [11564, 77.54742431640625], [11613, 78.50175476074219], [11662, 79.22666931152344], [11711, 80.14141082763672], [11760, 79.78787231445312], [11809, 80.89054107666016], [11858, 78.80211639404297], [11907, 79.38674926757812], [11956, 80.8984146118164], [12005, 83.6429672241211], [12054, 83.75159454345703], [12103, 83.07691955566406], [12152, 83.83116912841797], [12201, 83.74919891357422], [12250, 83.82760620117188], [12299, 83.84549713134766], [12348, 83.7953109741211], [12397, 83.72093200683594], [12446, 83.53191375732422], [12495, 83.37590789794922]], 'recall': [[0, 100.0], [10, 98.69027709960938], [20, 98.64176940917969], [30, 98.64176940917969], [40, 98.22944641113281], [49, 98.20519256591797], [50, 98.20519256591797], [60, 98.20519256591797], [70, 98.20519256591797], [80, 98.1081771850586], [90, 97.7443618774414], [98, 97.7443618774414], [147, 97.7443618774414], [196, 97.7443618774414], [245, 97.7443618774414], [294, 97.69585418701172], [343, 97.69585418701172], [392, 97.69585418701172], [441, 97.69585418701172], [490, 97.69585418701172], [539, 97.67160034179688], [588, 97.67160034179688], [637, 97.67160034179688], [686, 97.67160034179688], [735, 97.67160034179688], [784, 97.67160034179688], [833, 97.67160034179688], [882, 97.67160034179688], [931, 97.67160034179688], [980, 97.67160034179688], [1029, 97.69585418701172], [1078, 97.69585418701172], [1127, 97.69585418701172], [1176, 97.69585418701172], [1225, 97.69585418701172], [1274, 97.69585418701172], [1323, 97.67160034179688], [1372, 97.67160034179688], [1421, 97.67160034179688], [1470, 97.67160034179688], [1519, 97.67160034179688], [1568, 97.67160034179688], [1617, 97.67160034179688], [1666, 97.67160034179688], [1715, 97.67160034179688], [1764, 97.67160034179688], [1813, 97.67160034179688], [1862, 97.67160034179688], [1911, 97.67160034179688], [1960, 97.67160034179688], [2009, 97.67160034179688], [2058, 97.67160034179688], [2107, 97.67160034179688], [2156, 97.67160034179688], [2205, 97.67160034179688], [2254, 97.67160034179688], [2303, 97.67160034179688], [2352, 97.67160034179688], [2401, 97.67160034179688], [2450, 97.67160034179688], [2499, 97.67160034179688], [2548, 97.67160034179688], [2597, 97.67160034179688], [2646, 97.67160034179688], [2695, 97.67160034179688], [2744, 97.67160034179688], [2793, 97.67160034179688], [2842, 97.67160034179688], [2891, 97.67160034179688], [2940, 97.67160034179688], [2989, 97.67160034179688], [3038, 97.67160034179688], [3087, 97.67160034179688], [3136, 97.67160034179688], [3185, 97.67160034179688], [3234, 97.5745849609375], [3283, 97.5745849609375], [3332, 97.5745849609375], [3381, 97.5745849609375], [3430, 97.62309265136719], [3479, 97.52606964111328], [3528, 97.52606964111328], [3577, 97.52606964111328], [3626, 97.62309265136719], [3675, 97.55033111572266], [3724, 97.55033111572266], [3773, 97.50181579589844], [3822, 97.50181579589844], [3871, 97.4775619506836], [3920, 97.5745849609375], [3969, 96.91971588134766], [4018, 96.99247741699219], [4067, 97.59883880615234], [4116, 96.9439697265625], [4165, 97.59883880615234], [4214, 97.50181579589844], [4263, 97.11375427246094], [4312, 97.62309265136719], [4361, 97.5745849609375], [4410, 97.69585418701172], [4459, 97.0409927368164], [4508, 97.55033111572266], [4557, 97.18651580810547], [4606, 97.64734649658203], [4655, 97.5745849609375], [4704, 97.62309265136719], [4753, 97.55033111572266], [4802, 97.50181579589844], [4851, 97.5745849609375], [4900, 96.60441589355469], [4949, 97.50181579589844], [4998, 97.4290542602539], [5047, 97.5745849609375], [5096, 97.50181579589844], [5145, 97.59883880615234], [5194, 97.59883880615234], [5243, 97.4775619506836], [5292, 97.55033111572266], [5341, 97.0409927368164], [5390, 97.5745849609375], [5439, 97.38054656982422], [5488, 97.64734649658203], [5537, 97.55033111572266], [5586, 97.69585418701172], [5635, 97.55033111572266], [5684, 97.69585418701172], [5733, 97.62309265136719], [5782, 97.64734649658203], [5831, 97.64734649658203], [5880, 97.5745849609375], [5929, 97.64734649658203], [5978, 97.64734649658203], [6027, 97.59883880615234], [6076, 97.67160034179688], [6125, 97.64734649658203], [6174, 97.35629272460938], [6223, 97.01673889160156], [6272, 97.64734649658203], [6321, 97.45330810546875], [6370, 97.69585418701172], [6419, 97.69585418701172], [6468, 97.69585418701172], [6517, 97.69585418701172], [6566, 97.40480041503906], [6615, 97.64734649658203], [6664, 97.69585418701172], [6713, 97.64734649658203], [6762, 96.555908203125], [6811, 97.55033111572266], [6860, 97.62309265136719], [6909, 97.64734649658203], [6958, 95.65850067138672], [7007, 97.5745849609375], [7056, 97.62309265136719], [7105, 97.62309265136719], [7154, 97.64734649658203], [7203, 97.5745849609375], [7252, 97.59883880615234], [7301, 97.64734649658203], [7350, 97.52606964111328], [7399, 97.59883880615234], [7448, 97.5745849609375], [7497, 97.64734649658203], [7546, 97.64734649658203], [7595, 97.4290542602539], [7644, 97.45330810546875], [7693, 97.4775619506836], [7742, 97.4290542602539], [7791, 97.40480041503906], [7840, 97.40480041503906], [7889, 97.5745849609375], [7938, 97.38054656982422], [7987, 97.35629272460938], [8036, 96.09507751464844], [8085, 97.59883880615234], [8134, 97.38054656982422], [8183, 97.33203887939453], [8232, 97.30778503417969], [8281, 97.25927734375], [8330, 97.18651580810547], [8379, 97.21076965332031], [8428, 97.18651580810547], [8477, 96.99247741699219], [8526, 96.99247741699219], [8575, 97.16226196289062], [8624, 97.38054656982422], [8673, 97.45330810546875], [8722, 97.45330810546875], [8771, 97.30778503417969], [8820, 96.99247741699219], [8869, 97.38054656982422], [8918, 96.09507751464844], [8967, 97.30778503417969], [9016, 97.0895004272461], [9065, 96.99247741699219], [9114, 97.06524658203125], [9163, 97.11375427246094], [9212, 97.06524658203125], [9261, 97.18651580810547], [9310, 97.13800811767578], [9359, 97.18651580810547], [9408, 96.89546203613281], [9457, 97.16226196289062], [9506, 96.33761596679688], [9555, 97.25927734375], [9604, 96.96822357177734], [9653, 96.89546203613281], [9702, 96.9439697265625], [9751, 96.96822357177734], [9800, 96.96822357177734], [9849, 96.91971588134766], [9898, 97.06524658203125], [9947, 96.9439697265625], [9996, 97.13800811767578], [10045, 96.91971588134766], [10094, 97.01673889160156], [10143, 96.84695434570312], [10192, 97.0895004272461], [10241, 97.0409927368164], [10290, 96.87120819091797], [10339, 96.67717742919922], [10388, 96.99247741699219], [10437, 96.58016204833984], [10486, 96.67717742919922], [10535, 97.67160034179688], [10584, 97.55033111572266], [10633, 97.5745849609375], [10682, 97.5745849609375], [10731, 96.89546203613281], [10780, 96.2406005859375], [10829, 97.0409927368164], [10878, 96.43463134765625], [10927, 95.82827758789062], [10976, 95.77976989746094], [11025, 97.7443618774414], [11074, 97.50181579589844], [11123, 95.34319305419922], [11172, 95.34319305419922], [11221, 95.3674545288086], [11270, 93.71817016601562], [11319, 95.58573913574219], [11368, 95.63424682617188], [11417, 95.63424682617188], [11466, 95.3674545288086], [11515, 95.80402374267578], [11564, 96.16783905029297], [11613, 97.59883880615234], [11662, 97.40480041503906], [11711, 96.21634674072266], [11760, 96.70143127441406], [11809, 95.17341613769531], [11858, 97.64734649658203], [11907, 97.33203887939453], [11956, 95.221923828125], [12005, 95.0036392211914], [12054, 95.51297760009766], [12103, 94.3002700805664], [12152, 93.93645477294922], [12201, 95.24617767333984], [12250, 95.29468536376953], [12299, 95.29468536376953], [12348, 95.31893920898438], [12397, 95.17341613769531], [12446, 95.221923828125], [12495, 95.0036392211914]], 'F1': [[0, 36.850337982177734], [10, 38.68422317504883], [20, 38.88703155517578], [30, 38.88703155517578], [40, 50.49875259399414], [49, 50.49258041381836], [50, 50.49258041381836], [60, 50.49258041381836], [70, 50.49258041381836], [80, 58.38625717163086], [90, 89.72503662109375], [98, 89.72503662109375], [147, 89.72503662109375], [196, 89.72503662109375], [245, 89.72503662109375], [294, 89.81047821044922], [343, 89.77044677734375], [392, 89.74044799804688], [441, 89.75044250488281], [490, 89.77044677734375], [539, 89.7981948852539], [588, 89.7981948852539], [637, 89.7981948852539], [686, 89.81822204589844], [735, 89.8382568359375], [784, 89.8382568359375], [833, 89.8382568359375], [882, 89.7781753540039], [931, 89.86833190917969], [980, 89.88838958740234], [1029, 89.91071319580078], [1078, 89.8906478881836], [1127, 89.90068054199219], [1176, 89.91071319580078], [1225, 89.91071319580078], [1274, 89.91071319580078], [1323, 89.8382568359375], [1372, 89.7981948852539], [1421, 89.7981948852539], [1470, 89.61833953857422], [1519, 89.8082046508789], [1568, 89.7981948852539], [1617, 89.7781753540039], [1666, 89.8082046508789], [1715, 89.75816345214844], [1764, 89.75816345214844], [1813, 89.75816345214844], [1862, 89.71817016601562], [1911, 89.62831115722656], [1960, 89.74816131591797], [2009, 89.70817565917969], [2058, 89.69818115234375], [2107, 89.6382827758789], [2156, 89.64826202392578], [2205, 89.64826202392578], [2254, 89.65824127197266], [2303, 89.64826202392578], [2352, 89.65824127197266], [2401, 89.65824127197266], [2450, 89.64826202392578], [2499, 89.64826202392578], [2548, 89.6382827758789], [2597, 89.6382827758789], [2646, 89.6382827758789], [2695, 89.5784683227539], [2744, 89.59839630126953], [2793, 89.62831115722656], [2842, 89.62831115722656], [2891, 89.62831115722656], [2940, 89.62831115722656], [2989, 89.59839630126953], [3038, 89.59839630126953], [3087, 89.59839630126953], [3136, 89.59839630126953], [3185, 89.52867889404297], [3234, 89.43975067138672], [3283, 89.45964050292969], [3332, 89.43975067138672], [3381, 89.45964050292969], [3430, 89.46432495117188], [3479, 89.3853530883789], [3528, 89.3853530883789], [3577, 89.3853530883789], [3626, 89.41464233398438], [3675, 89.20927429199219], [3724, 89.2587661743164], [3773, 89.29364776611328], [3822, 89.28372955322266], [3871, 89.27143859863281], [3920, 88.77854919433594], [3969, 89.16657257080078], [4018, 89.06459045410156], [4067, 89.17451477050781], [4116, 89.0002212524414], [4165, 89.19428253173828], [4214, 89.16490936279297], [4263, 89.02723693847656], [4312, 89.15715789794922], [4361, 89.20177459716797], [4410, 89.32254028320312], [4459, 89.00011444091797], [4508, 89.06111907958984], [4557, 88.93574523925781], [4606, 89.19906616210938], [4655, 89.05368041992188], [4704, 88.97977447509766], [4753, 88.97245788574219], [4802, 88.87905883789062], [4851, 88.2817611694336], [4900, 89.01553344726562], [4949, 88.92821502685547], [4998, 88.95040130615234], [5047, 89.05368041992188], [5096, 88.83978271484375], [5145, 88.86925506591797], [5194, 89.08567810058594], [5243, 88.70006561279297], [5292, 89.03154754638672], [5341, 88.70413208007812], [5390, 89.13259887695312], [5439, 88.56291961669922], [5488, 88.70772552490234], [5537, 88.67820739746094], [5586, 88.97724914550781], [5635, 88.83489990234375], [5684, 88.99691009521484], [5733, 88.91098022460938], [5782, 88.9920425415039], [5831, 88.98220825195312], [5880, 88.52458953857422], [5929, 88.86436462402344], [5978, 88.893798828125], [6027, 88.54659271240234], [6076, 88.52494812011719], [6125, 88.74683380126953], [6174, 87.44145202636719], [6223, 88.33922576904297], [6272, 88.76639556884766], [6321, 88.4632339477539], [6370, 88.81049346923828], [6419, 88.7909164428711], [6468, 88.830078125], [6517, 88.77134704589844], [6566, 88.4776382446289], [6615, 88.67841339111328], [6664, 88.76156616210938], [6713, 88.79576873779297], [6762, 87.75487518310547], [6811, 88.42475891113281], [6860, 88.6368637084961], [6909, 88.62960815429688], [6958, 87.33392333984375], [7007, 88.20433807373047], [7056, 88.5296401977539], [7105, 88.67591857910156], [7154, 88.61009979248047], [7203, 88.00174713134766], [7252, 88.42012786865234], [7301, 88.23143005371094], [7350, 88.2088394165039], [7399, 88.32308959960938], [7448, 88.50511169433594], [7497, 88.53215789794922], [7546, 88.53215789794922], [7595, 86.73216247558594], [7644, 87.33833312988281], [7693, 87.56945037841797], [7742, 87.33557891845703], [7791, 87.51361846923828], [7840, 87.63774871826172], [7889, 87.67571258544922], [7938, 87.70205688476562], [7987, 87.66106414794922], [8036, 87.51932525634766], [8085, 87.88904571533203], [8134, 87.81714630126953], [8183, 87.88874053955078], [8232, 87.78032684326172], [8281, 87.76537322998047], [8330, 87.73812103271484], [8379, 87.6448745727539], [8428, 87.74772644042969], [8477, 88.08370208740234], [8526, 88.06430053710938], [8575, 86.68181610107422], [8624, 87.5872573852539], [8673, 87.79634857177734], [8722, 87.7484130859375], [8771, 87.8668441772461], [8820, 88.0255355834961], [8869, 86.76390838623047], [8918, 87.53866577148438], [8967, 87.59825134277344], [9016, 87.68893432617188], [9065, 87.6973648071289], [9114, 87.82093811035156], [9163, 87.85518646240234], [9212, 87.869140625], [9261, 87.90172576904297], [9310, 87.90605926513672], [9359, 87.86317443847656], [9408, 88.13147735595703], [9457, 87.83161926269531], [9506, 87.20088195800781], [9555, 87.52591705322266], [9604, 87.56022644042969], [9653, 87.55204772949219], [9702, 87.6438980102539], [9751, 87.60819244384766], [9800, 87.6466064453125], [9849, 87.52600860595703], [9898, 87.57111358642578], [9947, 87.5], [9996, 87.56969451904297], [10045, 87.48768615722656], [10094, 87.51777648925781], [10143, 87.76788330078125], [10192, 87.50682830810547], [10241, 87.51093292236328], [10290, 87.78986358642578], [10339, 87.6043930053711], [10388, 87.71660614013672], [10437, 87.57422637939453], [10486, 87.6236572265625], [10535, 86.71404266357422], [10584, 86.99037170410156], [10633, 86.81484985351562], [10682, 87.11563110351562], [10731, 87.50410461425781], [10780, 87.46831512451172], [10829, 87.7027587890625], [10878, 87.7026596069336], [10927, 88.40904235839844], [10976, 88.66188049316406], [11025, 86.56427764892578], [11074, 86.73139190673828], [11123, 87.87303161621094], [11172, 87.35555267333984], [11221, 88.12191772460938], [11270, 87.40103912353516], [11319, 88.62154388427734], [11368, 88.20042419433594], [11417, 88.18070220947266], [11466, 88.11204528808594], [11515, 88.11064147949219], [11564, 85.85968017578125], [11613, 87.01480865478516], [11662, 87.38033294677734], [11711, 87.4462661743164], [11760, 87.43421173095703], [11809, 87.45264434814453], [11858, 87.21836853027344], [11907, 87.4482421875], [11956, 87.47772216796875], [12005, 88.96207427978516], [12054, 89.2464599609375], [12103, 88.3335189819336], [12152, 88.59658813476562], [12201, 89.12846374511719], [12250, 89.19409942626953], [12299, 89.2042236328125], [12348, 89.18643188476562], [12397, 89.0805892944336], [12446, 88.99467468261719], [12495, 88.810791015625]], '第一阶段模型训练损失': [[1, 3.055116891860962], [2, 2.346545934677124], [3, 2.196556329727173], [4, 2.089658737182617], [5, 1.9273244142532349], [6, 1.8177754878997803], [7, 1.7419160604476929], [8, 1.668666124343872], [9, 1.5934159755706787], [10, 1.5289878845214844], [11, 1.4803718328475952], [12, 1.441667079925537], [13, 1.4070340394973755], [14, 1.3734657764434814], [15, 1.3384873867034912], [16, 1.2985992431640625], [17, 1.2532187700271606], [18, 1.2142599821090698], [19, 1.1637259721755981], [20, 1.1138942241668701], [21, 1.0891509056091309], [22, 1.040946125984192], [23, 1.0049920082092285], [24, 0.9903977513313293], [25, 0.9721116423606873], [26, 0.9531348943710327], [27, 0.9331504106521606], [28, 0.922051191329956], [29, 0.9071788191795349], [30, 0.8930488228797913], [31, 0.8910096287727356], [32, 0.867646336555481], [33, 0.8688105344772339], [34, 0.8479210734367371], [35, 0.8361076712608337], [36, 0.8281927704811096], [37, 0.8133036494255066], [38, 0.8208155632019043], [39, 0.7986339330673218], [40, 0.7963843941688538], [41, 0.7839787006378174], [42, 0.7667384147644043], [43, 0.7529707551002502], [44, 0.761988639831543], [45, 0.7385850548744202], [46, 0.7646391987800598], [47, 0.7226857542991638], [48, 0.715003490447998], [49, 0.7130584120750427], [50, 0.706568717956543], [51, 0.6997939944267273], [52, 0.7084348797798157], [53, 0.6989957094192505], [54, 0.7044418454170227], [55, 0.7255451083183289], [56, 0.7079131007194519], [57, 0.6714935898780823], [58, 0.6698282361030579], [59, 0.6655032634735107], [60, 0.6640569567680359], [61, 0.6588484048843384], [62, 0.6820886731147766], [63, 0.650213360786438], [64, 0.6536678671836853], [65, 0.6569396257400513], [66, 0.6458160281181335], [67, 0.6427718997001648], [68, 0.6468885540962219], [69, 0.6470913887023926], [70, 0.6357348561286926], [71, 0.6393751502037048], [72, 0.6308974623680115], [73, 0.6349963545799255], [74, 0.6269125938415527], [75, 0.6428096294403076], [76, 0.7146950364112854], [77, 0.6216363310813904], [78, 0.6167169809341431], [79, 0.6127088665962219], [80, 0.7140420079231262], [81, 0.687760055065155], [82, 0.6250401139259338], [83, 0.6173932552337646], [84, 0.6165287494659424], [85, 0.6376440525054932], [86, 0.6233592629432678], [87, 0.607288122177124], [88, 0.6330459117889404], [89, 0.6040958166122437], [90, 0.7174316048622131], [91, 0.6370933651924133], [92, 0.6008553504943848], [93, 0.606907844543457], [94, 0.6765615344047546], [95, 0.6026709079742432], [96, 0.593896746635437], [97, 0.594196617603302], [98, 0.5913059115409851], [99, 0.8945013284683228], [100, 0.7185629606246948], [101, 0.7205720543861389], [102, 0.6805241107940674], [103, 0.6667637228965759], [104, 0.6862451434135437], [105, 0.675764799118042], [106, 0.6645330786705017], [107, 0.668367862701416], [108, 0.6388915181159973], [109, 0.7355585098266602], [110, 0.6243466138839722], [111, 0.6405706405639648], [112, 0.7225008010864258], [113, 0.6855534315109253], [114, 0.6069920659065247], [115, 0.6462061405181885], [116, 0.6064145565032959], [117, 0.6107332706451416], [118, 0.6011004447937012], [119, 0.5941508412361145], [120, 0.6486592888832092], [121, 0.6085150241851807], [122, 0.5806887745857239], [123, 0.6791675090789795], [124, 0.6350067853927612], [125, 0.5828205347061157], [126, 0.8548702001571655], [127, 0.7342860698699951], [128, 0.6685781478881836], [129, 0.7227893471717834], [130, 0.6151719093322754], [131, 0.6078819632530212], [132, 0.5867012739181519], [133, 0.6064892411231995], [134, 0.6304839849472046], [135, 0.6335572004318237], [136, 0.5771391987800598], [137, 0.573906421661377], [138, 0.6991380453109741], [139, 0.6261762976646423], [140, 0.5774632096290588], [141, 0.5727506279945374], [142, 0.6708410978317261], [143, 0.6740400791168213], [144, 0.576725959777832], [145, 0.5705689787864685], [146, 0.5681325197219849], [147, 0.7313491702079773], [148, 0.578435480594635], [149, 0.5800357460975647], [150, 0.727005660533905], [151, 0.5726038813591003], [152, 0.5667102336883545], [153, 0.5642914772033691], [154, 0.5630996227264404], [155, 0.8319751024246216], [156, 0.7553784847259521], [157, 0.6713974475860596], [158, 0.6353971362113953], [159, 0.5994624495506287], [160, 0.6070737838745117], [161, 0.5903555750846863], [162, 0.5718539357185364], [163, 0.5677767992019653], [164, 0.8654016256332397], [165, 0.65497887134552], [166, 0.578194797039032], [167, 0.5675075054168701], [168, 0.5644623041152954], [169, 0.5718111991882324], [170, 0.5610707998275757], [171, 0.5591848492622375], [172, 0.5577064156532288], [173, 0.5564213991165161], [174, 0.5558699369430542], [175, 0.868033766746521], [176, 0.7194604873657227], [177, 0.6508768200874329], [178, 0.5800623893737793], [179, 0.5644599199295044], [180, 0.5591071248054504], [181, 0.8408201932907104], [182, 0.7117716073989868], [183, 0.6156987547874451], [184, 0.5612500905990601], [185, 0.5570238828659058], [186, 0.5549168586730957], [187, 0.5536474585533142], [188, 0.552091658115387], [189, 0.5523764491081238], [190, 0.5501043200492859], [191, 0.5495468378067017], [192, 0.5484756827354431], [193, 0.548642098903656], [194, 0.8476063013076782], [195, 0.6217963099479675], [196, 0.5708479881286621], [197, 0.5522608160972595], [198, 0.5492135286331177], [199, 0.5477306842803955], [200, 0.546893835067749], [201, 0.5452707409858704], [202, 0.5447293519973755], [203, 0.5442648530006409], [204, 0.542983889579773], [205, 0.5427433252334595], [206, 0.541789710521698], [207, 0.5410019159317017], [208, 0.5408061146736145], [209, 0.5399061441421509], [210, 0.5394758582115173], [211, 0.5389880537986755], [212, 0.5381068587303162], [213, 0.5378118753433228], [214, 0.5377422571182251], [215, 0.9362475872039795], [216, 0.7898779511451721], [217, 0.7371665835380554], [218, 0.7124773263931274], [219, 0.6800492405891418], [220, 0.655012845993042], [221, 0.6013374328613281], [222, 0.5597007274627686], [223, 0.560701310634613], [224, 0.5455953478813171], [225, 0.7007853388786316], [226, 0.8358787894248962], [227, 0.6993966698646545], [228, 0.6602914929389954], [229, 0.6326934099197388], [230, 0.5876803398132324], [231, 0.5689340233802795], [232, 0.5482690930366516], [233, 0.5437279343605042], [234, 0.5416291952133179], [235, 0.5400921106338501], [236, 0.9338220953941345], [237, 0.755062460899353], [238, 0.7068114876747131], [239, 0.6579254269599915], [240, 0.6815739274024963], [241, 0.6472861170768738], [242, 0.7551668286323547], [243, 0.7290284633636475], [244, 0.6574423909187317], [245, 0.6185129880905151], [246, 0.5968877673149109], [247, 0.6884836554527283], [248, 0.5665130019187927], [249, 0.5489739179611206], [250, 0.5442858934402466], [251, 0.5414119958877563], [252, 0.5397742390632629], [253, 0.5385492444038391], [254, 0.5371660590171814], [255, 0.5363202095031738], [256, 0.5357759594917297]]}\n"
     ]
    }
   ],
   "source": [
    "print(process)"
   ]
  },
  {
   "cell_type": "code",
   "execution_count": null,
   "metadata": {},
   "outputs": [],
   "source": [
    "for item in process['F1']:\n",
    "    writer.add_scalar('F1值',item[1],item[0])"
   ]
  },
  {
   "cell_type": "code",
   "execution_count": 20,
   "metadata": {},
   "outputs": [],
   "source": [
    "batch_size = 20000\n",
    "dataloader = DataLoader(dataset, batch_size=batch_size, shuffle=False, pin_memory=True)"
   ]
  },
  {
   "cell_type": "code",
   "execution_count": 21,
   "metadata": {},
   "outputs": [
    {
     "name": "stderr",
     "output_type": "stream",
     "text": [
      "loading data: 5it [00:24,  4.97s/it]\n"
     ]
    }
   ],
   "source": [
    "normal_result = unsupervised_predictor.predict(model, dataloader,sessions,10, window_size,ts=0.0005)"
   ]
  },
  {
   "cell_type": "code",
   "execution_count": 22,
   "metadata": {},
   "outputs": [],
   "source": [
    "def show_result(result):\n",
    "    TN = result[:3000].count(False)\n",
    "    FN = result[3000:].count(False)\n",
    "    print('TN:{} FN:{}'.format(TN,FN))\n",
    "    print('Negative Precision:',TN/(TN+FN))\n",
    "    TP = result[3000:].count(True)\n",
    "    FP = result[:3000].count(True)\n",
    "    print('TP:{} FP:{}'.format(TP,FP))\n",
    "    print('Positive Precision:',TP/(TP+FP))"
   ]
  },
  {
   "cell_type": "code",
   "execution_count": 23,
   "metadata": {},
   "outputs": [
    {
     "name": "stdout",
     "output_type": "stream",
     "text": [
      "TN:2853 FN:31\n",
      "Negative Precision: 0.989251040221914\n",
      "TP:1968 FP:147\n",
      "Positive Precision: 0.9304964539007092\n"
     ]
    }
   ],
   "source": [
    "show_result(normal_result)"
   ]
  },
  {
   "cell_type": "code",
   "execution_count": 24,
   "metadata": {},
   "outputs": [
    {
     "name": "stderr",
     "output_type": "stream",
     "text": [
      "loading data: 5it [00:24,  4.82s/it]\n"
     ]
    }
   ],
   "source": [
    "abnormal_result = unsupervised_predictor.predict(model, dataloader,sessions,10, window_size,ts=0)"
   ]
  },
  {
   "cell_type": "code",
   "execution_count": 68,
   "metadata": {},
   "outputs": [
    {
     "name": "stdout",
     "output_type": "stream",
     "text": [
      "TN:2938 FN:156\n",
      "Negative Precision: 0.9495798319327731\n",
      "TP:1843 FP:62\n",
      "Positive Precision: 0.9674540682414698\n"
     ]
    }
   ],
   "source": [
    "show_result(abnormal_result)"
   ]
  },
  {
   "cell_type": "code",
   "execution_count": 39,
   "metadata": {},
   "outputs": [],
   "source": [
    "f = open(lstm_dataset+predicted_normal_output,'w')\n",
    "f.write('EventSequence\\n')\n",
    "for i,label in enumerate(normal_result):\n",
    "    if label==False:\n",
    "        f.write('\"'+str(block_to_seqs[i][1])+'\"\\n')\n",
    "f.close()"
   ]
  },
  {
   "cell_type": "code",
   "execution_count": 40,
   "metadata": {},
   "outputs": [],
   "source": [
    "f = open(lstm_dataset+predicted_abnormal_output,'w')\n",
    "f.write('EventSequence\\n')\n",
    "for i,label in enumerate(abnormal_result):\n",
    "    if label:\n",
    "        f.write('\"'+str(block_to_seqs[i][1])+'\"\\n')\n",
    "f.close()"
   ]
  },
  {
   "cell_type": "code",
   "execution_count": 41,
   "metadata": {},
   "outputs": [],
   "source": [
    "input_size = 768"
   ]
  },
  {
   "cell_type": "code",
   "execution_count": 42,
   "metadata": {},
   "outputs": [],
   "source": [
    "from utils.bert_utils import *"
   ]
  },
  {
   "cell_type": "code",
   "execution_count": 33,
   "metadata": {},
   "outputs": [],
   "source": [
    "build_bert_cache('.\\\\data\\\\lstm\\\\dataset_official\\\\HDFS_templates.txt',\"./data/lstm/bert_official_cache.pth\")"
   ]
  },
  {
   "cell_type": "code",
   "execution_count": 36,
   "metadata": {},
   "outputs": [
    {
     "data": {
      "text/plain": [
       "'unsupervised_normal_output.csv'"
      ]
     },
     "execution_count": 36,
     "metadata": {},
     "output_type": "execute_result"
    }
   ],
   "source": [
    "predicted_normal_output"
   ]
  },
  {
   "cell_type": "code",
   "execution_count": 69,
   "metadata": {},
   "outputs": [
    {
     "data": {
      "text/plain": [
       "'unsupervised_abnormal_output.csv'"
      ]
     },
     "execution_count": 69,
     "metadata": {},
     "output_type": "execute_result"
    }
   ],
   "source": [
    "predicted_abnormal_output"
   ]
  },
  {
   "cell_type": "code",
   "execution_count": 43,
   "metadata": {},
   "outputs": [
    {
     "name": "stderr",
     "output_type": "stream",
     "text": [
      "loading data: 100%|████████████████████████████████████████████████████████████| 2884/2884 [00:00<00:00, 221915.15it/s]\n",
      "loading data: 100%|████████████████████████████████████████████████████████████| 1905/1905 [00:00<00:00, 158789.90it/s]\n",
      "normal:: 100%|█████████████████████████████████████████████████████████████████████| 2883/2883 [01:08<00:00, 42.34it/s]\n",
      "abnormal:: 100%|███████████████████████████████████████████████████████████████████| 1895/1895 [00:45<00:00, 41.85it/s]\n"
     ]
    },
    {
     "name": "stdout",
     "output_type": "stream",
     "text": [
      "Number of sessions(.\\data\\lstm\\dataset_official\\): 4778\n",
      "Number of normal sessions: 2883\n",
      "Number of abnormal sessions: 1895\n"
     ]
    }
   ],
   "source": [
    "train_dataset, test_dataset=generate_bert_data(lstm_dataset,predicted_normal_output,predicted_abnormal_output,\"./data/lstm/bert_official_cache.pth\")"
   ]
  },
  {
   "cell_type": "code",
   "execution_count": 44,
   "metadata": {},
   "outputs": [],
   "source": [
    "batch_size = 100\n",
    "train_dataloader = DataLoader(train_dataset, batch_size=batch_size, shuffle=True)\n",
    "test_dataloader = DataLoader(test_dataset, batch_size=batch_size)"
   ]
  },
  {
   "cell_type": "code",
   "execution_count": 45,
   "metadata": {},
   "outputs": [],
   "source": [
    "import supervised.model as supervised_model"
   ]
  },
  {
   "cell_type": "code",
   "execution_count": 46,
   "metadata": {},
   "outputs": [],
   "source": [
    "model = supervised_model.Model(input_size, hidden_size, num_layers, num_classes).to(device)"
   ]
  },
  {
   "cell_type": "code",
   "execution_count": 47,
   "metadata": {},
   "outputs": [],
   "source": [
    "criterion = nn.CrossEntropyLoss()\n",
    "optimizer = optim.Adam(model.parameters())"
   ]
  },
  {
   "cell_type": "code",
   "execution_count": null,
   "metadata": {},
   "outputs": [],
   "source": []
  },
  {
   "cell_type": "code",
   "execution_count": 50,
   "metadata": {},
   "outputs": [],
   "source": [
    "model_sl_name = 'type={}_version={}'.format('official_supervised',version)"
   ]
  },
  {
   "cell_type": "code",
   "execution_count": 51,
   "metadata": {},
   "outputs": [],
   "source": [
    "if os.path.exists(model_dir + '/' + model_sl_name + '.pt'):\n",
    "    print('loading model {} success.'.format(model_sl_name))\n",
    "    model.load_state_dict(torch.load(model_dir + '/' + model_name + '.pt'))"
   ]
  },
  {
   "cell_type": "code",
   "execution_count": 52,
   "metadata": {},
   "outputs": [],
   "source": [
    "torch.cuda.empty_cache()"
   ]
  },
  {
   "cell_type": "code",
   "execution_count": 54,
   "metadata": {},
   "outputs": [
    {
     "name": "stdout",
     "output_type": "stream",
     "text": [
      "Epoch [1/30], train_loss: 0.1469\n",
      "Epoch [2/30], train_loss: 0.1291\n",
      "Epoch [3/30], train_loss: 0.1222\n",
      "Epoch [4/30], train_loss: 0.1478\n",
      "Epoch [5/30], train_loss: 0.1397\n",
      "Epoch [6/30], train_loss: 0.1540\n",
      "Epoch [7/30], train_loss: 0.1872\n",
      "Epoch [8/30], train_loss: 0.2230\n",
      "Epoch [9/30], train_loss: 0.1346\n",
      "Epoch [10/30], train_loss: 0.1293\n",
      "Epoch [11/30], train_loss: 0.1225\n",
      "Epoch [12/30], train_loss: 0.1519\n",
      "Epoch [13/30], train_loss: 0.1287\n",
      "Epoch [14/30], train_loss: 0.1319\n",
      "Epoch [15/30], train_loss: 0.1229\n",
      "Epoch [16/30], train_loss: 0.1295\n",
      "Epoch [17/30], train_loss: 0.1262\n",
      "Epoch [18/30], train_loss: 0.1223\n",
      "Epoch [19/30], train_loss: 0.1159\n",
      "Epoch [20/30], train_loss: 0.1153\n",
      "Epoch [21/30], train_loss: 0.1261\n",
      "Epoch [22/30], train_loss: 0.1223\n",
      "Epoch [23/30], train_loss: 0.1981\n",
      "Epoch [24/30], train_loss: 0.1301\n",
      "Epoch [25/30], train_loss: 0.1341\n",
      "Epoch [26/30], train_loss: 0.1400\n",
      "Epoch [27/30], train_loss: 0.1359\n",
      "Epoch [28/30], train_loss: 0.1447\n",
      "Epoch [29/30], train_loss: 0.1239\n",
      "Epoch [30/30], train_loss: 0.1340\n",
      "elapsed_time: 60.704s\n"
     ]
    }
   ],
   "source": [
    "model.train()\n",
    "supervised_model.train(model,train_dataloader,criterion,optimizer,current_epoch=0,num_epochs=30,input_size=input_size)"
   ]
  },
  {
   "cell_type": "code",
   "execution_count": 55,
   "metadata": {},
   "outputs": [],
   "source": [
    "import numpy as np\n",
    "def accuracy(y_pred, y_true):\n",
    "    TP = 0\n",
    "    TN = 0\n",
    "    FP = 0\n",
    "    FN = 0\n",
    "    pred = np.argmax(y_pred.cpu().numpy(),1)\n",
    "    for i,val in enumerate(pred):\n",
    "        if val == 0:\n",
    "            if y_true[i]==0:\n",
    "                TN +=1\n",
    "            else:\n",
    "                FN +=1\n",
    "        else:\n",
    "            if y_true[i]==1:\n",
    "                TP+=1\n",
    "            else:\n",
    "                FP+=1\n",
    "    return TP,TN,FP,FN"
   ]
  },
  {
   "cell_type": "code",
   "execution_count": 56,
   "metadata": {},
   "outputs": [],
   "source": [
    "def predict_result(model,data):\n",
    "    model.eval()\n",
    "    with torch.no_grad():\n",
    "        epoch_loss = 0\n",
    "        for step, (seq, label) in enumerate(data):\n",
    "            seq = seq.clone().detach().view(-1, seq.shape[1], input_size).to(device)\n",
    "            test_output = model(seq.to(device))\n",
    "            if step == 0:\n",
    "                output = test_output\n",
    "                labels = label\n",
    "            else:\n",
    "                labels = torch.cat([labels, label], 0)\n",
    "                output = torch.cat([output, test_output], 0)\n",
    "            epoch_loss += criterion(test_output, label.to(device)).data\n",
    "        TP,TN,FP,FN = accuracy(output, labels)\n",
    "        epoch_accuracy = (TP+TN)/(FP+FN+TP+TN)\n",
    "        epoch_loss = epoch_loss / len(data)\n",
    "        print('TN:{} FN:{}'.format(TN,FN))\n",
    "        print('Negative Precision:',round(TN/(TN+FN),3))\n",
    "        print('TP:{} FP:{}'.format(TP,FP))\n",
    "        print('Positive Precision:',round(TP/(TP+FP),3))\n",
    "        print('loss: ', round(epoch_loss.item(), 3), 'accuracy: ', round(epoch_accuracy, 3))"
   ]
  },
  {
   "cell_type": "code",
   "execution_count": 70,
   "metadata": {},
   "outputs": [
    {
     "name": "stdout",
     "output_type": "stream",
     "text": [
      "TN:1679 FN:33\n",
      "Negative Precision: 0.981\n",
      "TP:1108 FP:46\n",
      "Positive Precision: 0.96\n",
      "loss:  0.11 accuracy:  0.972\n"
     ]
    }
   ],
   "source": [
    "predict_result(model,train_dataloader)"
   ]
  },
  {
   "cell_type": "code",
   "execution_count": 71,
   "metadata": {},
   "outputs": [
    {
     "name": "stdout",
     "output_type": "stream",
     "text": [
      "TN:1137 FN:32\n",
      "Negative Precision: 0.973\n",
      "TP:722 FP:21\n",
      "Positive Precision: 0.972\n",
      "loss:  0.106 accuracy:  0.972\n"
     ]
    }
   ],
   "source": [
    "predict_result(model,test_dataloader)"
   ]
  },
  {
   "cell_type": "code",
   "execution_count": 67,
   "metadata": {},
   "outputs": [
    {
     "data": {
      "text/plain": [
       "'.\\\\data\\\\lstm\\\\dataset_official\\\\'"
      ]
     },
     "execution_count": 67,
     "metadata": {},
     "output_type": "execute_result"
    }
   ],
   "source": [
    "lstm_dataset"
   ]
  },
  {
   "cell_type": "code",
   "execution_count": 59,
   "metadata": {},
   "outputs": [],
   "source": [
    "supervised_input_normal = 'supervised_input_normal.csv'\n",
    "supervised_input_abnormal = 'supervised_input_abnormal.csv'"
   ]
  },
  {
   "cell_type": "code",
   "execution_count": 82,
   "metadata": {},
   "outputs": [
    {
     "name": "stderr",
     "output_type": "stream",
     "text": [
      "loading data: 100%|█████████████████████████████████████████████████████████████| 4999/4999 [00:00<00:00, 11874.96it/s]\n",
      "loading data: 100%|████████████████████████████████████████████████████████████| 2123/2123 [00:00<00:00, 235943.49it/s]\n",
      "normal:: 100%|█████████████████████████████████████████████████████████████████████| 4994/4994 [01:52<00:00, 44.36it/s]\n",
      "abnormal:: 100%|███████████████████████████████████████████████████████████████████| 2117/2117 [00:45<00:00, 46.64it/s]\n"
     ]
    },
    {
     "name": "stdout",
     "output_type": "stream",
     "text": [
      "Number of sessions(.\\data\\lstm\\dataset_official\\): 7111\n",
      "Number of normal sessions: 4994\n",
      "Number of abnormal sessions: 2117\n"
     ]
    }
   ],
   "source": [
    "test_dataset1,test_dataset2 =generate_bert_data(lstm_dataset,supervised_input_normal,supervised_input_abnormal,\"./data/lstm/bert_official_cache.pth\")"
   ]
  },
  {
   "cell_type": "code",
   "execution_count": 76,
   "metadata": {},
   "outputs": [
    {
     "data": {
      "text/plain": [
       "tensor([0, 0, 1, 1, 1, 1, 1, 1, 1, 1, 0, 1, 1, 0, 1, 1, 0, 0, 0, 1, 0, 0, 0, 0,\n",
       "        0, 0, 1, 1, 1, 0, 0, 1, 1, 1, 0, 1, 0, 0, 1, 1, 0, 1, 0, 0, 1, 0, 1, 1,\n",
       "        0, 0, 0, 0, 1, 1, 0, 0, 0, 0, 0, 0, 0, 1, 0, 1, 1, 1, 1, 0, 0, 0, 0, 0,\n",
       "        0, 0, 0, 0, 1, 0, 0, 1, 0, 0, 0, 1, 0, 0, 0, 0, 0, 0, 0, 0, 0, 1, 1, 0,\n",
       "        0, 0, 0, 1])"
      ]
     },
     "execution_count": 76,
     "metadata": {},
     "output_type": "execute_result"
    }
   ],
   "source": [
    "train_dataset[:100][1]"
   ]
  },
  {
   "cell_type": "code",
   "execution_count": 81,
   "metadata": {},
   "outputs": [
    {
     "data": {
      "text/plain": [
       "tensor(1270)"
      ]
     },
     "execution_count": 81,
     "metadata": {},
     "output_type": "execute_result"
    }
   ],
   "source": [
    "torch.sum(test_dataset1[:][1])"
   ]
  },
  {
   "cell_type": "code",
   "execution_count": 83,
   "metadata": {},
   "outputs": [],
   "source": [
    "test_dataloader1 = DataLoader(test_dataset1, batch_size=batch_size, shuffle=True)\n",
    "test_dataloader2 = DataLoader(test_dataset2, batch_size=batch_size)"
   ]
  },
  {
   "cell_type": "code",
   "execution_count": 84,
   "metadata": {},
   "outputs": [
    {
     "name": "stdout",
     "output_type": "stream",
     "text": [
      "TN:2790 FN:40\n",
      "Negative Precision: 0.986\n",
      "TP:1229 FP:207\n",
      "Positive Precision: 0.856\n",
      "loss:  0.196 accuracy:  0.942\n"
     ]
    }
   ],
   "source": [
    "predict_result(model,test_dataloader1)"
   ]
  },
  {
   "cell_type": "code",
   "execution_count": 85,
   "metadata": {},
   "outputs": [
    {
     "name": "stdout",
     "output_type": "stream",
     "text": [
      "TN:1898 FN:16\n",
      "Negative Precision: 0.992\n",
      "TP:832 FP:99\n",
      "Positive Precision: 0.894\n",
      "loss:  0.147 accuracy:  0.96\n"
     ]
    }
   ],
   "source": [
    "predict_result(model,test_dataloader2)"
   ]
  },
  {
   "cell_type": "code",
   "execution_count": 2,
   "metadata": {},
   "outputs": [],
   "source": [
    "from unsupervised.wf_constructor import workflow_constructor,draw_wf\n"
   ]
  },
  {
   "cell_type": "code",
   "execution_count": null,
   "metadata": {},
   "outputs": [],
   "source": [
    "if not os.path.isdir(model_dir):\n",
    "    os.makedirs(model_dir)\n",
    "torch.save(model.state_dict(), model_dir + '/' + model_usl_name + '.pt')\n",
    "print('Finished Training')"
   ]
  },
  {
   "cell_type": "code",
   "execution_count": 3,
   "metadata": {},
   "outputs": [
    {
     "ename": "NameError",
     "evalue": "name 'model' is not defined",
     "output_type": "error",
     "traceback": [
      "\u001b[1;31m---------------------------------------------------------------------------\u001b[0m",
      "\u001b[1;31mNameError\u001b[0m                                 Traceback (most recent call last)",
      "\u001b[1;32m<ipython-input-3-85f05b3ef088>\u001b[0m in \u001b[0;36m<module>\u001b[1;34m\u001b[0m\n\u001b[1;32m----> 1\u001b[1;33m \u001b[0mwf\u001b[0m \u001b[1;33m=\u001b[0m \u001b[0mworkflow_constructor\u001b[0m\u001b[1;33m(\u001b[0m\u001b[0mmodel\u001b[0m\u001b[1;33m,\u001b[0m\u001b[0minput_size\u001b[0m\u001b[1;33m=\u001b[0m\u001b[1;36m1\u001b[0m\u001b[1;33m)\u001b[0m\u001b[1;33m\u001b[0m\u001b[1;33m\u001b[0m\u001b[0m\n\u001b[0m\u001b[0;32m      2\u001b[0m \u001b[0mwf\u001b[0m\u001b[1;33m.\u001b[0m\u001b[0mgenerate_seq\u001b[0m\u001b[1;33m(\u001b[0m\u001b[1;33m[\u001b[0m\u001b[1;36m0\u001b[0m\u001b[1;33m]\u001b[0m\u001b[1;33m,\u001b[0m\u001b[1;36m1\u001b[0m\u001b[1;33m,\u001b[0m\u001b[1;36m3\u001b[0m\u001b[1;33m)\u001b[0m\u001b[1;33m\u001b[0m\u001b[1;33m\u001b[0m\u001b[0m\n",
      "\u001b[1;31mNameError\u001b[0m: name 'model' is not defined"
     ]
    }
   ],
   "source": [
    "wf = workflow_constructor(model,input_size=1)\n",
    "wf.generate_seq([0],1,3)\n"
   ]
  },
  {
   "cell_type": "code",
   "execution_count": null,
   "metadata": {},
   "outputs": [],
   "source": [
    "wf.workflow_construction([0],{30})\n",
    "draw_wf(wf)"
   ]
  }
 ],
 "metadata": {
  "kernelspec": {
   "display_name": "Python 3.6.7 64-bit ('cuda_pytorch': conda)",
   "language": "python",
   "name": "python36764bitcudapytorchconda3e33319a1fef4dc990a9d2f171216946"
  },
  "language_info": {
   "codemirror_mode": {
    "name": "ipython",
    "version": 3
   },
   "file_extension": ".py",
   "mimetype": "text/x-python",
   "name": "python",
   "nbconvert_exporter": "python",
   "pygments_lexer": "ipython3",
   "version": "3.6.7"
  }
 },
 "nbformat": 4,
 "nbformat_minor": 4
}
