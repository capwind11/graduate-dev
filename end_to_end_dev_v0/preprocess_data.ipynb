{
 "cells": [
  {
   "cell_type": "code",
   "execution_count": 5,
   "metadata": {},
   "outputs": [],
   "source": [
    "from utils.data_utils import *"
   ]
  },
  {
   "cell_type": "code",
   "execution_count": 18,
   "metadata": {},
   "outputs": [],
   "source": [
    "\n",
    "def remove_duplicate(input,col_remove,col_keep,output):\n",
    "    data = pd.read_csv(input, engine='c', na_filter=False, memory_map=True)\n",
    "    data = data.drop_duplicates()\n",
    "    data.to_csv(output,index=False)\n",
    "    return data"
   ]
  },
  {
   "cell_type": "code",
   "execution_count": 19,
   "metadata": {},
   "outputs": [
    {
     "data": {
      "text/html": [
       "<div>\n",
       "<style scoped>\n",
       "    .dataframe tbody tr th:only-of-type {\n",
       "        vertical-align: middle;\n",
       "    }\n",
       "\n",
       "    .dataframe tbody tr th {\n",
       "        vertical-align: top;\n",
       "    }\n",
       "\n",
       "    .dataframe thead th {\n",
       "        text-align: right;\n",
       "    }\n",
       "</style>\n",
       "<table border=\"1\" class=\"dataframe\">\n",
       "  <thead>\n",
       "    <tr style=\"text-align: right;\">\n",
       "      <th></th>\n",
       "      <th>EventSequence</th>\n",
       "    </tr>\n",
       "  </thead>\n",
       "  <tbody>\n",
       "    <tr>\n",
       "      <th>0</th>\n",
       "      <td>[5, 5, 5, 22, 11, 9, 11, 9, 11, 9, 26, 26, 26,...</td>\n",
       "    </tr>\n",
       "    <tr>\n",
       "      <th>1</th>\n",
       "      <td>[5, 5, 22, 5, 11, 9, 11, 9, 11, 9, 26, 26, 26]</td>\n",
       "    </tr>\n",
       "    <tr>\n",
       "      <th>2</th>\n",
       "      <td>[5, 22, 5, 5, 11, 9, 11, 9, 11, 9, 26, 26, 26]</td>\n",
       "    </tr>\n",
       "    <tr>\n",
       "      <th>4</th>\n",
       "      <td>[5, 22, 5, 5, 11, 9, 11, 9, 11, 9, 26, 26, 26,...</td>\n",
       "    </tr>\n",
       "    <tr>\n",
       "      <th>5</th>\n",
       "      <td>[22, 5, 5, 5, 11, 9, 11, 9, 11, 9, 26, 26, 26,...</td>\n",
       "    </tr>\n",
       "    <tr>\n",
       "      <th>...</th>\n",
       "      <td>...</td>\n",
       "    </tr>\n",
       "    <tr>\n",
       "      <th>553005</th>\n",
       "      <td>[22, 5, 5, 5, 26, 26, 26, 11, 9, 11, 9, 11, 9,...</td>\n",
       "    </tr>\n",
       "    <tr>\n",
       "      <th>553084</th>\n",
       "      <td>[5, 22, 5, 5, 11, 9, 11, 9, 26, 26, 11, 9, 26,...</td>\n",
       "    </tr>\n",
       "    <tr>\n",
       "      <th>553168</th>\n",
       "      <td>[22, 5, 5, 5, 9, 11, 9, 26, 26, 26, 11, 11, 9,...</td>\n",
       "    </tr>\n",
       "    <tr>\n",
       "      <th>553236</th>\n",
       "      <td>[22, 5, 5, 5, 11, 9, 11, 9, 26, 26, 26, 11, 9,...</td>\n",
       "    </tr>\n",
       "    <tr>\n",
       "      <th>553348</th>\n",
       "      <td>[22, 5, 5, 5, 26, 11, 9, 26, 26, 11, 9, 11, 9,...</td>\n",
       "    </tr>\n",
       "  </tbody>\n",
       "</table>\n",
       "<p>14177 rows × 1 columns</p>\n",
       "</div>"
      ],
      "text/plain": [
       "                                            EventSequence\n",
       "0       [5, 5, 5, 22, 11, 9, 11, 9, 11, 9, 26, 26, 26,...\n",
       "1          [5, 5, 22, 5, 11, 9, 11, 9, 11, 9, 26, 26, 26]\n",
       "2          [5, 22, 5, 5, 11, 9, 11, 9, 11, 9, 26, 26, 26]\n",
       "4       [5, 22, 5, 5, 11, 9, 11, 9, 11, 9, 26, 26, 26,...\n",
       "5       [22, 5, 5, 5, 11, 9, 11, 9, 11, 9, 26, 26, 26,...\n",
       "...                                                   ...\n",
       "553005  [22, 5, 5, 5, 26, 26, 26, 11, 9, 11, 9, 11, 9,...\n",
       "553084  [5, 22, 5, 5, 11, 9, 11, 9, 26, 26, 11, 9, 26,...\n",
       "553168  [22, 5, 5, 5, 9, 11, 9, 26, 26, 26, 11, 11, 9,...\n",
       "553236  [22, 5, 5, 5, 11, 9, 11, 9, 26, 26, 26, 11, 9,...\n",
       "553348  [22, 5, 5, 5, 26, 11, 9, 26, 26, 11, 9, 11, 9,...\n",
       "\n",
       "[14177 rows x 1 columns]"
      ]
     },
     "execution_count": 19,
     "metadata": {},
     "output_type": "execute_result"
    }
   ],
   "source": [
    "remove_duplicate('./data/lstm/dataset_official/normal.csv','EventSequence','BlockId','./data/lstm/dataset_official/no_dup_normal.csv')"
   ]
  },
  {
   "cell_type": "code",
   "execution_count": 20,
   "metadata": {},
   "outputs": [],
   "source": [
    "data = remove_duplicate('./data/lstm/dataset_official/abnormal.csv','EventSequence','BlockId','./data/lstm/dataset_official/no_dup_abnormal.csv')"
   ]
  },
  {
   "cell_type": "code",
   "execution_count": 21,
   "metadata": {},
   "outputs": [
    {
     "data": {
      "text/html": [
       "<div>\n",
       "<style scoped>\n",
       "    .dataframe tbody tr th:only-of-type {\n",
       "        vertical-align: middle;\n",
       "    }\n",
       "\n",
       "    .dataframe tbody tr th {\n",
       "        vertical-align: top;\n",
       "    }\n",
       "\n",
       "    .dataframe thead th {\n",
       "        text-align: right;\n",
       "    }\n",
       "</style>\n",
       "<table border=\"1\" class=\"dataframe\">\n",
       "  <thead>\n",
       "    <tr style=\"text-align: right;\">\n",
       "      <th></th>\n",
       "      <th>EventSequence</th>\n",
       "    </tr>\n",
       "  </thead>\n",
       "  <tbody>\n",
       "    <tr>\n",
       "      <th>0</th>\n",
       "      <td>[5, 5, 22, 5, 11, 9, 11, 9, 11, 9, 26, 26, 26,...</td>\n",
       "    </tr>\n",
       "    <tr>\n",
       "      <th>1</th>\n",
       "      <td>[5, 22, 5]</td>\n",
       "    </tr>\n",
       "    <tr>\n",
       "      <th>2</th>\n",
       "      <td>[5, 22]</td>\n",
       "    </tr>\n",
       "    <tr>\n",
       "      <th>3</th>\n",
       "      <td>[5, 5, 5, 22, 11, 9, 11, 9, 26, 11, 9, 26, 27,...</td>\n",
       "    </tr>\n",
       "    <tr>\n",
       "      <th>4</th>\n",
       "      <td>[22, 5, 5]</td>\n",
       "    </tr>\n",
       "  </tbody>\n",
       "</table>\n",
       "</div>"
      ],
      "text/plain": [
       "                                       EventSequence\n",
       "0  [5, 5, 22, 5, 11, 9, 11, 9, 11, 9, 26, 26, 26,...\n",
       "1                                         [5, 22, 5]\n",
       "2                                            [5, 22]\n",
       "3  [5, 5, 5, 22, 11, 9, 11, 9, 26, 11, 9, 26, 27,...\n",
       "4                                         [22, 5, 5]"
      ]
     },
     "execution_count": 21,
     "metadata": {},
     "output_type": "execute_result"
    }
   ],
   "source": [
    "data.head()"
   ]
  },
  {
   "cell_type": "code",
   "execution_count": 22,
   "metadata": {},
   "outputs": [],
   "source": [
    "import pandas as pd"
   ]
  },
  {
   "cell_type": "code",
   "execution_count": 23,
   "metadata": {},
   "outputs": [],
   "source": [
    "input_dir = './data/lstm/dataset_official/'"
   ]
  },
  {
   "cell_type": "code",
   "execution_count": 3,
   "metadata": {},
   "outputs": [],
   "source": [
    "def to_dataframe(origin,final):\n",
    "    fw = open(input_dir+origin,'r')\n",
    "    fr = open(input_dir+final,'w')\n",
    "    fr.write('EventSequence\\n')\n",
    "    for line in fw:\n",
    "        eventSeq = line.strip().split()\n",
    "        fr.write('\"['+', '.join(eventSeq)+']\"\\n')\n",
    "    fr.close()"
   ]
  },
  {
   "cell_type": "code",
   "execution_count": 4,
   "metadata": {},
   "outputs": [],
   "source": [
    "to_dataframe('hdfs_train','train.csv')\n",
    "to_dataframe('hdfs_test_normal','normal.csv')\n",
    "to_dataframe('hdfs_test_abnormal','abnormal.csv')"
   ]
  },
  {
   "cell_type": "code",
   "execution_count": 24,
   "metadata": {},
   "outputs": [],
   "source": [
    "# input_dir = './data/lstm/dataset/'\n",
    "predicted_input = 'unsupervised_input.csv'\n",
    "supervised_input_normal = 'supervised_input_normal.csv'\n",
    "supervised_input_abnormal = 'supervised_input_abnormal.csv'"
   ]
  },
  {
   "cell_type": "code",
   "execution_count": 25,
   "metadata": {},
   "outputs": [
    {
     "data": {
      "text/plain": [
       "14"
      ]
     },
     "execution_count": 25,
     "metadata": {},
     "output_type": "execute_result"
    }
   ],
   "source": [
    "f = open(input_dir+predicted_input,'w')\n",
    "fn = open(input_dir+supervised_input_normal,'w')\n",
    "fa = open(input_dir+supervised_input_abnormal,'w')\n",
    "f.write('EventSequence\\n')\n",
    "fn.write('EventSequence\\n')\n",
    "fa.write('EventSequence\\n')"
   ]
  },
  {
   "cell_type": "code",
   "execution_count": 26,
   "metadata": {},
   "outputs": [],
   "source": [
    "f1 = open(input_dir + '/no_dup_normal.csv', 'r')\n",
    "for i,line in enumerate(f1):\n",
    "    if i==0:\n",
    "        continue\n",
    "    if i>3000 and i<8000:\n",
    "        fn.write(line)\n",
    "    elif i<=3000:\n",
    "        f.write(line)\n",
    "f1.close()\n",
    "f1 = open(input_dir + '/no_dup_abnormal.csv', 'r')\n",
    "for i,line in enumerate(f1):\n",
    "    if i==0:\n",
    "        continue\n",
    "    if i>2000:\n",
    "        fa.write(line)\n",
    "    else:\n",
    "        f.write(line)\n",
    "f1.close()"
   ]
  },
  {
   "cell_type": "code",
   "execution_count": 27,
   "metadata": {},
   "outputs": [],
   "source": [
    "f.close()\n",
    "fn.close()\n",
    "fa.close()"
   ]
  },
  {
   "cell_type": "code",
   "execution_count": 1,
   "metadata": {},
   "outputs": [
    {
     "name": "stderr",
     "output_type": "stream",
     "text": [
      "11175629it [01:22, 135175.63it/s]"
     ]
    },
    {
     "name": "stdout",
     "output_type": "stream",
     "text": [
      "11175629\n"
     ]
    },
    {
     "name": "stderr",
     "output_type": "stream",
     "text": [
      "\n"
     ]
    }
   ],
   "source": [
    "from tqdm import tqdm\n",
    "f = open('D:/毕业设计/loghub/HDFS_1/HDFS.log','r')\n",
    "count = 0\n",
    "for i in tqdm(f):\n",
    "    count+=1\n",
    "f.close()\n",
    "print(count)\n",
    "\n",
    "\n",
    "\n"
   ]
  },
  {
   "cell_type": "code",
   "execution_count": null,
   "metadata": {},
   "outputs": [],
   "source": []
  }
 ],
 "metadata": {
  "kernelspec": {
   "display_name": "Python 3.6.7 64-bit ('cuda_pytorch': conda)",
   "language": "python",
   "name": "python36764bitcudapytorchconda3e33319a1fef4dc990a9d2f171216946"
  },
  "language_info": {
   "codemirror_mode": {
    "name": "ipython",
    "version": 3
   },
   "file_extension": ".py",
   "mimetype": "text/x-python",
   "name": "python",
   "nbconvert_exporter": "python",
   "pygments_lexer": "ipython3",
   "version": "3.6.7"
  }
 },
 "nbformat": 4,
 "nbformat_minor": 4
}
