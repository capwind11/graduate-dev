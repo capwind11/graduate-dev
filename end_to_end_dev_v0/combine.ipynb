{
 "cells": [
  {
   "cell_type": "code",
   "execution_count": 1,
   "metadata": {},
   "outputs": [],
   "source": [
    "from drain.model import Drain,Node,LogCluster\n",
    "from drain.optimizer import Optimizer\n",
    "from drain.plotter import createPlot\n",
    "from drain.partition import Partition\n",
    "from utils.data_utils import *\n",
    "from unsupervised.model import Model,train\n",
    "# from unsupervised.predictor import fast_predict\n",
    "from torch import nn,optim\n",
    "from torch.utils.data import  DataLoader\n",
    "\n",
    "import pandas as pd\n",
    "import os"
   ]
  },
  {
   "cell_type": "code",
   "execution_count": 5,
   "metadata": {},
   "outputs": [],
   "source": [
    "device = torch.device(\"cuda\" if torch.cuda.is_available() else \"cpu\")\n",
    "num_classes = 32\n",
    "batch_size = 2048\n",
    "input_size = 1\n",
    "window_size = 10\n",
    "num_layers = 2\n",
    "hidden_size = 64"
   ]
  },
  {
   "cell_type": "code",
   "execution_count": 6,
   "metadata": {},
   "outputs": [],
   "source": [
    "logPath = 'D:\\\\毕业设计\\\\loghub\\\\HDFS_1\\\\HDFS.log'\n",
    "parsed_result = '.\\\\data\\\\parser\\\\log_item_to_label.csv'\n",
    "cluster_result = '.\\\\data\\\\parser\\\\'\n",
    "# partition\n",
    "partition_output = '.\\\\data\\\\lstm\\\\dataset_official\\\\'\n",
    "instance_file = 'instance.csv'\n",
    "label_file = '.\\\\data\\\\partition\\\\anormaly_label.csv'\n",
    "normal_output = 'normal.csv'\n",
    "abnormal_output = 'abnormal.csv'\n",
    "lstm_dataset = '.\\\\data\\\\lstm\\\\dataset_official\\\\'"
   ]
  },
  {
   "cell_type": "code",
   "execution_count": 7,
   "metadata": {},
   "outputs": [
    {
     "name": "stdout",
     "output_type": "stream",
     "text": [
      "model exists: unsupervise_lstm\n"
     ]
    }
   ],
   "source": [
    "model_dir = 'model'\n",
    "version = 'v0.2'\n",
    "model_name = 'unsupervise_lstm'\n",
    "#'dev_v1.2_batch_size=2048_epoch=300'\n",
    "\n",
    "model = Model(input_size, hidden_size, num_layers, num_classes).to(device)\n",
    "\n",
    "if os.path.exists(model_dir + '/' + model_name + '.pt'):\n",
    "    print('model exists:',model_name)\n",
    "    model.load_state_dict(torch.load(model_dir + '/' + model_name + '.pt'))"
   ]
  },
  {
   "cell_type": "code",
   "execution_count": 8,
   "metadata": {},
   "outputs": [
    {
     "name": "stderr",
     "output_type": "stream",
     "text": [
      ".\\data\\lstm\\dataset\\/normal.csv: 100%|████████████████████████████████████████| 14176/14176 [00:00<00:00, 16407.44it/s]\n"
     ]
    },
    {
     "name": "stdout",
     "output_type": "stream",
     "text": [
      "Number of sessions(.\\data\\lstm\\dataset\\/normal.csv): 14176\n",
      "Number of seqs(.\\data\\lstm\\dataset\\/normal.csv): 269279\n"
     ]
    },
    {
     "name": "stderr",
     "output_type": "stream",
     "text": [
      ".\\data\\lstm\\dataset\\/abnormal.csv: 100%|████████████████████████████████████████| 4124/4124 [00:00<00:00, 15273.97it/s]"
     ]
    },
    {
     "name": "stdout",
     "output_type": "stream",
     "text": [
      "Number of sessions(.\\data\\lstm\\dataset\\/abnormal.csv): 4124\n",
      "Number of seqs(.\\data\\lstm\\dataset\\/abnormal.csv): 88592\n"
     ]
    },
    {
     "name": "stderr",
     "output_type": "stream",
     "text": [
      "\n"
     ]
    }
   ],
   "source": [
    "model.eval()\n",
    "batch_size = 20000\n",
    "test_normal_session, test_normal_dataset, test_normal_seq, test_normal_label = generate_test_data(\n",
    "    lstm_dataset + '/normal.csv', window_size)\n",
    "normal_dataloader = DataLoader(test_normal_dataset, batch_size=batch_size, shuffle=False, pin_memory=True)\n",
    "test_abnormal_session, test_abnormal_dataset, test_abnormal_seq, test_abnormal_label = generate_test_data(\n",
    "    lstm_dataset + '/abnormal.csv', window_size)\n",
    "abnormal_dataloader = DataLoader(test_abnormal_dataset, batch_size=batch_size, shuffle=False, pin_memory=True)"
   ]
  },
  {
   "cell_type": "code",
   "execution_count": null,
   "metadata": {},
   "outputs": [],
   "source": [
    "def fast_predict(model,normal_dataloader,abnormal_dataloader,test_normal_session,test_abnormal_session,num_candidates=5,window_size=10,ts=0.0003):\n",
    "    TP = 0\n",
    "    FP = 0\n",
    "    softmax = nn.Softmax(dim = 1)\n",
    "    # Test the model\n",
    "    start_time = time.time()\n",
    "    test_normal_result = []\n",
    "    test_abnormal_result = []\n",
    "    with torch.no_grad():\n",
    "        with torch.no_grad():\n",
    "            for step, (seq, labels) in tqdm(enumerate(normal_dataloader), desc='normal'):\n",
    "                seq = seq.clone().detach().view(-1, window_size, input_size).to(device)\n",
    "                output = model(seq).cpu()\n",
    "                output = output[:,-1,:]\n",
    "                prob = softmax(output)\n",
    "                predicted = torch.argsort(output, 1)[:,-num_candidates:]\n",
    "                for i, label in enumerate(labels):\n",
    "                    if label not in predicted[i] or prob[i][label]<ts:\n",
    "                        test_normal_result.append(True)\n",
    "                    else:\n",
    "                        test_normal_result.append(False)\n",
    "    for session in test_normal_session:\n",
    "        for seq_id in session:\n",
    "            if test_normal_result[seq_id] == True:\n",
    "                FP += 1\n",
    "                break\n",
    "\n",
    "    with torch.no_grad():\n",
    "        for step, (seq, labels) in tqdm(enumerate(abnormal_dataloader), desc='abnormal'):\n",
    "            seq = seq.clone().detach().view(-1, window_size, input_size).to(device)\n",
    "            output = model(seq).cpu()\n",
    "            output = output[:,-1,:]\n",
    "            prob = softmax(output)\n",
    "            predicted = torch.argsort(output, 1)[:,-num_candidates:]\n",
    "#             predicted = torch.argsort(output[:,-1,:], 1)[:,-num_candidates:]\n",
    "            for i, label in enumerate(labels):\n",
    "                if label not in predicted[i] or prob[i][label]<ts:\n",
    "                    test_abnormal_result.append(True)\n",
    "                else:\n",
    "                    test_abnormal_result.append(False)\n",
    "        for session in test_abnormal_session:\n",
    "            for seq_id in session:\n",
    "                if test_abnormal_result[seq_id] == True:\n",
    "                    TP += 1\n",
    "                    break\n",
    "    elapsed_time = time.time() - start_time\n",
    "    print('elapsed_time: {:.3f}s'.format(elapsed_time))\n",
    "    # Compute precision, recall and F1-measure\n",
    "    FN = len(test_abnormal_session) - TP\n",
    "    P = 100 * TP / (TP + FP)\n",
    "    R = 100 * TP / (TP + FN)\n",
    "    F1 = 2 * P * R / (P + R)\n",
    "    print('false positive (FP): {}, false negative (FN): {}, Precision: {:.3f}%, Recall: {:.3f}%, F1-measure: {:.3f}%'.format(FP, FN, P, R, F1))\n",
    "    print('Finished Predicting')\n",
    "    return test_normal_result,test_abnormal_result"
   ]
  },
  {
   "cell_type": "code",
   "execution_count": null,
   "metadata": {},
   "outputs": [],
   "source": [
    "def generate_test_data(name,window_size=10):\n",
    "    hdfs = set()\n",
    "    data = pd.read_csv(name, engine='c', na_filter=False, memory_map=True)\n",
    "    blockId_list= data['BlockId'].tolist()\n",
    "    seqs = data['EventSequence'].apply(literal_eval).tolist()\n",
    "    for ln in seqs:\n",
    "        hdfs.add(tuple(ln))\n",
    "        # hdfs.append(tuple(ln))\n",
    "    session_to_seq = []\n",
    "    seqs = []\n",
    "    labels = []\n",
    "    seq_count = 0\n",
    "    for line in tqdm(hdfs, name):\n",
    "        session = []\n",
    "        line = [0]+list(line)+[30]\n",
    "        line = line + [31] * (window_size + 1 - len(ln))\n",
    "        for i in range(len(line) - window_size):\n",
    "            seq = line[i:i + window_size]\n",
    "            label = line[i + window_size]\n",
    "            seqs.append(seq)\n",
    "            session.append(seq_count)\n",
    "            labels.append(label)\n",
    "            seq_count += 1\n",
    "        session_to_seq.append(session)\n",
    "    print('Number of sessions({}): {}'.format(name, len(session_to_seq)))\n",
    "    print('Number of seqs({}): {}'.format(name, len(seqs)))\n",
    "    dataset = TensorDataset(torch.tensor(seqs, dtype=torch.float), torch.tensor(labels))\n",
    "    return session_to_seq, dataset, seqs,labels"
   ]
  },
  {
   "cell_type": "code",
   "execution_count": 13,
   "metadata": {},
   "outputs": [
    {
     "name": "stderr",
     "output_type": "stream",
     "text": [
      "normal: 14it [00:52,  3.75s/it]\n",
      "abnormal: 5it [00:19,  3.85s/it]"
     ]
    },
    {
     "name": "stdout",
     "output_type": "stream",
     "text": [
      "elapsed_time: 71.758s\n",
      "false positive (FP): 13648, false negative (FN): 5, Precision: 23.183%, Recall: 99.879%, F1-measure: 37.632%\n",
      "Finished Predicting\n"
     ]
    },
    {
     "name": "stderr",
     "output_type": "stream",
     "text": [
      "\n"
     ]
    }
   ],
   "source": [
    "test_normal_result, test_abnormal_result = fast_predict(model, normal_dataloader, abnormal_dataloader,\n",
    "                                                        test_normal_session, test_abnormal_session,\n",
    "                                                        10, window_size)"
   ]
  },
  {
   "cell_type": "code",
   "execution_count": 10,
   "metadata": {},
   "outputs": [
    {
     "name": "stderr",
     "output_type": "stream",
     "text": [
      "normal: 14it [00:54,  3.89s/it]\n",
      "abnormal: 5it [00:18,  3.73s/it]"
     ]
    },
    {
     "name": "stdout",
     "output_type": "stream",
     "text": [
      "elapsed_time: 73.171s\n",
      "false positive (FP): 14176, false negative (FN): 0, Precision: 22.536%, Recall: 100.000%, F1-measure: 36.782%\n",
      "Finished Predicting\n"
     ]
    },
    {
     "name": "stderr",
     "output_type": "stream",
     "text": [
      "\n"
     ]
    }
   ],
   "source": [
    "test_normal_result, test_abnormal_result = fast_predict(model, normal_dataloader, abnormal_dataloader,\n",
    "                                                        test_normal_session, test_abnormal_session,\n",
    "                                                        10, window_size,ts=0.00005)"
   ]
  },
  {
   "cell_type": "code",
   "execution_count": 8,
   "metadata": {},
   "outputs": [
    {
     "name": "stdout",
     "output_type": "stream",
     "text": [
      "当前序列为: [0] 下一个可能出现event为: [22, 5]\n",
      "判断分支情况 [22, 5]\n",
      "发现不同的分支 [[22, 5]]\n",
      "并发执行的分支 [22, 5]\n",
      "发现循环 [5]\n",
      "当前序列为: [22, 5] 下一个可能出现event为: [9, 26, 11]\n",
      "判断分支情况 [9, 26, 11]\n",
      "发现不同的分支 [[9, 26, 11]]\n",
      "并发执行的分支 [9, 26, 11]\n",
      "发现循环 [9]\n",
      "发现循环 [26]\n",
      "发现循环 [11]\n",
      "当前序列为: [9, 26, 11] 下一个可能出现event为: [2, 3, 4, 23, 30]\n",
      "判断分支情况 [2, 3, 4, 23, 30]\n",
      "发现不同的分支 [[2, 3, 4], [23]]\n",
      "并发执行的分支 [2, 3, 4]\n",
      "发现循环 [2]\n",
      "发现循环 [3]\n",
      "发现循环 [4]\n",
      "当前序列为: [2, 3, 4] 下一个可能出现event为: [23]\n",
      "判断分支情况 [23]\n",
      "发现不同的分支 [[23]]\n",
      "当前序列为: [23] 下一个可能出现event为: [30, 21]\n",
      "当前序列中存在循环结构 [23]\n",
      "判断分支情况 [30, 21]\n",
      "发现不同的分支 [[21]]\n",
      "当前序列为: [21] 下一个可能出现event为: [30]\n",
      "到达终止位置,结束 {30}\n",
      "当前序列为: [23] 下一个可能出现event为: [30]\n",
      "到达终止位置,结束 {30}\n",
      "0 1 (0, 2)\n",
      "0 2 (-0.5, 3)\n",
      "1 2 (0.5, 3)\n",
      "0 1 (0, 4)\n",
      "0 1 (0, 5)\n",
      "0 3 (-1, 6)\n",
      "1 3 (0, 6)\n",
      "2 3 (1, 6)\n",
      "1 1 (0, 7)\n",
      "0 2 (-0.5, 8)\n",
      "1 2 (0.5, 8)\n",
      "0 5 (-2, 9)\n",
      "1 5 (-1, 9)\n",
      "2 5 (0, 9)\n",
      "0 1 (0, 10)\n",
      "0 5 (1, 9)\n",
      "2 5 (2, 9)\n"
     ]
    },
    {
     "data": {
      "image/png": "[encoded data removed]",
      "text/plain": [
       "<Figure size 432x288 with 1 Axes>"
      ]
     },
     "metadata": {},
     "output_type": "display_data"
    }
   ],
   "source": [
    "from unsupervised.wf_constructor import workflow_constructor,draw_wf\n",
    "wf = workflow_constructor(model,input_size=1)\n",
    "wf.generate_seq([1],1,3)\n",
    "wf.workflow_construction([0],{30})\n",
    "draw_wf(wf)"
   ]
  },
  {
   "cell_type": "code",
   "execution_count": 7,
   "metadata": {},
   "outputs": [],
   "source": [
    "wf = workflow_constructor(model,input_size=1)"
   ]
  },
  {
   "cell_type": "code",
   "execution_count": 8,
   "metadata": {},
   "outputs": [
    {
     "data": {
      "text/plain": [
       "(tensor([[23., 26.]]),\n",
       " tensor([18, 21, 25,  3,  2,  4,  9, 26,  5, 11]),\n",
       " tensor([-5.1218, -5.8272,  1.4427,  1.4295,  1.6365,  5.7197, -1.0545, -4.8273,\n",
       "         -4.9845,  1.9632, -5.3950,  6.1140, -4.8711, -5.4031, -5.5737, -5.5753,\n",
       "         -7.7072, -5.3412, -0.0864, -5.2908, -4.8179,  0.0675, -2.8393, -0.9621,\n",
       "         -5.2841,  0.8534,  3.4197, -4.9050, -4.7110, -4.6960, -5.8711],\n",
       "        grad_fn=<ViewBackward>))"
      ]
     },
     "execution_count": 8,
     "metadata": {},
     "output_type": "execute_result"
    }
   ],
   "source": [
    "wf.generate_seq([23],1,3)"
   ]
  },
  {
   "cell_type": "code",
   "execution_count": 9,
   "metadata": {},
   "outputs": [
    {
     "name": "stdout",
     "output_type": "stream",
     "text": [
      "当前序列为: [0] 下一个可能出现event为: [2, 1]\n",
      "判断分支情况 [2, 1]\n",
      "发现不同的分支 [[2, 1]]\n",
      "并发执行的分支 [2, 1]\n",
      "发现循环 [1]\n",
      "当前序列为: [2, 1] 下一个可能出现event为: [3, 4, 5]\n",
      "判断分支情况 [3, 4, 5]\n",
      "发现不同的分支 [[3, 4, 5]]\n",
      "并发执行的分支 [3, 4, 5]\n",
      "发现循环 [3]\n",
      "发现循环 [4]\n",
      "发现循环 [5]\n",
      "当前序列为: [3, 4, 5] 下一个可能出现event为: [10, 11, 20, 22, 30]\n",
      "判断分支情况 [10, 11, 20, 22, 30]\n",
      "发现不同的分支 [[10, 11, 20, 22]]\n",
      "并发执行的分支 [10, 11, 20, 22]\n",
      "发现循环 [10]\n",
      "发现循环 [11]\n",
      "发现循环 [20]\n",
      "发现循环 [22]\n",
      "当前序列为: [10, 11, 20, 22] 下一个可能出现event为: [13, 30]\n",
      "判断分支情况 [13, 30]\n",
      "发现不同的分支 [[13]]\n",
      "当前序列为: [13] 下一个可能出现event为: [30]\n",
      "到达终止位置,结束 {30}\n"
     ]
    },
    {
     "data": {
      "text/plain": [
       "[0]"
      ]
     },
     "execution_count": 9,
     "metadata": {},
     "output_type": "execute_result"
    }
   ],
   "source": [
    "wf.workflow_construction([0],{30})"
   ]
  },
  {
   "cell_type": "code",
   "execution_count": 10,
   "metadata": {},
   "outputs": [
    {
     "name": "stdout",
     "output_type": "stream",
     "text": [
      "0 1 (0, 2)\n",
      "0 2 (-0.5, 3)\n",
      "1 2 (0.5, 3)\n",
      "0 1 (0, 4)\n",
      "0 1 (0, 5)\n",
      "0 3 (-1, 6)\n",
      "1 3 (0, 6)\n",
      "2 3 (1, 6)\n",
      "0 1 (0, 7)\n",
      "0 1 (0, 8)\n",
      "0 4 (-1.5, 9)\n",
      "1 4 (-0.5, 9)\n",
      "2 4 (0.5, 9)\n",
      "3 4 (1.5, 9)\n",
      "1 1 (0, 10)\n",
      "0 1 (0, 11)\n",
      "0 1 (0, 12)\n"
     ]
    },
    {
     "data": {
      "image/png": "[encoded data removed]",
      "text/plain": [
       "<Figure size 432x288 with 1 Axes>"
      ]
     },
     "metadata": {},
     "output_type": "display_data"
    }
   ],
   "source": [
    "draw_wf(wf)"
   ]
  },
  {
   "cell_type": "code",
   "execution_count": 1,
   "metadata": {},
   "outputs": [],
   "source": [
    "def split_data(file_dir):\n",
    "    count = 0\n",
    "    with open(file_dir+'/normal','r') as f:\n",
    "        for i in f:\n",
    "            count+=1\n",
    "    print(4855/count)\n",
    "    return \n",
    "    data_set = random_split(range(count),[4855,count-4855])\n",
    "    f1 = open(file_dir+'/hdfs_test_normal','w')\n",
    "    f2 = open(file_dir+'/hdfs_train','w')\n",
    "    with open(file_dir+'/normal','r') as f:\n",
    "        lines = f.readlines()\n",
    "        for i in data_set[0]:\n",
    "            f2.write(lines[i])\n",
    "        for i in data_set[1]:\n",
    "            f1.write(lines[i])\n",
    "    f1.close()\n",
    "    f2.close()"
   ]
  },
  {
   "cell_type": "code",
   "execution_count": 13,
   "metadata": {},
   "outputs": [
    {
     "name": "stdout",
     "output_type": "stream",
     "text": [
      "0.0087850724338722\n"
     ]
    }
   ],
   "source": [
    "count = 0\n",
    "with open('./data/lstm/dataset/normal.csv','r') as f:\n",
    "    for i in f:\n",
    "        count+=1\n",
    "print(4855/count)"
   ]
  },
  {
   "cell_type": "code",
   "execution_count": 14,
   "metadata": {},
   "outputs": [
    {
     "data": {
      "text/plain": [
       "552642"
      ]
     },
     "execution_count": 14,
     "metadata": {},
     "output_type": "execute_result"
    }
   ],
   "source": [
    "def parse_log():\n",
    "\n",
    "    rex = ['blk_(|-)[0-9]+', '(/|)([0-9]+\\.){3}[0-9]+(:[0-9]+|)(:|)']\n",
    "    removeCol = [0,1,2]\n",
    "    myParser = Drain(rex=rex,removeCol=removeCol,st=0.4)\n",
    "    myParser.fit(isReconstruct=True,inputFile=logPath,outputFile=parsed_result)\n",
    "\n",
    "    myParser.save(savePath=cluster_result)\n",
    "\n",
    "'''\n",
    "partition phase\n",
    "'''\n",
    "def partition():\n",
    "\n",
    "    partition = Partition(outputFileDir=partition_output,log_item_to_event_id_file=parsed_result,instances_file_path=instance_file,label_file_path=label_file,normal_output=normal_output,abnormal_output=abnormal_output)\n",
    "    partition.partition_by_file()\n",
    "    partition.map_log_seq_to_label()\n",
    "\n",
    "    split_data(input_dir=partition_output,output_dir=lstm_dataset)"
   ]
  },
  {
   "cell_type": "code",
   "execution_count": 12,
   "metadata": {},
   "outputs": [
    {
     "data": {
      "text/plain": [
       "552642"
      ]
     },
     "execution_count": 12,
     "metadata": {},
     "output_type": "execute_result"
    }
   ],
   "source": [
    "count"
   ]
  },
  {
   "cell_type": "code",
   "execution_count": null,
   "metadata": {},
   "outputs": [],
   "source": []
  }
 ],
 "metadata": {
  "kernelspec": {
   "display_name": "Python 3.6.7 64-bit ('cuda_pytorch': conda)",
   "language": "python",
   "name": "python36764bitcudapytorchconda3e33319a1fef4dc990a9d2f171216946"
  },
  "language_info": {
   "codemirror_mode": {
    "name": "ipython",
    "version": 3
   },
   "file_extension": ".py",
   "mimetype": "text/x-python",
   "name": "python",
   "nbconvert_exporter": "python",
   "pygments_lexer": "ipython3",
   "version": "3.6.7"
  }
 },
 "nbformat": 4,
 "nbformat_minor": 4
}
