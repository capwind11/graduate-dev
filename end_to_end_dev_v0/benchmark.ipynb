{
 "cells": [
  {
   "cell_type": "code",
   "execution_count": 3,
   "metadata": {},
   "outputs": [],
   "source": [
    "from drain.model import Drain,Node,LogCluster\n",
    "from drain.optimizer import Optimizer\n",
    "from drain.plotter import createPlot\n",
    "from drain.partition import Partition\n",
    "from utils.data_utils import *\n",
    "from unsupervised.model import Model,train\n",
    "from unsupervised.predictor import count_metries\n",
    "from torch import nn,optim\n",
    "from torch.utils.data import  DataLoader\n",
    "import pandas as pd\n",
    "from unsupervised.wf_constructor import workflow_constructor\n",
    "import os\n",
    "\n",
    "device = torch.device(\"cuda\" if torch.cuda.is_available() else \"cpu\")\n",
    "num_classes = 32\n",
    "batch_size = 1024\n",
    "input_size = 1\n",
    "window_size = 10\n",
    "num_layers = 2\n",
    "hidden_size = 64\n",
    "'''\n",
    "parse\n",
    "logPath: HDFS.log\n",
    "parsed_result:logClusters;item_to_event_id.csv\n",
    "\n",
    "partition\n",
    "label_file:anoramly_label.csv\n",
    "parsed_result:item_to_event_id.csv\n",
    "instance_file: hdfs_instance\n",
    "output:normaly.csv/abnormal.csv\n",
    "\n",
    "split_data:\n",
    "normaly:train,test_normal,test_abnormal\n",
    "\n",
    "unsupervised:\n",
    "input:train,test_(ab)normal\n",
    "output:model\n",
    "'''\n",
    "# parse\n",
    "logPath = 'D:\\\\毕业设计\\\\loghub\\\\HDFS_1\\\\HDFS.log'\n",
    "parsed_result = '.\\\\data\\\\parser\\\\log_item_to_label.csv'\n",
    "cluster_result = '.\\\\data\\\\parser\\\\'\n",
    "# partition\n",
    "partition_output = '.\\\\data\\\\unsupervised\\\\dataset\\\\'\n",
    "instance_file = 'instance.csv'\n",
    "label_file = '.\\\\data\\\\partition\\\\anormaly_label.csv'\n",
    "normal_output = 'normal.csv'\n",
    "abnormal_output = 'abnormal.csv'\n",
    "lstm_dataset = '.\\\\data\\\\unsupervised\\\\dataset\\\\'\n",
    "# instance_file: hdfs_instance\n",
    "# output:normaly.csv/abnormal.csv\n",
    "#\n",
    "# split_data:\n",
    "# normaly:train,test_normal,test_abnormal\n",
    "#\n",
    "# unsupervised:\n",
    "# input:train,test_(ab)normal\n",
    "# output:model"
   ]
  },
  {
   "cell_type": "code",
   "execution_count": 10,
   "metadata": {},
   "outputs": [],
   "source": [
    "'''\n",
    "parsing phase\n",
    "'''\n",
    "def parse_log(logPath,parsed_result):\n",
    "\n",
    "    rex = ['blk_(|-)[0-9]+', '(/|)([0-9]+\\.){3}[0-9]+(:[0-9]+|)(:|)']\n",
    "    removeCol = [0,1,2]\n",
    "    myParser = Drain(rex=rex,removeCol=removeCol,st=0.5)\n",
    "    myParser.fit(isReconstruct=True,inputFile=logPath,outputFile=parsed_result)\n",
    "\n",
    "#     myParser.save(savePath=cluster_result)\n"
   ]
  },
  {
   "cell_type": "code",
   "execution_count": 11,
   "metadata": {},
   "outputs": [
    {
     "name": "stderr",
     "output_type": "stream",
     "text": [
      "load data: 2000it [00:00, 6644.67it/s]\n"
     ]
    },
    {
     "name": "stdout",
     "output_type": "stream",
     "text": [
      "build the prefix tree process takes 0.3579902648925781\n",
      "the number of log used to build the parser is  2000\n",
      "*********************************************\n"
     ]
    }
   ],
   "source": [
    "parse_log('data/logs/HDFS/HDFS_2k.log','data/logs/result/hdfs.csv')"
   ]
  },
  {
   "cell_type": "code",
   "execution_count": 12,
   "metadata": {},
   "outputs": [],
   "source": [
    "from drain.evaluator import evaluate"
   ]
  },
  {
   "cell_type": "code",
   "execution_count": 13,
   "metadata": {},
   "outputs": [
    {
     "name": "stdout",
     "output_type": "stream",
     "text": [
      "Precision: 1.0000, Recall: 1.0000, F1_measure: 1.0000, Parsing_Accuracy: 0.9970\n"
     ]
    },
    {
     "data": {
      "text/plain": [
       "(0.9999901893648792, 0.997)"
      ]
     },
     "execution_count": 13,
     "metadata": {},
     "output_type": "execute_result"
    }
   ],
   "source": [
    "evaluate('data/logs/result/hdfs.csv','data/logs/HDFS/HDFS_2k.log_structured.csv')"
   ]
  },
  {
   "cell_type": "code",
   "execution_count": 14,
   "metadata": {},
   "outputs": [
    {
     "name": "stderr",
     "output_type": "stream",
     "text": [
      "load data: 2000it [00:00, 6501.99it/s]\n"
     ]
    },
    {
     "name": "stdout",
     "output_type": "stream",
     "text": [
      "build the prefix tree process takes 0.32255101203918457\n",
      "the number of log used to build the parser is  2000\n",
      "*********************************************\n"
     ]
    }
   ],
   "source": [
    "parse_log('data/logs/Apache/Apache_2k.log','data/logs/result/apache.csv')"
   ]
  },
  {
   "cell_type": "code",
   "execution_count": 15,
   "metadata": {},
   "outputs": [
    {
     "name": "stdout",
     "output_type": "stream",
     "text": [
      "Precision: 1.0000, Recall: 1.0000, F1_measure: 1.0000, Parsing_Accuracy: 1.0000\n"
     ]
    },
    {
     "data": {
      "text/plain": [
       "(1.0, 1.0)"
      ]
     },
     "execution_count": 15,
     "metadata": {},
     "output_type": "execute_result"
    }
   ],
   "source": [
    "evaluate('data/logs/result/apache.csv','data/logs/Apache/Apache_2k.log_structured.csv')"
   ]
  },
  {
   "cell_type": "code",
   "execution_count": null,
   "metadata": {},
   "outputs": [],
   "source": []
  }
 ],
 "metadata": {
  "kernelspec": {
   "display_name": "Python 3.6.7 64-bit ('cuda_pytorch': conda)",
   "language": "python",
   "name": "python36764bitcudapytorchconda3e33319a1fef4dc990a9d2f171216946"
  },
  "language_info": {
   "codemirror_mode": {
    "name": "ipython",
    "version": 3
   },
   "file_extension": ".py",
   "mimetype": "text/x-python",
   "name": "python",
   "nbconvert_exporter": "python",
   "pygments_lexer": "ipython3",
   "version": "3.6.7"
  }
 },
 "nbformat": 4,
 "nbformat_minor": 4
}
