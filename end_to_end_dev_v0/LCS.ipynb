{
 "cells": [
  {
   "cell_type": "code",
   "execution_count": 2,
   "metadata": {},
   "outputs": [],
   "source": [
    "def getTemplate(lcs, seq):\n",
    "    retVal = []\n",
    "    if not lcs:\n",
    "        return retVal\n",
    "\n",
    "    lcs = lcs[::-1]\n",
    "    i = 0\n",
    "    for token in seq:\n",
    "        i += 1\n",
    "        if token == lcs[-1]:\n",
    "            retVal.append(token)\n",
    "            lcs.pop()\n",
    "        else:\n",
    "            retVal.append('<*>')\n",
    "        if not lcs:\n",
    "            break\n",
    "    while i < len(seq):\n",
    "        retVal.append('<*>')\n",
    "        i += 1\n",
    "    return retVal\n",
    "\n",
    "def LCS(seq1, seq2):\n",
    "    lengths = [[0 for j in range(len(seq2)+1)] for i in range(len(seq1)+1)]\n",
    "    # row 0 and column 0 are initialized to 0 already\n",
    "    for i in range(len(seq1)):\n",
    "        for j in range(len(seq2)):\n",
    "            if seq1[i] == seq2[j]:\n",
    "                lengths[i+1][j+1] = lengths[i][j] + 1\n",
    "            else:\n",
    "                lengths[i+1][j+1] = max(lengths[i+1][j], lengths[i][j+1])\n",
    "\n",
    "    # read the substring out from the matrix\n",
    "    result = []\n",
    "    lenOfSeq1, lenOfSeq2 = len(seq1), len(seq2)\n",
    "    while lenOfSeq1!=0 and lenOfSeq2 != 0:\n",
    "        if lengths[lenOfSeq1][lenOfSeq2] == lengths[lenOfSeq1-1][lenOfSeq2]:\n",
    "            lenOfSeq1 -= 1\n",
    "        elif lengths[lenOfSeq1][lenOfSeq2] == lengths[lenOfSeq1][lenOfSeq2-1]:\n",
    "            lenOfSeq2 -= 1\n",
    "        else:\n",
    "            assert seq1[lenOfSeq1-1] == seq2[lenOfSeq2-1]\n",
    "            result.append(seq1[lenOfSeq1-1])\n",
    "            lenOfSeq1 -= 1\n",
    "            lenOfSeq2 -= 1\n",
    "    result = result[::-1]\n",
    "    return result"
   ]
  },
  {
   "cell_type": "code",
   "execution_count": 3,
   "metadata": {},
   "outputs": [
    {
     "data": {
      "text/plain": [
       "['I', 'LOVE', 'HIM']"
      ]
     },
     "execution_count": 3,
     "metadata": {},
     "output_type": "execute_result"
    }
   ],
   "source": [
    "LCS('I LOVE HIM'.split(),'I ALSO LOVE HIM'.split())"
   ]
  },
  {
   "cell_type": "code",
   "execution_count": null,
   "metadata": {},
   "outputs": [],
   "source": []
  }
 ],
 "metadata": {
  "kernelspec": {
   "display_name": "Python 3.6.7 64-bit ('cuda_pytorch': conda)",
   "language": "python",
   "name": "python36764bitcudapytorchconda3e33319a1fef4dc990a9d2f171216946"
  },
  "language_info": {
   "codemirror_mode": {
    "name": "ipython",
    "version": 3
   },
   "file_extension": ".py",
   "mimetype": "text/x-python",
   "name": "python",
   "nbconvert_exporter": "python",
   "pygments_lexer": "ipython3",
   "version": "3.6.7"
  }
 },
 "nbformat": 4,
 "nbformat_minor": 4
}
