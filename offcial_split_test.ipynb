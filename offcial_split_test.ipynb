{
 "cells": [
  {
   "cell_type": "code",
   "execution_count": 1,
   "metadata": {},
   "outputs": [],
   "source": [
    "from predictor import fast_predict,generate_test_data\n",
    "from trainer import generate_train_data,Model,train\n",
    "from torch.utils.data import  DataLoader\n",
    "from torch import nn,optim\n",
    "import torch\n",
    "import os"
   ]
  },
  {
   "cell_type": "code",
   "execution_count": 2,
   "metadata": {},
   "outputs": [],
   "source": [
    "num_classes = 32\n",
    "batch_size = 2048\n",
    "input_size = 1\n",
    "model_dir = 'model'\n",
    "window_size = 10\n",
    "num_layers = 2\n",
    "hidden_size = 64\n",
    "file_dir = 'data_dev'\n",
    "# Device configuration\n",
    "device = torch.device(\"cuda\" if torch.cuda.is_available() else \"cpu\")\n",
    "version='v0.1'"
   ]
  },
  {
   "cell_type": "code",
   "execution_count": 3,
   "metadata": {},
   "outputs": [],
   "source": [
    "model = Model(input_size, hidden_size, num_layers, num_classes).to(device)"
   ]
  },
  {
   "cell_type": "code",
   "execution_count": 4,
   "metadata": {},
   "outputs": [
    {
     "name": "stderr",
     "output_type": "stream",
     "text": [
      "loading data: 4500it [00:00, 7097.77it/s]\n"
     ]
    },
    {
     "name": "stdout",
     "output_type": "stream",
     "text": [
      "Number of sessions(data_dev/hdfs_train): 4500\n",
      "Number of seqs(data_dev/hdfs_train): 92639\n"
     ]
    }
   ],
   "source": [
    "train_dataset = generate_train_data(file_dir + '/hdfs_train')\n",
    "dataloader = DataLoader(train_dataset, batch_size=batch_size, shuffle=True, pin_memory=True)\n",
    "# writer = Summary# writer(log_dir='log/' + log)"
   ]
  },
  {
   "cell_type": "code",
   "execution_count": 5,
   "metadata": {},
   "outputs": [],
   "source": [
    "# Loss and optimizer\n",
    "criterion = nn.CrossEntropyLoss(ignore_index=31)\n",
    "optimizer = optim.Adam(model.parameters())"
   ]
  },
  {
   "cell_type": "code",
   "execution_count": 6,
   "metadata": {},
   "outputs": [],
   "source": [
    "model_name = 'data_dir={}_version={}'.format(file_dir, version)\n",
    "if os.path.exists(model_dir + '/' + model_name + '.pt'):\n",
    "    model.load_state_dict(torch.load(model_dir + '/' + model_name + '.pt'))"
   ]
  },
  {
   "cell_type": "code",
   "execution_count": 7,
   "metadata": {},
   "outputs": [
    {
     "name": "stdout",
     "output_type": "stream",
     "text": [
      "Epoch [1/100], train_loss: 2.7824\n",
      "Epoch [2/100], train_loss: 1.8378\n",
      "Epoch [3/100], train_loss: 1.5816\n",
      "Epoch [4/100], train_loss: 1.4542\n",
      "Epoch [5/100], train_loss: 1.3445\n",
      "Epoch [6/100], train_loss: 1.2220\n",
      "Epoch [7/100], train_loss: 1.0952\n",
      "Epoch [8/100], train_loss: 0.9770\n",
      "Epoch [9/100], train_loss: 0.8963\n",
      "Epoch [10/100], train_loss: 0.8420\n",
      "Epoch [11/100], train_loss: 0.7983\n",
      "Epoch [12/100], train_loss: 0.7629\n",
      "Epoch [13/100], train_loss: 0.7338\n",
      "Epoch [14/100], train_loss: 0.7103\n",
      "Epoch [15/100], train_loss: 0.6911\n",
      "Epoch [16/100], train_loss: 0.6747\n",
      "Epoch [17/100], train_loss: 0.6595\n",
      "Epoch [18/100], train_loss: 0.6470\n",
      "Epoch [19/100], train_loss: 0.6347\n",
      "Epoch [20/100], train_loss: 0.6229\n",
      "Epoch [21/100], train_loss: 0.6145\n",
      "Epoch [22/100], train_loss: 0.6053\n",
      "Epoch [23/100], train_loss: 0.5976\n",
      "Epoch [24/100], train_loss: 0.5909\n",
      "Epoch [25/100], train_loss: 0.5855\n",
      "Epoch [26/100], train_loss: 0.5782\n",
      "Epoch [27/100], train_loss: 0.5736\n",
      "Epoch [28/100], train_loss: 0.5685\n",
      "Epoch [29/100], train_loss: 0.5636\n",
      "Epoch [30/100], train_loss: 0.5582\n",
      "Epoch [31/100], train_loss: 0.5544\n",
      "Epoch [32/100], train_loss: 0.5499\n",
      "Epoch [33/100], train_loss: 0.5452\n",
      "Epoch [34/100], train_loss: 0.5414\n",
      "Epoch [35/100], train_loss: 0.5373\n",
      "Epoch [36/100], train_loss: 0.5327\n",
      "Epoch [37/100], train_loss: 0.5297\n",
      "Epoch [38/100], train_loss: 0.5260\n",
      "Epoch [39/100], train_loss: 0.5215\n",
      "Epoch [40/100], train_loss: 0.5181\n",
      "Epoch [41/100], train_loss: 0.5144\n",
      "Epoch [42/100], train_loss: 0.5111\n",
      "Epoch [43/100], train_loss: 0.5083\n",
      "Epoch [44/100], train_loss: 0.5046\n",
      "Epoch [45/100], train_loss: 0.5020\n",
      "Epoch [46/100], train_loss: 0.4988\n",
      "Epoch [47/100], train_loss: 0.4962\n",
      "Epoch [48/100], train_loss: 0.4934\n",
      "Epoch [49/100], train_loss: 0.4916\n",
      "Epoch [50/100], train_loss: 0.4894\n",
      "Epoch [51/100], train_loss: 0.4874\n",
      "Epoch [52/100], train_loss: 0.4849\n",
      "Epoch [53/100], train_loss: 0.4835\n",
      "Epoch [54/100], train_loss: 0.4808\n",
      "Epoch [55/100], train_loss: 0.4794\n",
      "Epoch [56/100], train_loss: 0.4776\n",
      "Epoch [57/100], train_loss: 0.4763\n",
      "Epoch [58/100], train_loss: 0.4749\n",
      "Epoch [59/100], train_loss: 0.4734\n",
      "Epoch [60/100], train_loss: 0.4729\n",
      "Epoch [61/100], train_loss: 0.4716\n",
      "Epoch [62/100], train_loss: 0.4697\n",
      "Epoch [63/100], train_loss: 0.4690\n",
      "Epoch [64/100], train_loss: 0.4676\n",
      "Epoch [65/100], train_loss: 0.4661\n",
      "Epoch [66/100], train_loss: 0.4658\n",
      "Epoch [67/100], train_loss: 0.4644\n",
      "Epoch [68/100], train_loss: 0.4641\n",
      "Epoch [69/100], train_loss: 0.4632\n",
      "Epoch [70/100], train_loss: 0.4619\n",
      "Epoch [71/100], train_loss: 0.4613\n",
      "Epoch [72/100], train_loss: 0.4602\n",
      "Epoch [73/100], train_loss: 0.4598\n",
      "Epoch [74/100], train_loss: 0.4589\n",
      "Epoch [75/100], train_loss: 0.4584\n",
      "Epoch [76/100], train_loss: 0.4576\n",
      "Epoch [77/100], train_loss: 0.4577\n",
      "Epoch [78/100], train_loss: 0.4564\n",
      "Epoch [79/100], train_loss: 0.4557\n",
      "Epoch [80/100], train_loss: 0.4549\n",
      "Epoch [81/100], train_loss: 0.4548\n",
      "Epoch [82/100], train_loss: 0.4542\n",
      "Epoch [83/100], train_loss: 0.4531\n",
      "Epoch [84/100], train_loss: 0.4525\n",
      "Epoch [85/100], train_loss: 0.4518\n",
      "Epoch [86/100], train_loss: 0.4517\n",
      "Epoch [87/100], train_loss: 0.4512\n",
      "Epoch [88/100], train_loss: 0.4510\n",
      "Epoch [89/100], train_loss: 0.4504\n",
      "Epoch [90/100], train_loss: 0.4503\n",
      "Epoch [91/100], train_loss: 0.4498\n",
      "Epoch [92/100], train_loss: 0.4489\n",
      "Epoch [93/100], train_loss: 0.4495\n",
      "Epoch [94/100], train_loss: 0.4482\n",
      "Epoch [95/100], train_loss: 0.4486\n",
      "Epoch [96/100], train_loss: 0.4479\n",
      "Epoch [97/100], train_loss: 0.4478\n",
      "Epoch [98/100], train_loss: 0.4475\n",
      "Epoch [99/100], train_loss: 0.4469\n",
      "Epoch [100/100], train_loss: 0.4472\n",
      "elapsed_time: 311.605s\n"
     ]
    }
   ],
   "source": [
    "# Train the model\n",
    "model.train()\n",
    "train(model, dataloader, criterion, optimizer, current_epoch=0, num_epochs=100)"
   ]
  },
  {
   "cell_type": "code",
   "execution_count": 10,
   "metadata": {},
   "outputs": [
    {
     "data": {
      "text/plain": [
       "'data_dir=data_dev_version=v0.1'"
      ]
     },
     "execution_count": 10,
     "metadata": {},
     "output_type": "execute_result"
    }
   ],
   "source": [
    "model_name"
   ]
  },
  {
   "cell_type": "code",
   "execution_count": 9,
   "metadata": {},
   "outputs": [
    {
     "name": "stdout",
     "output_type": "stream",
     "text": [
      "Finished Training\n"
     ]
    }
   ],
   "source": [
    "model_name = 'data_dir={}_version={}'.format(file_dir, version)\n",
    "if not os.path.isdir(model_dir):\n",
    "    os.makedirs(model_dir)\n",
    "torch.save(model.state_dict(), model_dir + '/' + model_name + '.pt')\n",
    "# writer.close()\n",
    "print('Finished Training')"
   ]
  },
  {
   "cell_type": "code",
   "execution_count": 15,
   "metadata": {},
   "outputs": [
    {
     "name": "stderr",
     "output_type": "stream",
     "text": [
      "normal:: 100%|████████████████████████████████████████████████████████████████| 14177/14177 [00:00<00:00, 15227.73it/s]\n"
     ]
    },
    {
     "name": "stdout",
     "output_type": "stream",
     "text": [
      "Number of sessions(data/hdfs_test_normal): 14177\n",
      "Number of seqs(data/hdfs_test_normal): 269570\n"
     ]
    },
    {
     "name": "stderr",
     "output_type": "stream",
     "text": [
      "normal:: 100%|██████████████████████████████████████████████████████████████████| 4123/4123 [00:00<00:00, 15214.00it/s]\n"
     ]
    },
    {
     "name": "stdout",
     "output_type": "stream",
     "text": [
      "Number of sessions(data/hdfs_test_abnormal): 4123\n",
      "Number of seqs(data/hdfs_test_abnormal): 88410\n"
     ]
    }
   ],
   "source": [
    "model.eval()\n",
    "batch_size = 20000\n",
    "test_normal_session, test_normal_dataset, test_normal_seq, test_normal_label = generate_test_data(\n",
    "    file_dir+'/hdfs_test_normal', window_size)\n",
    "normal_dataloader = DataLoader(test_normal_dataset, batch_size=batch_size, shuffle=False, pin_memory=True)\n",
    "test_abnormal_session, test_abnormal_dataset, test_abnormal_seq, test_abnormal_label = generate_test_data(\n",
    "    file_dir+'/hdfs_test_abnormal', window_size)\n",
    "abnormal_dataloader = DataLoader(test_abnormal_dataset, batch_size=batch_size, shuffle=False, pin_memory=True)"
   ]
  },
  {
   "cell_type": "code",
   "execution_count": 19,
   "metadata": {},
   "outputs": [
    {
     "name": "stderr",
     "output_type": "stream",
     "text": [
      "normal: 14it [00:40,  2.91s/it]\n",
      "abnormal: 5it [00:15,  3.15s/it]"
     ]
    },
    {
     "name": "stdout",
     "output_type": "stream",
     "text": [
      "elapsed_time: 56.677s\n",
      "false positive (FP): 393, false negative (FN): 1581, Precision: 86.610%, Recall: 61.654%, F1-measure: 72.032%\n",
      "Finished Predicting\n"
     ]
    },
    {
     "name": "stderr",
     "output_type": "stream",
     "text": [
      "\n"
     ]
    }
   ],
   "source": [
    "model.eval()\n",
    "test_normal_result, test_abnormal_result = fast_predict(model, normal_dataloader, abnormal_dataloader,\n",
    "                                                        test_normal_session,test_abnormal_session, \n",
    "                                                        10,window_size)"
   ]
  },
  {
   "cell_type": "code",
   "execution_count": 4,
   "metadata": {},
   "outputs": [
    {
     "data": {
      "text/plain": [
       "Model(\n",
       "  (lstm): LSTM(1, 64, num_layers=2, batch_first=True)\n",
       "  (fc): Linear(in_features=64, out_features=32, bias=True)\n",
       ")"
      ]
     },
     "execution_count": 4,
     "metadata": {},
     "output_type": "execute_result"
    }
   ],
   "source": [
    "# model_name = 'softmax_data_dir=data_official_version=v0.0'\n",
    "model_name = 'add_padding_batch_size=2048_epoch=300_window_size=10'\n",
    "# 'data_dir={}_version={}'.format(file_dir, 'v0.0')\n",
    "# if os.path.exists(model_dir + '/' + model_name + '.pt'):\n",
    "model.load_state_dict(torch.load(model_dir + '/' + model_name + '.pt'))\n",
    "model.eval()"
   ]
  },
  {
   "cell_type": "code",
   "execution_count": 8,
   "metadata": {},
   "outputs": [
    {
     "name": "stderr",
     "output_type": "stream",
     "text": [
      "normal:: 100%|████████████████████████████████████████████████████████████████| 14134/14134 [00:00<00:00, 18672.75it/s]\n"
     ]
    },
    {
     "name": "stdout",
     "output_type": "stream",
     "text": [
      "Number of sessions(./data_official/hdfs_test_normal): 14134\n",
      "Number of seqs(./data_official/hdfs_test_normal): 268765\n"
     ]
    },
    {
     "name": "stderr",
     "output_type": "stream",
     "text": [
      "normal:: 100%|██████████████████████████████████████████████████████████████████| 4123/4123 [00:00<00:00, 21700.13it/s]"
     ]
    },
    {
     "name": "stdout",
     "output_type": "stream",
     "text": [
      "Number of sessions(./data_official/hdfs_test_abnormal): 4123\n",
      "Number of seqs(./data_official/hdfs_test_abnormal): 88410\n"
     ]
    },
    {
     "name": "stderr",
     "output_type": "stream",
     "text": [
      "\n"
     ]
    }
   ],
   "source": [
    "file_dir='./data_official'\n",
    "batch_size = 20000\n",
    "test_normal_session, test_normal_dataset, test_normal_seq, test_normal_label = generate_test_data(\n",
    "    file_dir+'/hdfs_test_normal', window_size)\n",
    "normal_dataloader = DataLoader(test_normal_dataset, batch_size=batch_size, shuffle=False, pin_memory=True)\n",
    "test_abnormal_session, test_abnormal_dataset, test_abnormal_seq, test_abnormal_label = generate_test_data(\n",
    "    file_dir+'/hdfs_test_abnormal', window_size)\n",
    "abnormal_dataloader = DataLoader(test_abnormal_dataset, batch_size=batch_size, shuffle=False, pin_memory=True)"
   ]
  },
  {
   "cell_type": "code",
   "execution_count": 11,
   "metadata": {},
   "outputs": [
    {
     "name": "stderr",
     "output_type": "stream",
     "text": [
      "normal: 14it [00:38,  2.74s/it]\n",
      "abnormal: 5it [00:12,  2.54s/it]"
     ]
    },
    {
     "name": "stdout",
     "output_type": "stream",
     "text": [
      "elapsed_time: 51.116s\n",
      "false positive (FP): 1309, false negative (FN): 1030, Precision: 70.264%, Recall: 75.018%, F1-measure: 72.563%\n",
      "Finished Predicting\n"
     ]
    },
    {
     "name": "stderr",
     "output_type": "stream",
     "text": [
      "\n"
     ]
    }
   ],
   "source": [
    "test_normal_result, test_abnormal_result = fast_predict(model, normal_dataloader, abnormal_dataloader,\n",
    "            test_normal_session,test_abnormal_session, \n",
    "            5,window_size)"
   ]
  },
  {
   "cell_type": "code",
   "execution_count": null,
   "metadata": {},
   "outputs": [],
   "source": []
  }
 ],
 "metadata": {
  "kernelspec": {
   "display_name": "Python 3.6.7 64-bit ('cuda_pytorch': conda)",
   "language": "python",
   "name": "python36764bitcudapytorchconda3e33319a1fef4dc990a9d2f171216946"
  },
  "language_info": {
   "codemirror_mode": {
    "name": "ipython",
    "version": 3
   },
   "file_extension": ".py",
   "mimetype": "text/x-python",
   "name": "python",
   "nbconvert_exporter": "python",
   "pygments_lexer": "ipython3",
   "version": "3.6.7"
  }
 },
 "nbformat": 4,
 "nbformat_minor": 4
}
